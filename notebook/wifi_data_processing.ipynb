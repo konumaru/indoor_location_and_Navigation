{
 "cells": [
  {
   "cell_type": "code",
   "execution_count": 1,
   "id": "familiar-pilot",
   "metadata": {},
   "outputs": [],
   "source": [
    "import os\n",
    "import sys\n",
    "import glob\n",
    "import joblib\n",
    "import pathlib\n",
    "import numpy as np\n",
    "import pandas as pd\n",
    "from rich.progress import track\n",
    "\n",
    "sys.path.append(\"../src\")\n",
    "\n",
    "from utils import timer\n",
    "from utils import load_pickle, dump_pickle, save_cache"
   ]
  },
  {
   "cell_type": "code",
   "execution_count": 2,
   "id": "underlying-transcription",
   "metadata": {},
   "outputs": [
    {
     "name": "stdout",
     "output_type": "stream",
     "text": [
      "Load pickle from ../data/working/train_waypint.pkl\n"
     ]
    }
   ],
   "source": [
    "waypoints = load_pickle(\"../data/working/train_waypint.pkl\")"
   ]
  },
  {
   "cell_type": "code",
   "execution_count": 3,
   "id": "caring-producer",
   "metadata": {},
   "outputs": [
    {
     "data": {
      "text/plain": [
       "('5da138764db8ce0c98bcaa46',\n",
       " 'F4',\n",
       " '5dac3df0dc3e2c0006606b3e',\n",
       " '1571569077016',\n",
       " '29.686214',\n",
       " '105.78036')"
      ]
     },
     "execution_count": 3,
     "metadata": {},
     "output_type": "execute_result"
    }
   ],
   "source": [
    "(site, floor, path, timestamp, x, y) = waypoints[100]\n",
    "(site, floor, path, timestamp, x, y)"
   ]
  },
  {
   "cell_type": "code",
   "execution_count": 4,
   "id": "unexpected-surgeon",
   "metadata": {},
   "outputs": [
    {
     "data": {
      "text/plain": [
       "'../data/raw/train/5da138764db8ce0c98bcaa46/F4/5dac3df0dc3e2c0006606b3e.txt'"
      ]
     },
     "execution_count": 4,
     "metadata": {},
     "output_type": "execute_result"
    }
   ],
   "source": [
    "path_filepath = f\"../data/raw/train/{site}/{floor}/{path}.txt\"\n",
    "path_filepath"
   ]
  },
  {
   "cell_type": "code",
   "execution_count": 5,
   "id": "printable-argument",
   "metadata": {},
   "outputs": [],
   "source": [
    "def get_data_from_pathtxt(\n",
    "    filepath: pathlib.PosixPath, data_type: str, is_join_ids: bool = False\n",
    ") -> np.ndarray:\n",
    "    with open(filepath) as f:\n",
    "        lines = f.readlines()\n",
    "\n",
    "    data = []\n",
    "    for line in lines:\n",
    "        tmp = line.strip().split(\"\\t\")\n",
    "        if tmp[1] == data_type:\n",
    "            data.append(tmp)\n",
    "\n",
    "    data = np.array(data)\n",
    "    # Drop data_type column.\n",
    "    if data.shape[0] > 0:\n",
    "        data = np.delete(data, 1, axis=1)\n",
    "    # Concatenate site, floor and path.\n",
    "    if is_join_ids:\n",
    "        site_id = filepath.parent.parent.name\n",
    "        floor_id = filepath.parent.name\n",
    "        path_id = filepath.name.split(\".\")[0]\n",
    "        site_floor_path = np.tile([site_id, floor_id, path_id], (data.shape[0], 1))\n",
    "        data = np.concatenate([site_floor_path, data], axis=1)\n",
    "    return data"
   ]
  },
  {
   "cell_type": "code",
   "execution_count": 6,
   "id": "determined-sense",
   "metadata": {},
   "outputs": [],
   "source": [
    "wifi = get_data_from_pathtxt(path_filepath, \"TYPE_WIFI\")"
   ]
  },
  {
   "cell_type": "code",
   "execution_count": 7,
   "id": "direct-lloyd",
   "metadata": {},
   "outputs": [
    {
     "data": {
      "text/plain": [
       "(2940, 6)"
      ]
     },
     "execution_count": 7,
     "metadata": {},
     "output_type": "execute_result"
    }
   ],
   "source": [
    "wifi.shape"
   ]
  },
  {
   "cell_type": "code",
   "execution_count": 8,
   "id": "cleared-value",
   "metadata": {},
   "outputs": [
    {
     "data": {
      "text/plain": [
       "array([['1571568986917', '297a8d1a48933caa2a09eaab54d0e35346f972dd',\n",
       "        '83000082f8f021c6345db980100e8c4e382139d6', '-56', '2437',\n",
       "        '1571568985392'],\n",
       "       ['1571568986917', '0e458bee6676d2750897cc993403f3281265da5a',\n",
       "        'a52e35e9553ff4c8dabc153223c5ce6ad3a65d53', '-59', '2462',\n",
       "        '1571568985690'],\n",
       "       ['1571568986917', 'da39a3ee5e6b4b0d3255bfef95601890afd80709',\n",
       "        '46dfa0c635bd24cbec6b2c11d788c0171ded4b73', '-63', '2437',\n",
       "        '1571568981620'],\n",
       "       ...,\n",
       "       ['1571569079692', '050cf323c40ef3f06a59821e01e1d2d0ee288933',\n",
       "        '075279c87b146b78e89ce57d36bd6956135ae876', '-91', '5745',\n",
       "        '1571569078904'],\n",
       "       ['1571569079692', 'b01857e452a84ace381ac545896264c61ac82a57',\n",
       "        '5db8a385607a001cae8da5f069e1005f527ae7d6', '-91', '2437',\n",
       "        '1571569078171'],\n",
       "       ['1571569079692', '8528fee688615788736815acdbefb0a406e48817',\n",
       "        'c0c2323f31057756600cf9fd371219c4cef1a817', '-92', '2437',\n",
       "        '1571569068604']], dtype='<U40')"
      ]
     },
     "execution_count": 8,
     "metadata": {},
     "output_type": "execute_result"
    }
   ],
   "source": [
    "# (timestamp, ssid, bssid, rssi, frequency, last_seen_timestamp)\n",
    "wifi"
   ]
  },
  {
   "cell_type": "code",
   "execution_count": 9,
   "id": "constant-ideal",
   "metadata": {},
   "outputs": [],
   "source": [
    "max_len = 100\n",
    "wifi = get_data_from_pathtxt(path_filepath, \"TYPE_WIFI\")\n",
    "\n",
    "data = np.concatenate(\n",
    "    [\n",
    "        np.tile(\"nan\", (1, 100)).astype(\"<U40\"),  # bssid\n",
    "        np.tile(\"-999\", (1, 100)).astype(\"<U40\"),  # rssi\n",
    "        np.tile(\"-999\", (1, 100)).astype(\"<U40\"),  # frequency\n",
    "        np.tile(\"999\", (1, 100)).astype(\"<U40\"),  # ts_diff\n",
    "        np.tile(\"999\", (1, 100)).astype(\"<U40\"),  # last_seen_ts_diff\n",
    "    ],\n",
    "    axis=0,\n",
    ")\n",
    "\n",
    "if len(wifi) > 0:\n",
    "    ts_diff = wifi[:, 0].astype(\"int64\") - int(timestamp)\n",
    "    last_seen_ts_diff = wifi[:, 5].astype(\"int64\") - int(timestamp)\n",
    "    # Add ts_diff and last_seen_ts_diff as feature.\n",
    "    wifi = np.concatenate([wifi, ts_diff.reshape(-1, 1)], axis=1)\n",
    "    wifi = np.concatenate([wifi, last_seen_ts_diff.reshape(-1, 1)], axis=1)\n",
    "    # Extract latest values, except feature information.\n",
    "    wifi = wifi[(ts_diff < 0)]\n",
    "    # Sort by rssi\n",
    "    sort_idx = np.argsort(wifi[:, 3].astype(int))[::-1]\n",
    "    wifi = wifi[sort_idx]\n",
    "    # Extract columns of (bssid, rssi, frequency, ts_diff, last_seen_ts_diff).\n",
    "    wifi = wifi[:, [2, 3, 4, 6, 7]]\n",
    "    end_idx = min(max_len, wifi.T.shape[1])\n",
    "    data[:, :end_idx] = wifi.T[:, :end_idx]"
   ]
  },
  {
   "cell_type": "code",
   "execution_count": 10,
   "id": "fundamental-approach",
   "metadata": {},
   "outputs": [
    {
     "data": {
      "text/plain": [
       "array([['a52e35e9553ff4c8dabc153223c5ce6ad3a65d53',\n",
       "        'a52e35e9553ff4c8dabc153223c5ce6ad3a65d53',\n",
       "        '83000082f8f021c6345db980100e8c4e382139d6',\n",
       "        'a52e35e9553ff4c8dabc153223c5ce6ad3a65d53',\n",
       "        '83000082f8f021c6345db980100e8c4e382139d6',\n",
       "        'a52e35e9553ff4c8dabc153223c5ce6ad3a65d53',\n",
       "        'a52e35e9553ff4c8dabc153223c5ce6ad3a65d53',\n",
       "        '83000082f8f021c6345db980100e8c4e382139d6',\n",
       "        '83000082f8f021c6345db980100e8c4e382139d6',\n",
       "        'a52e35e9553ff4c8dabc153223c5ce6ad3a65d53',\n",
       "        '83000082f8f021c6345db980100e8c4e382139d6',\n",
       "        'a52e35e9553ff4c8dabc153223c5ce6ad3a65d53',\n",
       "        'a52e35e9553ff4c8dabc153223c5ce6ad3a65d53',\n",
       "        '83000082f8f021c6345db980100e8c4e382139d6',\n",
       "        '83000082f8f021c6345db980100e8c4e382139d6',\n",
       "        'a52e35e9553ff4c8dabc153223c5ce6ad3a65d53',\n",
       "        'a52e35e9553ff4c8dabc153223c5ce6ad3a65d53',\n",
       "        '83000082f8f021c6345db980100e8c4e382139d6',\n",
       "        '83000082f8f021c6345db980100e8c4e382139d6',\n",
       "        'a52e35e9553ff4c8dabc153223c5ce6ad3a65d53',\n",
       "        'a52e35e9553ff4c8dabc153223c5ce6ad3a65d53',\n",
       "        'a52e35e9553ff4c8dabc153223c5ce6ad3a65d53',\n",
       "        'a52e35e9553ff4c8dabc153223c5ce6ad3a65d53',\n",
       "        'a52e35e9553ff4c8dabc153223c5ce6ad3a65d53',\n",
       "        'a52e35e9553ff4c8dabc153223c5ce6ad3a65d53',\n",
       "        'a52e35e9553ff4c8dabc153223c5ce6ad3a65d53',\n",
       "        '83000082f8f021c6345db980100e8c4e382139d6',\n",
       "        'a52e35e9553ff4c8dabc153223c5ce6ad3a65d53',\n",
       "        '83000082f8f021c6345db980100e8c4e382139d6',\n",
       "        'beac25e73fbb511d840850696bc374818c409786',\n",
       "        'beac25e73fbb511d840850696bc374818c409786',\n",
       "        '040393f172e5186af0f49a599ffe0ebcb72d1c7b',\n",
       "        '040393f172e5186af0f49a599ffe0ebcb72d1c7b',\n",
       "        'a52e35e9553ff4c8dabc153223c5ce6ad3a65d53',\n",
       "        'a52e35e9553ff4c8dabc153223c5ce6ad3a65d53',\n",
       "        'a52e35e9553ff4c8dabc153223c5ce6ad3a65d53',\n",
       "        'a52e35e9553ff4c8dabc153223c5ce6ad3a65d53',\n",
       "        '83000082f8f021c6345db980100e8c4e382139d6',\n",
       "        'a52e35e9553ff4c8dabc153223c5ce6ad3a65d53',\n",
       "        'a52e35e9553ff4c8dabc153223c5ce6ad3a65d53',\n",
       "        'a52e35e9553ff4c8dabc153223c5ce6ad3a65d53',\n",
       "        '83000082f8f021c6345db980100e8c4e382139d6',\n",
       "        '9da91241d55fe01337ff7aeee71f4d86248f3197',\n",
       "        '6e5390727de2a14c776c22e2606e687d5cbda859',\n",
       "        '6e5390727de2a14c776c22e2606e687d5cbda859',\n",
       "        'de10fe15284fc9c189fbc1211bd9929d47163795',\n",
       "        '9da91241d55fe01337ff7aeee71f4d86248f3197',\n",
       "        'beac25e73fbb511d840850696bc374818c409786',\n",
       "        'de10fe15284fc9c189fbc1211bd9929d47163795',\n",
       "        'a52e35e9553ff4c8dabc153223c5ce6ad3a65d53',\n",
       "        'de10fe15284fc9c189fbc1211bd9929d47163795',\n",
       "        '6e5390727de2a14c776c22e2606e687d5cbda859',\n",
       "        'ec35d7d2bcc904f0e7b48f4c54042b9fb1ba35d2',\n",
       "        'de10fe15284fc9c189fbc1211bd9929d47163795',\n",
       "        'a52e35e9553ff4c8dabc153223c5ce6ad3a65d53',\n",
       "        '6e5390727de2a14c776c22e2606e687d5cbda859',\n",
       "        '9da91241d55fe01337ff7aeee71f4d86248f3197',\n",
       "        'ec35d7d2bcc904f0e7b48f4c54042b9fb1ba35d2',\n",
       "        '9da91241d55fe01337ff7aeee71f4d86248f3197',\n",
       "        'beac25e73fbb511d840850696bc374818c409786',\n",
       "        '9da91241d55fe01337ff7aeee71f4d86248f3197',\n",
       "        '9da91241d55fe01337ff7aeee71f4d86248f3197',\n",
       "        'ec35d7d2bcc904f0e7b48f4c54042b9fb1ba35d2',\n",
       "        '83000082f8f021c6345db980100e8c4e382139d6',\n",
       "        '040393f172e5186af0f49a599ffe0ebcb72d1c7b',\n",
       "        '6e5390727de2a14c776c22e2606e687d5cbda859',\n",
       "        'de10fe15284fc9c189fbc1211bd9929d47163795',\n",
       "        'ec35d7d2bcc904f0e7b48f4c54042b9fb1ba35d2',\n",
       "        '6e5390727de2a14c776c22e2606e687d5cbda859',\n",
       "        'de10fe15284fc9c189fbc1211bd9929d47163795',\n",
       "        'beac25e73fbb511d840850696bc374818c409786',\n",
       "        '9da91241d55fe01337ff7aeee71f4d86248f3197',\n",
       "        '040393f172e5186af0f49a599ffe0ebcb72d1c7b',\n",
       "        'a52e35e9553ff4c8dabc153223c5ce6ad3a65d53',\n",
       "        'beac25e73fbb511d840850696bc374818c409786',\n",
       "        '9da91241d55fe01337ff7aeee71f4d86248f3197',\n",
       "        '040393f172e5186af0f49a599ffe0ebcb72d1c7b',\n",
       "        '040393f172e5186af0f49a599ffe0ebcb72d1c7b',\n",
       "        '040393f172e5186af0f49a599ffe0ebcb72d1c7b',\n",
       "        '040393f172e5186af0f49a599ffe0ebcb72d1c7b',\n",
       "        '83000082f8f021c6345db980100e8c4e382139d6',\n",
       "        '83000082f8f021c6345db980100e8c4e382139d6',\n",
       "        '8f4062bc086320b9fcf1b5ed873808b903e1b311',\n",
       "        'a52e35e9553ff4c8dabc153223c5ce6ad3a65d53',\n",
       "        '83000082f8f021c6345db980100e8c4e382139d6',\n",
       "        'a52e35e9553ff4c8dabc153223c5ce6ad3a65d53',\n",
       "        'ec35d7d2bcc904f0e7b48f4c54042b9fb1ba35d2',\n",
       "        '040393f172e5186af0f49a599ffe0ebcb72d1c7b',\n",
       "        '9da91241d55fe01337ff7aeee71f4d86248f3197',\n",
       "        '0661bd6203d72ebf3aae88d78a8d73c510a3222c',\n",
       "        'a52e35e9553ff4c8dabc153223c5ce6ad3a65d53',\n",
       "        'ec35d7d2bcc904f0e7b48f4c54042b9fb1ba35d2',\n",
       "        '83000082f8f021c6345db980100e8c4e382139d6',\n",
       "        'a52e35e9553ff4c8dabc153223c5ce6ad3a65d53',\n",
       "        'a52e35e9553ff4c8dabc153223c5ce6ad3a65d53',\n",
       "        'beac25e73fbb511d840850696bc374818c409786',\n",
       "        'beac25e73fbb511d840850696bc374818c409786',\n",
       "        'a52e35e9553ff4c8dabc153223c5ce6ad3a65d53',\n",
       "        '8f4062bc086320b9fcf1b5ed873808b903e1b311',\n",
       "        'beac25e73fbb511d840850696bc374818c409786'],\n",
       "       ['-44', '-44', '-47', '-47', '-47', '-48', '-48', '-49', '-49',\n",
       "        '-50', '-50', '-50', '-50', '-50', '-50', '-50', '-50', '-50',\n",
       "        '-51', '-51', '-51', '-51', '-51', '-52', '-52', '-52', '-52',\n",
       "        '-53', '-53', '-53', '-53', '-54', '-54', '-54', '-54', '-54',\n",
       "        '-54', '-54', '-54', '-54', '-54', '-54', '-55', '-55', '-55',\n",
       "        '-55', '-55', '-55', '-55', '-55', '-55', '-55', '-55', '-55',\n",
       "        '-55', '-55', '-55', '-55', '-55', '-55', '-55', '-55', '-55',\n",
       "        '-56', '-56', '-56', '-56', '-56', '-56', '-56', '-56', '-56',\n",
       "        '-56', '-56', '-56', '-56', '-56', '-56', '-56', '-56', '-56',\n",
       "        '-56', '-56', '-56', '-56', '-56', '-57', '-57', '-57', '-57',\n",
       "        '-57', '-57', '-58', '-58', '-58', '-58', '-58', '-58', '-58',\n",
       "        '-58'],\n",
       "       ['2462', '2462', '2437', '2462', '2437', '2462', '2462', '2437',\n",
       "        '2437', '2462', '2437', '2462', '2462', '2437', '2437', '2462',\n",
       "        '2462', '2437', '2437', '2462', '2462', '2462', '2462', '2462',\n",
       "        '2462', '2462', '2437', '2462', '2437', '2412', '2412', '2412',\n",
       "        '2412', '2462', '2462', '2462', '2462', '2437', '2462', '2462',\n",
       "        '2462', '2437', '2412', '5785', '5785', '5785', '2412', '2412',\n",
       "        '5785', '2462', '5785', '5785', '5785', '5785', '2462', '5785',\n",
       "        '2412', '5785', '2412', '2412', '2412', '2412', '5785', '2437',\n",
       "        '2412', '5785', '5785', '5785', '5785', '5785', '2412', '2412',\n",
       "        '2412', '2462', '2412', '2412', '2412', '2412', '2412', '2412',\n",
       "        '2437', '2437', '2422', '2462', '2437', '2462', '5785', '2412',\n",
       "        '2412', '2437', '2462', '5785', '2437', '2462', '2462', '2412',\n",
       "        '2412', '2462', '2422', '2412'],\n",
       "       ['-56056', '-54152', '-76864', '-52249', '-63598', '-61694',\n",
       "        '-57935', '-65481', '-71148', '-69255', '-78761', '-12563',\n",
       "        '-21993', '-74957', '-67367', '-18220', '-23874', '-61694',\n",
       "        '-69255', '-29552', '-74957', '-31437', '-10677', '-25756',\n",
       "        '-35214', '-59810', '-73047', '-84428', '-84428', '-35214',\n",
       "        '-33320', '-35214', '-33320', '-33320', '-46583', '-71148',\n",
       "        '-67367', '-86325', '-82545', '-63598', '-14453', '-80647',\n",
       "        '-33320', '-21993', '-4914', '-4914', '-21993', '-27658',\n",
       "        '-21993', '-20112', '-3018', '-3018', '-3018', '-20112', '-8779',\n",
       "        '-20112', '-23874', '-20112', '-25756', '-25756', '-35214',\n",
       "        '-27658', '-21993', '-88210', '-21993', '-44695', '-46583',\n",
       "        '-4914', '-46583', '-44695', '-39000', '-39000', '-39000',\n",
       "        '-37097', '-37097', '-37097', '-37097', '-23874', '-25756',\n",
       "        '-27658', '-56056', '-90099', '-59810', '-1127', '-57935',\n",
       "        '-65481', '-44695', '-40881', '-40881', '-54152', '-44695',\n",
       "        '-46583', '-82545', '-3018', '-78761', '-40881', '-23874',\n",
       "        '-86325', '-65481', '-21993'],\n",
       "       ['-57225', '-55368', '-78385', '-53463', '-65090', '-62942',\n",
       "        '-59112', '-66991', '-72655', '-70441', '-80271', '-13764',\n",
       "        '-23191', '-76481', '-68882', '-19426', '-25073', '-63206',\n",
       "        '-70796', '-30752', '-76175', '-32640', '-11867', '-26976',\n",
       "        '-36410', '-61006', '-74591', '-85639', '-85950', '-37062',\n",
       "        '-37062', '-37062', '-37062', '-34528', '-47784', '-72362',\n",
       "        '-68567', '-87826', '-83743', '-64791', '-15642', '-82170',\n",
       "        '-37062', '-22649', '-5549', '-5549', '-29488', '-29490',\n",
       "        '-22650', '-21300', '-5549', '-5549', '-3705', '-22650', '-9994',\n",
       "        '-22649', '-29488', '-22649', '-29489', '-29490', '-37062',\n",
       "        '-29489', '-22649', '-91623', '-29489', '-47226', '-47226',\n",
       "        '-5548', '-47225', '-47227', '-40850', '-40849', '-40850',\n",
       "        '-38315', '-40849', '-40848', '-40849', '-29489', '-29490',\n",
       "        '-29490', '-59435', '-91624', '-61510', '-2344', '-59434',\n",
       "        '-66681', '-47226', '-42690', '-42689', '-55675', '-45899',\n",
       "        '-47225', '-84045', '-4231', '-79959', '-42690', '-25702',\n",
       "        '-87541', '-67177', '-25702']], dtype='<U40')"
      ]
     },
     "execution_count": 10,
     "metadata": {},
     "output_type": "execute_result"
    }
   ],
   "source": [
    "data"
   ]
  },
  {
   "cell_type": "markdown",
   "id": "common-literature",
   "metadata": {},
   "source": [
    "## Check processing data"
   ]
  },
  {
   "cell_type": "code",
   "execution_count": 40,
   "id": "desirable-disability",
   "metadata": {},
   "outputs": [],
   "source": [
    "import matplotlib.pyplot as plt\n",
    "%matplotlib inline\n",
    "\n",
    "plt.style.use('seaborn-darkgrid')"
   ]
  },
  {
   "cell_type": "code",
   "execution_count": 91,
   "id": "extra-massachusetts",
   "metadata": {},
   "outputs": [
    {
     "name": "stdout",
     "output_type": "stream",
     "text": [
      "Load pickle from ../data/working/train_wifi.pkl\n"
     ]
    }
   ],
   "source": [
    "wifi_train = load_pickle(\"../data/working/train_wifi.pkl\")"
   ]
  },
  {
   "cell_type": "markdown",
   "id": "contemporary-vienna",
   "metadata": {},
   "source": [
    "### rssi"
   ]
  },
  {
   "cell_type": "code",
   "execution_count": 41,
   "id": "another-illustration",
   "metadata": {},
   "outputs": [
    {
     "data": {
      "image/png": "[encoded data removed]",
      "text/plain": [
       "<Figure size 432x288 with 1 Axes>"
      ]
     },
     "metadata": {},
     "output_type": "display_data"
    }
   ],
   "source": [
    "tmp = wifi_train[:, 1].astype('int64')\n",
    "\n",
    "plt.figure()\n",
    "plt.hist(np.mean(tmp==-999, axis=1), bins=10)\n",
    "plt.show()"
   ]
  },
  {
   "cell_type": "code",
   "execution_count": 44,
   "id": "alpine-democrat",
   "metadata": {},
   "outputs": [
    {
     "data": {
      "image/png": "[encoded data removed]",
      "text/plain": [
       "<Figure size 432x288 with 1 Axes>"
      ]
     },
     "metadata": {},
     "output_type": "display_data"
    },
    {
     "data": {
      "image/png": "[encoded data removed]",
      "text/plain": [
       "<Figure size 432x288 with 1 Axes>"
      ]
     },
     "metadata": {},
     "output_type": "display_data"
    }
   ],
   "source": [
    "rssi = wifi_train[:, 1].astype('int64')\n",
    "rssi = rssi.ravel()\n",
    "\n",
    "plt.figure()\n",
    "plt.hist(rssi, bins=100)\n",
    "plt.show()\n",
    "\n",
    "# NOTE: 欠損値を除いた場合の分布\n",
    "\n",
    "_rssi = rssi[rssi != -999]\n",
    "\n",
    "plt.style.use('seaborn-darkgrid')\n",
    "\n",
    "plt.figure()\n",
    "plt.hist(_rssi, bins=100)\n",
    "plt.show()"
   ]
  },
  {
   "cell_type": "code",
   "execution_count": 52,
   "id": "cleared-actor",
   "metadata": {},
   "outputs": [],
   "source": [
    "rssi = wifi_train[:, 1].astype('int64')\n",
    "rssi = rssi.ravel()\n",
    "\n",
    "rssi[rssi == -999] = rssi[rssi != -999].mean()"
   ]
  },
  {
   "cell_type": "code",
   "execution_count": 62,
   "id": "mineral-stanley",
   "metadata": {},
   "outputs": [
    {
     "name": "stdout",
     "output_type": "stream",
     "text": [
      "rssi の平均値\n"
     ]
    },
    {
     "data": {
      "text/plain": [
       "-53.0"
      ]
     },
     "execution_count": 62,
     "metadata": {},
     "output_type": "execute_result"
    }
   ],
   "source": [
    "print(\"rssi の平均値\")\n",
    "np.median(rssi[rssi != -999])"
   ]
  },
  {
   "cell_type": "code",
   "execution_count": 53,
   "id": "cheap-expert",
   "metadata": {},
   "outputs": [
    {
     "data": {
      "image/png": "[encoded data removed]",
      "text/plain": [
       "<Figure size 432x288 with 1 Axes>"
      ]
     },
     "metadata": {},
     "output_type": "display_data"
    }
   ],
   "source": [
    "plt.figure()\n",
    "plt.hist(rssi, bins=100)\n",
    "plt.show()"
   ]
  },
  {
   "cell_type": "markdown",
   "id": "expected-inspection",
   "metadata": {},
   "source": [
    "### frequency\n",
    "\n",
    "値があれすぎていて"
   ]
  },
  {
   "cell_type": "code",
   "execution_count": 68,
   "id": "pending-dietary",
   "metadata": {},
   "outputs": [
    {
     "data": {
      "image/png": "[encoded data removed]",
      "text/plain": [
       "<Figure size 432x288 with 1 Axes>"
      ]
     },
     "metadata": {},
     "output_type": "display_data"
    }
   ],
   "source": [
    "tmp = wifi_train[:, 2].astype('int64')\n",
    "\n",
    "plt.figure()\n",
    "plt.hist(np.mean(tmp==-999, axis=1), bins=10)\n",
    "plt.show()"
   ]
  },
  {
   "cell_type": "code",
   "execution_count": 69,
   "id": "average-blackberry",
   "metadata": {},
   "outputs": [
    {
     "data": {
      "image/png": "[encoded data removed]",
      "text/plain": [
       "<Figure size 432x288 with 1 Axes>"
      ]
     },
     "metadata": {},
     "output_type": "display_data"
    },
    {
     "data": {
      "image/png": "[encoded data removed]",
      "text/plain": [
       "<Figure size 432x288 with 1 Axes>"
      ]
     },
     "metadata": {},
     "output_type": "display_data"
    }
   ],
   "source": [
    "freq = wifi_train[:, 2].astype('int64')\n",
    "freq = freq.ravel()\n",
    "\n",
    "plt.figure()\n",
    "plt.hist(freq, bins=100)\n",
    "plt.show()\n",
    "\n",
    "# NOTE: 欠損値を除いた場合の分布\n",
    "\n",
    "_freq = freq[freq != -999]\n",
    "\n",
    "plt.style.use('seaborn-darkgrid')\n",
    "\n",
    "plt.figure()\n",
    "plt.hist(_freq, bins=100)\n",
    "plt.show()"
   ]
  },
  {
   "cell_type": "markdown",
   "id": "signed-village",
   "metadata": {},
   "source": [
    "### ts_diff\n"
   ]
  },
  {
   "cell_type": "code",
   "execution_count": 71,
   "id": "weird-sharp",
   "metadata": {},
   "outputs": [
    {
     "data": {
      "image/png": "[encoded data removed]",
      "text/plain": [
       "<Figure size 432x288 with 1 Axes>"
      ]
     },
     "metadata": {},
     "output_type": "display_data"
    },
    {
     "data": {
      "image/png": "[encoded data removed]",
      "text/plain": [
       "<Figure size 432x288 with 1 Axes>"
      ]
     },
     "metadata": {},
     "output_type": "display_data"
    }
   ],
   "source": [
    "ts_diff = wifi_train[:, 3].astype('int64')\n",
    "ts_diff = ts_diff.ravel()\n",
    "\n",
    "plt.figure()\n",
    "plt.hist(ts_diff, bins=100)\n",
    "plt.show()\n",
    "\n",
    "# NOTE: 欠損値を除いた場合の分布\n",
    "\n",
    "_ts_diff = freq[freq != 999]\n",
    "\n",
    "plt.style.use('seaborn-darkgrid')\n",
    "\n",
    "plt.figure()\n",
    "plt.hist(_ts_diff, bins=100)\n",
    "plt.show()"
   ]
  },
  {
   "cell_type": "markdown",
   "id": "angry-first",
   "metadata": {},
   "source": [
    "### last_seen_ts_diff"
   ]
  },
  {
   "cell_type": "code",
   "execution_count": 73,
   "id": "mighty-terrace",
   "metadata": {},
   "outputs": [
    {
     "data": {
      "image/png": "[encoded data removed]",
      "text/plain": [
       "<Figure size 432x288 with 1 Axes>"
      ]
     },
     "metadata": {},
     "output_type": "display_data"
    },
    {
     "data": {
      "image/png": "[encoded data removed]",
      "text/plain": [
       "<Figure size 432x288 with 1 Axes>"
      ]
     },
     "metadata": {},
     "output_type": "display_data"
    }
   ],
   "source": [
    "ts_diff = wifi_train[:, 4].astype('int64')\n",
    "ts_diff = ts_diff.ravel()\n",
    "\n",
    "plt.figure()\n",
    "plt.hist(ts_diff, bins=100)\n",
    "plt.show()\n",
    "\n",
    "# NOTE: 欠損値を除いた場合の分布\n",
    "\n",
    "_ts_diff = freq[freq != 999]\n",
    "\n",
    "plt.style.use('seaborn-darkgrid')\n",
    "\n",
    "plt.figure()\n",
    "plt.hist(_ts_diff, bins=100)\n",
    "plt.show()"
   ]
  }
 ],
 "metadata": {
  "kernelspec": {
   "display_name": "Python 3",
   "language": "python",
   "name": "python3"
  },
  "language_info": {
   "codemirror_mode": {
    "name": "ipython",
    "version": 3
   },
   "file_extension": ".py",
   "mimetype": "text/x-python",
   "name": "python",
   "nbconvert_exporter": "python",
   "pygments_lexer": "ipython3",
   "version": "3.8.7"
  }
 },
 "nbformat": 4,
 "nbformat_minor": 5
}
