{
 "cells": [
  {
   "cell_type": "code",
   "execution_count": 22,
   "metadata": {},
   "outputs": [],
   "source": [
    "import sys\n",
    "import pathlib\n",
    "import numpy as np\n",
    "import pandas as pd\n",
    "from rich.progress import track\n",
    "from joblib import Parallel, delayed\n",
    "\n",
    "import matplotlib.pyplot as plt\n",
    "%matplotlib inline\n",
    "\n",
    "from sklearn.preprocessing import StandardScaler\n",
    "\n",
    "import torch\n",
    "import torch.nn as nn\n",
    "from torch.utils.data import Dataset, DataLoader\n",
    "\n",
    "sys.path.append(\"../src\")\n",
    "from utils.feature import FeatureStore\n",
    "from utils.common import load_pickle, dump_pickle, save_cache"
   ]
  },
  {
   "cell_type": "code",
   "execution_count": 23,
   "metadata": {},
   "outputs": [],
   "source": [
    "from dataset import IndoorDataset, IndoorDataModule\n",
    "from submission import IndoorTestDataset"
   ]
  },
  {
   "cell_type": "code",
   "execution_count": 25,
   "metadata": {},
   "outputs": [
    {
     "name": "stdout",
     "output_type": "stream",
     "text": [
      "tensor([0., 0., 0., 0., 0., 0., 0., 0., 0., 0.])\n",
      "tensor([2., 2., 2., 2., 2., 2., 2., 2., 2., 2.])\n"
     ]
    },
    {
     "data": {
      "text/plain": [
       "tensor(4.)"
      ]
     },
     "execution_count": 25,
     "metadata": {},
     "output_type": "execute_result"
    }
   ],
   "source": [
    "d1 = torch.zeros((10))\n",
    "d2 = torch.ones((10)) * 2\n",
    "\n",
    "print(d1)\n",
    "print(d2)\n",
    "\n",
    "loss_fn = nn.MSELoss()\n",
    "loss_fn(d1, d2)"
   ]
  },
  {
   "cell_type": "code",
   "execution_count": 20,
   "metadata": {},
   "outputs": [
    {
     "data": {
      "text/plain": [
       "tensor(4.)"
      ]
     },
     "execution_count": 20,
     "metadata": {},
     "output_type": "execute_result"
    }
   ],
   "source": [
    "torch.mean(torch.pow(torch.abs(d1 - d2), 2))"
   ]
  },
  {
   "cell_type": "code",
   "execution_count": 82,
   "metadata": {},
   "outputs": [
    {
     "name": "stdout",
     "output_type": "stream",
     "text": [
      "tensor([[1., 1.],\n",
      "        [1., 1.],\n",
      "        [1., 1.],\n",
      "        [1., 1.],\n",
      "        [1., 1.],\n",
      "        [1., 1.],\n",
      "        [1., 1.],\n",
      "        [1., 1.],\n",
      "        [1., 1.],\n",
      "        [1., 1.]])\n",
      "tensor([[2., 5.],\n",
      "        [2., 5.],\n",
      "        [2., 5.],\n",
      "        [2., 5.],\n",
      "        [2., 5.],\n",
      "        [2., 5.],\n",
      "        [2., 5.],\n",
      "        [2., 5.],\n",
      "        [2., 5.],\n",
      "        [2., 5.]])\n"
     ]
    },
    {
     "data": {
      "text/plain": [
       "tensor(8.5000)"
      ]
     },
     "execution_count": 82,
     "metadata": {},
     "output_type": "execute_result"
    }
   ],
   "source": [
    "d1 = torch.tensor(\n",
    "    [\n",
    "        [1., 1.],\n",
    "        [1., 1.],\n",
    "        [1., 1.],\n",
    "        [1., 1.],\n",
    "        [1., 1.],\n",
    "        [1., 1.],\n",
    "        [1., 1.],\n",
    "        [1., 1.],\n",
    "        [1., 1.],\n",
    "        [1., 1.],\n",
    "    ], dtype=torch.float)\n",
    "d2 = torch.tensor(\n",
    "    [\n",
    "        [2., 5.],\n",
    "        [2., 5.],\n",
    "        [2., 5.],\n",
    "        [2., 5.],\n",
    "        [2., 5.],\n",
    "        [2., 5.],\n",
    "        [2., 5.],\n",
    "        [2., 5.],\n",
    "        [2., 5.],\n",
    "        [2., 5.],\n",
    "    ], dtype=torch.float)\n",
    "\n",
    "print(d1)\n",
    "print(d2)\n",
    "\n",
    "loss_fn = nn.MSELoss()\n",
    "loss_fn(d1, d2)"
   ]
  },
  {
   "cell_type": "code",
   "execution_count": 83,
   "metadata": {},
   "outputs": [
    {
     "data": {
      "text/plain": [
       "tensor([[-1., -4.],\n",
       "        [-1., -4.],\n",
       "        [-1., -4.],\n",
       "        [-1., -4.],\n",
       "        [-1., -4.],\n",
       "        [-1., -4.],\n",
       "        [-1., -4.],\n",
       "        [-1., -4.],\n",
       "        [-1., -4.],\n",
       "        [-1., -4.]])"
      ]
     },
     "execution_count": 83,
     "metadata": {},
     "output_type": "execute_result"
    }
   ],
   "source": [
    "diff = (d1 - d2)\n",
    "diff"
   ]
  },
  {
   "cell_type": "code",
   "execution_count": 84,
   "metadata": {},
   "outputs": [
    {
     "data": {
      "text/plain": [
       "tensor([[ 1., 16.],\n",
       "        [ 1., 16.],\n",
       "        [ 1., 16.],\n",
       "        [ 1., 16.],\n",
       "        [ 1., 16.],\n",
       "        [ 1., 16.],\n",
       "        [ 1., 16.],\n",
       "        [ 1., 16.],\n",
       "        [ 1., 16.],\n",
       "        [ 1., 16.]])"
      ]
     },
     "execution_count": 84,
     "metadata": {},
     "output_type": "execute_result"
    }
   ],
   "source": [
    "tmp = torch.pow(diff, 2)\n",
    "tmp"
   ]
  },
  {
   "cell_type": "code",
   "execution_count": 85,
   "metadata": {},
   "outputs": [
    {
     "data": {
      "text/plain": [
       "tensor([[1., 4.],\n",
       "        [1., 4.],\n",
       "        [1., 4.],\n",
       "        [1., 4.],\n",
       "        [1., 4.],\n",
       "        [1., 4.],\n",
       "        [1., 4.],\n",
       "        [1., 4.],\n",
       "        [1., 4.],\n",
       "        [1., 4.]])"
      ]
     },
     "execution_count": 85,
     "metadata": {},
     "output_type": "execute_result"
    }
   ],
   "source": [
    "tmp = torch.sqrt(tmp)\n",
    "tmp"
   ]
  },
  {
   "cell_type": "code",
   "execution_count": 86,
   "metadata": {},
   "outputs": [
    {
     "data": {
      "text/plain": [
       "tensor([5., 5., 5., 5., 5., 5., 5., 5., 5., 5.])"
      ]
     },
     "execution_count": 86,
     "metadata": {},
     "output_type": "execute_result"
    }
   ],
   "source": [
    "tmp = torch.sum(tmp, dim=1)\n",
    "tmp"
   ]
  },
  {
   "cell_type": "code",
   "execution_count": 87,
   "metadata": {},
   "outputs": [
    {
     "data": {
      "text/plain": [
       "tensor(5.)"
      ]
     },
     "execution_count": 87,
     "metadata": {},
     "output_type": "execute_result"
    }
   ],
   "source": [
    "torch.mean(tmp)"
   ]
  },
  {
   "cell_type": "code",
   "execution_count": 114,
   "metadata": {},
   "outputs": [],
   "source": [
    "class MSELoss(nn.Module):\n",
    "    def __init__(self):\n",
    "        super(MSELoss, self).__init__()\n",
    "\n",
    "    def forward(self, y_hat, y):\n",
    "        pos_error = y_hat - y\n",
    "        pos_error = torch.sum(torch.abs(pos_error), dim=1)\n",
    "        return torch.mean(pos_error)\n",
    "\n",
    "class RMSELoss(nn.Module):\n",
    "    def __init__(self):\n",
    "        super(RMSELoss, self).__init__()\n",
    "\n",
    "    def forward(self, y_hat, y):\n",
    "        pos_error = y_hat - y\n",
    "        pos_error = torch.sum(torch.sqrt(torch.pow(pos_error, 2)), dim=1)\n",
    "        return torch.mean(pos_error)\n",
    "\n",
    "\n",
    "class MeanPositionLoss(nn.Module):\n",
    "    def __init__(self):\n",
    "        super(MeanPositionLoss, self).__init__()\n",
    "\n",
    "    def forward(self, y_hat, y, floor_hat, floor):\n",
    "        pos_error = y_hat - y\n",
    "        pos_error = torch.sum(torch.sqrt(torch.pow(pos_error, 2)), dim=1)\n",
    "        \n",
    "        p = 15\n",
    "        floor_error = p * torch.abs(floor_hat - floor)\n",
    "        \n",
    "        error = pos_error + floor_error\n",
    "        return torch.mean(error)"
   ]
  },
  {
   "cell_type": "code",
   "execution_count": 115,
   "metadata": {},
   "outputs": [],
   "source": [
    "# class MeanPositionLoss(nn.Module):\n",
    "#     def __init__(self):\n",
    "#         super(MeanPositionLoss, self).__init__()\n",
    "\n",
    "#     def forward(self, y_hat, y):\n",
    "#         pos = y\n",
    "#         pos_hat = y_hat\n",
    "\n",
    "#         diff_x = pos_hat[:, 0] - pos[:, 0]\n",
    "#         diff_y = pos_hat[:, 1] - pos[:, 1]\n",
    "\n",
    "#         error = torch.sqrt(torch.pow(diff_x, 2) + torch.pow(diff_y, 2))\n",
    "#         return torch.mean(error)"
   ]
  },
  {
   "cell_type": "code",
   "execution_count": 116,
   "metadata": {},
   "outputs": [
    {
     "data": {
      "text/plain": [
       "tensor(5.)"
      ]
     },
     "execution_count": 116,
     "metadata": {},
     "output_type": "execute_result"
    }
   ],
   "source": [
    "loss_fn = MeanPositionLoss()\n",
    "loss_fn(d1, d2, torch.zeros(10), torch.zeros(10))"
   ]
  },
  {
   "cell_type": "code",
   "execution_count": 117,
   "metadata": {},
   "outputs": [
    {
     "data": {
      "text/plain": [
       "tensor(5.)"
      ]
     },
     "execution_count": 117,
     "metadata": {},
     "output_type": "execute_result"
    }
   ],
   "source": [
    "loss_fn = RMSELoss()\n",
    "loss_fn(d1, d2)"
   ]
  },
  {
   "cell_type": "code",
   "execution_count": 118,
   "metadata": {},
   "outputs": [
    {
     "data": {
      "text/plain": [
       "tensor(5.)"
      ]
     },
     "execution_count": 118,
     "metadata": {},
     "output_type": "execute_result"
    }
   ],
   "source": [
    "loss_fn = MSELoss()\n",
    "loss_fn(d1, d2)"
   ]
  },
  {
   "cell_type": "code",
   "execution_count": null,
   "metadata": {},
   "outputs": [],
   "source": []
  },
  {
   "cell_type": "code",
   "execution_count": null,
   "metadata": {},
   "outputs": [],
   "source": []
  },
  {
   "cell_type": "code",
   "execution_count": null,
   "metadata": {},
   "outputs": [],
   "source": []
  },
  {
   "cell_type": "code",
   "execution_count": null,
   "metadata": {},
   "outputs": [],
   "source": []
  },
  {
   "cell_type": "code",
   "execution_count": null,
   "metadata": {},
   "outputs": [],
   "source": []
  },
  {
   "cell_type": "code",
   "execution_count": null,
   "metadata": {},
   "outputs": [],
   "source": []
  },
  {
   "cell_type": "code",
   "execution_count": null,
   "metadata": {},
   "outputs": [],
   "source": []
  },
  {
   "cell_type": "code",
   "execution_count": 69,
   "metadata": {},
   "outputs": [
    {
     "name": "stdout",
     "output_type": "stream",
     "text": [
      "Load pickle from ../data/preprocessing/train_wifi_results.pkl\n"
     ]
    }
   ],
   "source": [
    "result = load_pickle(\"../data/preprocessing/train_wifi_results.pkl\")"
   ]
  },
  {
   "cell_type": "code",
   "execution_count": 74,
   "metadata": {},
   "outputs": [],
   "source": [
    "bssid, rssi, freq, last_seen_ts = zip(*result)"
   ]
  },
  {
   "cell_type": "code",
   "execution_count": 79,
   "metadata": {},
   "outputs": [],
   "source": [
    "bssid = np.concatenate(bssid, axis=0).astype(\"int32\")\n",
    "rssi = np.concatenate(rssi, axis=0)\n",
    "freq = np.concatenate(freq, axis=0)\n",
    "last_seen_ts = np.concatenate(last_seen_ts, axis=0)"
   ]
  },
  {
   "cell_type": "code",
   "execution_count": 87,
   "metadata": {},
   "outputs": [
    {
     "data": {
      "text/plain": [
       "(46866,)"
      ]
     },
     "execution_count": 87,
     "metadata": {},
     "output_type": "execute_result"
    }
   ],
   "source": [
    "np.unique(bssid[:, 2]).shape"
   ]
  },
  {
   "cell_type": "code",
   "execution_count": null,
   "metadata": {},
   "outputs": [],
   "source": []
  },
  {
   "cell_type": "code",
   "execution_count": null,
   "metadata": {},
   "outputs": [],
   "source": []
  },
  {
   "cell_type": "code",
   "execution_count": 61,
   "metadata": {},
   "outputs": [
    {
     "name": "stdout",
     "output_type": "stream",
     "text": [
      "Load pickle from ../data/submit/test_waypoint.pkl\n"
     ]
    }
   ],
   "source": [
    "dataset = IndoorTestDataset()\n",
    "dataloader = DataLoader(\n",
    "    dataset,\n",
    "    batch_size=64,\n",
    "    num_workers=8,\n",
    "    shuffle=False,\n",
    "    drop_last=False,\n",
    ")"
   ]
  },
  {
   "cell_type": "code",
   "execution_count": 62,
   "metadata": {},
   "outputs": [
    {
     "data": {
      "text/plain": [
       "[[tensor([[1],\n",
       "          [1],\n",
       "          [1],\n",
       "          [1],\n",
       "          [1],\n",
       "          [1],\n",
       "          [1],\n",
       "          [1],\n",
       "          [1],\n",
       "          [1],\n",
       "          [1],\n",
       "          [1],\n",
       "          [1],\n",
       "          [1],\n",
       "          [1],\n",
       "          [1],\n",
       "          [1],\n",
       "          [1],\n",
       "          [1],\n",
       "          [1],\n",
       "          [1],\n",
       "          [1],\n",
       "          [1],\n",
       "          [1],\n",
       "          [1],\n",
       "          [1],\n",
       "          [1],\n",
       "          [1],\n",
       "          [1],\n",
       "          [1],\n",
       "          [1],\n",
       "          [1],\n",
       "          [1],\n",
       "          [1],\n",
       "          [1],\n",
       "          [1],\n",
       "          [1],\n",
       "          [1],\n",
       "          [1],\n",
       "          [1],\n",
       "          [1],\n",
       "          [1],\n",
       "          [1],\n",
       "          [1],\n",
       "          [1],\n",
       "          [1],\n",
       "          [1],\n",
       "          [1],\n",
       "          [1],\n",
       "          [1],\n",
       "          [1],\n",
       "          [1],\n",
       "          [1],\n",
       "          [1],\n",
       "          [1],\n",
       "          [1],\n",
       "          [1],\n",
       "          [1],\n",
       "          [1],\n",
       "          [1],\n",
       "          [1],\n",
       "          [1],\n",
       "          [1],\n",
       "          [1]]),\n",
       "  tensor([[0],\n",
       "          [0],\n",
       "          [0],\n",
       "          [0],\n",
       "          [0],\n",
       "          [0],\n",
       "          [0],\n",
       "          [0],\n",
       "          [0],\n",
       "          [0],\n",
       "          [0],\n",
       "          [0],\n",
       "          [0],\n",
       "          [0],\n",
       "          [0],\n",
       "          [0],\n",
       "          [0],\n",
       "          [0],\n",
       "          [0],\n",
       "          [0],\n",
       "          [0],\n",
       "          [0],\n",
       "          [0],\n",
       "          [0],\n",
       "          [0],\n",
       "          [0],\n",
       "          [0],\n",
       "          [0],\n",
       "          [0],\n",
       "          [0],\n",
       "          [0],\n",
       "          [0],\n",
       "          [0],\n",
       "          [0],\n",
       "          [0],\n",
       "          [0],\n",
       "          [0],\n",
       "          [0],\n",
       "          [0],\n",
       "          [0],\n",
       "          [0],\n",
       "          [0],\n",
       "          [0],\n",
       "          [0],\n",
       "          [0],\n",
       "          [0],\n",
       "          [0],\n",
       "          [0],\n",
       "          [0],\n",
       "          [0],\n",
       "          [0],\n",
       "          [0],\n",
       "          [0],\n",
       "          [0],\n",
       "          [0],\n",
       "          [0],\n",
       "          [0],\n",
       "          [0],\n",
       "          [0],\n",
       "          [0],\n",
       "          [0],\n",
       "          [0],\n",
       "          [0],\n",
       "          [0]])],\n",
       " [tensor([[127489,  38919,  16263,  ...,      0,      0,      0],\n",
       "          [ 16263, 127489,  16263,  ...,      0,      0,      0],\n",
       "          [ 16263,  16263, 127489,  ...,      0,      0,      0],\n",
       "          ...,\n",
       "          [ 77155,  95550,  44524,  ..., 134897,  38064, 114008],\n",
       "          [ 77155,  77155,  30092,  ..., 169778, 111329, 169778],\n",
       "          [ 77155,  77155, 175837,  ..., 176731, 198827,  47391]],\n",
       "         dtype=torch.int32),\n",
       "  tensor([[ 0.3491,  0.3308,  0.3271,  ..., -3.0915, -3.0915, -3.0915],\n",
       "          [ 0.3564,  0.3491,  0.3454,  ..., -3.0915, -3.0915, -3.0915],\n",
       "          [ 0.3345,  0.3308,  0.3271,  ..., -3.0915, -3.0915, -3.0915],\n",
       "          ...,\n",
       "          [ 0.3710,  0.3674,  0.3674,  ...,  0.2760,  0.2760,  0.2760],\n",
       "          [ 0.3893,  0.3674,  0.3381,  ...,  0.2577,  0.2577,  0.2577],\n",
       "          [ 0.4149,  0.4112,  0.3893,  ...,  0.2504,  0.2504,  0.2504]]),\n",
       "  tensor([[-0.2173, -0.2033, -0.2313,  ..., -2.1361, -2.1361, -2.1361],\n",
       "          [-0.2313, -0.2173, -0.2313,  ..., -2.1361, -2.1361, -2.1361],\n",
       "          [-0.2313, -0.2313, -0.2173,  ..., -2.1361, -2.1361, -2.1361],\n",
       "          ...,\n",
       "          [-0.2173,  1.6523,  1.6523,  ...,  1.6635, -0.2173,  1.6635],\n",
       "          [-0.2173, -0.2173,  1.6300,  ...,  1.6300,  1.6300,  1.6300],\n",
       "          [-0.2173, -0.2173, -0.2313,  ..., -0.2033, -0.2089,  1.6635]]),\n",
       "  tensor([[ 0.3364,  0.3364,  0.3364,  ..., -3.0934, -3.0934, -3.0934],\n",
       "          [ 0.3364,  0.3364,  0.3364,  ..., -3.0934, -3.0934, -3.0934],\n",
       "          [ 0.3364,  0.3364,  0.3364,  ..., -3.0934, -3.0934, -3.0934],\n",
       "          ...,\n",
       "          [ 0.3387,  0.3387,  0.3387,  ...,  0.3387,  0.3387,  0.3387],\n",
       "          [ 0.3387,  0.3387,  0.3387,  ...,  0.3387,  0.3387,  0.3387],\n",
       "          [ 0.3387,  0.3387,  0.3387,  ...,  0.3387,  0.3387,  0.3387]])],\n",
       " [tensor([[348,   0,   0,  ...,   0,   0,   0],\n",
       "          [188, 188, 348,  ...,   0,   0,   0],\n",
       "          [188,   0,   0,  ...,   0,   0,   0],\n",
       "          ...,\n",
       "          [348,   0,   0,  ...,   0,   0,   0],\n",
       "          [  0,   0,   0,  ...,   0,   0,   0],\n",
       "          [  0,   0,   0,  ...,   0,   0,   0]], dtype=torch.int32),\n",
       "  tensor([[ 1.3426, -0.7387, -0.7387,  ..., -0.7387, -0.7387, -0.7387],\n",
       "          [ 1.3559,  1.3559,  1.3426,  ..., -0.7387, -0.7387, -0.7387],\n",
       "          [ 1.3559, -0.7387, -0.7387,  ..., -0.7387, -0.7387, -0.7387],\n",
       "          ...,\n",
       "          [ 1.3559, -0.7387, -0.7387,  ..., -0.7387, -0.7387, -0.7387],\n",
       "          [-0.7387, -0.7387, -0.7387,  ..., -0.7387, -0.7387, -0.7387],\n",
       "          [-0.7387, -0.7387, -0.7387,  ..., -0.7387, -0.7387, -0.7387]]),\n",
       "  tensor([[ 1.3121, -0.7387, -0.7387,  ..., -0.7387, -0.7387, -0.7387],\n",
       "          [ 1.3372,  1.3349,  1.3121,  ..., -0.7387, -0.7387, -0.7387],\n",
       "          [ 1.3395, -0.7387, -0.7387,  ..., -0.7387, -0.7387, -0.7387],\n",
       "          ...,\n",
       "          [ 1.3258, -0.7387, -0.7387,  ..., -0.7387, -0.7387, -0.7387],\n",
       "          [-0.7387, -0.7387, -0.7387,  ..., -0.7387, -0.7387, -0.7387],\n",
       "          [-0.7387, -0.7387, -0.7387,  ..., -0.7387, -0.7387, -0.7387]])]]"
      ]
     },
     "execution_count": 62,
     "metadata": {},
     "output_type": "execute_result"
    }
   ],
   "source": [
    "next(iter(dataloader))"
   ]
  },
  {
   "cell_type": "code",
   "execution_count": 60,
   "metadata": {},
   "outputs": [],
   "source": [
    "n_fold = 0\n",
    "\n",
    "train_idx = np.load(f\"../data/fold/fold{n_fold:>02}_train_idx.npy\")\n",
    "valid_idx = np.load(f\"../data/fold/fold{n_fold:>02}_valid_idx.npy\")\n",
    "test_idx = np.load(f\"../data/fold/fold{n_fold:>02}_test_idx.npy\")\n",
    "\n",
    "# Define and setup datamodule.\n",
    "datamodule = IndoorDataModule(64, train_idx, valid_idx, test_idx)\n",
    "datamodule.setup()"
   ]
  },
  {
   "cell_type": "code",
   "execution_count": 63,
   "metadata": {},
   "outputs": [],
   "source": [
    "trainloader = datamodule.test_dataloader()"
   ]
  },
  {
   "cell_type": "code",
   "execution_count": 64,
   "metadata": {},
   "outputs": [
    {
     "data": {
      "text/plain": [
       "[[[tensor([[181],\n",
       "           [ 59],\n",
       "           [ 26],\n",
       "           [ 16],\n",
       "           [ 75],\n",
       "           [119],\n",
       "           [ 84],\n",
       "           [203],\n",
       "           [ 46],\n",
       "           [204],\n",
       "           [157],\n",
       "           [ 90],\n",
       "           [200],\n",
       "           [183],\n",
       "           [202],\n",
       "           [201],\n",
       "           [199],\n",
       "           [117],\n",
       "           [181],\n",
       "           [ 95],\n",
       "           [180],\n",
       "           [194],\n",
       "           [ 95],\n",
       "           [191],\n",
       "           [113],\n",
       "           [200],\n",
       "           [181],\n",
       "           [ 92],\n",
       "           [113],\n",
       "           [134],\n",
       "           [ 10],\n",
       "           [ 85],\n",
       "           [ 72],\n",
       "           [199],\n",
       "           [118],\n",
       "           [ 51],\n",
       "           [181],\n",
       "           [190],\n",
       "           [181],\n",
       "           [182],\n",
       "           [181],\n",
       "           [201],\n",
       "           [ 60],\n",
       "           [ 84],\n",
       "           [194],\n",
       "           [117],\n",
       "           [187],\n",
       "           [103],\n",
       "           [203],\n",
       "           [127],\n",
       "           [ 84],\n",
       "           [ 52],\n",
       "           [198],\n",
       "           [190],\n",
       "           [190],\n",
       "           [161],\n",
       "           [ 84],\n",
       "           [194],\n",
       "           [ 37],\n",
       "           [129],\n",
       "           [117],\n",
       "           [ 46],\n",
       "           [199],\n",
       "           [199]], dtype=torch.int32),\n",
       "   tensor([[-1],\n",
       "           [ 5],\n",
       "           [ 3],\n",
       "           [ 4],\n",
       "           [ 1],\n",
       "           [ 2],\n",
       "           [ 1],\n",
       "           [ 2],\n",
       "           [ 6],\n",
       "           [ 2],\n",
       "           [ 2],\n",
       "           [-1],\n",
       "           [-1],\n",
       "           [-1],\n",
       "           [ 3],\n",
       "           [ 2],\n",
       "           [ 0],\n",
       "           [ 0],\n",
       "           [ 0],\n",
       "           [ 2],\n",
       "           [ 2],\n",
       "           [ 1],\n",
       "           [ 2],\n",
       "           [-1],\n",
       "           [ 1],\n",
       "           [-1],\n",
       "           [ 3],\n",
       "           [ 0],\n",
       "           [ 4],\n",
       "           [ 0],\n",
       "           [ 0],\n",
       "           [ 4],\n",
       "           [ 2],\n",
       "           [ 1],\n",
       "           [ 4],\n",
       "           [ 0],\n",
       "           [ 6],\n",
       "           [ 0],\n",
       "           [ 4],\n",
       "           [ 0],\n",
       "           [ 6],\n",
       "           [-2],\n",
       "           [ 0],\n",
       "           [ 0],\n",
       "           [-1],\n",
       "           [ 1],\n",
       "           [ 1],\n",
       "           [ 0],\n",
       "           [ 7],\n",
       "           [-1],\n",
       "           [ 1],\n",
       "           [-1],\n",
       "           [ 0],\n",
       "           [ 0],\n",
       "           [ 1],\n",
       "           [ 3],\n",
       "           [ 5],\n",
       "           [ 3],\n",
       "           [ 1],\n",
       "           [-1],\n",
       "           [ 1],\n",
       "           [ 1],\n",
       "           [ 0],\n",
       "           [ 1]], dtype=torch.int32)],\n",
       "  [tensor([[229156, 229156, 177661,  ..., 120810, 229488, 171099],\n",
       "           [ 33322, 204365,  58219,  ..., 193366, 182247, 182247],\n",
       "           [ 84003,  34277, 141382,  ..., 172607,  95940,  73305],\n",
       "           ...,\n",
       "           [186236, 181692, 181692,  ..., 169572, 194461,   9543],\n",
       "           [102690, 115661, 102690,  ...,  19023, 165563,  39685],\n",
       "           [ 17334,  38456,  38456,  ..., 167746,  84914,  98643]],\n",
       "          dtype=torch.int32),\n",
       "   tensor([[0.4368, 0.4222, 0.3856,  ..., 0.2760, 0.2760, 0.2760],\n",
       "           [0.3966, 0.3966, 0.3930,  ..., 0.2979, 0.2979, 0.2979],\n",
       "           [0.3783, 0.3747, 0.3747,  ..., 0.3052, 0.3052, 0.3052],\n",
       "           ...,\n",
       "           [0.4405, 0.4405, 0.4295,  ..., 0.3601, 0.3601, 0.3601],\n",
       "           [0.4149, 0.4076, 0.3783,  ..., 0.2833, 0.2833, 0.2833],\n",
       "           [0.3527, 0.3454, 0.3454,  ..., 0.2686, 0.2686, 0.2650]]),\n",
       "   tensor([[-0.2173, -0.2173, -0.2033,  ...,  1.3256, -0.2033, -0.2313],\n",
       "           [-0.2173, -0.2173, -0.2313,  ..., -0.2005, -0.2005, -0.2005],\n",
       "           [-0.2033, -0.2033, -0.2313,  ..., -0.2173, -0.2257, -0.1978],\n",
       "           ...,\n",
       "           [-0.2033, -0.2033, -0.2033,  ..., -0.2173, -0.2173, -0.2173],\n",
       "           [ 1.6411,  1.6411,  1.6411,  ..., -0.2033, -0.2173, -0.2313],\n",
       "           [-0.2313, -0.2313, -0.2313,  ..., -0.2173, -0.1978,  1.6411]]),\n",
       "   tensor([[-0.2173, -0.2173, -0.2033,  ...,  1.3256, -0.2033, -0.2313],\n",
       "           [-0.2173, -0.2173, -0.2313,  ..., -0.2005, -0.2005, -0.2005],\n",
       "           [-0.2033, -0.2033, -0.2313,  ..., -0.2173, -0.2257, -0.1978],\n",
       "           ...,\n",
       "           [-0.2033, -0.2033, -0.2033,  ..., -0.2173, -0.2173, -0.2173],\n",
       "           [ 1.6411,  1.6411,  1.6411,  ..., -0.2033, -0.2173, -0.2313],\n",
       "           [-0.2313, -0.2313, -0.2313,  ..., -0.2173, -0.1978,  1.6411]])],\n",
       "  [tensor([[348,  45,  45,  ...,   0,   0,   0],\n",
       "           [348, 348, 348,  ..., 348, 278,   0],\n",
       "           [348, 348, 348,  ...,   0,   0,   0],\n",
       "           ...,\n",
       "           [157, 348, 578,  ..., 348,  45, 348],\n",
       "           [282, 282, 282,  ...,   0,   0,   0],\n",
       "           [ 21,  21,  21,  ...,   0,   0,   0]], dtype=torch.int32),\n",
       "   tensor([[ 1.3426,  1.3203,  1.3203,  ..., -0.7387, -0.7387, -0.7387],\n",
       "           [ 1.3559,  1.3559,  1.3559,  ...,  1.3559,  1.3760, -0.7387],\n",
       "           [ 1.3426,  1.3426,  1.3426,  ..., -0.7387, -0.7387, -0.7387],\n",
       "           ...,\n",
       "           [ 1.3559,  1.3559,  1.3626,  ...,  1.3559,  1.3203,  1.3559],\n",
       "           [ 1.3559,  1.3559,  1.3559,  ..., -0.7387, -0.7387, -0.7387],\n",
       "           [ 1.3559,  1.3559,  1.3559,  ..., -0.7387, -0.7387, -0.7387]]),\n",
       "   tensor([[ 1.3691,  1.3623,  1.3600,  ..., -0.7387, -0.7387, -0.7387],\n",
       "           [ 1.4056,  1.3965,  1.3942,  ...,  1.3235,  1.3235, -0.7387],\n",
       "           [ 1.3874,  1.3623,  1.3349,  ..., -0.7387, -0.7387, -0.7387],\n",
       "           ...,\n",
       "           [ 1.3896,  1.3896,  1.3782,  ...,  1.3509,  1.3486,  1.3486],\n",
       "           [ 1.3782,  1.3714,  1.3600,  ..., -0.7387, -0.7387, -0.7387],\n",
       "           [ 1.4010,  1.3691,  1.3668,  ..., -0.7387, -0.7387, -0.7387]])]],\n",
       " [tensor([[-1],\n",
       "          [ 5],\n",
       "          [ 3],\n",
       "          [ 4],\n",
       "          [ 1],\n",
       "          [ 2],\n",
       "          [ 1],\n",
       "          [ 2],\n",
       "          [ 6],\n",
       "          [ 2],\n",
       "          [ 2],\n",
       "          [-1],\n",
       "          [-1],\n",
       "          [-1],\n",
       "          [ 3],\n",
       "          [ 2],\n",
       "          [ 0],\n",
       "          [ 0],\n",
       "          [ 0],\n",
       "          [ 2],\n",
       "          [ 2],\n",
       "          [ 1],\n",
       "          [ 2],\n",
       "          [-1],\n",
       "          [ 1],\n",
       "          [-1],\n",
       "          [ 3],\n",
       "          [ 0],\n",
       "          [ 4],\n",
       "          [ 0],\n",
       "          [ 0],\n",
       "          [ 4],\n",
       "          [ 2],\n",
       "          [ 1],\n",
       "          [ 4],\n",
       "          [ 0],\n",
       "          [ 6],\n",
       "          [ 0],\n",
       "          [ 4],\n",
       "          [ 0],\n",
       "          [ 6],\n",
       "          [-2],\n",
       "          [ 0],\n",
       "          [ 0],\n",
       "          [-1],\n",
       "          [ 1],\n",
       "          [ 1],\n",
       "          [ 0],\n",
       "          [ 7],\n",
       "          [-1],\n",
       "          [ 1],\n",
       "          [-1],\n",
       "          [ 0],\n",
       "          [ 0],\n",
       "          [ 1],\n",
       "          [ 3],\n",
       "          [ 5],\n",
       "          [ 3],\n",
       "          [ 1],\n",
       "          [-1],\n",
       "          [ 1],\n",
       "          [ 1],\n",
       "          [ 0],\n",
       "          [ 1]], dtype=torch.int32),\n",
       "  tensor([[225.8442, 180.3214],\n",
       "          [ 64.3685,  24.4073],\n",
       "          [ 34.3769,  36.4255],\n",
       "          [ 29.8067,  89.2858],\n",
       "          [111.9783,  27.5119],\n",
       "          [ 55.5872, 115.9561],\n",
       "          [ 43.0834,  24.8473],\n",
       "          [118.3800, 125.2195],\n",
       "          [ 67.9769, 103.6580],\n",
       "          [ 26.3740,  63.6155],\n",
       "          [107.1537, 103.7008],\n",
       "          [147.1280,  38.7340],\n",
       "          [ 78.0106,  51.5230],\n",
       "          [139.7413,  50.0549],\n",
       "          [ 98.0840, 127.0742],\n",
       "          [111.9204,  50.0283],\n",
       "          [ 98.8513,  96.4096],\n",
       "          [ 50.9093, 251.9480],\n",
       "          [ 36.5893, 114.0703],\n",
       "          [ 57.7919, 102.2062],\n",
       "          [ 66.1110,  46.7795],\n",
       "          [161.6685, 117.1471],\n",
       "          [ 71.1028, 118.4927],\n",
       "          [281.7308, 150.2739],\n",
       "          [169.6588,  22.5590],\n",
       "          [ 81.4979,  50.8419],\n",
       "          [166.7598,  62.7351],\n",
       "          [141.6066,  73.7385],\n",
       "          [ 63.7299,  45.0372],\n",
       "          [ 73.4677,  67.9394],\n",
       "          [133.3550,  32.2588],\n",
       "          [ 86.3065,  54.6372],\n",
       "          [ 52.4145,  36.3183],\n",
       "          [117.8813,  36.5695],\n",
       "          [  9.8359,  50.2813],\n",
       "          [ 28.5736, 143.9921],\n",
       "          [ 73.3764,  79.3634],\n",
       "          [ 50.0907,  67.0990],\n",
       "          [ 15.0179,  98.3161],\n",
       "          [ 78.6586,  77.5934],\n",
       "          [ 75.5340,  78.1925],\n",
       "          [124.7643,  85.0642],\n",
       "          [ 77.1544,  51.3413],\n",
       "          [ 17.0823,  35.4419],\n",
       "          [ 96.6643,  57.0867],\n",
       "          [146.5982, 106.2776],\n",
       "          [214.5861, 123.0046],\n",
       "          [ 10.7938,   5.5581],\n",
       "          [118.1447, 170.6494],\n",
       "          [137.1576,  94.8948],\n",
       "          [ 26.0397,  34.9134],\n",
       "          [ 40.4511, 153.6197],\n",
       "          [270.3611,  65.8645],\n",
       "          [108.0423,  57.6018],\n",
       "          [ 99.2852,  52.5097],\n",
       "          [142.3807, 144.8380],\n",
       "          [  8.2569,  34.5931],\n",
       "          [158.9975,  92.6823],\n",
       "          [ 28.6758,  96.4086],\n",
       "          [138.8897,  94.1298],\n",
       "          [145.8269, 146.9160],\n",
       "          [ 34.0018,  29.9452],\n",
       "          [101.0224,  58.2421],\n",
       "          [100.7612, 122.5628]])]]"
      ]
     },
     "execution_count": 64,
     "metadata": {},
     "output_type": "execute_result"
    }
   ],
   "source": [
    "next(iter(trainloader))"
   ]
  }
 ],
 "metadata": {
  "kernelspec": {
   "display_name": "Python 3",
   "language": "python",
   "name": "python3"
  },
  "language_info": {
   "codemirror_mode": {
    "name": "ipython",
    "version": 3
   },
   "file_extension": ".py",
   "mimetype": "text/x-python",
   "name": "python",
   "nbconvert_exporter": "python",
   "pygments_lexer": "ipython3",
   "version": "3.8.7"
  },
  "metadata": {
   "interpreter": {
    "hash": "167cad4144d70340325d221b52718775d7d96f3361bf0df64e0910740bdaf636"
   }
  }
 },
 "nbformat": 4,
 "nbformat_minor": 4
}
