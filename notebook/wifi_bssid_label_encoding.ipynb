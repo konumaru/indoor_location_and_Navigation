{
 "cells": [
  {
   "cell_type": "code",
   "execution_count": 1,
   "id": "direct-invite",
   "metadata": {},
   "outputs": [],
   "source": [
    "import pickle\n",
    "import numpy as np\n",
    "from rich.progress import track"
   ]
  },
  {
   "cell_type": "code",
   "execution_count": 2,
   "id": "charitable-barcelona",
   "metadata": {},
   "outputs": [],
   "source": [
    "wifi_train = np.load(\"../data/working/train_wifi_features.npy\")\n",
    "wifi_test = np.load(\"../data/working/test_wifi_features.npy\")"
   ]
  },
  {
   "cell_type": "code",
   "execution_count": 7,
   "id": "spread-animation",
   "metadata": {},
   "outputs": [],
   "source": [
    "bssid_uniques = np.unique(np.concatenate([wifi_train[:, 0], wifi_test[:, 0]], axis=0).ravel())"
   ]
  },
  {
   "cell_type": "code",
   "execution_count": null,
   "id": "vertical-battlefield",
   "metadata": {},
   "outputs": [],
   "source": []
  },
  {
   "cell_type": "code",
   "execution_count": 8,
   "id": "dramatic-sharing",
   "metadata": {},
   "outputs": [],
   "source": [
    "with open(\"../data/working/bssid_map.pkl\", \"rb\") as file:\n",
    "    bssid_map = pickle.load(file)"
   ]
  },
  {
   "cell_type": "code",
   "execution_count": 9,
   "id": "approved-consequence",
   "metadata": {},
   "outputs": [
    {
     "data": {
      "application/vnd.jupyter.widget-view+json": {
       "model_id": "cfd2e072820a4b01b9cb79aa15711a09",
       "version_major": 2,
       "version_minor": 0
      },
      "text/plain": [
       "Output()"
      ]
     },
     "metadata": {},
     "output_type": "display_data"
    }
   ],
   "source": [
    "encoded_bssid = [\n",
    "        [bssid_map[d] for d in row[0]]\n",
    "        for row in track(wifi_train, total=len(wifi_train))\n",
    "    ]"
   ]
  },
  {
   "cell_type": "code",
   "execution_count": 10,
   "id": "moving-bonus",
   "metadata": {},
   "outputs": [],
   "source": [
    "bssid_map = {bssid: int(i + 1) for i, bssid in enumerate(bssid_uniques)}"
   ]
  },
  {
   "cell_type": "code",
   "execution_count": null,
   "id": "tutorial-office",
   "metadata": {},
   "outputs": [],
   "source": []
  },
  {
   "cell_type": "code",
   "execution_count": null,
   "id": "mysterious-campaign",
   "metadata": {},
   "outputs": [],
   "source": []
  },
  {
   "cell_type": "code",
   "execution_count": null,
   "id": "exact-flash",
   "metadata": {},
   "outputs": [],
   "source": []
  },
  {
   "cell_type": "code",
   "execution_count": null,
   "id": "configured-setting",
   "metadata": {},
   "outputs": [],
   "source": []
  },
  {
   "cell_type": "code",
   "execution_count": 12,
   "id": "virtual-hydrogen",
   "metadata": {},
   "outputs": [
    {
     "data": {
      "application/vnd.jupyter.widget-view+json": {
       "model_id": "75adb86eff994d958f2812812bf38317",
       "version_major": 2,
       "version_minor": 0
      },
      "text/plain": [
       "Output()"
      ]
     },
     "metadata": {},
     "output_type": "display_data"
    },
    {
     "name": "stdout",
     "output_type": "stream",
     "text": [
      "CPU times: user 7.68 s, sys: 194 ms, total: 7.87 s\n",
      "Wall time: 7.83 s\n"
     ]
    }
   ],
   "source": [
    "%%time\n",
    "\n",
    "from rich.progress import track\n",
    "\n",
    "encoded_bssid = [[bssid_map[d] for d in row[0]] for row in track(wifi_train, total=len(wifi_train))]"
   ]
  },
  {
   "cell_type": "code",
   "execution_count": 15,
   "id": "magnetic-banking",
   "metadata": {},
   "outputs": [],
   "source": [
    "wifi_train[:, 0] = np.array(encoded_bssid)"
   ]
  },
  {
   "cell_type": "code",
   "execution_count": 18,
   "id": "returning-conspiracy",
   "metadata": {},
   "outputs": [],
   "source": [
    "wifi_train = wifi_train.astype('int64')"
   ]
  },
  {
   "cell_type": "code",
   "execution_count": 19,
   "id": "tough-stability",
   "metadata": {},
   "outputs": [
    {
     "data": {
      "text/plain": [
       "array([[[153239,  68022,  55328, ..., 185859, 185859, 185859],\n",
       "        [   -52,    -53,    -53, ...,   -999,   -999,   -999],\n",
       "        [  5785,   2437,   5785, ...,      0,      0,      0]],\n",
       "\n",
       "       [[ 60991, 177997, 177997, ...,   4660,   1396,  62079],\n",
       "        [   -42,    -48,    -48, ...,    -71,    -71,    -71],\n",
       "        [  2462,   2462,   2462, ...,   2437,   5785,   5785]],\n",
       "\n",
       "       [[ 60991,  60991, 177997, ...,   4660,  62079, 102691],\n",
       "        [   -42,    -47,    -48, ...,    -69,    -69,    -70],\n",
       "        [  2462,   2462,   2462, ...,   2437,   5785,   2437]],\n",
       "\n",
       "       ...,\n",
       "\n",
       "       [[108257, 152070, 152070, ..., 151613, 162246, 162667],\n",
       "        [   -33,    -38,    -38, ...,    -75,    -75,    -76],\n",
       "        [  2427,   5180,   5180, ...,   5765,   2462,   2472]],\n",
       "\n",
       "       [[108257, 152070, 152070, ..., 151613, 162246, 162667],\n",
       "        [   -33,    -38,    -38, ...,    -75,    -75,    -76],\n",
       "        [  2427,   5180,   5180, ...,   5765,   2462,   2472]],\n",
       "\n",
       "       [[108257, 152070, 152070, ..., 151613, 162246, 162667],\n",
       "        [   -33,    -38,    -38, ...,    -75,    -75,    -76],\n",
       "        [  2427,   5180,   5180, ...,   5765,   2462,   2472]]])"
      ]
     },
     "execution_count": 19,
     "metadata": {},
     "output_type": "execute_result"
    }
   ],
   "source": [
    "wifi_train"
   ]
  },
  {
   "cell_type": "code",
   "execution_count": null,
   "id": "welcome-colors",
   "metadata": {},
   "outputs": [],
   "source": []
  },
  {
   "cell_type": "code",
   "execution_count": 21,
   "id": "surprised-arnold",
   "metadata": {},
   "outputs": [],
   "source": [
    "def encode_bssid(wifi_feature: np.ndarray) -> np.ndarray:\n",
    "    with open(\"../data/working/bssid_map.pkl\", \"rb\") as file:\n",
    "        bssid_map = pickle.load(file)\n",
    "    encoded_bssid = [\n",
    "        [bssid_map[d] for d in row[0]]\n",
    "        for row in track(wifi_feature, total=len(wifi_feature))\n",
    "    ]\n",
    "    wifi_feature[:, 0] = np.array(encoded_bssid)\n",
    "    return wifi_feature"
   ]
  },
  {
   "cell_type": "code",
   "execution_count": 22,
   "id": "revised-inside",
   "metadata": {},
   "outputs": [],
   "source": [
    "wifi_train = np.load(\"../data/working/train_wifi_features.npy\")"
   ]
  },
  {
   "cell_type": "code",
   "execution_count": 23,
   "id": "reflected-consultancy",
   "metadata": {},
   "outputs": [
    {
     "data": {
      "application/vnd.jupyter.widget-view+json": {
       "model_id": "b19ff1837058493e9171fa5279a47b8b",
       "version_major": 2,
       "version_minor": 0
      },
      "text/plain": [
       "Output()"
      ]
     },
     "metadata": {},
     "output_type": "display_data"
    }
   ],
   "source": [
    "wifi_train = encode_bssid(wifi_train)"
   ]
  },
  {
   "cell_type": "code",
   "execution_count": 27,
   "id": "subsequent-essay",
   "metadata": {},
   "outputs": [],
   "source": [
    "wifi_train = wifi_train.astype(\"int64\")"
   ]
  },
  {
   "cell_type": "code",
   "execution_count": 30,
   "id": "ordered-multimedia",
   "metadata": {},
   "outputs": [
    {
     "data": {
      "text/plain": [
       "dtype('int64')"
      ]
     },
     "execution_count": 30,
     "metadata": {},
     "output_type": "execute_result"
    }
   ],
   "source": [
    "wifi_train.dtype"
   ]
  },
  {
   "cell_type": "code",
   "execution_count": null,
   "id": "obvious-match",
   "metadata": {},
   "outputs": [],
   "source": []
  },
  {
   "cell_type": "code",
   "execution_count": null,
   "id": "finite-directory",
   "metadata": {},
   "outputs": [],
   "source": []
  },
  {
   "cell_type": "code",
   "execution_count": null,
   "id": "divided-comfort",
   "metadata": {},
   "outputs": [],
   "source": [
    "\n",
    "\n",
    "\n",
    "def wifi_preprocessing():\n",
    "    # Train data\n",
    "    filepath = \"../data/working/train_wifi_features.npy\"\n",
    "    if not pathlib.Path(filepath).exists():\n",
    "        with timer(\"Dump wifi of train\"):\n",
    "            wifi_features = get_wifi_from_waypoints_in_parallel()\n",
    "            np.save(filepath, wifi_features)\n",
    "\n",
    "    # Test data\n",
    "    filepath = \"../data/working/test_wifi_features.npy\"\n",
    "    if not pathlib.Path(filepath).exists():\n",
    "        with timer(\"Dump wifi of test\"):\n",
    "            wifi_features = get_test_wifi_from_waypoints_in_parallel()\n",
    "            np.save(filepath, wifi_features)\n",
    "\n",
    "    # Label encoding\n",
    "    dump_wifi_bssid_map()\n",
    "    filepath = \"../data/working/train_encoded_wifi_feature.npy\"\n",
    "    if not pathlib.Path(filepath).exists():\n",
    "        wifi_features = np.load(\"../data/working/train_wifi_features.npy\")\n",
    "        wifi_features = encode_bssid(wifi_features).astype(\"int64\")\n",
    "        np.save(filepath, wifi_features)\n",
    "\n",
    "    filepath = \"../data/working/test_wifi_encoded_feature.npy\"\n",
    "    if not pathlib.Path(filepath).exists():\n",
    "        wifi_features = np.load(\"../data/working/test_wifi_features.npy\")\n",
    "        wifi_features = encode_bssid(wifi_features)\n",
    "        wifi_features = wifi_features.astype(\"int64\")\n",
    "        np.save(filepath, wifi_features)"
   ]
  },
  {
   "cell_type": "code",
   "execution_count": null,
   "id": "governmental-sterling",
   "metadata": {},
   "outputs": [],
   "source": []
  }
 ],
 "metadata": {
  "kernelspec": {
   "display_name": "Python 3",
   "language": "python",
   "name": "python3"
  },
  "language_info": {
   "codemirror_mode": {
    "name": "ipython",
    "version": 3
   },
   "file_extension": ".py",
   "mimetype": "text/x-python",
   "name": "python",
   "nbconvert_exporter": "python",
   "pygments_lexer": "ipython3",
   "version": "3.8.7"
  }
 },
 "nbformat": 4,
 "nbformat_minor": 5
}
