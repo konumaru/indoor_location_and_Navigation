{
 "cells": [
  {
   "cell_type": "markdown",
   "id": "overhead-valley",
   "metadata": {},
   "source": [
    "# Raw Data Processing"
   ]
  },
  {
   "cell_type": "code",
   "execution_count": 1,
   "id": "fifty-white",
   "metadata": {},
   "outputs": [],
   "source": [
    "import os\n",
    "import glob\n",
    "import joblib\n",
    "import random\n",
    "import pathlib\n",
    "from pathlib import Path\n",
    "from rich.progress import track\n",
    "\n",
    "from typing import List, Dict\n",
    "\n",
    "import numpy as np\n",
    "import pandas as pd"
   ]
  },
  {
   "cell_type": "markdown",
   "id": "weekly-english",
   "metadata": {},
   "source": [
    "## すべてのwaypointデータを１つのdataframeにまとめる"
   ]
  },
  {
   "cell_type": "code",
   "execution_count": 2,
   "id": "drawn-finding",
   "metadata": {},
   "outputs": [],
   "source": [
    "def get_data_from_pathtxt(filepath: pathlib.PosixPath, data_type: str, is_join_ids: bool = False) -> np.ndarray:\n",
    "    with open(filepath) as f:\n",
    "        lines = f.readlines()\n",
    "    \n",
    "    data = []\n",
    "    for line in lines:\n",
    "        tmp = line.strip().split('\\t')\n",
    "        if tmp[1] == data_type:\n",
    "            data.append(tmp)\n",
    "\n",
    "    data = np.array(data)\n",
    "    # Drop data_type column.\n",
    "    if data.shape[0] > 0:\n",
    "        data = np.delete(data, 1, axis=1)\n",
    "    # Concatenate site, floor and path.\n",
    "    if is_join_ids:\n",
    "        site_id = filepath.parent.parent.name\n",
    "        floor_id = filepath.parent.name\n",
    "        path_id = filepath.name.split(\".\")[0]\n",
    "        site_floor_path = np.tile([site_id, floor_id, path_id], (data.shape[0], 1))\n",
    "        data = np.concatenate([site_floor_path, data], axis=1)\n",
    "    return data\n",
    "\n",
    "\n",
    "def get_data_from_type_in_parallel(src_dir: str, data_type: str, is_join_ids: bool = False):\n",
    "    data = joblib.Parallel(n_jobs=-1)(\n",
    "        joblib.delayed(get_data_from_pathtxt)(path_filepath, data_type, is_join_ids)\n",
    "        for site_filepath in src_dir.glob(\"*\")   \n",
    "        for floor_filepath in site_filepath.glob(\"*\")\n",
    "        for path_filepath in floor_filepath.glob(\"*\")\n",
    "    )\n",
    "    data = np.concatenate(data, axis=0)\n",
    "    return data"
   ]
  },
  {
   "cell_type": "code",
   "execution_count": 3,
   "id": "signal-studio",
   "metadata": {},
   "outputs": [],
   "source": [
    "def get_data_from_type_in_parallel(src_dir: str, data_type: str, is_join_ids: bool = False):\n",
    "    data = joblib.Parallel(n_jobs=-1)(\n",
    "        joblib.delayed(get_data_from_pathtxt)(path_filepath, data_type, is_join_ids)\n",
    "        for site_filepath in src_dir.glob(\"*\")   \n",
    "        for floor_filepath in site_filepath.glob(\"*\")\n",
    "        for path_filepath in floor_filepath.glob(\"*\")\n",
    "    )\n",
    "    data = np.concatenate(data, axis=0)\n",
    "    return data"
   ]
  },
  {
   "cell_type": "code",
   "execution_count": 4,
   "id": "hired-korean",
   "metadata": {},
   "outputs": [
    {
     "output_type": "stream",
     "name": "stdout",
     "text": [
      "CPU times: user 7.61 s, sys: 1.11 s, total: 8.72 s\nWall time: 2min 29s\n"
     ]
    },
    {
     "output_type": "execute_result",
     "data": {
      "text/plain": [
       "array([['5da138764db8ce0c98bcaa46', 'F4', '5dabfad918410e00067e70ba',\n",
       "        '1571551566576', '37.889812', '154.43535'],\n",
       "       ['5da138764db8ce0c98bcaa46', 'F4', '5dabfad918410e00067e70ba',\n",
       "        '1571551573569', '27.694906', '153.9801'],\n",
       "       ['5da138764db8ce0c98bcaa46', 'F4', '5dabfad918410e00067e70ba',\n",
       "        '1571551581118', '16.998966', '153.33621'],\n",
       "       ...,\n",
       "       ['5cd56c17e2acfd2d33b6c161', 'F1', '5cf3a919a25c92000829bd8c',\n",
       "        '1559470063615', '61.0884', '5.656629'],\n",
       "       ['5cd56c17e2acfd2d33b6c161', 'F1', '5cf3a919a25c92000829bd8c',\n",
       "        '1559470073199', '56.777397', '13.8065'],\n",
       "       ['5cd56c17e2acfd2d33b6c161', 'F1', '5cf3a919a25c92000829bd8c',\n",
       "        '1559470085099', '64.9779', '18.690739']], dtype='<U24')"
      ]
     },
     "metadata": {},
     "execution_count": 4
    }
   ],
   "source": [
    "%%time\n",
    "src_dir = Path(\"../data/raw/train/\")\n",
    "waypoints = get_data_from_type_in_parallel(src_dir, \"TYPE_WAYPOINT\", is_join_ids=True)\n",
    "\n",
    "waypoints"
   ]
  },
  {
   "cell_type": "code",
   "execution_count": 5,
   "id": "connected-reference",
   "metadata": {},
   "outputs": [],
   "source": [
    "_waypoints = waypoints.copy()"
   ]
  },
  {
   "cell_type": "code",
   "execution_count": 6,
   "id": "direct-luxury",
   "metadata": {},
   "outputs": [],
   "source": [
    "# Encode floor.\n",
    "floorNums = {\n",
    "    \"B3\": -3,\n",
    "    \"B2\": -2,\n",
    "    \"B1\": -1,\n",
    "    \"F1\": 0,\n",
    "    \"F2\": 1,\n",
    "    \"F3\": 2,\n",
    "    \"F4\": 3,\n",
    "    \"F5\": 4,\n",
    "    \"F6\": 5,\n",
    "    \"F7\": 6,\n",
    "    \"F8\": 7,\n",
    "    \"F9\": 8,\n",
    "    \"F10\": 9,\n",
    "}\n",
    "is_encoded_floor = np.zeros(_waypoints.shape[0]).astype(bool)\n",
    "for key, val in floorNums.items():\n",
    "    is_encoded_floor[_waypoints[:, 1] == key] = True\n",
    "    _waypoints[:, 1] = np.char.replace(_waypoints[:, 1], key, str(val))\n",
    "_waypoints = _waypoints[is_encoded_floor]"
   ]
  },
  {
   "cell_type": "code",
   "execution_count": 7,
   "id": "middle-keyboard",
   "metadata": {},
   "outputs": [
    {
     "output_type": "execute_result",
     "data": {
      "text/plain": [
       "array([[  3.      ,  37.889812, 154.43535 ],\n",
       "       [  3.      ,  27.694906, 153.9801  ],\n",
       "       [  3.      ,  16.998966, 153.33621 ],\n",
       "       ...,\n",
       "       [  0.      ,  61.0884  ,   5.656629],\n",
       "       [  0.      ,  56.777397,  13.8065  ],\n",
       "       [  0.      ,  64.9779  ,  18.690739]])"
      ]
     },
     "metadata": {},
     "execution_count": 7
    }
   ],
   "source": [
    "_waypoints[:, [1, 4, 5]].astype(float)"
   ]
  },
  {
   "cell_type": "code",
   "execution_count": null,
   "id": "sitting-kingdom",
   "metadata": {},
   "outputs": [],
   "source": []
  },
  {
   "cell_type": "code",
   "execution_count": 8,
   "id": "external-retailer",
   "metadata": {},
   "outputs": [],
   "source": [
    "# %%time\n",
    "\n",
    "# src_dir = Pathth(\"../data/raw/train/\")\n",
    "\n",
    "# waypoints = []\n",
    "# for site_filepath in src_dir.glob(\"*\"):\n",
    "#     for floor_filepath in site_filepath.glob(\"*\"):\n",
    "#         for path_filepath in floor_filepath.glob(\"*\"):\n",
    "#             waypoint = get_data_from_pathtxt(path_filepath, \"TYPE_WAYPOINT\")\n",
    "#             waypoints.append(waypoint)\n",
    "        \n",
    "# np.concatenate(waypoints, axis=0)\n",
    "\n",
    "# # CPU times: user 5min 57s, sys: 37.3 s, total: 6min 35s\n",
    "# # Wall time: 8min 23s"
   ]
  },
  {
   "cell_type": "code",
   "execution_count": 9,
   "id": "structural-print",
   "metadata": {},
   "outputs": [
    {
     "output_type": "stream",
     "name": "stdout",
     "text": [
      "CPU times: user 7.83 s, sys: 1.09 s, total: 8.92 s\nWall time: 2min 33s\n"
     ]
    }
   ],
   "source": [
    "%%time\n",
    "\n",
    "src_dir = Path(\"../data/raw/train/\")\n",
    "\n",
    "# Data columns is (site, floor, path. timestamp, x, y).\n",
    "waypoints = get_data_from_type_in_parallel(src_dir, \"TYPE_WAYPOINT\", is_join_ids=True)\n",
    "np.save(\"tmp/train_waypoint.npy\", waypoints)\n",
    "\n",
    "# CPU times: user 2.47 s, sys: 352 ms, total: 2.82 s\n",
    "# Wall time: 30.1 s"
   ]
  },
  {
   "cell_type": "code",
   "execution_count": 10,
   "id": "dressed-magic",
   "metadata": {},
   "outputs": [
    {
     "output_type": "execute_result",
     "data": {
      "text/plain": [
       "array([['5da138764db8ce0c98bcaa46', 'F4', '5dabfad918410e00067e70ba',\n",
       "        '1571551566576', '37.889812', '154.43535'],\n",
       "       ['5da138764db8ce0c98bcaa46', 'F4', '5dabfad918410e00067e70ba',\n",
       "        '1571551573569', '27.694906', '153.9801'],\n",
       "       ['5da138764db8ce0c98bcaa46', 'F4', '5dabfad918410e00067e70ba',\n",
       "        '1571551581118', '16.998966', '153.33621'],\n",
       "       ['5da138764db8ce0c98bcaa46', 'F4', '5dac3de918410e00067e7244',\n",
       "        '1571568619480', '36.867283', '179.88359'],\n",
       "       ['5da138764db8ce0c98bcaa46', 'F4', '5dac3de918410e00067e7244',\n",
       "        '1571568624436', '37.37246', '185.84445']], dtype='<U24')"
      ]
     },
     "metadata": {},
     "execution_count": 10
    }
   ],
   "source": [
    "waypoints = np.load(\"tmp/train_waypoint.npy\")\n",
    "waypoints[:5]"
   ]
  },
  {
   "cell_type": "markdown",
   "id": "satisfied-amount",
   "metadata": {},
   "source": [
    "## Wifi Feature"
   ]
  },
  {
   "cell_type": "code",
   "execution_count": 11,
   "id": "collaborative-norway",
   "metadata": {},
   "outputs": [],
   "source": [
    "waypoints = np.load(\"tmp/train_waypoint.npy\")"
   ]
  },
  {
   "cell_type": "code",
   "execution_count": 12,
   "metadata": {},
   "outputs": [
    {
     "output_type": "stream",
     "name": "stdout",
     "text": [
      "(400, 6)\nCPU times: user 13.8 ms, sys: 4.24 ms, total: 18.1 ms\nWall time: 16.3 ms\n"
     ]
    },
    {
     "output_type": "execute_result",
     "data": {
      "text/plain": [
       "array([['d2b9915dc73e4d333a718f8c02edae5e2a4d94f5',\n",
       "        '5db8a385607a001cae8da5f069e1005f527ae7d6',\n",
       "        '4c1ab193093f7057e6678f8f12f7ac4c05b95680',\n",
       "        'f20391acb21826bb8f38243de772b7f3f8301f83',\n",
       "        '45708a1205fbe53ae5ced9e450e0cedccf96e05a',\n",
       "        '53eb5bd0a88b708c7a2ce601d221bd7483e73da6',\n",
       "        'df4b30491488f5b430c156a69e4829400cbde9dc',\n",
       "        'f513f2d9f3976f02601aa26e5dd46fad70742169',\n",
       "        '8f4062bc086320b9fcf1b5ed873808b903e1b311',\n",
       "        'c7189b28c03c50e63aaa72ec49e9572adc4837e9',\n",
       "        '8d67c7c56c2655867cf665a6af857fb3305c5fe0',\n",
       "        '3123165047af9eb204cf091e3e61141dc16ff194',\n",
       "        '8701c3be87dce3f1d42512a3e8ba3ffaa283b8ea',\n",
       "        '83000082f8f021c6345db980100e8c4e382139d6',\n",
       "        '8b56227a675cbd21eacb7665252ac7af30082171',\n",
       "        'f731c6c3b190c25d1deb595d6c4e29f97c2b194f',\n",
       "        '01f689d3d53c42072e9ee44f5c648f932cf4530a',\n",
       "        '55671b3896338a58e16317c9bb6e491500c53a0d',\n",
       "        '1a515734ca09fb53596e421c9057d12b330bf89a',\n",
       "        'bfe27b3341b5bbabef447aa5124c5ec89ff08e13',\n",
       "        '0661bd6203d72ebf3aae88d78a8d73c510a3222c',\n",
       "        'd6460515bb5b802ef614609d8cbfd9a8312d13f3',\n",
       "        '96c8fd4cfd7b165cb406306a161400ca98e8272b',\n",
       "        'a1dc0100fc20db0338d42a1cb9cbef8214dd1a55',\n",
       "        'f4c5cb0b16c691676826f64f06b61f4f8b8a5b77',\n",
       "        'aa0b3f53dc7f7a0a50d23ee5546b7d8f0f92d73a',\n",
       "        'ce65897e3ef6d7e144c55e4c64c0887e629a3d59',\n",
       "        '5088d4da4c2c6283e989e98d4d838fcf7aa4c751',\n",
       "        '4eda578c44f78e7debc536c965d6947c287b9193',\n",
       "        '8cf84e615f4e51660a8d21284cc106c0d25ac447',\n",
       "        '55e3c1fe6636345f4e9306d39779bb33e2bb1414',\n",
       "        '7863ffefb872523d07d4dac90de43d9fb17af914',\n",
       "        '88b11779cee94c22e28fa547c653de67c316cedb',\n",
       "        '4bc0ecb5129250f23804cb30ac33306e8d64c333',\n",
       "        '075279c87b146b78e89ce57d36bd6956135ae876',\n",
       "        '28251568bb40f650762e8a4d61bc555e3d3d1b9b',\n",
       "        '7cd92a2a12935381378b7ffac90ff36a2a16daa0',\n",
       "        'a52e35e9553ff4c8dabc153223c5ce6ad3a65d53',\n",
       "        '5a5857c83c0ae58845b1371965cbf606353cb6d8',\n",
       "        '2f573716f6996cef339e34b969f89ddb26c865f7',\n",
       "        '66fcfde24ab9f05ff9409fb9b963b4fad3acd1e4',\n",
       "        '1d54814511dfb5aac75bf837b48e8845685959cb',\n",
       "        '1e2103d0a8c72ac50d967f1f79bb1204ec8e64e7',\n",
       "        '653a96997890f46526cfa1932c527f45459cee29',\n",
       "        '47dd0694af93bc8fc98706456761e87377e179c5',\n",
       "        'f513f2d9f3976f02601aa26e5dd46fad70742169',\n",
       "        'd2b9915dc73e4d333a718f8c02edae5e2a4d94f5',\n",
       "        '4c1ab193093f7057e6678f8f12f7ac4c05b95680',\n",
       "        'f20391acb21826bb8f38243de772b7f3f8301f83',\n",
       "        '45708a1205fbe53ae5ced9e450e0cedccf96e05a',\n",
       "        '5db8a385607a001cae8da5f069e1005f527ae7d6',\n",
       "        '53eb5bd0a88b708c7a2ce601d221bd7483e73da6',\n",
       "        '55e3c1fe6636345f4e9306d39779bb33e2bb1414',\n",
       "        '8b56227a675cbd21eacb7665252ac7af30082171',\n",
       "        '8cf84e615f4e51660a8d21284cc106c0d25ac447',\n",
       "        '3123165047af9eb204cf091e3e61141dc16ff194',\n",
       "        '8701c3be87dce3f1d42512a3e8ba3ffaa283b8ea',\n",
       "        'df4b30491488f5b430c156a69e4829400cbde9dc',\n",
       "        '8f4062bc086320b9fcf1b5ed873808b903e1b311',\n",
       "        '83000082f8f021c6345db980100e8c4e382139d6',\n",
       "        'c7189b28c03c50e63aaa72ec49e9572adc4837e9',\n",
       "        'f731c6c3b190c25d1deb595d6c4e29f97c2b194f',\n",
       "        '8d67c7c56c2655867cf665a6af857fb3305c5fe0',\n",
       "        '01f689d3d53c42072e9ee44f5c648f932cf4530a',\n",
       "        '55671b3896338a58e16317c9bb6e491500c53a0d',\n",
       "        'bfe27b3341b5bbabef447aa5124c5ec89ff08e13',\n",
       "        '0661bd6203d72ebf3aae88d78a8d73c510a3222c',\n",
       "        'd6460515bb5b802ef614609d8cbfd9a8312d13f3',\n",
       "        'f4c5cb0b16c691676826f64f06b61f4f8b8a5b77',\n",
       "        'aa0b3f53dc7f7a0a50d23ee5546b7d8f0f92d73a',\n",
       "        'ce65897e3ef6d7e144c55e4c64c0887e629a3d59',\n",
       "        '5088d4da4c2c6283e989e98d4d838fcf7aa4c751',\n",
       "        '4eda578c44f78e7debc536c965d6947c287b9193',\n",
       "        '88b11779cee94c22e28fa547c653de67c316cedb',\n",
       "        '1a515734ca09fb53596e421c9057d12b330bf89a',\n",
       "        '729348200ea6b9e18c18813dcd2cef368a9b0ec6',\n",
       "        '96c8fd4cfd7b165cb406306a161400ca98e8272b',\n",
       "        'a1dc0100fc20db0338d42a1cb9cbef8214dd1a55',\n",
       "        '2f573716f6996cef339e34b969f89ddb26c865f7',\n",
       "        '1d54814511dfb5aac75bf837b48e8845685959cb',\n",
       "        '5a5857c83c0ae58845b1371965cbf606353cb6d8',\n",
       "        '075279c87b146b78e89ce57d36bd6956135ae876',\n",
       "        '7863ffefb872523d07d4dac90de43d9fb17af914',\n",
       "        '942723328e72f13e4fc1e7f2cd7744c24f6b9740',\n",
       "        '04d9b58c80ca204cc564d36d8f0e49c05c94b3cf',\n",
       "        '7cd92a2a12935381378b7ffac90ff36a2a16daa0',\n",
       "        '4bc0ecb5129250f23804cb30ac33306e8d64c333',\n",
       "        'a52e35e9553ff4c8dabc153223c5ce6ad3a65d53',\n",
       "        '28251568bb40f650762e8a4d61bc555e3d3d1b9b',\n",
       "        'eca26128ebdc767ad8a55f33f65201b560a804b2',\n",
       "        '66fcfde24ab9f05ff9409fb9b963b4fad3acd1e4',\n",
       "        '1e2103d0a8c72ac50d967f1f79bb1204ec8e64e7',\n",
       "        '653a96997890f46526cfa1932c527f45459cee29',\n",
       "        '47dd0694af93bc8fc98706456761e87377e179c5',\n",
       "        'f513f2d9f3976f02601aa26e5dd46fad70742169',\n",
       "        'f20391acb21826bb8f38243de772b7f3f8301f83',\n",
       "        '53eb5bd0a88b708c7a2ce601d221bd7483e73da6',\n",
       "        '55e3c1fe6636345f4e9306d39779bb33e2bb1414',\n",
       "        '8b56227a675cbd21eacb7665252ac7af30082171',\n",
       "        '5db8a385607a001cae8da5f069e1005f527ae7d6'],\n",
       "       ['-52', '-53', '-53', '-53', '-54', '-56', '-58', '-59', '-62',\n",
       "        '-64', '-65', '-66', '-66', '-67', '-67', '-70', '-71', '-71',\n",
       "        '-71', '-71', '-71', '-72', '-72', '-72', '-72', '-72', '-73',\n",
       "        '-73', '-73', '-74', '-74', '-74', '-75', '-81', '-82', '-82',\n",
       "        '-84', '-84', '-86', '-87', '-87', '-88', '-89', '-90', '-90',\n",
       "        '-48', '-52', '-53', '-53', '-54', '-55', '-57', '-59', '-63',\n",
       "        '-64', '-65', '-66', '-67', '-67', '-68', '-69', '-70', '-70',\n",
       "        '-71', '-71', '-71', '-71', '-72', '-72', '-72', '-73', '-73',\n",
       "        '-73', '-75', '-78', '-78', '-79', '-79', '-80', '-80', '-80',\n",
       "        '-80', '-80', '-81', '-81', '-84', '-84', '-84', '-85', '-86',\n",
       "        '-87', '-89', '-90', '-90', '-48', '-53', '-57', '-59', '-61',\n",
       "        '-62'],\n",
       "       ['5785', '2437', '5785', '5785', '2437', '2462', '5745', '2462',\n",
       "        '2422', '2462', '2437', '2412', '5745', '2437', '2442', '5785',\n",
       "        '5785', '5785', '5825', '2412', '2437', '5805', '5825', '5825',\n",
       "        '2462', '2412', '5805', '5805', '2412', '2412', '2437', '2437',\n",
       "        '2422', '2412', '5745', '2412', '5180', '2462', '5745', '5745',\n",
       "        '2462', '5745', '5745', '5745', '5745', '2462', '5785', '5785',\n",
       "        '5785', '2437', '2437', '2462', '2437', '2442', '2412', '2412',\n",
       "        '5745', '5745', '2422', '2437', '2462', '5785', '2437', '5785',\n",
       "        '5785', '2412', '2437', '5805', '2462', '2412', '5805', '5805',\n",
       "        '2412', '2422', '5825', '2462', '5825', '5825', '5745', '5745',\n",
       "        '5745', '5745', '2437', '2437', '2437', '5180', '2412', '2462',\n",
       "        '2412', '2412', '2462', '5745', '5745', '5745', '2462', '5785',\n",
       "        '2462', '2437', '2442', '2437'],\n",
       "       ['-12668', '-12668', '-12668', '-12668', '-12668', '-12668',\n",
       "        '-12668', '-12668', '-12668', '-12668', '-12668', '-12668',\n",
       "        '-12668', '-12668', '-12668', '-12668', '-12668', '-12668',\n",
       "        '-12668', '-12668', '-12668', '-12668', '-12668', '-12668',\n",
       "        '-12668', '-12668', '-12668', '-12668', '-12668', '-12668',\n",
       "        '-12668', '-12668', '-12668', '-12668', '-12668', '-12668',\n",
       "        '-12668', '-12668', '-12668', '-12668', '-12668', '-12668',\n",
       "        '-12668', '-12668', '-12668', '-10796', '-10796', '-10796',\n",
       "        '-10796', '-10796', '-10796', '-10796', '-10796', '-10796',\n",
       "        '-10796', '-10796', '-10796', '-10796', '-10796', '-10796',\n",
       "        '-10796', '-10796', '-10796', '-10796', '-10796', '-10796',\n",
       "        '-10796', '-10796', '-10796', '-10796', '-10796', '-10796',\n",
       "        '-10796', '-10796', '-10796', '-10796', '-10796', '-10796',\n",
       "        '-10796', '-10796', '-10796', '-10796', '-10796', '-10796',\n",
       "        '-10796', '-10796', '-10796', '-10796', '-10796', '-10796',\n",
       "        '-10796', '-10796', '-10796', '-10796', '-8919', '-8919',\n",
       "        '-8919', '-8919', '-8919', '-8919'],\n",
       "       ['-13320', '-24406', '-13318', '-13318', '-14195', '-13879',\n",
       "        '-13427', '-13883', '-14373', '-24123', '-24403', '-24721',\n",
       "        '-13404', '-39438', '-14108', '-13313', '-13313', '-13313',\n",
       "        '-13154', '-14503', '-24431', '-13259', '-13154', '-13153',\n",
       "        '-24133', '-14503', '-13259', '-13258', '-14503', '-24718',\n",
       "        '-14163', '-14145', '-14377', '-14457', '-13448', '-24705',\n",
       "        '-13701', '-13849', '-23649', '-23649', '-13856', '-23649',\n",
       "        '-13431', '-13431', '-13431', '-11982', '-13320', '-13318',\n",
       "        '-13318', '-14195', '-12291', '-11970', '-12296', '-12215',\n",
       "        '-12600', '-12583', '-11561', '-11553', '-12482', '-12281',\n",
       "        '-11997', '-13313', '-12279', '-13313', '-13313', '-14503',\n",
       "        '-24431', '-13259', '-24133', '-14503', '-13259', '-13258',\n",
       "        '-14503', '-14377', '-11311', '-11994', '-11311', '-11310',\n",
       "        '-11566', '-11566', '-11566', '-11522', '-12302', '-12302',\n",
       "        '-12301', '-13701', '-12594', '-13850', '-12625', '-12579',\n",
       "        '-13857', '-13432', '-13432', '-13432', '-11983', '-13319',\n",
       "        '-11971', '-10453', '-10366', '-10410']], dtype='<U40')"
      ]
     },
     "metadata": {},
     "execution_count": 12
    }
   ],
   "source": [
    "%%time\n",
    "def get_wifi_from_waypoints(waypoint, max_len=100):\n",
    "    (site, floor, path, timestamp, x, y) = waypoint\n",
    "    path_filepath = pathlib.Path(f\"../data/raw/train/{site}/{floor}/{path}.txt\")\n",
    "    # wifi is (timestamp, ssid, bssid, rssi, frequency, last_seen_timestamp)\n",
    "    wifi = get_data_from_pathtxt(path_filepath, \"TYPE_WIFI\")\n",
    "    print(wifi.shape)\n",
    "\n",
    "    data = np.concatenate(\n",
    "        [\n",
    "            np.tile(\"nan\", (1, 100)).astype(\"<U40\"),  # bssid\n",
    "            np.tile(\"-999\", (1, 100)).astype(\"<U40\"),  # rssi\n",
    "            np.tile(\"-999\", (1, 100)).astype(\"<U40\"),  # frequency\n",
    "            np.tile(\"999\", (1, 100)).astype(\"<U40\"),  # ts_diff\n",
    "            np.tile(\"999\", (1, 100)).astype(\"<U40\"),  # last_seen_ts_diff\n",
    "        ],\n",
    "        axis=0,\n",
    "    )\n",
    "\n",
    "    if len(wifi) > 0:\n",
    "        ts_diff = wifi[:, 0].astype(\"int64\") - timestamp.astype(\"int64\")\n",
    "        last_seen_ts_diff = wifi[:, 5].astype(\"int64\") - timestamp.astype(\"int64\")\n",
    "        # Add ts_diff and last_seen_ts_diff as feature.\n",
    "        wifi = np.concatenate([wifi, ts_diff.reshape(-1, 1)], axis=1)\n",
    "        wifi = np.concatenate([wifi, last_seen_ts_diff.reshape(-1, 1)], axis=1)\n",
    "        # Extract latest values, except feature information.\n",
    "        wifi = wifi[(ts_diff < 0)]\n",
    "        # Extract columns of (bssid, rssi, frequency, ts_diff, last_seen_ts_diff).\n",
    "        wifi = wifi[:, [2, 3, 4, 6, 7]]\n",
    "        end_idx = min(max_len, wifi.T.shape[1])\n",
    "        data[:, :end_idx]  = wifi.T[:, :end_idx]\n",
    "    return data\n",
    "\n",
    "\n",
    "get_wifi_from_waypoints(waypoints[2])"
   ]
  },
  {
   "cell_type": "code",
   "execution_count": 18,
   "metadata": {},
   "outputs": [
    {
     "output_type": "error",
     "ename": "ModuleNotFoundError",
     "evalue": "No module named 'utils'",
     "traceback": [
      "\u001b[0;31m---------------------------------------------------------------------------\u001b[0m",
      "\u001b[0;31mModuleNotFoundError\u001b[0m                       Traceback (most recent call last)",
      "\u001b[0;32m<ipython-input-18-52bbe5e900e8>\u001b[0m in \u001b[0;36m<module>\u001b[0;34m\u001b[0m\n\u001b[0;32m----> 1\u001b[0;31m \u001b[0;32mfrom\u001b[0m \u001b[0mutils\u001b[0m \u001b[0;32mimport\u001b[0m \u001b[0mload_pickle\u001b[0m\u001b[0;34m\u001b[0m\u001b[0;34m\u001b[0m\u001b[0m\n\u001b[0m\u001b[1;32m      2\u001b[0m \u001b[0;34m\u001b[0m\u001b[0m\n\u001b[1;32m      3\u001b[0m def get_test_wifi_from_waypoints(\n\u001b[1;32m      4\u001b[0m     \u001b[0mwaypoint\u001b[0m\u001b[0;34m:\u001b[0m \u001b[0mnp\u001b[0m\u001b[0;34m.\u001b[0m\u001b[0mndarray\u001b[0m\u001b[0;34m,\u001b[0m \u001b[0mmax_len\u001b[0m\u001b[0;34m:\u001b[0m \u001b[0mint\u001b[0m \u001b[0;34m=\u001b[0m \u001b[0;36m100\u001b[0m\u001b[0;34m\u001b[0m\u001b[0;34m\u001b[0m\u001b[0m\n\u001b[1;32m      5\u001b[0m ) -> np.ndarray:\n",
      "\u001b[0;31mModuleNotFoundError\u001b[0m: No module named 'utils'"
     ]
    }
   ],
   "source": [
    "from utils import load_pickle\n",
    "\n",
    "def get_test_wifi_from_waypoints(\n",
    "    waypoint: np.ndarray, max_len: int = 100\n",
    ") -> np.ndarray:\n",
    "    (site, floor, path, timestamp, x, y) = waypoint\n",
    "    path_filepath = pathlib.Path(f\"../data/raw/test/{path}.txt\")\n",
    "    wifi = get_data_from_pathtxt(path_filepath, \"TYPE_WIFI\")\n",
    "\n",
    "    data = np.concatenate(\n",
    "        [\n",
    "            np.tile(\"nan\", (1, 100)).astype(\"<U40\"),  # bssid\n",
    "            np.tile(\"-999\", (1, 100)).astype(\"<U40\"),  # rssi\n",
    "            np.tile(\"-999\", (1, 100)).astype(\"<U40\"),  # frequency\n",
    "            np.tile(\"999\", (1, 100)).astype(\"<U40\"),  # ts_diff\n",
    "            np.tile(\"999\", (1, 100)).astype(\"<U40\"),  # last_seen_ts_diff\n",
    "        ],\n",
    "        axis=0,\n",
    "    )\n",
    "\n",
    "    if len(wifi) > 0:\n",
    "        ts_diff = wifi[:, 0].astype(\"int64\") - int(timestamp)\n",
    "        last_seen_ts_diff = wifi[:, 5].astype(\"int64\") - int(timestamp)\n",
    "        # Add ts_diff and last_seen_ts_diff as feature.\n",
    "        wifi = np.concatenate([wifi, ts_diff.reshape(-1, 1)], axis=1)\n",
    "        wifi = np.concatenate([wifi, last_seen_ts_diff.reshape(-1, 1)], axis=1)\n",
    "        # Extract latest values, except feature information.\n",
    "        wifi = wifi[(ts_diff < 0)]\n",
    "        # Extract columns of (bssid, rssi, frequency, ts_diff, last_seen_ts_diff).\n",
    "        wifi = wifi[:, [2, 3, 4, 6, 7]]\n",
    "        end_idx = min(max_len, wifi.T.shape[1])\n",
    "        data[:, :end_idx] = wifi.T[:, :end_idx]\n",
    "    return data\n",
    "\n",
    "waypoints = load_pickle(\"../data/working/test_waypint.pkl\")"
   ]
  },
  {
   "cell_type": "code",
   "execution_count": null,
   "metadata": {},
   "outputs": [],
   "source": []
  }
 ],
 "metadata": {
  "kernelspec": {
   "name": "pythonjvsc74a57bd0f2ca7a9b7fa3bc968dd99347ec7273d657e1ea5c7f2ccb49296aa32a0fb6eef9",
   "display_name": "Python 3.8.7  ('.venv': venv)"
  },
  "language_info": {
   "codemirror_mode": {
    "name": "ipython",
    "version": 3
   },
   "file_extension": ".py",
   "mimetype": "text/x-python",
   "name": "python",
   "nbconvert_exporter": "python",
   "pygments_lexer": "ipython3",
   "version": "3.8.7"
  },
  "metadata": {
   "interpreter": {
    "hash": "f2ca7a9b7fa3bc968dd99347ec7273d657e1ea5c7f2ccb49296aa32a0fb6eef9"
   }
  }
 },
 "nbformat": 4,
 "nbformat_minor": 5
}