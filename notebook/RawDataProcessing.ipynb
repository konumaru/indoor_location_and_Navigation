{
 "cells": [
  {
   "cell_type": "markdown",
   "id": "dated-reducing",
   "metadata": {},
   "source": [
    "# Raw Data Processing"
   ]
  },
  {
   "cell_type": "code",
   "execution_count": 1,
   "id": "abandoned-belief",
   "metadata": {},
   "outputs": [],
   "source": [
    "import os\n",
    "import glob\n",
    "import joblib\n",
    "import random\n",
    "import pathlib\n",
    "from pathlib import Path\n",
    "from rich.progress import track\n",
    "\n",
    "from typing import List, Dict\n",
    "\n",
    "import numpy as np\n",
    "import pandas as pd"
   ]
  },
  {
   "cell_type": "markdown",
   "id": "annoying-spring",
   "metadata": {},
   "source": [
    "## すべてのwaypointデータを１つのdataframeにまとめる"
   ]
  },
  {
   "cell_type": "code",
   "execution_count": 2,
   "id": "dynamic-briefs",
   "metadata": {},
   "outputs": [],
   "source": [
    "def get_data_from_pathtxt(filepath: pathlib.PosixPath, data_type: str, is_join_ids: bool = False) -> np.ndarray:\n",
    "    with open(filepath) as f:\n",
    "        lines = f.readlines()\n",
    "    \n",
    "    data = []\n",
    "    for line in lines:\n",
    "        tmp = line.strip().split('\\t')\n",
    "        if tmp[1] == data_type:\n",
    "            data.append(tmp)\n",
    "\n",
    "    data = np.array(data)\n",
    "    # Drop data_type column.\n",
    "    if data.shape[0] > 0:\n",
    "        data = np.delete(data, 1, axis=1)\n",
    "    # Concatenate site, floor and path.\n",
    "    if is_join_ids:\n",
    "        site_id = filepath.parent.parent.name\n",
    "        floor_id = filepath.parent.name\n",
    "        path_id = filepath.name.split(\".\")[0]\n",
    "        site_floor_path = np.tile([site_id, floor_id, path_id], (data.shape[0], 1))\n",
    "        data = np.concatenate([site_floor_path, data], axis=1)\n",
    "    return data\n",
    "\n",
    "\n",
    "def get_data_from_type_in_parallel(src_dir: str, data_type: str, is_join_ids: bool = False):\n",
    "    data = joblib.Parallel(n_jobs=-1)(\n",
    "        joblib.delayed(get_data_from_pathtxt)(path_filepath, data_type, is_join_ids)\n",
    "        for site_filepath in src_dir.glob(\"*\")   \n",
    "        for floor_filepath in site_filepath.glob(\"*\")\n",
    "        for path_filepath in floor_filepath.glob(\"*\")\n",
    "    )\n",
    "    data = np.concatenate(data, axis=0)\n",
    "    return data"
   ]
  },
  {
   "cell_type": "code",
   "execution_count": 3,
   "id": "explicit-depth",
   "metadata": {},
   "outputs": [],
   "source": [
    "# %%time\n",
    "\n",
    "# src_dir = Pathth(\"../data/raw/train/\")\n",
    "\n",
    "# waypoints = []\n",
    "# for site_filepath in src_dir.glob(\"*\"):\n",
    "#     for floor_filepath in site_filepath.glob(\"*\"):\n",
    "#         for path_filepath in floor_filepath.glob(\"*\"):\n",
    "#             waypoint = get_data_from_pathtxt(path_filepath, \"TYPE_WAYPOINT\")\n",
    "#             waypoints.append(waypoint)\n",
    "        \n",
    "# np.concatenate(waypoints, axis=0)\n",
    "\n",
    "# # CPU times: user 5min 57s, sys: 37.3 s, total: 6min 35s\n",
    "# # Wall time: 8min 23s"
   ]
  },
  {
   "cell_type": "code",
   "execution_count": 4,
   "id": "careful-planning",
   "metadata": {},
   "outputs": [
    {
     "name": "stdout",
     "output_type": "stream",
     "text": [
      "CPU times: user 5.92 s, sys: 964 ms, total: 6.88 s\n",
      "Wall time: 2min 8s\n"
     ]
    }
   ],
   "source": [
    "%%time\n",
    "\n",
    "src_dir = Path(\"../data/raw/train/\")\n",
    "\n",
    "# Data columns is (site, floor, path. timestamp, x, y).\n",
    "waypoints = get_data_from_type_in_parallel(src_dir, \"TYPE_WAYPOINT\", is_join_ids=True)\n",
    "np.save(\"tmp/train_waypoint.npy\", waypoints)\n",
    "\n",
    "# CPU times: user 2.47 s, sys: 352 ms, total: 2.82 s\n",
    "# Wall time: 30.1 s"
   ]
  },
  {
   "cell_type": "code",
   "execution_count": 5,
   "id": "structural-college",
   "metadata": {},
   "outputs": [
    {
     "data": {
      "text/plain": [
       "array([['5da138764db8ce0c98bcaa46', 'F4', '5dabfad918410e00067e70ba',\n",
       "        '1571551566576', '37.889812', '154.43535'],\n",
       "       ['5da138764db8ce0c98bcaa46', 'F4', '5dabfad918410e00067e70ba',\n",
       "        '1571551573569', '27.694906', '153.9801'],\n",
       "       ['5da138764db8ce0c98bcaa46', 'F4', '5dabfad918410e00067e70ba',\n",
       "        '1571551581118', '16.998966', '153.33621'],\n",
       "       ['5da138764db8ce0c98bcaa46', 'F4', '5dac3de918410e00067e7244',\n",
       "        '1571568619480', '36.867283', '179.88359'],\n",
       "       ['5da138764db8ce0c98bcaa46', 'F4', '5dac3de918410e00067e7244',\n",
       "        '1571568624436', '37.37246', '185.84445']], dtype='<U24')"
      ]
     },
     "execution_count": 5,
     "metadata": {},
     "output_type": "execute_result"
    }
   ],
   "source": [
    "waypoints = np.load(\"tmp/train_waypoint.npy\")\n",
    "waypoints[:5]"
   ]
  },
  {
   "cell_type": "markdown",
   "id": "faced-moldova",
   "metadata": {},
   "source": [
    "## １レコードのwaypointごとにwifiデータの特徴量を生成する"
   ]
  },
  {
   "cell_type": "code",
   "execution_count": 6,
   "id": "accomplished-panel",
   "metadata": {},
   "outputs": [],
   "source": [
    "waypoints = np.load(\"tmp/train_waypoint.npy\")"
   ]
  },
  {
   "cell_type": "code",
   "execution_count": 15,
   "id": "perceived-palestinian",
   "metadata": {},
   "outputs": [
    {
     "data": {
      "text/plain": [
       "array([['nan', 'nan', 'nan', 'nan', 'nan', 'nan', 'nan', 'nan', 'nan',\n",
       "        'nan', 'nan', 'nan', 'nan', 'nan', 'nan', 'nan', 'nan', 'nan',\n",
       "        'nan', 'nan', 'nan', 'nan', 'nan', 'nan', 'nan', 'nan', 'nan',\n",
       "        'nan', 'nan', 'nan', 'nan', 'nan', 'nan', 'nan', 'nan', 'nan',\n",
       "        'nan', 'nan', 'nan', 'nan', 'nan', 'nan', 'nan', 'nan', 'nan',\n",
       "        'nan', 'nan', 'nan', 'nan', 'nan', 'nan', 'nan', 'nan', 'nan',\n",
       "        'nan', 'nan', 'nan', 'nan', 'nan', 'nan', 'nan', 'nan', 'nan',\n",
       "        'nan', 'nan', 'nan', 'nan', 'nan', 'nan', 'nan', 'nan', 'nan',\n",
       "        'nan', 'nan', 'nan', 'nan', 'nan', 'nan', 'nan', 'nan', 'nan',\n",
       "        'nan', 'nan', 'nan', 'nan', 'nan', 'nan', 'nan', 'nan', 'nan',\n",
       "        'nan', 'nan', 'nan', 'nan', 'nan', 'nan', 'nan', 'nan', 'nan',\n",
       "        'nan'],\n",
       "       ['-999', '-999', '-999', '-999', '-999', '-999', '-999', '-999',\n",
       "        '-999', '-999', '-999', '-999', '-999', '-999', '-999', '-999',\n",
       "        '-999', '-999', '-999', '-999', '-999', '-999', '-999', '-999',\n",
       "        '-999', '-999', '-999', '-999', '-999', '-999', '-999', '-999',\n",
       "        '-999', '-999', '-999', '-999', '-999', '-999', '-999', '-999',\n",
       "        '-999', '-999', '-999', '-999', '-999', '-999', '-999', '-999',\n",
       "        '-999', '-999', '-999', '-999', '-999', '-999', '-999', '-999',\n",
       "        '-999', '-999', '-999', '-999', '-999', '-999', '-999', '-999',\n",
       "        '-999', '-999', '-999', '-999', '-999', '-999', '-999', '-999',\n",
       "        '-999', '-999', '-999', '-999', '-999', '-999', '-999', '-999',\n",
       "        '-999', '-999', '-999', '-999', '-999', '-999', '-999', '-999',\n",
       "        '-999', '-999', '-999', '-999', '-999', '-999', '-999', '-999',\n",
       "        '-999', '-999', '-999', '-999'],\n",
       "       ['0', '0', '0', '0', '0', '0', '0', '0', '0', '0', '0', '0', '0',\n",
       "        '0', '0', '0', '0', '0', '0', '0', '0', '0', '0', '0', '0', '0',\n",
       "        '0', '0', '0', '0', '0', '0', '0', '0', '0', '0', '0', '0', '0',\n",
       "        '0', '0', '0', '0', '0', '0', '0', '0', '0', '0', '0', '0', '0',\n",
       "        '0', '0', '0', '0', '0', '0', '0', '0', '0', '0', '0', '0', '0',\n",
       "        '0', '0', '0', '0', '0', '0', '0', '0', '0', '0', '0', '0', '0',\n",
       "        '0', '0', '0', '0', '0', '0', '0', '0', '0', '0', '0', '0', '0',\n",
       "        '0', '0', '0', '0', '0', '0', '0', '0', '0']], dtype='<U40')"
      ]
     },
     "execution_count": 15,
     "metadata": {},
     "output_type": "execute_result"
    }
   ],
   "source": [
    "data = np.concatenate(\n",
    "        [\n",
    "            np.tile(\"nan\", (1, 100)).astype(\"<U40\"),  # bssid\n",
    "            np.tile(\"-999\", (1, 100)).astype(\"<U40\"),  # rssi\n",
    "            np.tile(\"0\", (1, 100)).astype(\"<U40\"),  # frequency\n",
    "        ],\n",
    "        axis=0,\n",
    "    )\n",
    "\n",
    "data"
   ]
  },
  {
   "cell_type": "code",
   "execution_count": 12,
   "id": "reserved-fancy",
   "metadata": {},
   "outputs": [
    {
     "name": "stdout",
     "output_type": "stream",
     "text": [
      "CPU times: user 8.46 ms, sys: 2.01 ms, total: 10.5 ms\n",
      "Wall time: 9 ms\n"
     ]
    },
    {
     "data": {
      "text/plain": [
       "array([['d2b9915dc73e4d333a718f8c02edae5e2a4d94f5',\n",
       "        '5db8a385607a001cae8da5f069e1005f527ae7d6',\n",
       "        '4c1ab193093f7057e6678f8f12f7ac4c05b95680',\n",
       "        'f20391acb21826bb8f38243de772b7f3f8301f83',\n",
       "        '45708a1205fbe53ae5ced9e450e0cedccf96e05a',\n",
       "        '53eb5bd0a88b708c7a2ce601d221bd7483e73da6',\n",
       "        'df4b30491488f5b430c156a69e4829400cbde9dc',\n",
       "        'f513f2d9f3976f02601aa26e5dd46fad70742169',\n",
       "        '8f4062bc086320b9fcf1b5ed873808b903e1b311',\n",
       "        'c7189b28c03c50e63aaa72ec49e9572adc4837e9',\n",
       "        '8d67c7c56c2655867cf665a6af857fb3305c5fe0',\n",
       "        '8701c3be87dce3f1d42512a3e8ba3ffaa283b8ea',\n",
       "        '3123165047af9eb204cf091e3e61141dc16ff194',\n",
       "        '83000082f8f021c6345db980100e8c4e382139d6',\n",
       "        '8b56227a675cbd21eacb7665252ac7af30082171',\n",
       "        'f731c6c3b190c25d1deb595d6c4e29f97c2b194f',\n",
       "        '01f689d3d53c42072e9ee44f5c648f932cf4530a',\n",
       "        '55671b3896338a58e16317c9bb6e491500c53a0d',\n",
       "        '1a515734ca09fb53596e421c9057d12b330bf89a',\n",
       "        'bfe27b3341b5bbabef447aa5124c5ec89ff08e13',\n",
       "        '0661bd6203d72ebf3aae88d78a8d73c510a3222c',\n",
       "        'aa0b3f53dc7f7a0a50d23ee5546b7d8f0f92d73a',\n",
       "        'f4c5cb0b16c691676826f64f06b61f4f8b8a5b77',\n",
       "        '96c8fd4cfd7b165cb406306a161400ca98e8272b',\n",
       "        'd6460515bb5b802ef614609d8cbfd9a8312d13f3',\n",
       "        'a1dc0100fc20db0338d42a1cb9cbef8214dd1a55',\n",
       "        'ce65897e3ef6d7e144c55e4c64c0887e629a3d59',\n",
       "        '5088d4da4c2c6283e989e98d4d838fcf7aa4c751',\n",
       "        '4eda578c44f78e7debc536c965d6947c287b9193',\n",
       "        '8cf84e615f4e51660a8d21284cc106c0d25ac447',\n",
       "        '55e3c1fe6636345f4e9306d39779bb33e2bb1414',\n",
       "        '7863ffefb872523d07d4dac90de43d9fb17af914',\n",
       "        '88b11779cee94c22e28fa547c653de67c316cedb',\n",
       "        '4bc0ecb5129250f23804cb30ac33306e8d64c333',\n",
       "        '28251568bb40f650762e8a4d61bc555e3d3d1b9b',\n",
       "        '075279c87b146b78e89ce57d36bd6956135ae876',\n",
       "        '7cd92a2a12935381378b7ffac90ff36a2a16daa0',\n",
       "        'a52e35e9553ff4c8dabc153223c5ce6ad3a65d53',\n",
       "        '5a5857c83c0ae58845b1371965cbf606353cb6d8',\n",
       "        '2f573716f6996cef339e34b969f89ddb26c865f7',\n",
       "        '66fcfde24ab9f05ff9409fb9b963b4fad3acd1e4',\n",
       "        '1d54814511dfb5aac75bf837b48e8845685959cb',\n",
       "        '1e2103d0a8c72ac50d967f1f79bb1204ec8e64e7',\n",
       "        '653a96997890f46526cfa1932c527f45459cee29',\n",
       "        '47dd0694af93bc8fc98706456761e87377e179c5', 'nan', 'nan', 'nan',\n",
       "        'nan', 'nan', 'nan', 'nan', 'nan', 'nan', 'nan', 'nan', 'nan',\n",
       "        'nan', 'nan', 'nan', 'nan', 'nan', 'nan', 'nan', 'nan', 'nan',\n",
       "        'nan', 'nan', 'nan', 'nan', 'nan', 'nan', 'nan', 'nan', 'nan',\n",
       "        'nan', 'nan', 'nan', 'nan', 'nan', 'nan', 'nan', 'nan', 'nan',\n",
       "        'nan', 'nan', 'nan', 'nan', 'nan', 'nan', 'nan', 'nan', 'nan',\n",
       "        'nan', 'nan', 'nan', 'nan', 'nan', 'nan', 'nan'],\n",
       "       ['-52', '-53', '-53', '-53', '-54', '-56', '-58', '-59', '-62',\n",
       "        '-64', '-65', '-66', '-66', '-67', '-67', '-70', '-71', '-71',\n",
       "        '-71', '-71', '-71', '-72', '-72', '-72', '-72', '-72', '-73',\n",
       "        '-73', '-73', '-74', '-74', '-74', '-75', '-81', '-82', '-82',\n",
       "        '-84', '-84', '-86', '-87', '-87', '-88', '-89', '-90', '-90',\n",
       "        'nan', 'nan', 'nan', 'nan', 'nan', 'nan', 'nan', 'nan', 'nan',\n",
       "        'nan', 'nan', 'nan', 'nan', 'nan', 'nan', 'nan', 'nan', 'nan',\n",
       "        'nan', 'nan', 'nan', 'nan', 'nan', 'nan', 'nan', 'nan', 'nan',\n",
       "        'nan', 'nan', 'nan', 'nan', 'nan', 'nan', 'nan', 'nan', 'nan',\n",
       "        'nan', 'nan', 'nan', 'nan', 'nan', 'nan', 'nan', 'nan', 'nan',\n",
       "        'nan', 'nan', 'nan', 'nan', 'nan', 'nan', 'nan', 'nan', 'nan',\n",
       "        'nan'],\n",
       "       ['5785', '2437', '5785', '5785', '2437', '2462', '5745', '2462',\n",
       "        '2422', '2462', '2437', '5745', '2412', '2437', '2442', '5785',\n",
       "        '5785', '5785', '5825', '2412', '2437', '2412', '2462', '5825',\n",
       "        '5805', '5825', '5805', '5805', '2412', '2412', '2437', '2437',\n",
       "        '2422', '2412', '2412', '5745', '5180', '2462', '5745', '5745',\n",
       "        '2462', '5745', '5745', '5745', '5745', 'nan', 'nan', 'nan',\n",
       "        'nan', 'nan', 'nan', 'nan', 'nan', 'nan', 'nan', 'nan', 'nan',\n",
       "        'nan', 'nan', 'nan', 'nan', 'nan', 'nan', 'nan', 'nan', 'nan',\n",
       "        'nan', 'nan', 'nan', 'nan', 'nan', 'nan', 'nan', 'nan', 'nan',\n",
       "        'nan', 'nan', 'nan', 'nan', 'nan', 'nan', 'nan', 'nan', 'nan',\n",
       "        'nan', 'nan', 'nan', 'nan', 'nan', 'nan', 'nan', 'nan', 'nan',\n",
       "        'nan', 'nan', 'nan', 'nan', 'nan', 'nan', 'nan']], dtype='<U40')"
      ]
     },
     "execution_count": 12,
     "metadata": {},
     "output_type": "execute_result"
    }
   ],
   "source": [
    "%%time\n",
    "\n",
    "from tqdm.notebook import tqdm\n",
    "\n",
    "max_len = 100\n",
    "\n",
    "waypoint = waypoints[0]\n",
    "\n",
    "(site, floor, path, timestamp, x, y) = waypoint\n",
    "path_filepath = Path(f\"../data/raw/train/{site}/{floor}/{path}.txt\")\n",
    "wifi = get_data_from_pathtxt(path_filepath, \"TYPE_WIFI\")\n",
    "\n",
    "extract_idx = [2, 3, 4]\n",
    "data = np.concatenate(\n",
    "        [\n",
    "            np.tile(\"nan\", (1, 100)).astype(\"<U40\"),  # bssid\n",
    "            np.tile(\"-999\", (1, 100)).astype(\"<U40\"),  # rssi\n",
    "            np.tile(\"0\", (1, 100)).astype(\"<U40\"),  # frequency\n",
    "        ],\n",
    "        axis=0,\n",
    "    )\n",
    "\n",
    "if len(wifi) > 0:\n",
    "    ts_diff = wifi[:, 0].astype('int64') - timestamp.astype('int64')\n",
    "    ts_diff_min =  np.abs(np.min(ts_diff))\n",
    "    # Extract latest values, except feature information.\n",
    "    wifi = wifi[(ts_diff <= ts_diff_min)]\n",
    "    # Extract columns of (bssid, rssi, frequency).a\n",
    "    wifi = wifi[:, extract_idx]\n",
    "    # Sort values by rssi.\n",
    "    sort_idx = np.argsort(wifi[:, 1])\n",
    "    wifi = wifi[sort_idx]\n",
    "\n",
    "    data = np.full((len(extract_idx), max_len), np.nan, dtype='<U40')\n",
    "    data[:, :wifi.T.shape[1]] = wifi.T[:, :max_len]\n",
    "\n",
    "data"
   ]
  },
  {
   "cell_type": "code",
   "execution_count": 7,
   "id": "chemical-prayer",
   "metadata": {},
   "outputs": [
    {
     "data": {
      "application/vnd.jupyter.widget-view+json": {
       "model_id": "ca12707e56a64e218a6d9006b41e26c3",
       "version_major": 2,
       "version_minor": 0
      },
      "text/plain": [
       "  0%|          | 0/300 [00:00<?, ?it/s]"
      ]
     },
     "metadata": {},
     "output_type": "display_data"
    },
    {
     "name": "stdout",
     "output_type": "stream",
     "text": [
      "CPU times: user 5.49 s, sys: 474 ms, total: 5.96 s\n",
      "Wall time: 6.12 s\n"
     ]
    }
   ],
   "source": [
    "%%time\n",
    "\n",
    "from tqdm.notebook import tqdm\n",
    "\n",
    "max_len = 100\n",
    "wifi_features = []\n",
    "\n",
    "for waypoint in tqdm(waypoints[:300]):\n",
    "    (site, floor, path, timestamp, x, y) = waypoint\n",
    "    path_filepath = Path(f\"../data/raw/train/{site}/{floor}/{path}.txt\")\n",
    "    wifi = get_data_from_pathtxt(path_filepath, \"TYPE_WIFI\")\n",
    "    \n",
    "    extract_idx = [2, 3, 4]\n",
    "    data = np.full((len(extract_idx), max_len), np.nan, dtype='<U40')\n",
    "    \n",
    "    if len(wifi) > 0:\n",
    "        ts_diff = wifi[:, 0].astype('int64') - timestamp.astype('int64')\n",
    "        ts_diff_min =  np.abs(np.min(ts_diff))\n",
    "        # Extract latest values, except feature information.\n",
    "        wifi = wifi[(ts_diff <= ts_diff_min)]\n",
    "        # Extract columns of (bssid, rssi, frequency).\n",
    "        wifi = wifi[:, extract_idx]\n",
    "        # Sort values by rssi.\n",
    "        sort_idx = np.argsort(wifi[:, 1])\n",
    "        wifi = wifi[sort_idx]\n",
    "        \n",
    "        data = np.full((len(extract_idx), max_len), np.nan, dtype='<U40')\n",
    "        data[:, :wifi.T.shape[1]] = wifi.T[:, :max_len]\n",
    "    \n",
    "    wifi_features.append(data)"
   ]
  },
  {
   "cell_type": "code",
   "execution_count": 8,
   "id": "collected-complexity",
   "metadata": {},
   "outputs": [
    {
     "data": {
      "application/vnd.jupyter.widget-view+json": {
       "model_id": "955d271029174edaa7c1d7f613d83189",
       "version_major": 2,
       "version_minor": 0
      },
      "text/plain": [
       "  0%|          | 0/166683 [00:00<?, ?it/s]"
      ]
     },
     "metadata": {},
     "output_type": "display_data"
    },
    {
     "ename": "KeyboardInterrupt",
     "evalue": "",
     "output_type": "error",
     "traceback": [
      "\u001b[0;31m---------------------------------------------------------------------------\u001b[0m",
      "\u001b[0;31mKeyboardInterrupt\u001b[0m                         Traceback (most recent call last)",
      "\u001b[0;32m<timed exec>\u001b[0m in \u001b[0;36m<module>\u001b[0;34m\u001b[0m\n",
      "\u001b[0;32m<timed exec>\u001b[0m in \u001b[0;36mget_wifi_from_waypoints_in_parallel\u001b[0;34m(waypoints)\u001b[0m\n",
      "\u001b[0;32m~/Documents/repositories/indoor_location_and_Navigation/.venv/lib/python3.8/site-packages/joblib/parallel.py\u001b[0m in \u001b[0;36m__call__\u001b[0;34m(self, iterable)\u001b[0m\n\u001b[1;32m   1052\u001b[0m \u001b[0;34m\u001b[0m\u001b[0m\n\u001b[1;32m   1053\u001b[0m             \u001b[0;32mwith\u001b[0m \u001b[0mself\u001b[0m\u001b[0;34m.\u001b[0m\u001b[0m_backend\u001b[0m\u001b[0;34m.\u001b[0m\u001b[0mretrieval_context\u001b[0m\u001b[0;34m(\u001b[0m\u001b[0;34m)\u001b[0m\u001b[0;34m:\u001b[0m\u001b[0;34m\u001b[0m\u001b[0;34m\u001b[0m\u001b[0m\n\u001b[0;32m-> 1054\u001b[0;31m                 \u001b[0mself\u001b[0m\u001b[0;34m.\u001b[0m\u001b[0mretrieve\u001b[0m\u001b[0;34m(\u001b[0m\u001b[0;34m)\u001b[0m\u001b[0;34m\u001b[0m\u001b[0;34m\u001b[0m\u001b[0m\n\u001b[0m\u001b[1;32m   1055\u001b[0m             \u001b[0;31m# Make sure that we get a last message telling us we are done\u001b[0m\u001b[0;34m\u001b[0m\u001b[0;34m\u001b[0m\u001b[0;34m\u001b[0m\u001b[0m\n\u001b[1;32m   1056\u001b[0m             \u001b[0melapsed_time\u001b[0m \u001b[0;34m=\u001b[0m \u001b[0mtime\u001b[0m\u001b[0;34m.\u001b[0m\u001b[0mtime\u001b[0m\u001b[0;34m(\u001b[0m\u001b[0;34m)\u001b[0m \u001b[0;34m-\u001b[0m \u001b[0mself\u001b[0m\u001b[0;34m.\u001b[0m\u001b[0m_start_time\u001b[0m\u001b[0;34m\u001b[0m\u001b[0;34m\u001b[0m\u001b[0m\n",
      "\u001b[0;32m~/Documents/repositories/indoor_location_and_Navigation/.venv/lib/python3.8/site-packages/joblib/parallel.py\u001b[0m in \u001b[0;36mretrieve\u001b[0;34m(self)\u001b[0m\n\u001b[1;32m    931\u001b[0m             \u001b[0;32mtry\u001b[0m\u001b[0;34m:\u001b[0m\u001b[0;34m\u001b[0m\u001b[0;34m\u001b[0m\u001b[0m\n\u001b[1;32m    932\u001b[0m                 \u001b[0;32mif\u001b[0m \u001b[0mgetattr\u001b[0m\u001b[0;34m(\u001b[0m\u001b[0mself\u001b[0m\u001b[0;34m.\u001b[0m\u001b[0m_backend\u001b[0m\u001b[0;34m,\u001b[0m \u001b[0;34m'supports_timeout'\u001b[0m\u001b[0;34m,\u001b[0m \u001b[0;32mFalse\u001b[0m\u001b[0;34m)\u001b[0m\u001b[0;34m:\u001b[0m\u001b[0;34m\u001b[0m\u001b[0;34m\u001b[0m\u001b[0m\n\u001b[0;32m--> 933\u001b[0;31m                     \u001b[0mself\u001b[0m\u001b[0;34m.\u001b[0m\u001b[0m_output\u001b[0m\u001b[0;34m.\u001b[0m\u001b[0mextend\u001b[0m\u001b[0;34m(\u001b[0m\u001b[0mjob\u001b[0m\u001b[0;34m.\u001b[0m\u001b[0mget\u001b[0m\u001b[0;34m(\u001b[0m\u001b[0mtimeout\u001b[0m\u001b[0;34m=\u001b[0m\u001b[0mself\u001b[0m\u001b[0;34m.\u001b[0m\u001b[0mtimeout\u001b[0m\u001b[0;34m)\u001b[0m\u001b[0;34m)\u001b[0m\u001b[0;34m\u001b[0m\u001b[0;34m\u001b[0m\u001b[0m\n\u001b[0m\u001b[1;32m    934\u001b[0m                 \u001b[0;32melse\u001b[0m\u001b[0;34m:\u001b[0m\u001b[0;34m\u001b[0m\u001b[0;34m\u001b[0m\u001b[0m\n\u001b[1;32m    935\u001b[0m                     \u001b[0mself\u001b[0m\u001b[0;34m.\u001b[0m\u001b[0m_output\u001b[0m\u001b[0;34m.\u001b[0m\u001b[0mextend\u001b[0m\u001b[0;34m(\u001b[0m\u001b[0mjob\u001b[0m\u001b[0;34m.\u001b[0m\u001b[0mget\u001b[0m\u001b[0;34m(\u001b[0m\u001b[0;34m)\u001b[0m\u001b[0;34m)\u001b[0m\u001b[0;34m\u001b[0m\u001b[0;34m\u001b[0m\u001b[0m\n",
      "\u001b[0;32m~/Documents/repositories/indoor_location_and_Navigation/.venv/lib/python3.8/site-packages/joblib/_parallel_backends.py\u001b[0m in \u001b[0;36mwrap_future_result\u001b[0;34m(future, timeout)\u001b[0m\n\u001b[1;32m    540\u001b[0m         AsyncResults.get from multiprocessing.\"\"\"\n\u001b[1;32m    541\u001b[0m         \u001b[0;32mtry\u001b[0m\u001b[0;34m:\u001b[0m\u001b[0;34m\u001b[0m\u001b[0;34m\u001b[0m\u001b[0m\n\u001b[0;32m--> 542\u001b[0;31m             \u001b[0;32mreturn\u001b[0m \u001b[0mfuture\u001b[0m\u001b[0;34m.\u001b[0m\u001b[0mresult\u001b[0m\u001b[0;34m(\u001b[0m\u001b[0mtimeout\u001b[0m\u001b[0;34m=\u001b[0m\u001b[0mtimeout\u001b[0m\u001b[0;34m)\u001b[0m\u001b[0;34m\u001b[0m\u001b[0;34m\u001b[0m\u001b[0m\n\u001b[0m\u001b[1;32m    543\u001b[0m         \u001b[0;32mexcept\u001b[0m \u001b[0mCfTimeoutError\u001b[0m \u001b[0;32mas\u001b[0m \u001b[0me\u001b[0m\u001b[0;34m:\u001b[0m\u001b[0;34m\u001b[0m\u001b[0;34m\u001b[0m\u001b[0m\n\u001b[1;32m    544\u001b[0m             \u001b[0;32mraise\u001b[0m \u001b[0mTimeoutError\u001b[0m \u001b[0;32mfrom\u001b[0m \u001b[0me\u001b[0m\u001b[0;34m\u001b[0m\u001b[0;34m\u001b[0m\u001b[0m\n",
      "\u001b[0;32m~/.pyenv/versions/3.8.7/lib/python3.8/concurrent/futures/_base.py\u001b[0m in \u001b[0;36mresult\u001b[0;34m(self, timeout)\u001b[0m\n\u001b[1;32m    432\u001b[0m                 \u001b[0;32mreturn\u001b[0m \u001b[0mself\u001b[0m\u001b[0;34m.\u001b[0m\u001b[0m__get_result\u001b[0m\u001b[0;34m(\u001b[0m\u001b[0;34m)\u001b[0m\u001b[0;34m\u001b[0m\u001b[0;34m\u001b[0m\u001b[0m\n\u001b[1;32m    433\u001b[0m \u001b[0;34m\u001b[0m\u001b[0m\n\u001b[0;32m--> 434\u001b[0;31m             \u001b[0mself\u001b[0m\u001b[0;34m.\u001b[0m\u001b[0m_condition\u001b[0m\u001b[0;34m.\u001b[0m\u001b[0mwait\u001b[0m\u001b[0;34m(\u001b[0m\u001b[0mtimeout\u001b[0m\u001b[0;34m)\u001b[0m\u001b[0;34m\u001b[0m\u001b[0;34m\u001b[0m\u001b[0m\n\u001b[0m\u001b[1;32m    435\u001b[0m \u001b[0;34m\u001b[0m\u001b[0m\n\u001b[1;32m    436\u001b[0m             \u001b[0;32mif\u001b[0m \u001b[0mself\u001b[0m\u001b[0;34m.\u001b[0m\u001b[0m_state\u001b[0m \u001b[0;32min\u001b[0m \u001b[0;34m[\u001b[0m\u001b[0mCANCELLED\u001b[0m\u001b[0;34m,\u001b[0m \u001b[0mCANCELLED_AND_NOTIFIED\u001b[0m\u001b[0;34m]\u001b[0m\u001b[0;34m:\u001b[0m\u001b[0;34m\u001b[0m\u001b[0;34m\u001b[0m\u001b[0m\n",
      "\u001b[0;32m~/.pyenv/versions/3.8.7/lib/python3.8/threading.py\u001b[0m in \u001b[0;36mwait\u001b[0;34m(self, timeout)\u001b[0m\n\u001b[1;32m    300\u001b[0m         \u001b[0;32mtry\u001b[0m\u001b[0;34m:\u001b[0m    \u001b[0;31m# restore state no matter what (e.g., KeyboardInterrupt)\u001b[0m\u001b[0;34m\u001b[0m\u001b[0;34m\u001b[0m\u001b[0m\n\u001b[1;32m    301\u001b[0m             \u001b[0;32mif\u001b[0m \u001b[0mtimeout\u001b[0m \u001b[0;32mis\u001b[0m \u001b[0;32mNone\u001b[0m\u001b[0;34m:\u001b[0m\u001b[0;34m\u001b[0m\u001b[0;34m\u001b[0m\u001b[0m\n\u001b[0;32m--> 302\u001b[0;31m                 \u001b[0mwaiter\u001b[0m\u001b[0;34m.\u001b[0m\u001b[0macquire\u001b[0m\u001b[0;34m(\u001b[0m\u001b[0;34m)\u001b[0m\u001b[0;34m\u001b[0m\u001b[0;34m\u001b[0m\u001b[0m\n\u001b[0m\u001b[1;32m    303\u001b[0m                 \u001b[0mgotit\u001b[0m \u001b[0;34m=\u001b[0m \u001b[0;32mTrue\u001b[0m\u001b[0;34m\u001b[0m\u001b[0;34m\u001b[0m\u001b[0m\n\u001b[1;32m    304\u001b[0m             \u001b[0;32melse\u001b[0m\u001b[0;34m:\u001b[0m\u001b[0;34m\u001b[0m\u001b[0;34m\u001b[0m\u001b[0m\n",
      "\u001b[0;31mKeyboardInterrupt\u001b[0m: "
     ]
    }
   ],
   "source": [
    "%%time\n",
    "\n",
    "max_len = 100\n",
    "\n",
    "\n",
    "def get_wifi_from_waypoints(waypoint):\n",
    "    (site, floor, path, timestamp, x, y) = waypoint\n",
    "    path_filepath = Path(f\"../data/raw/train/{site}/{floor}/{path}.txt\")\n",
    "    wifi = get_data_from_pathtxt(path_filepath, \"TYPE_WIFI\")\n",
    "    \n",
    "    extract_idx = [2, 3, 4]\n",
    "    data = np.full((len(extract_idx), max_len), np.nan, dtype='<U40')\n",
    "    \n",
    "    if len(wifi) > 0:\n",
    "        ts_diff = wifi[:, 0].astype('int64') - timestamp.astype('int64')\n",
    "        ts_diff_min =  np.abs(np.min(ts_diff))\n",
    "        # Extract latest values, except feature information.\n",
    "        wifi = wifi[(ts_diff <= ts_diff_min)]\n",
    "        # Extract columns of (bssid, rssi, frequency).\n",
    "        wifi = wifi[:, extract_idx]\n",
    "        # Sort values by rssi.\n",
    "        sort_idx = np.argsort(wifi[:, 1])\n",
    "        wifi = wifi[sort_idx]\n",
    "        \n",
    "        data = np.full((len(extract_idx), max_len), np.nan, dtype='<U40')\n",
    "        data[:, :wifi.T.shape[1]] = wifi.T[:, :max_len]\n",
    "    return data\n",
    "\n",
    "def get_wifi_from_waypoints_in_parallel(waypoints: np.ndarray) -> np.ndarray:\n",
    "    data = joblib.Parallel(n_jobs=-1)(\n",
    "        joblib.delayed(get_wifi_from_waypoints)(waypoint) for waypoint in tqdm(waypoints)\n",
    "    )\n",
    "    data = np.array(data)\n",
    "    return data\n",
    "\n",
    "\n",
    "wifi_features = get_wifi_from_waypoints_in_parallel(waypoints)"
   ]
  },
  {
   "cell_type": "code",
   "execution_count": 9,
   "id": "blind-momentum",
   "metadata": {},
   "outputs": [],
   "source": [
    "np.save(\"tmp/train_wifi_features.npy\", wifi_features)"
   ]
  },
  {
   "cell_type": "markdown",
   "id": "heated-acrobat",
   "metadata": {},
   "source": [
    "### todo\n",
    "\n",
    "- test data でも同様の処理を行う\n",
    "- wifiデータにおける全bssidを取得して、label_encode用のマップを用意する\n",
    "- bssid map を使ってwifiデータのlabel_encodeを行う"
   ]
  },
  {
   "cell_type": "code",
   "execution_count": 73,
   "id": "surrounded-depression",
   "metadata": {},
   "outputs": [],
   "source": [
    "test_waypoint = pd.read_csv(\"../data/raw/sample_submission.csv\")\n",
    "test_waypoint[['site', 'path', 'timestamp']] = test_waypoint['site_path_timestamp'].str.split('_', expand=True)\n",
    "\n",
    "test_waypoint.drop(['site_path_timestamp'], axis=1, inplace=True)\n",
    "\n",
    "test_waypoint = test_waypoint[['site', 'floor', 'path', 'timestamp', 'x', 'y']]\n",
    "test_waypoint = test_waypoint.astype(str)"
   ]
  },
  {
   "cell_type": "code",
   "execution_count": 102,
   "id": "specialized-chemistry",
   "metadata": {},
   "outputs": [
    {
     "data": {
      "application/vnd.jupyter.widget-view+json": {
       "model_id": "d4cc6f3b2ccf4366b7d652c1ee4368f5",
       "version_major": 2,
       "version_minor": 0
      },
      "text/plain": [
       "Output()"
      ]
     },
     "metadata": {},
     "output_type": "display_data"
    },
    {
     "name": "stdout",
     "output_type": "stream",
     "text": [
      "CPU times: user 47.1 s, sys: 7.54 s, total: 54.7 s\n",
      "Wall time: 5min 31s\n"
     ]
    }
   ],
   "source": [
    "%%time\n",
    "\n",
    "max_len = 100\n",
    "\n",
    "def get_test_wifi_from_waypoints(waypoint):\n",
    "    (site, floor, path, timestamp, x, y) = waypoint\n",
    "    path_filepath = Path(f\"../data/raw/test/{path}.txt\")\n",
    "    wifi = get_data_from_pathtxt(path_filepath, \"TYPE_WIFI\")\n",
    "    \n",
    "    extract_idx = [2, 3, 4]\n",
    "    data = np.full((len(extract_idx), max_len), np.nan, dtype='<U40')\n",
    "    \n",
    "    if len(wifi) > 0:\n",
    "        ts_diff = wifi[:, 0].astype('int64') - int(timestamp)\n",
    "        ts_diff_min =  np.abs(np.min(ts_diff))\n",
    "        # Extract latest values, except feature information.\n",
    "        wifi = wifi[(ts_diff <= ts_diff_min)]\n",
    "        # Extract columns of (bssid, rssi, frequency).\n",
    "        wifi = wifi[:, extract_idx]\n",
    "        # Sort values by rssi.\n",
    "        sort_idx = np.argsort(wifi[:, 1])\n",
    "        wifi = wifi[sort_idx]\n",
    "        \n",
    "        data = np.full((len(extract_idx), max_len), np.nan, dtype='<U40')\n",
    "        data[:, :wifi.T.shape[1]] = wifi.T[:, :max_len]\n",
    "    return data\n",
    "\n",
    "def get_test_wifi_from_waypoints_in_parallel(waypoints: np.ndarray) -> np.ndarray:\n",
    "    data = joblib.Parallel(n_jobs=-1)(\n",
    "        joblib.delayed(get_test_wifi_from_waypoints)(waypoint) for waypoint in track(test_waypoint.to_numpy())\n",
    "    )\n",
    "    data = np.array(data)\n",
    "    return data\n",
    "\n",
    "\n",
    "temp = test_waypoint.to_numpy()\n",
    "test_wifi_features = get_test_wifi_from_waypoints_in_parallel(temp)"
   ]
  },
  {
   "cell_type": "code",
   "execution_count": 103,
   "id": "objective-bridge",
   "metadata": {},
   "outputs": [
    {
     "data": {
      "text/plain": [
       "array([[['eebf5db207eec2f3e041f92153d789270f346821',\n",
       "         '7805f319f3f591986effe78c5b41143180278f2d',\n",
       "         '323607d8444900d64151ee06d164738ac727bbce', ...,\n",
       "         '7ce07b16d0e006d8959ea36e0415168fac0009f8',\n",
       "         'a3f167647e4406d59ebf92e99172ae25d3a27240',\n",
       "         'fe3461438b7a21c85a42ffd76030ece52e11dd7d'],\n",
       "        ['-45', '-46', '-46', ..., '-61', '-61', '-61'],\n",
       "        ['2432', '5280', '2417', ..., '2462', '5745', '2437']],\n",
       "\n",
       "       [['13b7aeaf441f2161481481fe67eace721cff07ab',\n",
       "         'b4dbb0b30caa1d0f21b7b4185ba061556cada67a',\n",
       "         'c48db7f3ed1858bb4fc191230e3d79d5eb178604', ...,\n",
       "         '9f6570acae53f6cdb4e7713fb24e3085c228dffa',\n",
       "         '8eb7c9848aa1e78b0da3b6f9f4f730885b0cd4f0',\n",
       "         'c55c9a0ed49b5fd4be47a865f70945690139cd8e'],\n",
       "        ['-41', '-41', '-41', ..., '-49', '-49', '-49'],\n",
       "        ['5745', '5745', '5745', ..., '2432', '5785', '5785']],\n",
       "\n",
       "       [['6bc91b3951089c3a225396608b138ca178479924',\n",
       "         'b26914599f6d9ba16b43975394e1eeb9d82f4bab',\n",
       "         'b4dbb0b30caa1d0f21b7b4185ba061556cada67a', ...,\n",
       "         '3cb3287fb23c5c169edda5ec41a67ce2cdb61129',\n",
       "         'b2546cae6e588d38618eacc557dd0385812197cf',\n",
       "         '68127b819a86c95b0847a170ce53a91702f67969'],\n",
       "        ['-41', '-41', '-41', ..., '-46', '-46', '-46'],\n",
       "        ['5280', '5280', '5745', ..., '2432', '5280', '2432']],\n",
       "\n",
       "       ...,\n",
       "\n",
       "       [['3df5a390b1357c32f1c24fdef1c00848ecfdb966',\n",
       "         '3df5a390b1357c32f1c24fdef1c00848ecfdb966',\n",
       "         '6e1befd47ba1b28b0e80d52fd926bcc56910116e', ...,\n",
       "         '5776267481344c788cda369eeccee0672bf55930',\n",
       "         '6c63e704ac41957efd2b0216959ad5f61604433a',\n",
       "         'a3a775d6fac3ee115b82a5e7bd443676e1270a4b'],\n",
       "        ['-38', '-41', '-41', ..., '-51', '-51', '-51'],\n",
       "        ['2447', '2447', '5260', ..., '5320', '2437', '2437']],\n",
       "\n",
       "       [['3df5a390b1357c32f1c24fdef1c00848ecfdb966',\n",
       "         '3df5a390b1357c32f1c24fdef1c00848ecfdb966',\n",
       "         '6e1befd47ba1b28b0e80d52fd926bcc56910116e', ...,\n",
       "         '5776267481344c788cda369eeccee0672bf55930',\n",
       "         '6c63e704ac41957efd2b0216959ad5f61604433a',\n",
       "         'a3a775d6fac3ee115b82a5e7bd443676e1270a4b'],\n",
       "        ['-38', '-41', '-41', ..., '-51', '-51', '-51'],\n",
       "        ['2447', '2447', '5260', ..., '5320', '2437', '2437']],\n",
       "\n",
       "       [['3df5a390b1357c32f1c24fdef1c00848ecfdb966',\n",
       "         '3df5a390b1357c32f1c24fdef1c00848ecfdb966',\n",
       "         '6e1befd47ba1b28b0e80d52fd926bcc56910116e', ...,\n",
       "         '5776267481344c788cda369eeccee0672bf55930',\n",
       "         '6c63e704ac41957efd2b0216959ad5f61604433a',\n",
       "         'a3a775d6fac3ee115b82a5e7bd443676e1270a4b'],\n",
       "        ['-38', '-41', '-41', ..., '-51', '-51', '-51'],\n",
       "        ['2447', '2447', '5260', ..., '5320', '2437', '2437']]],\n",
       "      dtype='<U40')"
      ]
     },
     "execution_count": 103,
     "metadata": {},
     "output_type": "execute_result"
    }
   ],
   "source": [
    "test_wifi_features"
   ]
  }
 ],
 "metadata": {
  "kernelspec": {
   "display_name": "Python 3",
   "language": "python",
   "name": "python3"
  },
  "language_info": {
   "codemirror_mode": {
    "name": "ipython",
    "version": 3
   },
   "file_extension": ".py",
   "mimetype": "text/x-python",
   "name": "python",
   "nbconvert_exporter": "python",
   "pygments_lexer": "ipython3",
   "version": "3.8.7"
  }
 },
 "nbformat": 4,
 "nbformat_minor": 5
}
