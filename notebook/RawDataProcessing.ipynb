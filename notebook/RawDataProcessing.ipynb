{
 "cells": [
  {
   "cell_type": "markdown",
   "id": "adverse-microwave",
   "metadata": {},
   "source": [
    "# Raw Data Processing"
   ]
  },
  {
   "cell_type": "code",
   "execution_count": 1,
   "id": "appropriate-humanitarian",
   "metadata": {},
   "outputs": [],
   "source": [
    "import os\n",
    "import glob\n",
    "import pathlib\n",
    "import numpy as np\n",
    "import pandas as pd\n",
    "from numba import jit\n",
    "import joblib\n",
    "from joblib import Parallel, delayed\n",
    "from rich.progress import track\n",
    "\n",
    "from typing import Dict, List\n",
    "\n",
    "import sys\n",
    "sys.path.append(\"../src\")\n",
    "\n",
    "import config\n",
    "\n",
    "from utils.common import timer\n",
    "from utils.common import load_pickle, dump_pickle, save_cache\n",
    "from utils.feature import FeatureStore\n",
    "\n",
    "\n",
    "import matplotlib.pyplot as plt\n",
    "%matplotlib inline"
   ]
  },
  {
   "cell_type": "markdown",
   "id": "trained-hypothesis",
   "metadata": {},
   "source": [
    "## Extract data each data_type from txt file"
   ]
  },
  {
   "cell_type": "code",
   "execution_count": 2,
   "id": "taken-ranking",
   "metadata": {},
   "outputs": [],
   "source": [
    "src_dir = pathlib.Path(\"../data/raw/train/\")\n",
    "filepaths = [\n",
    "    path_filepath \n",
    "    for site_filepath in src_dir.glob(\"*\") \n",
    "    for floor_filepath in site_filepath.glob(\"*\") \n",
    "    for path_filepath in floor_filepath.glob(\"*\")\n",
    "]"
   ]
  },
  {
   "cell_type": "code",
   "execution_count": 3,
   "id": "golden-discrimination",
   "metadata": {},
   "outputs": [],
   "source": [
    "filepath = filepaths[100]\n",
    "\n",
    "site_id = filepath.parent.parent.name\n",
    "floor = filepath.parent.name\n",
    "path_id = filepath.name.split(\".\")[0]\n",
    "\n",
    "feature = FeatureStore(\n",
    "    site_id=site_id, \n",
    "    floor=floor, \n",
    "    path_id=path_id, \n",
    "    input_path=\"../data/raw/\"\n",
    ")\n",
    "feature.load_all_data()"
   ]
  },
  {
   "cell_type": "code",
   "execution_count": 4,
   "id": "polyphonic-classics",
   "metadata": {},
   "outputs": [],
   "source": [
    "feature.save()"
   ]
  },
  {
   "cell_type": "code",
   "execution_count": 5,
   "id": "wired-equipment",
   "metadata": {},
   "outputs": [
    {
     "data": {
      "text/plain": [
       "['draw_polygon',\n",
       " 'features',\n",
       " 'floor',\n",
       " 'floor_coordinates',\n",
       " 'get_site_info',\n",
       " 'input_path',\n",
       " 'map_type',\n",
       " 'show_site_image',\n",
       " 'site_height',\n",
       " 'site_id',\n",
       " 'site_width',\n",
       " 'store_coordinates']"
      ]
     },
     "execution_count": 5,
     "metadata": {},
     "output_type": "execute_result"
    }
   ],
   "source": [
    "# attributes of site info\n",
    "[c for c in dir(feature.site_info) if c[0]!=\"_\"]"
   ]
  },
  {
   "cell_type": "code",
   "execution_count": 6,
   "id": "moral-fairy",
   "metadata": {},
   "outputs": [
    {
     "data": {
      "text/plain": [
       "(130.57778814608847, 173.37152638383503)"
      ]
     },
     "execution_count": 6,
     "metadata": {},
     "output_type": "execute_result"
    }
   ],
   "source": [
    "feature.site_info.site_height, feature.site_info.site_width"
   ]
  },
  {
   "cell_type": "code",
   "execution_count": 7,
   "id": "improving-fabric",
   "metadata": {},
   "outputs": [
    {
     "data": {
      "text/plain": [
       "('5cd56b90e2acfd2d33b5e33f', 'F2', '5d08778dbb84450008f56b2b')"
      ]
     },
     "execution_count": 7,
     "metadata": {},
     "output_type": "execute_result"
    }
   ],
   "source": [
    "feature.site_id, feature.floor, feature.path_id"
   ]
  },
  {
   "cell_type": "code",
   "execution_count": 8,
   "id": "polished-alberta",
   "metadata": {},
   "outputs": [
    {
     "name": "stdout",
     "output_type": "stream",
     "text": [
      "accelerometer\n"
     ]
    },
    {
     "data": {
      "text/html": [
       "<div>\n",
       "<style scoped>\n",
       "    .dataframe tbody tr th:only-of-type {\n",
       "        vertical-align: middle;\n",
       "    }\n",
       "\n",
       "    .dataframe tbody tr th {\n",
       "        vertical-align: top;\n",
       "    }\n",
       "\n",
       "    .dataframe thead th {\n",
       "        text-align: right;\n",
       "    }\n",
       "</style>\n",
       "<table border=\"1\" class=\"dataframe\">\n",
       "  <thead>\n",
       "    <tr style=\"text-align: right;\">\n",
       "      <th></th>\n",
       "      <th>timestamp</th>\n",
       "      <th>x</th>\n",
       "      <th>y</th>\n",
       "      <th>z</th>\n",
       "    </tr>\n",
       "  </thead>\n",
       "  <tbody>\n",
       "    <tr>\n",
       "      <th>0</th>\n",
       "      <td>1560835848086</td>\n",
       "      <td>-0.691925</td>\n",
       "      <td>-1.003174</td>\n",
       "      <td>9.167404</td>\n",
       "    </tr>\n",
       "    <tr>\n",
       "      <th>1</th>\n",
       "      <td>1560835848106</td>\n",
       "      <td>-1.022324</td>\n",
       "      <td>-1.235413</td>\n",
       "      <td>10.522522</td>\n",
       "    </tr>\n",
       "    <tr>\n",
       "      <th>2</th>\n",
       "      <td>1560835848126</td>\n",
       "      <td>-0.581787</td>\n",
       "      <td>-1.228226</td>\n",
       "      <td>11.224014</td>\n",
       "    </tr>\n",
       "    <tr>\n",
       "      <th>3</th>\n",
       "      <td>1560835848147</td>\n",
       "      <td>-0.050278</td>\n",
       "      <td>-0.962463</td>\n",
       "      <td>10.896011</td>\n",
       "    </tr>\n",
       "    <tr>\n",
       "      <th>4</th>\n",
       "      <td>1560835848167</td>\n",
       "      <td>0.076614</td>\n",
       "      <td>-0.416595</td>\n",
       "      <td>9.224854</td>\n",
       "    </tr>\n",
       "  </tbody>\n",
       "</table>\n",
       "</div>"
      ],
      "text/plain": [
       "       timestamp         x         y          z\n",
       "0  1560835848086 -0.691925 -1.003174   9.167404\n",
       "1  1560835848106 -1.022324 -1.235413  10.522522\n",
       "2  1560835848126 -0.581787 -1.228226  11.224014\n",
       "3  1560835848147 -0.050278 -0.962463  10.896011\n",
       "4  1560835848167  0.076614 -0.416595   9.224854"
      ]
     },
     "metadata": {},
     "output_type": "display_data"
    },
    {
     "name": "stdout",
     "output_type": "stream",
     "text": [
      "accelerometer_uncalibrated\n"
     ]
    },
    {
     "data": {
      "text/html": [
       "<div>\n",
       "<style scoped>\n",
       "    .dataframe tbody tr th:only-of-type {\n",
       "        vertical-align: middle;\n",
       "    }\n",
       "\n",
       "    .dataframe tbody tr th {\n",
       "        vertical-align: top;\n",
       "    }\n",
       "\n",
       "    .dataframe thead th {\n",
       "        text-align: right;\n",
       "    }\n",
       "</style>\n",
       "<table border=\"1\" class=\"dataframe\">\n",
       "  <thead>\n",
       "    <tr style=\"text-align: right;\">\n",
       "      <th></th>\n",
       "      <th>timestamp</th>\n",
       "      <th>x</th>\n",
       "      <th>y</th>\n",
       "      <th>z</th>\n",
       "    </tr>\n",
       "  </thead>\n",
       "  <tbody>\n",
       "    <tr>\n",
       "      <th>0</th>\n",
       "      <td>1560835848086</td>\n",
       "      <td>-1.022324</td>\n",
       "      <td>-1.235413</td>\n",
       "      <td>10.522522</td>\n",
       "    </tr>\n",
       "    <tr>\n",
       "      <th>1</th>\n",
       "      <td>1560835848106</td>\n",
       "      <td>-0.581787</td>\n",
       "      <td>-1.228226</td>\n",
       "      <td>11.224014</td>\n",
       "    </tr>\n",
       "    <tr>\n",
       "      <th>2</th>\n",
       "      <td>1560835848126</td>\n",
       "      <td>-0.050278</td>\n",
       "      <td>-0.962463</td>\n",
       "      <td>10.896011</td>\n",
       "    </tr>\n",
       "    <tr>\n",
       "      <th>3</th>\n",
       "      <td>1560835848147</td>\n",
       "      <td>0.076614</td>\n",
       "      <td>-0.416595</td>\n",
       "      <td>9.224854</td>\n",
       "    </tr>\n",
       "    <tr>\n",
       "      <th>4</th>\n",
       "      <td>1560835848167</td>\n",
       "      <td>-0.021545</td>\n",
       "      <td>0.117310</td>\n",
       "      <td>7.886505</td>\n",
       "    </tr>\n",
       "  </tbody>\n",
       "</table>\n",
       "</div>"
      ],
      "text/plain": [
       "       timestamp         x         y          z\n",
       "0  1560835848086 -1.022324 -1.235413  10.522522\n",
       "1  1560835848106 -0.581787 -1.228226  11.224014\n",
       "2  1560835848126 -0.050278 -0.962463  10.896011\n",
       "3  1560835848147  0.076614 -0.416595   9.224854\n",
       "4  1560835848167 -0.021545  0.117310   7.886505"
      ]
     },
     "metadata": {},
     "output_type": "display_data"
    },
    {
     "name": "stdout",
     "output_type": "stream",
     "text": [
      "beacon\n"
     ]
    },
    {
     "data": {
      "text/html": [
       "<div>\n",
       "<style scoped>\n",
       "    .dataframe tbody tr th:only-of-type {\n",
       "        vertical-align: middle;\n",
       "    }\n",
       "\n",
       "    .dataframe tbody tr th {\n",
       "        vertical-align: top;\n",
       "    }\n",
       "\n",
       "    .dataframe thead th {\n",
       "        text-align: right;\n",
       "    }\n",
       "</style>\n",
       "<table border=\"1\" class=\"dataframe\">\n",
       "  <thead>\n",
       "    <tr style=\"text-align: right;\">\n",
       "      <th></th>\n",
       "      <th>timestamp</th>\n",
       "      <th>uuid</th>\n",
       "      <th>major_id</th>\n",
       "      <th>minor_id</th>\n",
       "      <th>tx_power</th>\n",
       "      <th>rssi</th>\n",
       "      <th>distance</th>\n",
       "      <th>mac_addr</th>\n",
       "    </tr>\n",
       "  </thead>\n",
       "  <tbody>\n",
       "    <tr>\n",
       "      <th>0</th>\n",
       "      <td>1560835848045</td>\n",
       "      <td>89cb11b04122cef23388b0da06bd426c1f48a9b5</td>\n",
       "      <td>4bd29af61db57eb8675b56f79c5ff4ae6f81c03a</td>\n",
       "      <td>53bd5780a9fa8a4a48e0cc42e974f4ae15699e8f</td>\n",
       "      <td>-59</td>\n",
       "      <td>-90</td>\n",
       "      <td>23.444276</td>\n",
       "      <td>862ba5c86c7f91ca04d69167aff3e95f68ed23d6</td>\n",
       "    </tr>\n",
       "    <tr>\n",
       "      <th>1</th>\n",
       "      <td>1560835848118</td>\n",
       "      <td>d9c573b719a17da4836208fc436f87b5ca1aa877</td>\n",
       "      <td>b6589fc6ab0dc82cf12099d1c2d40ab994e8410c</td>\n",
       "      <td>b6589fc6ab0dc82cf12099d1c2d40ab994e8410c</td>\n",
       "      <td>-56</td>\n",
       "      <td>-87</td>\n",
       "      <td>26.976490</td>\n",
       "      <td>06d6fddca2b46fc8e4e2b8f4db15494ec851a4b2</td>\n",
       "    </tr>\n",
       "    <tr>\n",
       "      <th>2</th>\n",
       "      <td>1560835848151</td>\n",
       "      <td>89cb11b04122cef23388b0da06bd426c1f48a9b5</td>\n",
       "      <td>4bd29af61db57eb8675b56f79c5ff4ae6f81c03a</td>\n",
       "      <td>67e6fc612cb02e98aa57178d033901c8a5764733</td>\n",
       "      <td>-59</td>\n",
       "      <td>-89</td>\n",
       "      <td>21.518471</td>\n",
       "      <td>f643cf4f29973d048fe3e7affb4df047a0609807</td>\n",
       "    </tr>\n",
       "    <tr>\n",
       "      <th>3</th>\n",
       "      <td>1560835848203</td>\n",
       "      <td>89cb11b04122cef23388b0da06bd426c1f48a9b5</td>\n",
       "      <td>4bd29af61db57eb8675b56f79c5ff4ae6f81c03a</td>\n",
       "      <td>630afdd1beda6cf46d6453132ef1855488358042</td>\n",
       "      <td>-59</td>\n",
       "      <td>-85</td>\n",
       "      <td>15.128523</td>\n",
       "      <td>815f779cc7325751c44667652830581560a2b3ec</td>\n",
       "    </tr>\n",
       "    <tr>\n",
       "      <th>4</th>\n",
       "      <td>1560835848223</td>\n",
       "      <td>89cb11b04122cef23388b0da06bd426c1f48a9b5</td>\n",
       "      <td>4bd29af61db57eb8675b56f79c5ff4ae6f81c03a</td>\n",
       "      <td>b8de63cc8ba97f6faeb0e21d50c6c5826a975c3c</td>\n",
       "      <td>-59</td>\n",
       "      <td>-66</td>\n",
       "      <td>2.246586</td>\n",
       "      <td>9ed08adc70a1e217d77d4ac08d47d6b8ee08e8f9</td>\n",
       "    </tr>\n",
       "  </tbody>\n",
       "</table>\n",
       "</div>"
      ],
      "text/plain": [
       "       timestamp                                      uuid  \\\n",
       "0  1560835848045  89cb11b04122cef23388b0da06bd426c1f48a9b5   \n",
       "1  1560835848118  d9c573b719a17da4836208fc436f87b5ca1aa877   \n",
       "2  1560835848151  89cb11b04122cef23388b0da06bd426c1f48a9b5   \n",
       "3  1560835848203  89cb11b04122cef23388b0da06bd426c1f48a9b5   \n",
       "4  1560835848223  89cb11b04122cef23388b0da06bd426c1f48a9b5   \n",
       "\n",
       "                                   major_id  \\\n",
       "0  4bd29af61db57eb8675b56f79c5ff4ae6f81c03a   \n",
       "1  b6589fc6ab0dc82cf12099d1c2d40ab994e8410c   \n",
       "2  4bd29af61db57eb8675b56f79c5ff4ae6f81c03a   \n",
       "3  4bd29af61db57eb8675b56f79c5ff4ae6f81c03a   \n",
       "4  4bd29af61db57eb8675b56f79c5ff4ae6f81c03a   \n",
       "\n",
       "                                   minor_id  tx_power  rssi   distance  \\\n",
       "0  53bd5780a9fa8a4a48e0cc42e974f4ae15699e8f       -59   -90  23.444276   \n",
       "1  b6589fc6ab0dc82cf12099d1c2d40ab994e8410c       -56   -87  26.976490   \n",
       "2  67e6fc612cb02e98aa57178d033901c8a5764733       -59   -89  21.518471   \n",
       "3  630afdd1beda6cf46d6453132ef1855488358042       -59   -85  15.128523   \n",
       "4  b8de63cc8ba97f6faeb0e21d50c6c5826a975c3c       -59   -66   2.246586   \n",
       "\n",
       "                                   mac_addr  \n",
       "0  862ba5c86c7f91ca04d69167aff3e95f68ed23d6  \n",
       "1  06d6fddca2b46fc8e4e2b8f4db15494ec851a4b2  \n",
       "2  f643cf4f29973d048fe3e7affb4df047a0609807  \n",
       "3  815f779cc7325751c44667652830581560a2b3ec  \n",
       "4  9ed08adc70a1e217d77d4ac08d47d6b8ee08e8f9  "
      ]
     },
     "metadata": {},
     "output_type": "display_data"
    },
    {
     "name": "stdout",
     "output_type": "stream",
     "text": [
      "gyroscope\n"
     ]
    },
    {
     "data": {
      "text/html": [
       "<div>\n",
       "<style scoped>\n",
       "    .dataframe tbody tr th:only-of-type {\n",
       "        vertical-align: middle;\n",
       "    }\n",
       "\n",
       "    .dataframe tbody tr th {\n",
       "        vertical-align: top;\n",
       "    }\n",
       "\n",
       "    .dataframe thead th {\n",
       "        text-align: right;\n",
       "    }\n",
       "</style>\n",
       "<table border=\"1\" class=\"dataframe\">\n",
       "  <thead>\n",
       "    <tr style=\"text-align: right;\">\n",
       "      <th></th>\n",
       "      <th>timestamp</th>\n",
       "      <th>x</th>\n",
       "      <th>y</th>\n",
       "      <th>z</th>\n",
       "    </tr>\n",
       "  </thead>\n",
       "  <tbody>\n",
       "    <tr>\n",
       "      <th>0</th>\n",
       "      <td>1560835848086</td>\n",
       "      <td>-0.358002</td>\n",
       "      <td>-0.003403</td>\n",
       "      <td>0.138855</td>\n",
       "    </tr>\n",
       "    <tr>\n",
       "      <th>1</th>\n",
       "      <td>1560835848106</td>\n",
       "      <td>-0.347885</td>\n",
       "      <td>-0.261734</td>\n",
       "      <td>0.192108</td>\n",
       "    </tr>\n",
       "    <tr>\n",
       "      <th>2</th>\n",
       "      <td>1560835848126</td>\n",
       "      <td>-0.162537</td>\n",
       "      <td>-0.436981</td>\n",
       "      <td>0.192642</td>\n",
       "    </tr>\n",
       "    <tr>\n",
       "      <th>3</th>\n",
       "      <td>1560835848147</td>\n",
       "      <td>0.095276</td>\n",
       "      <td>-0.435379</td>\n",
       "      <td>0.135651</td>\n",
       "    </tr>\n",
       "    <tr>\n",
       "      <th>4</th>\n",
       "      <td>1560835848167</td>\n",
       "      <td>0.151199</td>\n",
       "      <td>-0.313400</td>\n",
       "      <td>0.089844</td>\n",
       "    </tr>\n",
       "  </tbody>\n",
       "</table>\n",
       "</div>"
      ],
      "text/plain": [
       "       timestamp         x         y         z\n",
       "0  1560835848086 -0.358002 -0.003403  0.138855\n",
       "1  1560835848106 -0.347885 -0.261734  0.192108\n",
       "2  1560835848126 -0.162537 -0.436981  0.192642\n",
       "3  1560835848147  0.095276 -0.435379  0.135651\n",
       "4  1560835848167  0.151199 -0.313400  0.089844"
      ]
     },
     "metadata": {},
     "output_type": "display_data"
    },
    {
     "name": "stdout",
     "output_type": "stream",
     "text": [
      "gyroscope_uncalibrated\n"
     ]
    },
    {
     "data": {
      "text/html": [
       "<div>\n",
       "<style scoped>\n",
       "    .dataframe tbody tr th:only-of-type {\n",
       "        vertical-align: middle;\n",
       "    }\n",
       "\n",
       "    .dataframe tbody tr th {\n",
       "        vertical-align: top;\n",
       "    }\n",
       "\n",
       "    .dataframe thead th {\n",
       "        text-align: right;\n",
       "    }\n",
       "</style>\n",
       "<table border=\"1\" class=\"dataframe\">\n",
       "  <thead>\n",
       "    <tr style=\"text-align: right;\">\n",
       "      <th></th>\n",
       "      <th>timestamp</th>\n",
       "      <th>x</th>\n",
       "      <th>y</th>\n",
       "      <th>z</th>\n",
       "    </tr>\n",
       "  </thead>\n",
       "  <tbody>\n",
       "    <tr>\n",
       "      <th>0</th>\n",
       "      <td>1560835848086</td>\n",
       "      <td>-0.200272</td>\n",
       "      <td>0.126236</td>\n",
       "      <td>0.112915</td>\n",
       "    </tr>\n",
       "    <tr>\n",
       "      <th>1</th>\n",
       "      <td>1560835848106</td>\n",
       "      <td>-0.358459</td>\n",
       "      <td>-0.004257</td>\n",
       "      <td>0.140625</td>\n",
       "    </tr>\n",
       "    <tr>\n",
       "      <th>2</th>\n",
       "      <td>1560835848126</td>\n",
       "      <td>-0.348343</td>\n",
       "      <td>-0.262589</td>\n",
       "      <td>0.193878</td>\n",
       "    </tr>\n",
       "    <tr>\n",
       "      <th>3</th>\n",
       "      <td>1560835848147</td>\n",
       "      <td>-0.162994</td>\n",
       "      <td>-0.437836</td>\n",
       "      <td>0.194412</td>\n",
       "    </tr>\n",
       "    <tr>\n",
       "      <th>4</th>\n",
       "      <td>1560835848167</td>\n",
       "      <td>0.094818</td>\n",
       "      <td>-0.436234</td>\n",
       "      <td>0.137421</td>\n",
       "    </tr>\n",
       "  </tbody>\n",
       "</table>\n",
       "</div>"
      ],
      "text/plain": [
       "       timestamp         x         y         z\n",
       "0  1560835848086 -0.200272  0.126236  0.112915\n",
       "1  1560835848106 -0.358459 -0.004257  0.140625\n",
       "2  1560835848126 -0.348343 -0.262589  0.193878\n",
       "3  1560835848147 -0.162994 -0.437836  0.194412\n",
       "4  1560835848167  0.094818 -0.436234  0.137421"
      ]
     },
     "metadata": {},
     "output_type": "display_data"
    },
    {
     "name": "stdout",
     "output_type": "stream",
     "text": [
      "magnetic_field\n"
     ]
    },
    {
     "data": {
      "text/html": [
       "<div>\n",
       "<style scoped>\n",
       "    .dataframe tbody tr th:only-of-type {\n",
       "        vertical-align: middle;\n",
       "    }\n",
       "\n",
       "    .dataframe tbody tr th {\n",
       "        vertical-align: top;\n",
       "    }\n",
       "\n",
       "    .dataframe thead th {\n",
       "        text-align: right;\n",
       "    }\n",
       "</style>\n",
       "<table border=\"1\" class=\"dataframe\">\n",
       "  <thead>\n",
       "    <tr style=\"text-align: right;\">\n",
       "      <th></th>\n",
       "      <th>timestamp</th>\n",
       "      <th>x</th>\n",
       "      <th>y</th>\n",
       "      <th>z</th>\n",
       "    </tr>\n",
       "  </thead>\n",
       "  <tbody>\n",
       "    <tr>\n",
       "      <th>0</th>\n",
       "      <td>1560835848086</td>\n",
       "      <td>-9.12</td>\n",
       "      <td>24.119999</td>\n",
       "      <td>-30.599998</td>\n",
       "    </tr>\n",
       "    <tr>\n",
       "      <th>1</th>\n",
       "      <td>1560835848106</td>\n",
       "      <td>-8.82</td>\n",
       "      <td>24.119999</td>\n",
       "      <td>-30.599998</td>\n",
       "    </tr>\n",
       "    <tr>\n",
       "      <th>2</th>\n",
       "      <td>1560835848126</td>\n",
       "      <td>-8.76</td>\n",
       "      <td>24.119999</td>\n",
       "      <td>-30.660000</td>\n",
       "    </tr>\n",
       "    <tr>\n",
       "      <th>3</th>\n",
       "      <td>1560835848147</td>\n",
       "      <td>-8.46</td>\n",
       "      <td>24.119999</td>\n",
       "      <td>-30.900000</td>\n",
       "    </tr>\n",
       "    <tr>\n",
       "      <th>4</th>\n",
       "      <td>1560835848167</td>\n",
       "      <td>-8.40</td>\n",
       "      <td>24.060000</td>\n",
       "      <td>-31.140000</td>\n",
       "    </tr>\n",
       "  </tbody>\n",
       "</table>\n",
       "</div>"
      ],
      "text/plain": [
       "       timestamp     x          y          z\n",
       "0  1560835848086 -9.12  24.119999 -30.599998\n",
       "1  1560835848106 -8.82  24.119999 -30.599998\n",
       "2  1560835848126 -8.76  24.119999 -30.660000\n",
       "3  1560835848147 -8.46  24.119999 -30.900000\n",
       "4  1560835848167 -8.40  24.060000 -31.140000"
      ]
     },
     "metadata": {},
     "output_type": "display_data"
    },
    {
     "name": "stdout",
     "output_type": "stream",
     "text": [
      "magnetic_field_uncalibrated\n"
     ]
    },
    {
     "data": {
      "text/html": [
       "<div>\n",
       "<style scoped>\n",
       "    .dataframe tbody tr th:only-of-type {\n",
       "        vertical-align: middle;\n",
       "    }\n",
       "\n",
       "    .dataframe tbody tr th {\n",
       "        vertical-align: top;\n",
       "    }\n",
       "\n",
       "    .dataframe thead th {\n",
       "        text-align: right;\n",
       "    }\n",
       "</style>\n",
       "<table border=\"1\" class=\"dataframe\">\n",
       "  <thead>\n",
       "    <tr style=\"text-align: right;\">\n",
       "      <th></th>\n",
       "      <th>timestamp</th>\n",
       "      <th>x</th>\n",
       "      <th>y</th>\n",
       "      <th>z</th>\n",
       "    </tr>\n",
       "  </thead>\n",
       "  <tbody>\n",
       "    <tr>\n",
       "      <th>0</th>\n",
       "      <td>1560835848086</td>\n",
       "      <td>5.46</td>\n",
       "      <td>39.719997</td>\n",
       "      <td>-169.13998</td>\n",
       "    </tr>\n",
       "    <tr>\n",
       "      <th>1</th>\n",
       "      <td>1560835848106</td>\n",
       "      <td>5.76</td>\n",
       "      <td>39.719997</td>\n",
       "      <td>-169.13998</td>\n",
       "    </tr>\n",
       "    <tr>\n",
       "      <th>2</th>\n",
       "      <td>1560835848126</td>\n",
       "      <td>5.82</td>\n",
       "      <td>39.719997</td>\n",
       "      <td>-169.20000</td>\n",
       "    </tr>\n",
       "    <tr>\n",
       "      <th>3</th>\n",
       "      <td>1560835848147</td>\n",
       "      <td>6.12</td>\n",
       "      <td>39.719997</td>\n",
       "      <td>-169.43999</td>\n",
       "    </tr>\n",
       "    <tr>\n",
       "      <th>4</th>\n",
       "      <td>1560835848167</td>\n",
       "      <td>6.18</td>\n",
       "      <td>39.660000</td>\n",
       "      <td>-169.68000</td>\n",
       "    </tr>\n",
       "  </tbody>\n",
       "</table>\n",
       "</div>"
      ],
      "text/plain": [
       "       timestamp     x          y          z\n",
       "0  1560835848086  5.46  39.719997 -169.13998\n",
       "1  1560835848106  5.76  39.719997 -169.13998\n",
       "2  1560835848126  5.82  39.719997 -169.20000\n",
       "3  1560835848147  6.12  39.719997 -169.43999\n",
       "4  1560835848167  6.18  39.660000 -169.68000"
      ]
     },
     "metadata": {},
     "output_type": "display_data"
    },
    {
     "name": "stdout",
     "output_type": "stream",
     "text": [
      "rotation_vector\n"
     ]
    },
    {
     "data": {
      "text/html": [
       "<div>\n",
       "<style scoped>\n",
       "    .dataframe tbody tr th:only-of-type {\n",
       "        vertical-align: middle;\n",
       "    }\n",
       "\n",
       "    .dataframe tbody tr th {\n",
       "        vertical-align: top;\n",
       "    }\n",
       "\n",
       "    .dataframe thead th {\n",
       "        text-align: right;\n",
       "    }\n",
       "</style>\n",
       "<table border=\"1\" class=\"dataframe\">\n",
       "  <thead>\n",
       "    <tr style=\"text-align: right;\">\n",
       "      <th></th>\n",
       "      <th>timestamp</th>\n",
       "      <th>x</th>\n",
       "      <th>y</th>\n",
       "      <th>z</th>\n",
       "    </tr>\n",
       "  </thead>\n",
       "  <tbody>\n",
       "    <tr>\n",
       "      <th>0</th>\n",
       "      <td>1560835848086</td>\n",
       "      <td>-0.041212</td>\n",
       "      <td>0.049484</td>\n",
       "      <td>-0.252773</td>\n",
       "    </tr>\n",
       "    <tr>\n",
       "      <th>1</th>\n",
       "      <td>1560835848106</td>\n",
       "      <td>-0.044584</td>\n",
       "      <td>0.060187</td>\n",
       "      <td>-0.230687</td>\n",
       "    </tr>\n",
       "    <tr>\n",
       "      <th>2</th>\n",
       "      <td>1560835848126</td>\n",
       "      <td>-0.047448</td>\n",
       "      <td>0.037496</td>\n",
       "      <td>-0.229790</td>\n",
       "    </tr>\n",
       "    <tr>\n",
       "      <th>3</th>\n",
       "      <td>1560835848147</td>\n",
       "      <td>-0.043253</td>\n",
       "      <td>0.008915</td>\n",
       "      <td>-0.168683</td>\n",
       "    </tr>\n",
       "    <tr>\n",
       "      <th>4</th>\n",
       "      <td>1560835848167</td>\n",
       "      <td>-0.022116</td>\n",
       "      <td>0.000009</td>\n",
       "      <td>-0.148521</td>\n",
       "    </tr>\n",
       "  </tbody>\n",
       "</table>\n",
       "</div>"
      ],
      "text/plain": [
       "       timestamp         x         y         z\n",
       "0  1560835848086 -0.041212  0.049484 -0.252773\n",
       "1  1560835848106 -0.044584  0.060187 -0.230687\n",
       "2  1560835848126 -0.047448  0.037496 -0.229790\n",
       "3  1560835848147 -0.043253  0.008915 -0.168683\n",
       "4  1560835848167 -0.022116  0.000009 -0.148521"
      ]
     },
     "metadata": {},
     "output_type": "display_data"
    },
    {
     "name": "stdout",
     "output_type": "stream",
     "text": [
      "waypoint\n"
     ]
    },
    {
     "data": {
      "text/html": [
       "<div>\n",
       "<style scoped>\n",
       "    .dataframe tbody tr th:only-of-type {\n",
       "        vertical-align: middle;\n",
       "    }\n",
       "\n",
       "    .dataframe tbody tr th {\n",
       "        vertical-align: top;\n",
       "    }\n",
       "\n",
       "    .dataframe thead th {\n",
       "        text-align: right;\n",
       "    }\n",
       "</style>\n",
       "<table border=\"1\" class=\"dataframe\">\n",
       "  <thead>\n",
       "    <tr style=\"text-align: right;\">\n",
       "      <th></th>\n",
       "      <th>timestamp</th>\n",
       "      <th>x</th>\n",
       "      <th>y</th>\n",
       "    </tr>\n",
       "  </thead>\n",
       "  <tbody>\n",
       "    <tr>\n",
       "      <th>0</th>\n",
       "      <td>1560835847928</td>\n",
       "      <td>79.092990</td>\n",
       "      <td>50.953800</td>\n",
       "    </tr>\n",
       "    <tr>\n",
       "      <th>1</th>\n",
       "      <td>1560835860289</td>\n",
       "      <td>81.993440</td>\n",
       "      <td>59.807358</td>\n",
       "    </tr>\n",
       "    <tr>\n",
       "      <th>2</th>\n",
       "      <td>1560835867812</td>\n",
       "      <td>79.387955</td>\n",
       "      <td>60.209465</td>\n",
       "    </tr>\n",
       "    <tr>\n",
       "      <th>3</th>\n",
       "      <td>1560835878812</td>\n",
       "      <td>76.830475</td>\n",
       "      <td>51.483547</td>\n",
       "    </tr>\n",
       "    <tr>\n",
       "      <th>4</th>\n",
       "      <td>1560835884854</td>\n",
       "      <td>74.003296</td>\n",
       "      <td>49.312233</td>\n",
       "    </tr>\n",
       "  </tbody>\n",
       "</table>\n",
       "</div>"
      ],
      "text/plain": [
       "       timestamp          x          y\n",
       "0  1560835847928  79.092990  50.953800\n",
       "1  1560835860289  81.993440  59.807358\n",
       "2  1560835867812  79.387955  60.209465\n",
       "3  1560835878812  76.830475  51.483547\n",
       "4  1560835884854  74.003296  49.312233"
      ]
     },
     "metadata": {},
     "output_type": "display_data"
    },
    {
     "name": "stdout",
     "output_type": "stream",
     "text": [
      "wifi\n"
     ]
    },
    {
     "data": {
      "text/html": [
       "<div>\n",
       "<style scoped>\n",
       "    .dataframe tbody tr th:only-of-type {\n",
       "        vertical-align: middle;\n",
       "    }\n",
       "\n",
       "    .dataframe tbody tr th {\n",
       "        vertical-align: top;\n",
       "    }\n",
       "\n",
       "    .dataframe thead th {\n",
       "        text-align: right;\n",
       "    }\n",
       "</style>\n",
       "<table border=\"1\" class=\"dataframe\">\n",
       "  <thead>\n",
       "    <tr style=\"text-align: right;\">\n",
       "      <th></th>\n",
       "      <th>timestamp</th>\n",
       "      <th>ssid</th>\n",
       "      <th>bssid</th>\n",
       "      <th>rssi</th>\n",
       "      <th>frequency</th>\n",
       "      <th>last_seen_timestamp</th>\n",
       "    </tr>\n",
       "  </thead>\n",
       "  <tbody>\n",
       "    <tr>\n",
       "      <th>0</th>\n",
       "      <td>1560835848715</td>\n",
       "      <td>90a13d9926e0f11cb22ac9bb4d245a64ed87411c</td>\n",
       "      <td>42c187b2d0163f729407036091b37eb51a7f2b29</td>\n",
       "      <td>-72</td>\n",
       "      <td>5825</td>\n",
       "      <td>1560835830214</td>\n",
       "    </tr>\n",
       "    <tr>\n",
       "      <th>1</th>\n",
       "      <td>1560835848715</td>\n",
       "      <td>90a13d9926e0f11cb22ac9bb4d245a64ed87411c</td>\n",
       "      <td>92e9be2bce60e4d35c95329927cc594044e15717</td>\n",
       "      <td>-84</td>\n",
       "      <td>5745</td>\n",
       "      <td>1560835848028</td>\n",
       "    </tr>\n",
       "    <tr>\n",
       "      <th>2</th>\n",
       "      <td>1560835848715</td>\n",
       "      <td>90a13d9926e0f11cb22ac9bb4d245a64ed87411c</td>\n",
       "      <td>e4aeea2070b8e610de3fe65e1f21c90b94828a62</td>\n",
       "      <td>-81</td>\n",
       "      <td>5785</td>\n",
       "      <td>1560835848087</td>\n",
       "    </tr>\n",
       "    <tr>\n",
       "      <th>3</th>\n",
       "      <td>1560835848715</td>\n",
       "      <td>90a13d9926e0f11cb22ac9bb4d245a64ed87411c</td>\n",
       "      <td>63eb39d4a6bcd69ab05f9cbfb94a5ea1bb23b6d2</td>\n",
       "      <td>-80</td>\n",
       "      <td>5745</td>\n",
       "      <td>1560835848028</td>\n",
       "    </tr>\n",
       "    <tr>\n",
       "      <th>4</th>\n",
       "      <td>1560835848715</td>\n",
       "      <td>90a13d9926e0f11cb22ac9bb4d245a64ed87411c</td>\n",
       "      <td>51cdf8a4665fc3ff28336a0c907d5c7fdbe35001</td>\n",
       "      <td>-81</td>\n",
       "      <td>5765</td>\n",
       "      <td>1560835848051</td>\n",
       "    </tr>\n",
       "  </tbody>\n",
       "</table>\n",
       "</div>"
      ],
      "text/plain": [
       "       timestamp                                      ssid  \\\n",
       "0  1560835848715  90a13d9926e0f11cb22ac9bb4d245a64ed87411c   \n",
       "1  1560835848715  90a13d9926e0f11cb22ac9bb4d245a64ed87411c   \n",
       "2  1560835848715  90a13d9926e0f11cb22ac9bb4d245a64ed87411c   \n",
       "3  1560835848715  90a13d9926e0f11cb22ac9bb4d245a64ed87411c   \n",
       "4  1560835848715  90a13d9926e0f11cb22ac9bb4d245a64ed87411c   \n",
       "\n",
       "                                      bssid  rssi  frequency  \\\n",
       "0  42c187b2d0163f729407036091b37eb51a7f2b29   -72       5825   \n",
       "1  92e9be2bce60e4d35c95329927cc594044e15717   -84       5745   \n",
       "2  e4aeea2070b8e610de3fe65e1f21c90b94828a62   -81       5785   \n",
       "3  63eb39d4a6bcd69ab05f9cbfb94a5ea1bb23b6d2   -80       5745   \n",
       "4  51cdf8a4665fc3ff28336a0c907d5c7fdbe35001   -81       5765   \n",
       "\n",
       "   last_seen_timestamp  \n",
       "0        1560835830214  \n",
       "1        1560835848028  \n",
       "2        1560835848087  \n",
       "3        1560835848028  \n",
       "4        1560835848051  "
      ]
     },
     "metadata": {},
     "output_type": "display_data"
    }
   ],
   "source": [
    "# attributes of feature store\n",
    "for d_type in feature.df_types:\n",
    "    print(d_type)\n",
    "    display(feature[d_type].head())"
   ]
  },
  {
   "cell_type": "markdown",
   "id": "integral-revolution",
   "metadata": {},
   "source": [
    "---"
   ]
  },
  {
   "cell_type": "markdown",
   "id": "rough-stockholm",
   "metadata": {},
   "source": [
    "## Create map for label encode"
   ]
  },
  {
   "cell_type": "code",
   "execution_count": 9,
   "id": "removed-teacher",
   "metadata": {},
   "outputs": [],
   "source": [
    "src_dir = pathlib.Path(\"../data/raw/train/\")\n",
    "filepaths = [\n",
    "    path_filepath \n",
    "    for site_filepath in src_dir.glob(\"*\") \n",
    "    for floor_filepath in site_filepath.glob(\"*\") \n",
    "    for path_filepath in floor_filepath.glob(\"*\")\n",
    "]"
   ]
  },
  {
   "cell_type": "markdown",
   "id": "extreme-whale",
   "metadata": {},
   "source": [
    "### site for build"
   ]
  },
  {
   "cell_type": "code",
   "execution_count": 11,
   "id": "binary-validation",
   "metadata": {},
   "outputs": [],
   "source": [
    "def create_site_map():\n",
    "    def get_site_id_from_feature_store(filepath):\n",
    "        path_id = filepath.name.split(\".\")[0]\n",
    "\n",
    "        feature = load_pickle(f\"../data/working/{path_id}.pkl\", verbose=False)\n",
    "        return feature.site_id\n",
    "    \n",
    "    site_ids = Parallel(n_jobs=-1)(delayed(get_site_id_from_feature_store)(filepath) for filepath in track(filepaths))\n",
    "    unique_site_ids = np.unique(site_ids)\n",
    "    siteId_map = {site_id: i + 1 for i, site_id in enumerate(unique_site_ids)}\n",
    "    return siteId_map"
   ]
  },
  {
   "cell_type": "code",
   "execution_count": 12,
   "id": "olympic-marketing",
   "metadata": {},
   "outputs": [
    {
     "data": {
      "application/vnd.jupyter.widget-view+json": {
       "model_id": "54dec91473e5484db12c359c334f30b0",
       "version_major": 2,
       "version_minor": 0
      },
      "text/plain": [
       "Output()"
      ]
     },
     "metadata": {},
     "output_type": "display_data"
    }
   ],
   "source": [
    "%%time\n",
    "siteId_map = create_site_map()"
   ]
  },
  {
   "cell_type": "code",
   "execution_count": 1,
   "id": "collectible-calibration",
   "metadata": {},
   "outputs": [
    {
     "ename": "NameError",
     "evalue": "name 'dump_pickle' is not defined",
     "output_type": "error",
     "traceback": [
      "\u001b[0;31m---------------------------------------------------------------------------\u001b[0m",
      "\u001b[0;31mNameError\u001b[0m                                 Traceback (most recent call last)",
      "\u001b[0;32m<ipython-input-1-e26f099a964e>\u001b[0m in \u001b[0;36m<module>\u001b[0;34m\u001b[0m\n\u001b[0;32m----> 1\u001b[0;31m \u001b[0mdump_pickle\u001b[0m\u001b[0;34m(\u001b[0m\u001b[0;34m\"./tmp/map_site_ids.pkl\"\u001b[0m\u001b[0;34m,\u001b[0m \u001b[0msiteId_map\u001b[0m\u001b[0;34m)\u001b[0m\u001b[0;34m\u001b[0m\u001b[0;34m\u001b[0m\u001b[0m\n\u001b[0m",
      "\u001b[0;31mNameError\u001b[0m: name 'dump_pickle' is not defined"
     ]
    }
   ],
   "source": [
    "dump_pickle(\"./tmp/map_site_ids.pkl\", siteId_map)"
   ]
  },
  {
   "cell_type": "markdown",
   "id": "perfect-belief",
   "metadata": {},
   "source": [
    "### bssid of wifi"
   ]
  },
  {
   "cell_type": "code",
   "execution_count": null,
   "id": "weekly-contract",
   "metadata": {},
   "outputs": [],
   "source": [
    "def get_bssid_from_feature_store(filepath):\n",
    "    path_id = filepath.name.split(\".\")[0]\n",
    "    \n",
    "    feature = load_pickle(f\"../data/working/{path_id}.pkl\", verbose=False)\n",
    "    uniques = feature.wifi.bssid.unique()\n",
    "    if len(uniques) > 0:\n",
    "        return uniques\n",
    "    else:\n",
    "        return np.array([])"
   ]
  },
  {
   "cell_type": "code",
   "execution_count": null,
   "id": "narrative-maker",
   "metadata": {},
   "outputs": [],
   "source": [
    "%%time\n",
    "bssid = Parallel(n_jobs=-1)(delayed(get_bssid_from_feature_store)(filepath) for filepath in track(filepaths))\n",
    "\n",
    "bssid = np.concatenate(bssid, axis=0)\n",
    "unique_bsid = np.unique(bssid)\n",
    "\n",
    "bssid_map = {_bssid: i + 1 for i, _bssid in enumerate(bssid)}\n",
    "dump_pickle(\"./tmp/map_bssid.pkl\", bssid_map)"
   ]
  },
  {
   "cell_type": "markdown",
   "id": "immune-operation",
   "metadata": {},
   "source": [
    "### uuid of beacon"
   ]
  },
  {
   "cell_type": "code",
   "execution_count": null,
   "id": "governing-favor",
   "metadata": {},
   "outputs": [],
   "source": [
    "def get_uuid_from_feature_store(filepath):\n",
    "    path_id = filepath.name.split(\".\")[0]\n",
    "    \n",
    "    feature = load_pickle(f\"../data/working/{path_id}.pkl\", verbose=False)\n",
    "    uniques = feature.beacon.uuid.unique()\n",
    "    if len(uniques) > 0:\n",
    "        return uniques\n",
    "    else:\n",
    "        return np.array([])"
   ]
  },
  {
   "cell_type": "code",
   "execution_count": null,
   "id": "national-flesh",
   "metadata": {},
   "outputs": [],
   "source": [
    "%%time\n",
    "uuid = Parallel(n_jobs=-1)(delayed(get_uuid_from_feature_store)(filepath) for filepath in track(filepaths))\n",
    "\n",
    "uuid = np.concatenate(uuid, axis=0)\n",
    "unique_uuid = np.unique(uuid)\n",
    "\n",
    "uuid_map = {_uuid: i + 1 for i, _uuid in enumerate(unique_uuid)}\n",
    "dump_pickle(\"./tmp/uuid_map.pkl\", uuid_map)"
   ]
  },
  {
   "cell_type": "markdown",
   "id": "broadband-monthly",
   "metadata": {},
   "source": [
    "---"
   ]
  },
  {
   "cell_type": "markdown",
   "id": "bearing-softball",
   "metadata": {},
   "source": [
    "## Simple feature engineering"
   ]
  },
  {
   "cell_type": "code",
   "execution_count": null,
   "id": "welsh-northern",
   "metadata": {},
   "outputs": [],
   "source": [
    "src_dir = pathlib.Path(\"../data/raw/train/\")\n",
    "filepaths = [\n",
    "    path_filepath \n",
    "    for site_filepath in src_dir.glob(\"*\") \n",
    "    for floor_filepath in site_filepath.glob(\"*\") \n",
    "    for path_filepath in floor_filepath.glob(\"*\")\n",
    "]"
   ]
  },
  {
   "cell_type": "markdown",
   "id": "bored-april",
   "metadata": {},
   "source": [
    "### Create waypoint"
   ]
  },
  {
   "cell_type": "code",
   "execution_count": 9,
   "id": "latin-secret",
   "metadata": {},
   "outputs": [
    {
     "data": {
      "application/vnd.jupyter.widget-view+json": {
       "model_id": "52fd1109dab044ae977923041f8de697",
       "version_major": 2,
       "version_minor": 0
      },
      "text/plain": [
       "Output()"
      ]
     },
     "metadata": {},
     "output_type": "display_data"
    },
    {
     "name": "stdout",
     "output_type": "stream",
     "text": [
      "CPU times: user 1min 27s, sys: 4.32 s, total: 1min 32s\n",
      "Wall time: 4min 16s\n"
     ]
    }
   ],
   "source": [
    "%%time\n",
    "def create_waypoint(filepaths: List):\n",
    "    def get_waypoint_from_featureStore(filepath):\n",
    "        path_id = filepath.name.split(\".\")[0]\n",
    "\n",
    "        feature = load_pickle(f\"../data/working/{path_id}.pkl\", verbose=False)\n",
    "        wp = feature['waypoint']\n",
    "        wp['site'] = feature.site_id\n",
    "        wp['floor'] = feature.n_floor\n",
    "        wp['path'] = feature.path_id\n",
    "        if len(wp) > 0:\n",
    "            return wp\n",
    "        else:\n",
    "            return pd.DataFrame([])\n",
    "\n",
    "    waypoint = Parallel(n_jobs=-1)(delayed(get_waypoint_from_featureStore)(filepath) for filepath in track(filepaths))\n",
    "    waypoint = pd.concat(waypoint, axis=0).reset_index(drop=True)\n",
    "    waypoint = waypoint.sort_values(by=['path', 'timestamp']).reset_index(drop=True)\n",
    "    return waypoint\n",
    "\n",
    "waypoint = create_waypoint(filepaths)"
   ]
  },
  {
   "cell_type": "code",
   "execution_count": 10,
   "id": "violent-warner",
   "metadata": {},
   "outputs": [
    {
     "name": "stdout",
     "output_type": "stream",
     "text": [
      "Dump pickle to ./tmp/train_waypoint.pkl\n"
     ]
    }
   ],
   "source": [
    "dump_pickle('./tmp/train_waypoint.pkl', waypoint)"
   ]
  },
  {
   "cell_type": "code",
   "execution_count": 11,
   "id": "alpha-alfred",
   "metadata": {},
   "outputs": [
    {
     "data": {
      "text/html": [
       "<div>\n",
       "<style scoped>\n",
       "    .dataframe tbody tr th:only-of-type {\n",
       "        vertical-align: middle;\n",
       "    }\n",
       "\n",
       "    .dataframe tbody tr th {\n",
       "        vertical-align: top;\n",
       "    }\n",
       "\n",
       "    .dataframe thead th {\n",
       "        text-align: right;\n",
       "    }\n",
       "</style>\n",
       "<table border=\"1\" class=\"dataframe\">\n",
       "  <thead>\n",
       "    <tr style=\"text-align: right;\">\n",
       "      <th></th>\n",
       "      <th>timestamp</th>\n",
       "      <th>x</th>\n",
       "      <th>y</th>\n",
       "      <th>site</th>\n",
       "      <th>floor</th>\n",
       "      <th>path</th>\n",
       "    </tr>\n",
       "  </thead>\n",
       "  <tbody>\n",
       "    <tr>\n",
       "      <th>0</th>\n",
       "      <td>1558318437984</td>\n",
       "      <td>59.747032</td>\n",
       "      <td>244.61037</td>\n",
       "      <td>5cd969ba39e2fc0b4afe6fae</td>\n",
       "      <td>0</td>\n",
       "      <td>5ce215bc2d50640008bf22e2</td>\n",
       "    </tr>\n",
       "    <tr>\n",
       "      <th>1</th>\n",
       "      <td>1558318450619</td>\n",
       "      <td>55.360070</td>\n",
       "      <td>256.03390</td>\n",
       "      <td>5cd969ba39e2fc0b4afe6fae</td>\n",
       "      <td>0</td>\n",
       "      <td>5ce215bc2d50640008bf22e2</td>\n",
       "    </tr>\n",
       "    <tr>\n",
       "      <th>2</th>\n",
       "      <td>1558318459913</td>\n",
       "      <td>49.936070</td>\n",
       "      <td>254.65387</td>\n",
       "      <td>5cd969ba39e2fc0b4afe6fae</td>\n",
       "      <td>0</td>\n",
       "      <td>5ce215bc2d50640008bf22e2</td>\n",
       "    </tr>\n",
       "    <tr>\n",
       "      <th>3</th>\n",
       "      <td>1558318468827</td>\n",
       "      <td>44.060840</td>\n",
       "      <td>252.69990</td>\n",
       "      <td>5cd969ba39e2fc0b4afe6fae</td>\n",
       "      <td>0</td>\n",
       "      <td>5ce215bc2d50640008bf22e2</td>\n",
       "    </tr>\n",
       "    <tr>\n",
       "      <th>4</th>\n",
       "      <td>1558318550185</td>\n",
       "      <td>47.224000</td>\n",
       "      <td>245.42503</td>\n",
       "      <td>5cd969ba39e2fc0b4afe6fae</td>\n",
       "      <td>0</td>\n",
       "      <td>5ce215be915519000851776a</td>\n",
       "    </tr>\n",
       "  </tbody>\n",
       "</table>\n",
       "</div>"
      ],
      "text/plain": [
       "       timestamp          x          y                      site  floor  \\\n",
       "0  1558318437984  59.747032  244.61037  5cd969ba39e2fc0b4afe6fae      0   \n",
       "1  1558318450619  55.360070  256.03390  5cd969ba39e2fc0b4afe6fae      0   \n",
       "2  1558318459913  49.936070  254.65387  5cd969ba39e2fc0b4afe6fae      0   \n",
       "3  1558318468827  44.060840  252.69990  5cd969ba39e2fc0b4afe6fae      0   \n",
       "4  1558318550185  47.224000  245.42503  5cd969ba39e2fc0b4afe6fae      0   \n",
       "\n",
       "                       path  \n",
       "0  5ce215bc2d50640008bf22e2  \n",
       "1  5ce215bc2d50640008bf22e2  \n",
       "2  5ce215bc2d50640008bf22e2  \n",
       "3  5ce215bc2d50640008bf22e2  \n",
       "4  5ce215be915519000851776a  "
      ]
     },
     "execution_count": 11,
     "metadata": {},
     "output_type": "execute_result"
    }
   ],
   "source": [
    "waypoint.head()"
   ]
  },
  {
   "cell_type": "markdown",
   "id": "simplified-reflection",
   "metadata": {},
   "source": [
    "### Build"
   ]
  },
  {
   "cell_type": "code",
   "execution_count": 12,
   "id": "satisfactory-paint",
   "metadata": {},
   "outputs": [
    {
     "ename": "FileNotFoundError",
     "evalue": "[Errno 2] No such file or directory: './tmp/map_site_ids.pkl'",
     "output_type": "error",
     "traceback": [
      "\u001b[0;31m---------------------------------------------------------------------------\u001b[0m",
      "\u001b[0;31mFileNotFoundError\u001b[0m                         Traceback (most recent call last)",
      "\u001b[0;32m<timed exec>\u001b[0m in \u001b[0;36m<module>\u001b[0;34m\u001b[0m\n",
      "\u001b[0;32m<timed exec>\u001b[0m in \u001b[0;36mcreate_build\u001b[0;34m(filepaths)\u001b[0m\n",
      "\u001b[0;32m~/indoor_location_and_Navigation/src/utils/common.py\u001b[0m in \u001b[0;36mload_pickle\u001b[0;34m(filepath, verbose)\u001b[0m\n\u001b[1;32m     18\u001b[0m     \u001b[0;32mif\u001b[0m \u001b[0mverbose\u001b[0m\u001b[0;34m:\u001b[0m\u001b[0;34m\u001b[0m\u001b[0;34m\u001b[0m\u001b[0m\n\u001b[1;32m     19\u001b[0m         \u001b[0mprint\u001b[0m\u001b[0;34m(\u001b[0m\u001b[0;34mf\"Load pickle from {filepath}\"\u001b[0m\u001b[0;34m)\u001b[0m\u001b[0;34m\u001b[0m\u001b[0;34m\u001b[0m\u001b[0m\n\u001b[0;32m---> 20\u001b[0;31m     \u001b[0;32mwith\u001b[0m \u001b[0mopen\u001b[0m\u001b[0;34m(\u001b[0m\u001b[0mfilepath\u001b[0m\u001b[0;34m,\u001b[0m \u001b[0;34m\"rb\"\u001b[0m\u001b[0;34m)\u001b[0m \u001b[0;32mas\u001b[0m \u001b[0mfile\u001b[0m\u001b[0;34m:\u001b[0m\u001b[0;34m\u001b[0m\u001b[0;34m\u001b[0m\u001b[0m\n\u001b[0m\u001b[1;32m     21\u001b[0m         \u001b[0;32mreturn\u001b[0m \u001b[0mpickle\u001b[0m\u001b[0;34m.\u001b[0m\u001b[0mload\u001b[0m\u001b[0;34m(\u001b[0m\u001b[0mfile\u001b[0m\u001b[0;34m)\u001b[0m\u001b[0;34m\u001b[0m\u001b[0;34m\u001b[0m\u001b[0m\n\u001b[1;32m     22\u001b[0m \u001b[0;34m\u001b[0m\u001b[0m\n",
      "\u001b[0;31mFileNotFoundError\u001b[0m: [Errno 2] No such file or directory: './tmp/map_site_ids.pkl'"
     ]
    }
   ],
   "source": [
    "%%time\n",
    "def create_build(filepaths: List):\n",
    "    def get_waypoint_from_featureStore(filepath):\n",
    "        path_id = filepath.name.split(\".\")[0]\n",
    "        feature = load_pickle(f\"../data/working/{path_id}.pkl\", verbose=False)\n",
    "        return site_map[feature.site_id], feature.site_info.site_height, feature.site_info.site_width\n",
    "    \n",
    "    site_map = load_pickle(\"./tmp/map_site_ids.pkl\", verbose=False)\n",
    "    resutls = Parallel(n_jobs=-1)(delayed(get_waypoint_from_featureStore)(filepath) for filepath in track(filepaths))\n",
    "    return resutls\n",
    "\n",
    "results = create_build(filepaths)\n",
    "\n",
    "site_id, site_height, site_width = zip(*results)"
   ]
  },
  {
   "cell_type": "code",
   "execution_count": null,
   "id": "encouraging-accommodation",
   "metadata": {},
   "outputs": [],
   "source": [
    "site_id = np.array(site_id, dtype='int32')\n",
    "site_height = np.array(site_height, dtype='float32')\n",
    "site_width = np.array(site_width, dtype='float32')"
   ]
  },
  {
   "cell_type": "code",
   "execution_count": null,
   "id": "earned-career",
   "metadata": {},
   "outputs": [],
   "source": [
    "site_id"
   ]
  },
  {
   "cell_type": "markdown",
   "id": "hazardous-agency",
   "metadata": {},
   "source": [
    "### Wifi "
   ]
  },
  {
   "cell_type": "code",
   "execution_count": 22,
   "id": "checked-orchestra",
   "metadata": {},
   "outputs": [
    {
     "data": {
      "application/vnd.jupyter.widget-view+json": {
       "model_id": "3aee9cbf58a04d66ab795a0240a7bfa5",
       "version_major": 2,
       "version_minor": 0
      },
      "text/plain": [
       "Output()"
      ]
     },
     "metadata": {},
     "output_type": "display_data"
    }
   ],
   "source": [
    "%%time\n",
    "def create_wifi():\n",
    "    def get_wifi_feature(path_id, gdf):\n",
    "        seq_len = 100\n",
    "        bssid = []\n",
    "        rssi = []\n",
    "        freq = []\n",
    "\n",
    "        feature = load_pickle(f\"../data/working/{path_id}.pkl\", verbose=False)\n",
    "        wifi = feature.wifi.copy()\n",
    "        wifi[\"bssid\"] = wifi[\"bssid\"].map(bssid_map)\n",
    "\n",
    "        min_idx = gdf.index.min()\n",
    "        max_idx = gdf.index.max()\n",
    "\n",
    "        for i, row in gdf.iterrows():\n",
    "            ts_pre_wp = gdf.loc[i - 1, \"timestamp\"] if i > min_idx else None\n",
    "            ts_current_wp = gdf.loc[i, \"timestamp\"]\n",
    "            ts_post_wp = gdf.loc[i + 1, \"timestamp\"] if (i + 1) < max_idx else None\n",
    "\n",
    "            _wifi = wifi.copy()\n",
    "            # NOTE: ターゲットとなるwaypointとその前後のwaypointの間にあるデータを取得する。\n",
    "            ts_wifi = _wifi[\"timestamp\"].values\n",
    "            pre_flag = (\n",
    "                np.ones(len(ts_wifi)).astype(bool)\n",
    "                if ts_pre_wp == None\n",
    "                else (ts_pre_wp < ts_wifi)\n",
    "            )\n",
    "            psot_flag = (\n",
    "                np.ones(len(ts_wifi)).astype(bool)\n",
    "                if ts_post_wp == None\n",
    "                else (ts_wifi < ts_post_wp)\n",
    "            )\n",
    "            _wifi = _wifi[pre_flag & psot_flag]\n",
    "\n",
    "            _wifi = _wifi.sort_values(by=\"rssi\", ascending=False)\n",
    "            _wifi = _wifi.head(seq_len)\n",
    "            \n",
    "            _bssid = np.zeros(seq_len)\n",
    "            _rssi = np.tile(-999, seq_len)\n",
    "            _freq = np.tile(-999, seq_len)\n",
    "            \n",
    "            _bssid[:len(_wifi)] = _wifi[\"bssid\"].astype(\"int32\").to_numpy()\n",
    "            _rssi[:len(_wifi)] = _wifi[\"rssi\"].astype(\"float32\").to_numpy()\n",
    "            _freq[:len(_wifi)] = _wifi[\"frequency\"].astype(\"float32\").to_numpy()\n",
    "            \n",
    "            bssid.append(_bssid)\n",
    "            rssi.append(_rssi)\n",
    "            freq.append(_freq)\n",
    "\n",
    "        return bssid, rssi, freq\n",
    "\n",
    "    waypoint = load_pickle(\"./tmp/train_waypoint.pkl\", verbose=False)\n",
    "    bssid_map = load_pickle(\"../data/label_encode/map_bssid.pkl\", verbose=False)\n",
    "    results = Parallel(n_jobs=-1)(\n",
    "        delayed(get_wifi_feature)(path_id, gdf)\n",
    "        for path_id, gdf in track(waypoint.head(5000).groupby(\"path\"))\n",
    "    )\n",
    "    return results\n",
    "\n",
    "results = create_wifi()"
   ]
  },
  {
   "cell_type": "code",
   "execution_count": null,
   "id": "atmospheric-manchester",
   "metadata": {},
   "outputs": [],
   "source": [
    "bssid, rssi, freq = zip(*results)\n",
    "bssid = np.concatenate(bssid, axis=0)\n",
    "rssi = np.concatenate(rssi, axis=0)\n",
    "freq = np.concatenate(freq, axis=0)"
   ]
  },
  {
   "cell_type": "code",
   "execution_count": null,
   "id": "referenced-benchmark",
   "metadata": {},
   "outputs": [],
   "source": [
    "waypoint = load_pickle(\"./tmp/train_waypoint.pkl\", verbose=False)"
   ]
  },
  {
   "cell_type": "code",
   "execution_count": null,
   "id": "unsigned-treatment",
   "metadata": {},
   "outputs": [],
   "source": [
    "feature = load_pickle(f\"../data/working/{path_id}.pkl\", verbose=False)"
   ]
  },
  {
   "cell_type": "code",
   "execution_count": null,
   "id": "described-volleyball",
   "metadata": {},
   "outputs": [],
   "source": [
    "waypoint = load_pickle(\"./tmp/train_waypoint.pkl\", verbose=False)\n",
    "bssid_map = load_pickle(\"../data/label_encode/map_bssid.pkl\", verbose=False)\n",
    "\n",
    "for path, gdf in waypoint.groupby('path'):\n",
    "    feature = load_pickle(f\"../data/working/{path_id}.pkl\", verbose=False)\n",
    "    wifi = feature.wifi.copy()\n",
    "    wifi[\"bssid\"] = wifi[\"bssid\"].map(bssid_map)\n",
    "\n",
    "    min_idx = gdf.index.min()\n",
    "    max_idx = gdf.index.max()\n",
    "\n",
    "    print(min_idx)\n",
    "    print(max_idx)\n",
    "\n",
    "    break"
   ]
  },
  {
   "cell_type": "markdown",
   "id": "scientific-scottish",
   "metadata": {},
   "source": [
    "### Beacon"
   ]
  },
  {
   "cell_type": "code",
   "execution_count": 46,
   "id": "cheap-lover",
   "metadata": {},
   "outputs": [],
   "source": [
    "waypoint = load_pickle(\"./tmp/train_waypoint.pkl\", verbose=False)"
   ]
  },
  {
   "cell_type": "code",
   "execution_count": 164,
   "id": "confirmed-festival",
   "metadata": {},
   "outputs": [
    {
     "data": {
      "application/vnd.jupyter.widget-view+json": {
       "model_id": "e19d9361a492476e9b22b8263d1f2a4c",
       "version_major": 2,
       "version_minor": 0
      },
      "text/plain": [
       "Output()"
      ]
     },
     "metadata": {},
     "output_type": "display_data"
    },
    {
     "name": "stdout",
     "output_type": "stream",
     "text": [
      "CPU times: user 19.5 s, sys: 1.35 s, total: 20.9 s\n",
      "Wall time: 21.1 s\n"
     ]
    }
   ],
   "source": [
    "%%time\n",
    "def create_beacon():\n",
    "    def get_beacon_feature(path_id, gdf):\n",
    "        seq_len = 20\n",
    "        uuid = []\n",
    "        tx_power = []\n",
    "        rssi = []\n",
    "\n",
    "        feature = load_pickle(f\"../data/working/{path_id}.pkl\", verbose=False)\n",
    "        data = feature.beacon.copy()\n",
    "        data[\"uuid\"] = data[\"uuid\"].map(uuid_map)\n",
    "\n",
    "        min_idx = gdf.index.min()\n",
    "        max_idx = gdf.index.max()\n",
    "\n",
    "        for i, row in gdf.iterrows():\n",
    "            ts_pre_wp = gdf.loc[i - 1, \"timestamp\"] if i > min_idx else None\n",
    "            ts_current_wp = gdf.loc[i, \"timestamp\"]\n",
    "            ts_post_wp = gdf.loc[i + 1, \"timestamp\"] if (i + 1) < max_idx else None\n",
    "            \n",
    "            _data = data.copy()\n",
    "            # NOTE: ターゲットとなるwaypointとその前後のwaypointの間にあるデータを取得する。\n",
    "            ts_data = _data[\"timestamp\"].values\n",
    "            pre_flag = (\n",
    "                np.ones(len(ts_data)).astype(bool)\n",
    "                if ts_pre_wp == None\n",
    "                else (ts_pre_wp < ts_data)\n",
    "            )\n",
    "            psot_flag = (\n",
    "                np.ones(len(ts_data)).astype(bool)\n",
    "                if ts_post_wp == None\n",
    "                else (ts_data < ts_post_wp)\n",
    "            )\n",
    "            \n",
    "            _data = _data[pre_flag & psot_flag]\n",
    "            _data = _data.sort_values(by=\"rssi\", ascending=False)\n",
    "            _data = _data.head(seq_len)\n",
    "            \n",
    "            _uuid = np.zeros(seq_len)\n",
    "            _tx_power = np.tile(-999, seq_len)\n",
    "            _rssi = np.tile(-999, seq_len)\n",
    "            \n",
    "            _uuid[:len(_data)] = _data[\"uuid\"].fillna(0).astype(\"int32\").to_numpy()\n",
    "            _tx_power[:len(_data)] = _data[\"tx_power\"].fillna(-999).astype(\"float32\").to_numpy()\n",
    "            _rssi[:len(_data)] = _data[\"rssi\"].fillna(-999).astype(\"float32\").to_numpy()\n",
    "            \n",
    "            uuid.append(_uuid)\n",
    "            tx_power.append(_tx_power)\n",
    "            rssi.append(_rssi)\n",
    "\n",
    "        return uuid, tx_power, rssi\n",
    "\n",
    "    waypoint = load_pickle(\"./tmp/train_waypoint.pkl\", verbose=False)\n",
    "    uuid_map = load_pickle(\"./tmp/uuid_map.pkl\", verbose=False)\n",
    "#     results = Parallel(n_jobs=-1)(\n",
    "#         delayed(get_beacon_feature)(path_id, gdf)\n",
    "#         for path_id, gdf in track(waypoint.head(5000).groupby(\"path\"))\n",
    "#     )\n",
    "\n",
    "    results = []\n",
    "    for path_id, gdf in track(waypoint.head(5000).groupby(\"path\")):\n",
    "        result = get_beacon_feature(path_id, gdf)\n",
    "        results.append(result)\n",
    "    return results\n",
    "\n",
    "waypoint = load_pickle(\"./tmp/train_waypoint.pkl\", verbose=False)\n",
    "bssid_map = load_pickle(\"./tmp/map_bssid.pkl\", verbose=False)\n",
    "\n",
    "results = create_beacon()"
   ]
  },
  {
   "cell_type": "code",
   "execution_count": 165,
   "id": "improved-former",
   "metadata": {},
   "outputs": [],
   "source": [
    "uuid, tx_power, rssi = zip(*results)\n",
    "uuid = np.concatenate(uuid, axis=0)\n",
    "tx_power = np.concatenate(tx_power, axis=0)\n",
    "rssi = np.concatenate(rssi, axis=0)"
   ]
  },
  {
   "cell_type": "code",
   "execution_count": 168,
   "id": "consecutive-vessel",
   "metadata": {},
   "outputs": [
    {
     "data": {
      "image/png": "[encoded data removed]",
      "text/plain": [
       "<Figure size 432x288 with 1 Axes>"
      ]
     },
     "metadata": {
      "needs_background": "light"
     },
     "output_type": "display_data"
    }
   ],
   "source": [
    "plt.figure()\n",
    "plt.hist(uuid.ravel(), bins=100)\n",
    "plt.show()"
   ]
  },
  {
   "cell_type": "markdown",
   "id": "minimal-vanilla",
   "metadata": {},
   "source": [
    "## Common Parser of Sensor Data"
   ]
  },
  {
   "cell_type": "code",
   "execution_count": 11,
   "id": "crude-shareware",
   "metadata": {},
   "outputs": [],
   "source": [
    "def get_sensor_feature(path_id: str, gdf: pd.DataFrame, data_name: str = 'accelerometer', fill_value: float = -99.):\n",
    "    past_X, past_Y, past_Z = [], [], []\n",
    "    feat_X, feat_Y, feat_Z = [], [], []\n",
    "\n",
    "    feature = load_pickle(f\"../data/working/{path_id}.pkl\", verbose=False)\n",
    "    data = feature[data_name]\n",
    "\n",
    "    seq_len = 100\n",
    "    data_size = gdf.shape[0]\n",
    "    past_x = np.tile(fill_value, (data_size, seq_len))\n",
    "    past_y = np.tile(fill_value, (data_size, seq_len))\n",
    "    past_z = np.tile(fill_value, (data_size, seq_len))\n",
    "\n",
    "    feat_x = np.tile(fill_value, (data_size, seq_len))\n",
    "    feat_y = np.tile(fill_value, (data_size, seq_len))\n",
    "    feat_z = np.tile(fill_value, (data_size, seq_len))\n",
    "\n",
    "    for i, (_, row) in enumerate(gdf.iterrows()):\n",
    "        ts_wp = row[\"timestamp\"]\n",
    "        # Past features.\n",
    "        _data = data.loc[data['timestamp'] < ts_wp, ['x', 'y', 'z']].tail(seq_len)\n",
    "        _data_size = _data.shape[0]\n",
    "\n",
    "        past_x[i, :_data_size] = _data['x']\n",
    "        past_y[i, :_data_size] = _data['y']\n",
    "        past_z[i, :_data_size] = _data['z']\n",
    "        # Feature features.\n",
    "        _data = data.loc[data['timestamp'] > ts_wp, ['x', 'y', 'z']].head(seq_len)\n",
    "        _data_size = _data.shape[0]\n",
    "\n",
    "        feat_x[i, :_data_size] = _data['x']\n",
    "        feat_y[i, :_data_size] = _data['y']\n",
    "        feat_z[i, :_data_size] = _data['z']\n",
    "\n",
    "    past_X.append(np.fliplr(past_x))\n",
    "    past_Y.append(np.fliplr(past_y))\n",
    "    past_Z.append(np.fliplr(past_z))\n",
    "\n",
    "    feat_X.append(np.fliplr(feat_x))\n",
    "    feat_Y.append(np.fliplr(feat_y))\n",
    "    feat_Z.append(np.fliplr(feat_z))\n",
    "\n",
    "    return past_X, past_Y, past_Z, feat_X, feat_Y, feat_Z"
   ]
  },
  {
   "cell_type": "markdown",
   "id": "proved-purple",
   "metadata": {},
   "source": [
    "### Accelerometer"
   ]
  },
  {
   "cell_type": "code",
   "execution_count": 36,
   "id": "preliminary-stockholm",
   "metadata": {},
   "outputs": [
    {
     "data": {
      "application/vnd.jupyter.widget-view+json": {
       "model_id": "aa49cde327f840f2bb54a8f1e1c7c79a",
       "version_major": 2,
       "version_minor": 0
      },
      "text/plain": [
       "Output()"
      ]
     },
     "metadata": {},
     "output_type": "display_data"
    }
   ],
   "source": [
    "def create_accelerometer():\n",
    "    waypoint = load_pickle(\"./tmp/train_waypoint.pkl\", verbose=False)\n",
    "    results = Parallel(n_jobs=-1)(\n",
    "        delayed(get_sensor_feature)(path_id, gdf, 'accelerometer', -10.)\n",
    "        for path_id, gdf in track(waypoint.head(10000).groupby(\"path\"))\n",
    "    )\n",
    "#     results = []\n",
    "#     for path_id, gdf in track(waypoint.head(5000).groupby(\"path\")):\n",
    "#         result = get_acce_feature(path_id, gdf)\n",
    "#         results.append(result)\n",
    "    return results\n",
    "\n",
    "results = create_accelerometer()"
   ]
  },
  {
   "cell_type": "code",
   "execution_count": 37,
   "id": "biological-broadcast",
   "metadata": {},
   "outputs": [],
   "source": [
    "past_X, past_Y, past_Z, feat_X, feat_Y, feat_Z = zip(*results)\n",
    "\n",
    "past_X = np.concatenate(past_X, axis=1).reshape(-1, 100)\n",
    "past_Y = np.concatenate(past_Y, axis=1).reshape(-1, 100)\n",
    "past_Z = np.concatenate(past_Z, axis=1).reshape(-1, 100)\n",
    "\n",
    "feat_X = np.concatenate(feat_X, axis=1).reshape(-1, 100)\n",
    "feat_Y = np.concatenate(feat_Y, axis=1).reshape(-1, 100)\n",
    "feat_Z = np.concatenate(feat_Z, axis=1).reshape(-1, 100)"
   ]
  },
  {
   "cell_type": "code",
   "execution_count": 38,
   "id": "dress-fifty",
   "metadata": {},
   "outputs": [
    {
     "data": {
      "image/png": "[encoded data removed]",
      "text/plain": [
       "<Figure size 432x288 with 1 Axes>"
      ]
     },
     "metadata": {
      "needs_background": "light"
     },
     "output_type": "display_data"
    },
    {
     "data": {
      "image/png": "[encoded data removed]",
      "text/plain": [
       "<Figure size 432x288 with 1 Axes>"
      ]
     },
     "metadata": {
      "needs_background": "light"
     },
     "output_type": "display_data"
    },
    {
     "data": {
      "image/png": "[encoded data removed]",
      "text/plain": [
       "<Figure size 432x288 with 1 Axes>"
      ]
     },
     "metadata": {
      "needs_background": "light"
     },
     "output_type": "display_data"
    }
   ],
   "source": [
    "plt.figure()\n",
    "plt.hist(np.ravel(past_X), bins=100)\n",
    "plt.show()\n",
    "\n",
    "plt.figure()\n",
    "plt.hist(np.ravel(past_Y), bins=100)\n",
    "plt.show()\n",
    "\n",
    "plt.figure()\n",
    "plt.hist(np.ravel(past_Z), bins=100)\n",
    "plt.show()"
   ]
  },
  {
   "cell_type": "markdown",
   "id": "stunning-bhutan",
   "metadata": {},
   "source": [
    "### Gyroscope"
   ]
  },
  {
   "cell_type": "code",
   "execution_count": 33,
   "id": "anonymous-welsh",
   "metadata": {},
   "outputs": [
    {
     "data": {
      "application/vnd.jupyter.widget-view+json": {
       "model_id": "512d93c1ceae4a52a9422e2fe400baa9",
       "version_major": 2,
       "version_minor": 0
      },
      "text/plain": [
       "Output()"
      ]
     },
     "metadata": {},
     "output_type": "display_data"
    }
   ],
   "source": [
    "def create_accelerometer():\n",
    "    waypoint = load_pickle(\"./tmp/train_waypoint.pkl\", verbose=False)\n",
    "    results = Parallel(n_jobs=-1)(\n",
    "        delayed(get_sensor_feature)(path_id, gdf, 'gyroscope', -5.)\n",
    "        for path_id, gdf in track(waypoint.head(10000).groupby(\"path\"))\n",
    "    )\n",
    "#     results = []\n",
    "#     for path_id, gdf in track(waypoint.head(5000).groupby(\"path\")):\n",
    "#         result = get_acce_feature(path_id, gdf)\n",
    "#         results.append(result)\n",
    "    return results\n",
    "\n",
    "results = create_accelerometer()"
   ]
  },
  {
   "cell_type": "code",
   "execution_count": 34,
   "id": "annoying-conditions",
   "metadata": {},
   "outputs": [],
   "source": [
    "past_X, past_Y, past_Z, feat_X, feat_Y, feat_Z = zip(*results)\n",
    "\n",
    "past_X = np.concatenate(past_X, axis=1).reshape(-1, 100)\n",
    "past_Y = np.concatenate(past_Y, axis=1).reshape(-1, 100)\n",
    "past_Z = np.concatenate(past_Z, axis=1).reshape(-1, 100)\n",
    "\n",
    "feat_X = np.concatenate(feat_X, axis=1).reshape(-1, 100)\n",
    "feat_Y = np.concatenate(feat_Y, axis=1).reshape(-1, 100)\n",
    "feat_Z = np.concatenate(feat_Z, axis=1).reshape(-1, 100)"
   ]
  },
  {
   "cell_type": "code",
   "execution_count": 35,
   "id": "ranking-pakistan",
   "metadata": {},
   "outputs": [
    {
     "data": {
      "image/png": "[encoded data removed]",
      "text/plain": [
       "<Figure size 432x288 with 1 Axes>"
      ]
     },
     "metadata": {
      "needs_background": "light"
     },
     "output_type": "display_data"
    },
    {
     "data": {
      "image/png": "[encoded data removed]",
      "text/plain": [
       "<Figure size 432x288 with 1 Axes>"
      ]
     },
     "metadata": {
      "needs_background": "light"
     },
     "output_type": "display_data"
    },
    {
     "data": {
      "image/png": "[encoded data removed]",
      "text/plain": [
       "<Figure size 432x288 with 1 Axes>"
      ]
     },
     "metadata": {
      "needs_background": "light"
     },
     "output_type": "display_data"
    }
   ],
   "source": [
    "plt.figure()\n",
    "plt.hist(np.ravel(past_X), bins=100)\n",
    "plt.show()\n",
    "\n",
    "plt.figure()\n",
    "plt.hist(np.ravel(past_Y), bins=100)\n",
    "plt.show()\n",
    "\n",
    "plt.figure()\n",
    "plt.hist(np.ravel(past_Z), bins=100)\n",
    "plt.show()"
   ]
  },
  {
   "cell_type": "markdown",
   "id": "viral-terminology",
   "metadata": {},
   "source": [
    "### Magnetic field"
   ]
  },
  {
   "cell_type": "code",
   "execution_count": 30,
   "id": "given-chester",
   "metadata": {},
   "outputs": [
    {
     "data": {
      "application/vnd.jupyter.widget-view+json": {
       "model_id": "549d20ba7476474ea831bc83ce36ce6b",
       "version_major": 2,
       "version_minor": 0
      },
      "text/plain": [
       "Output()"
      ]
     },
     "metadata": {},
     "output_type": "display_data"
    }
   ],
   "source": [
    "def create_accelerometer():\n",
    "    waypoint = load_pickle(\"./tmp/train_waypoint.pkl\", verbose=False)\n",
    "    results = Parallel(n_jobs=-1)(\n",
    "        delayed(get_sensor_feature)(path_id, gdf, 'magnetic_field', -99.)\n",
    "        for path_id, gdf in track(waypoint.head(10000).groupby(\"path\"))\n",
    "    )\n",
    "#     results = []\n",
    "#     for path_id, gdf in track(waypoint.head(5000).groupby(\"path\")):\n",
    "#         result = get_acce_feature(path_id, gdf)\n",
    "#         results.append(result)\n",
    "    return results\n",
    "\n",
    "results = create_accelerometer()"
   ]
  },
  {
   "cell_type": "code",
   "execution_count": 31,
   "id": "alive-input",
   "metadata": {},
   "outputs": [],
   "source": [
    "past_X, past_Y, past_Z, feat_X, feat_Y, feat_Z = zip(*results)\n",
    "\n",
    "past_X = np.concatenate(past_X, axis=1).reshape(-1, 100)\n",
    "past_Y = np.concatenate(past_Y, axis=1).reshape(-1, 100)\n",
    "past_Z = np.concatenate(past_Z, axis=1).reshape(-1, 100)\n",
    "\n",
    "feat_X = np.concatenate(feat_X, axis=1).reshape(-1, 100)\n",
    "feat_Y = np.concatenate(feat_Y, axis=1).reshape(-1, 100)\n",
    "feat_Z = np.concatenate(feat_Z, axis=1).reshape(-1, 100)"
   ]
  },
  {
   "cell_type": "code",
   "execution_count": 32,
   "id": "vertical-argument",
   "metadata": {},
   "outputs": [
    {
     "data": {
      "image/png": "[encoded data removed]",
      "text/plain": [
       "<Figure size 432x288 with 1 Axes>"
      ]
     },
     "metadata": {
      "needs_background": "light"
     },
     "output_type": "display_data"
    },
    {
     "data": {
      "image/png": "[encoded data removed]",
      "text/plain": [
       "<Figure size 432x288 with 1 Axes>"
      ]
     },
     "metadata": {
      "needs_background": "light"
     },
     "output_type": "display_data"
    },
    {
     "data": {
      "image/png": "[encoded data removed]",
      "text/plain": [
       "<Figure size 432x288 with 1 Axes>"
      ]
     },
     "metadata": {
      "needs_background": "light"
     },
     "output_type": "display_data"
    }
   ],
   "source": [
    "plt.figure()\n",
    "plt.hist(np.ravel(past_X), bins=100)\n",
    "plt.show()\n",
    "\n",
    "plt.figure()\n",
    "plt.hist(np.ravel(past_Y), bins=100)\n",
    "plt.show()\n",
    "\n",
    "plt.figure()\n",
    "plt.hist(np.ravel(past_Z), bins=100)\n",
    "plt.show()"
   ]
  },
  {
   "cell_type": "markdown",
   "id": "streaming-conditioning",
   "metadata": {},
   "source": [
    "### Rotation vector"
   ]
  },
  {
   "cell_type": "code",
   "execution_count": 27,
   "id": "explicit-atlantic",
   "metadata": {},
   "outputs": [
    {
     "data": {
      "application/vnd.jupyter.widget-view+json": {
       "model_id": "9a6d6b456bb746a2951d28df914ac904",
       "version_major": 2,
       "version_minor": 0
      },
      "text/plain": [
       "Output()"
      ]
     },
     "metadata": {},
     "output_type": "display_data"
    }
   ],
   "source": [
    "def create_accelerometer():\n",
    "    waypoint = load_pickle(\"./tmp/train_waypoint.pkl\", verbose=False)\n",
    "    results = Parallel(n_jobs=-1)(\n",
    "        delayed(get_sensor_feature)(path_id, gdf, 'rotation_vector', -3.)\n",
    "        for path_id, gdf in track(waypoint.head(10000).groupby(\"path\"))\n",
    "    )\n",
    "#     results = []\n",
    "#     for path_id, gdf in track(waypoint.head(5000).groupby(\"path\")):\n",
    "#         result = get_acce_feature(path_id, gdf)\n",
    "#         results.append(result)\n",
    "    return results\n",
    "\n",
    "results = create_accelerometer()"
   ]
  },
  {
   "cell_type": "code",
   "execution_count": 28,
   "id": "handmade-fishing",
   "metadata": {},
   "outputs": [],
   "source": [
    "past_X, past_Y, past_Z, feat_X, feat_Y, feat_Z = zip(*results)\n",
    "\n",
    "past_X = np.concatenate(past_X, axis=1).reshape(-1, 100)\n",
    "past_Y = np.concatenate(past_Y, axis=1).reshape(-1, 100)\n",
    "past_Z = np.concatenate(past_Z, axis=1).reshape(-1, 100)\n",
    "\n",
    "feat_X = np.concatenate(feat_X, axis=1).reshape(-1, 100)\n",
    "feat_Y = np.concatenate(feat_Y, axis=1).reshape(-1, 100)\n",
    "feat_Z = np.concatenate(feat_Z, axis=1).reshape(-1, 100)"
   ]
  },
  {
   "cell_type": "code",
   "execution_count": 29,
   "id": "verbal-davis",
   "metadata": {},
   "outputs": [
    {
     "data": {
      "image/png": "[encoded data removed]",
      "text/plain": [
       "<Figure size 432x288 with 1 Axes>"
      ]
     },
     "metadata": {
      "needs_background": "light"
     },
     "output_type": "display_data"
    },
    {
     "data": {
      "image/png": "[encoded data removed]",
      "text/plain": [
       "<Figure size 432x288 with 1 Axes>"
      ]
     },
     "metadata": {
      "needs_background": "light"
     },
     "output_type": "display_data"
    },
    {
     "data": {
      "image/png": "[encoded data removed]",
      "text/plain": [
       "<Figure size 432x288 with 1 Axes>"
      ]
     },
     "metadata": {
      "needs_background": "light"
     },
     "output_type": "display_data"
    }
   ],
   "source": [
    "plt.figure()\n",
    "plt.hist(np.ravel(past_X), bins=100)\n",
    "plt.show()\n",
    "\n",
    "plt.figure()\n",
    "plt.hist(np.ravel(past_Y), bins=100)\n",
    "plt.show()\n",
    "\n",
    "plt.figure()\n",
    "plt.hist(np.ravel(past_Z), bins=100)\n",
    "plt.show()"
   ]
  },
  {
   "cell_type": "code",
   "execution_count": null,
   "id": "crude-brazil",
   "metadata": {},
   "outputs": [],
   "source": []
  }
 ],
 "metadata": {
  "kernelspec": {
   "display_name": "Python 3",
   "language": "python",
   "name": "python3"
  },
  "language_info": {
   "codemirror_mode": {
    "name": "ipython",
    "version": 3
   },
   "file_extension": ".py",
   "mimetype": "text/x-python",
   "name": "python",
   "nbconvert_exporter": "python",
   "pygments_lexer": "ipython3",
   "version": "3.8.7"
  },
  "metadata": {
   "interpreter": {
    "hash": "167cad4144d70340325d221b52718775d7d96f3361bf0df64e0910740bdaf636"
   }
  }
 },
 "nbformat": 4,
 "nbformat_minor": 5
}
