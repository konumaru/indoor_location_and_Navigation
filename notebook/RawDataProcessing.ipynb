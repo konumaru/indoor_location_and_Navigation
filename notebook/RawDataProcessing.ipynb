{
 "cells": [
  {
   "cell_type": "markdown",
   "id": "restricted-contract",
   "metadata": {},
   "source": [
    "# Raw Data Processing"
   ]
  },
  {
   "cell_type": "code",
   "execution_count": 1,
   "id": "steady-folder",
   "metadata": {},
   "outputs": [],
   "source": [
    "import os\n",
    "import glob\n",
    "import pathlib\n",
    "import numpy as np\n",
    "import pandas as pd\n",
    "from numba import jit\n",
    "import joblib\n",
    "from joblib import Parallel, delayed\n",
    "from rich.progress import track\n",
    "\n",
    "from typing import Dict, List\n",
    "\n",
    "import sys\n",
    "sys.path.append(\"../src\")\n",
    "\n",
    "import config\n",
    "\n",
    "from utils.common import timer\n",
    "from utils.common import load_pickle, dump_pickle, save_cache\n",
    "from utils.feature import FeatureStore"
   ]
  },
  {
   "cell_type": "markdown",
   "id": "quantitative-hampton",
   "metadata": {},
   "source": [
    "## Extract data each data_type from txt file"
   ]
  },
  {
   "cell_type": "code",
   "execution_count": 2,
   "id": "stuck-basketball",
   "metadata": {},
   "outputs": [],
   "source": [
    "src_dir = pathlib.Path(\"../data/raw/train/\")\n",
    "filepaths = [\n",
    "    path_filepath \n",
    "    for site_filepath in src_dir.glob(\"*\") \n",
    "    for floor_filepath in site_filepath.glob(\"*\") \n",
    "    for path_filepath in floor_filepath.glob(\"*\")\n",
    "]"
   ]
  },
  {
   "cell_type": "code",
   "execution_count": 58,
   "id": "shared-monthly",
   "metadata": {},
   "outputs": [],
   "source": [
    "filepath = filepaths[100]\n",
    "\n",
    "site_id = filepath.parent.parent.name\n",
    "floor = filepath.parent.name\n",
    "path_id = filepath.name.split(\".\")[0]\n",
    "\n",
    "feature = FeatureStore(\n",
    "    site_id=site_id, \n",
    "    floor=floor, \n",
    "    path_id=path_id, \n",
    "    input_path=\"../data/raw/\"\n",
    ")\n",
    "feature.load_all_data()"
   ]
  },
  {
   "cell_type": "code",
   "execution_count": 59,
   "id": "preliminary-convenience",
   "metadata": {},
   "outputs": [],
   "source": [
    "feature.save()"
   ]
  },
  {
   "cell_type": "code",
   "execution_count": 60,
   "id": "aquatic-capture",
   "metadata": {},
   "outputs": [
    {
     "data": {
      "text/plain": [
       "['draw_polygon',\n",
       " 'features',\n",
       " 'floor',\n",
       " 'floor_coordinates',\n",
       " 'get_site_info',\n",
       " 'input_path',\n",
       " 'map_type',\n",
       " 'show_site_image',\n",
       " 'site_height',\n",
       " 'site_id',\n",
       " 'site_width',\n",
       " 'store_coordinates']"
      ]
     },
     "execution_count": 60,
     "metadata": {},
     "output_type": "execute_result"
    }
   ],
   "source": [
    "# attributes of site info\n",
    "[c for c in dir(feature.site_info) if c[0]!=\"_\"]"
   ]
  },
  {
   "cell_type": "code",
   "execution_count": 61,
   "id": "vocal-aggregate",
   "metadata": {},
   "outputs": [
    {
     "data": {
      "text/plain": [
       "(212.0599746644009, 146.74902374734265)"
      ]
     },
     "execution_count": 61,
     "metadata": {},
     "output_type": "execute_result"
    }
   ],
   "source": [
    "feature.site_info.site_height, feature.site_info.site_width"
   ]
  },
  {
   "cell_type": "code",
   "execution_count": 62,
   "id": "suitable-paradise",
   "metadata": {},
   "outputs": [
    {
     "data": {
      "text/plain": [
       "('5da138764db8ce0c98bcaa46', 'F3', '5dabeed618410e00067e7027')"
      ]
     },
     "execution_count": 62,
     "metadata": {},
     "output_type": "execute_result"
    }
   ],
   "source": [
    "feature.site_id, feature.floor, feature.path_id"
   ]
  },
  {
   "cell_type": "code",
   "execution_count": 63,
   "id": "israeli-discipline",
   "metadata": {},
   "outputs": [
    {
     "name": "stdout",
     "output_type": "stream",
     "text": [
      "accelerometer\n"
     ]
    },
    {
     "data": {
      "text/html": [
       "<div>\n",
       "<style scoped>\n",
       "    .dataframe tbody tr th:only-of-type {\n",
       "        vertical-align: middle;\n",
       "    }\n",
       "\n",
       "    .dataframe tbody tr th {\n",
       "        vertical-align: top;\n",
       "    }\n",
       "\n",
       "    .dataframe thead th {\n",
       "        text-align: right;\n",
       "    }\n",
       "</style>\n",
       "<table border=\"1\" class=\"dataframe\">\n",
       "  <thead>\n",
       "    <tr style=\"text-align: right;\">\n",
       "      <th></th>\n",
       "      <th>timestamp</th>\n",
       "      <th>x</th>\n",
       "      <th>y</th>\n",
       "      <th>z</th>\n",
       "      <th>accuracy</th>\n",
       "    </tr>\n",
       "  </thead>\n",
       "  <tbody>\n",
       "    <tr>\n",
       "      <th>0</th>\n",
       "      <td>1571545625885</td>\n",
       "      <td>-0.950211</td>\n",
       "      <td>-0.447144</td>\n",
       "      <td>10.151520</td>\n",
       "      <td>2</td>\n",
       "    </tr>\n",
       "    <tr>\n",
       "      <th>1</th>\n",
       "      <td>1571545625905</td>\n",
       "      <td>-0.237320</td>\n",
       "      <td>-1.530518</td>\n",
       "      <td>10.049774</td>\n",
       "      <td>2</td>\n",
       "    </tr>\n",
       "    <tr>\n",
       "      <th>2</th>\n",
       "      <td>1571545625925</td>\n",
       "      <td>0.108643</td>\n",
       "      <td>-1.577805</td>\n",
       "      <td>10.280212</td>\n",
       "      <td>2</td>\n",
       "    </tr>\n",
       "    <tr>\n",
       "      <th>3</th>\n",
       "      <td>1571545625945</td>\n",
       "      <td>-0.507858</td>\n",
       "      <td>-0.368134</td>\n",
       "      <td>9.212997</td>\n",
       "      <td>2</td>\n",
       "    </tr>\n",
       "    <tr>\n",
       "      <th>4</th>\n",
       "      <td>1571545625965</td>\n",
       "      <td>-1.267441</td>\n",
       "      <td>-0.116745</td>\n",
       "      <td>9.645752</td>\n",
       "      <td>2</td>\n",
       "    </tr>\n",
       "  </tbody>\n",
       "</table>\n",
       "</div>"
      ],
      "text/plain": [
       "       timestamp         x         y          z  accuracy\n",
       "0  1571545625885 -0.950211 -0.447144  10.151520         2\n",
       "1  1571545625905 -0.237320 -1.530518  10.049774         2\n",
       "2  1571545625925  0.108643 -1.577805  10.280212         2\n",
       "3  1571545625945 -0.507858 -0.368134   9.212997         2\n",
       "4  1571545625965 -1.267441 -0.116745   9.645752         2"
      ]
     },
     "metadata": {},
     "output_type": "display_data"
    },
    {
     "name": "stdout",
     "output_type": "stream",
     "text": [
      "accelerometer_uncalibrated\n"
     ]
    },
    {
     "data": {
      "text/html": [
       "<div>\n",
       "<style scoped>\n",
       "    .dataframe tbody tr th:only-of-type {\n",
       "        vertical-align: middle;\n",
       "    }\n",
       "\n",
       "    .dataframe tbody tr th {\n",
       "        vertical-align: top;\n",
       "    }\n",
       "\n",
       "    .dataframe thead th {\n",
       "        text-align: right;\n",
       "    }\n",
       "</style>\n",
       "<table border=\"1\" class=\"dataframe\">\n",
       "  <thead>\n",
       "    <tr style=\"text-align: right;\">\n",
       "      <th></th>\n",
       "      <th>timestamp</th>\n",
       "      <th>x</th>\n",
       "      <th>y</th>\n",
       "      <th>z</th>\n",
       "      <th>x2</th>\n",
       "      <th>y2</th>\n",
       "      <th>z2</th>\n",
       "      <th>accuracy</th>\n",
       "    </tr>\n",
       "  </thead>\n",
       "  <tbody>\n",
       "    <tr>\n",
       "      <th>0</th>\n",
       "      <td>1571545625885</td>\n",
       "      <td>-0.874176</td>\n",
       "      <td>-0.331619</td>\n",
       "      <td>10.253876</td>\n",
       "      <td>0.0</td>\n",
       "      <td>0.0</td>\n",
       "      <td>0.0</td>\n",
       "      <td>3</td>\n",
       "    </tr>\n",
       "    <tr>\n",
       "      <th>1</th>\n",
       "      <td>1571545625905</td>\n",
       "      <td>-0.803558</td>\n",
       "      <td>-0.672195</td>\n",
       "      <td>10.177856</td>\n",
       "      <td>0.0</td>\n",
       "      <td>0.0</td>\n",
       "      <td>0.0</td>\n",
       "      <td>3</td>\n",
       "    </tr>\n",
       "    <tr>\n",
       "      <th>2</th>\n",
       "      <td>1571545625925</td>\n",
       "      <td>0.302567</td>\n",
       "      <td>-2.148819</td>\n",
       "      <td>10.151520</td>\n",
       "      <td>0.0</td>\n",
       "      <td>0.0</td>\n",
       "      <td>0.0</td>\n",
       "      <td>3</td>\n",
       "    </tr>\n",
       "    <tr>\n",
       "      <th>3</th>\n",
       "      <td>1571545625945</td>\n",
       "      <td>-0.196625</td>\n",
       "      <td>-0.803879</td>\n",
       "      <td>9.709793</td>\n",
       "      <td>0.0</td>\n",
       "      <td>0.0</td>\n",
       "      <td>0.0</td>\n",
       "      <td>3</td>\n",
       "    </tr>\n",
       "    <tr>\n",
       "      <th>4</th>\n",
       "      <td>1571545625965</td>\n",
       "      <td>-1.028015</td>\n",
       "      <td>-0.207718</td>\n",
       "      <td>9.243530</td>\n",
       "      <td>0.0</td>\n",
       "      <td>0.0</td>\n",
       "      <td>0.0</td>\n",
       "      <td>3</td>\n",
       "    </tr>\n",
       "  </tbody>\n",
       "</table>\n",
       "</div>"
      ],
      "text/plain": [
       "       timestamp         x         y          z   x2   y2   z2  accuracy\n",
       "0  1571545625885 -0.874176 -0.331619  10.253876  0.0  0.0  0.0         3\n",
       "1  1571545625905 -0.803558 -0.672195  10.177856  0.0  0.0  0.0         3\n",
       "2  1571545625925  0.302567 -2.148819  10.151520  0.0  0.0  0.0         3\n",
       "3  1571545625945 -0.196625 -0.803879   9.709793  0.0  0.0  0.0         3\n",
       "4  1571545625965 -1.028015 -0.207718   9.243530  0.0  0.0  0.0         3"
      ]
     },
     "metadata": {},
     "output_type": "display_data"
    },
    {
     "name": "stdout",
     "output_type": "stream",
     "text": [
      "beacon\n"
     ]
    },
    {
     "data": {
      "text/html": [
       "<div>\n",
       "<style scoped>\n",
       "    .dataframe tbody tr th:only-of-type {\n",
       "        vertical-align: middle;\n",
       "    }\n",
       "\n",
       "    .dataframe tbody tr th {\n",
       "        vertical-align: top;\n",
       "    }\n",
       "\n",
       "    .dataframe thead th {\n",
       "        text-align: right;\n",
       "    }\n",
       "</style>\n",
       "<table border=\"1\" class=\"dataframe\">\n",
       "  <thead>\n",
       "    <tr style=\"text-align: right;\">\n",
       "      <th></th>\n",
       "      <th>timestamp</th>\n",
       "      <th>uuid</th>\n",
       "      <th>major_id</th>\n",
       "      <th>minor_id</th>\n",
       "      <th>tx_power</th>\n",
       "      <th>rssi</th>\n",
       "      <th>distance</th>\n",
       "      <th>mac_addr</th>\n",
       "      <th>timestamp2</th>\n",
       "    </tr>\n",
       "  </thead>\n",
       "  <tbody>\n",
       "    <tr>\n",
       "      <th>0</th>\n",
       "      <td>1571545626031</td>\n",
       "      <td>726388c292214e8a10ee4ae58707e9972ef10261</td>\n",
       "      <td>b6589fc6ab0dc82cf12099d1c2d40ab994e8410c</td>\n",
       "      <td>0f3e894dadc0e584feb3fede35662f24cc63247b</td>\n",
       "      <td>-59</td>\n",
       "      <td>-93</td>\n",
       "      <td>30.155321</td>\n",
       "      <td>2f2faae688af9c5f6fc22c0c1b699bf8b1570359</td>\n",
       "      <td>1571545626031</td>\n",
       "    </tr>\n",
       "    <tr>\n",
       "      <th>1</th>\n",
       "      <td>1571545626638</td>\n",
       "      <td>726388c292214e8a10ee4ae58707e9972ef10261</td>\n",
       "      <td>b6589fc6ab0dc82cf12099d1c2d40ab994e8410c</td>\n",
       "      <td>0f3e894dadc0e584feb3fede35662f24cc63247b</td>\n",
       "      <td>-59</td>\n",
       "      <td>-96</td>\n",
       "      <td>38.487306</td>\n",
       "      <td>2f2faae688af9c5f6fc22c0c1b699bf8b1570359</td>\n",
       "      <td>1571545626638</td>\n",
       "    </tr>\n",
       "    <tr>\n",
       "      <th>2</th>\n",
       "      <td>1571545626893</td>\n",
       "      <td>0e570c3406b79266b7ada12e3b9314e7bb9dde3e</td>\n",
       "      <td>1680a2be286cf3cc51659e320361cfa2366a3122</td>\n",
       "      <td>b29060b88734839ba76dbadcb1e52fc94cd3d33d</td>\n",
       "      <td>-75</td>\n",
       "      <td>-87</td>\n",
       "      <td>2.936306</td>\n",
       "      <td>f5b82d250cfac237b105a97745c0af7af0e3b642</td>\n",
       "      <td>1571545626893</td>\n",
       "    </tr>\n",
       "    <tr>\n",
       "      <th>3</th>\n",
       "      <td>1571545629917</td>\n",
       "      <td>0e570c3406b79266b7ada12e3b9314e7bb9dde3e</td>\n",
       "      <td>1680a2be286cf3cc51659e320361cfa2366a3122</td>\n",
       "      <td>b29060b88734839ba76dbadcb1e52fc94cd3d33d</td>\n",
       "      <td>-75</td>\n",
       "      <td>-85</td>\n",
       "      <td>2.472550</td>\n",
       "      <td>f5b82d250cfac237b105a97745c0af7af0e3b642</td>\n",
       "      <td>1571545629917</td>\n",
       "    </tr>\n",
       "    <tr>\n",
       "      <th>4</th>\n",
       "      <td>1571545630030</td>\n",
       "      <td>07efd69e3167537492f0ead89fb2779633b04949</td>\n",
       "      <td>b6589fc6ab0dc82cf12099d1c2d40ab994e8410c</td>\n",
       "      <td>4adb6ea83ff196924462448c6608080afc1e6b5a</td>\n",
       "      <td>-59</td>\n",
       "      <td>-95</td>\n",
       "      <td>35.510998</td>\n",
       "      <td>74c0c9461a955664660889f0f2b9f993f32818b2</td>\n",
       "      <td>1571545630030</td>\n",
       "    </tr>\n",
       "  </tbody>\n",
       "</table>\n",
       "</div>"
      ],
      "text/plain": [
       "       timestamp                                      uuid  \\\n",
       "0  1571545626031  726388c292214e8a10ee4ae58707e9972ef10261   \n",
       "1  1571545626638  726388c292214e8a10ee4ae58707e9972ef10261   \n",
       "2  1571545626893  0e570c3406b79266b7ada12e3b9314e7bb9dde3e   \n",
       "3  1571545629917  0e570c3406b79266b7ada12e3b9314e7bb9dde3e   \n",
       "4  1571545630030  07efd69e3167537492f0ead89fb2779633b04949   \n",
       "\n",
       "                                   major_id  \\\n",
       "0  b6589fc6ab0dc82cf12099d1c2d40ab994e8410c   \n",
       "1  b6589fc6ab0dc82cf12099d1c2d40ab994e8410c   \n",
       "2  1680a2be286cf3cc51659e320361cfa2366a3122   \n",
       "3  1680a2be286cf3cc51659e320361cfa2366a3122   \n",
       "4  b6589fc6ab0dc82cf12099d1c2d40ab994e8410c   \n",
       "\n",
       "                                   minor_id  tx_power  rssi   distance  \\\n",
       "0  0f3e894dadc0e584feb3fede35662f24cc63247b       -59   -93  30.155321   \n",
       "1  0f3e894dadc0e584feb3fede35662f24cc63247b       -59   -96  38.487306   \n",
       "2  b29060b88734839ba76dbadcb1e52fc94cd3d33d       -75   -87   2.936306   \n",
       "3  b29060b88734839ba76dbadcb1e52fc94cd3d33d       -75   -85   2.472550   \n",
       "4  4adb6ea83ff196924462448c6608080afc1e6b5a       -59   -95  35.510998   \n",
       "\n",
       "                                   mac_addr     timestamp2  \n",
       "0  2f2faae688af9c5f6fc22c0c1b699bf8b1570359  1571545626031  \n",
       "1  2f2faae688af9c5f6fc22c0c1b699bf8b1570359  1571545626638  \n",
       "2  f5b82d250cfac237b105a97745c0af7af0e3b642  1571545626893  \n",
       "3  f5b82d250cfac237b105a97745c0af7af0e3b642  1571545629917  \n",
       "4  74c0c9461a955664660889f0f2b9f993f32818b2  1571545630030  "
      ]
     },
     "metadata": {},
     "output_type": "display_data"
    },
    {
     "name": "stdout",
     "output_type": "stream",
     "text": [
      "gyroscope\n"
     ]
    },
    {
     "data": {
      "text/html": [
       "<div>\n",
       "<style scoped>\n",
       "    .dataframe tbody tr th:only-of-type {\n",
       "        vertical-align: middle;\n",
       "    }\n",
       "\n",
       "    .dataframe tbody tr th {\n",
       "        vertical-align: top;\n",
       "    }\n",
       "\n",
       "    .dataframe thead th {\n",
       "        text-align: right;\n",
       "    }\n",
       "</style>\n",
       "<table border=\"1\" class=\"dataframe\">\n",
       "  <thead>\n",
       "    <tr style=\"text-align: right;\">\n",
       "      <th></th>\n",
       "      <th>timestamp</th>\n",
       "      <th>x</th>\n",
       "      <th>y</th>\n",
       "      <th>z</th>\n",
       "      <th>accuracy</th>\n",
       "    </tr>\n",
       "  </thead>\n",
       "  <tbody>\n",
       "    <tr>\n",
       "      <th>0</th>\n",
       "      <td>1571545625885</td>\n",
       "      <td>-0.007080</td>\n",
       "      <td>-0.141129</td>\n",
       "      <td>0.024811</td>\n",
       "      <td>3</td>\n",
       "    </tr>\n",
       "    <tr>\n",
       "      <th>1</th>\n",
       "      <td>1571545625905</td>\n",
       "      <td>0.024338</td>\n",
       "      <td>-0.280670</td>\n",
       "      <td>0.156891</td>\n",
       "      <td>3</td>\n",
       "    </tr>\n",
       "    <tr>\n",
       "      <th>2</th>\n",
       "      <td>1571545625925</td>\n",
       "      <td>0.194778</td>\n",
       "      <td>-0.255112</td>\n",
       "      <td>-0.257492</td>\n",
       "      <td>3</td>\n",
       "    </tr>\n",
       "    <tr>\n",
       "      <th>3</th>\n",
       "      <td>1571545625945</td>\n",
       "      <td>0.297577</td>\n",
       "      <td>-0.276413</td>\n",
       "      <td>-0.425278</td>\n",
       "      <td>3</td>\n",
       "    </tr>\n",
       "    <tr>\n",
       "      <th>4</th>\n",
       "      <td>1571545625965</td>\n",
       "      <td>0.278946</td>\n",
       "      <td>0.034119</td>\n",
       "      <td>-0.165894</td>\n",
       "      <td>3</td>\n",
       "    </tr>\n",
       "  </tbody>\n",
       "</table>\n",
       "</div>"
      ],
      "text/plain": [
       "       timestamp         x         y         z  accuracy\n",
       "0  1571545625885 -0.007080 -0.141129  0.024811         3\n",
       "1  1571545625905  0.024338 -0.280670  0.156891         3\n",
       "2  1571545625925  0.194778 -0.255112 -0.257492         3\n",
       "3  1571545625945  0.297577 -0.276413 -0.425278         3\n",
       "4  1571545625965  0.278946  0.034119 -0.165894         3"
      ]
     },
     "metadata": {},
     "output_type": "display_data"
    },
    {
     "name": "stdout",
     "output_type": "stream",
     "text": [
      "gyroscope_uncalibrated\n"
     ]
    },
    {
     "data": {
      "text/html": [
       "<div>\n",
       "<style scoped>\n",
       "    .dataframe tbody tr th:only-of-type {\n",
       "        vertical-align: middle;\n",
       "    }\n",
       "\n",
       "    .dataframe tbody tr th {\n",
       "        vertical-align: top;\n",
       "    }\n",
       "\n",
       "    .dataframe thead th {\n",
       "        text-align: right;\n",
       "    }\n",
       "</style>\n",
       "<table border=\"1\" class=\"dataframe\">\n",
       "  <thead>\n",
       "    <tr style=\"text-align: right;\">\n",
       "      <th></th>\n",
       "      <th>timestamp</th>\n",
       "      <th>x</th>\n",
       "      <th>y</th>\n",
       "      <th>z</th>\n",
       "      <th>x2</th>\n",
       "      <th>y2</th>\n",
       "      <th>z2</th>\n",
       "      <th>accuracy</th>\n",
       "    </tr>\n",
       "  </thead>\n",
       "  <tbody>\n",
       "    <tr>\n",
       "      <th>0</th>\n",
       "      <td>1571545625885</td>\n",
       "      <td>-0.047302</td>\n",
       "      <td>-0.112778</td>\n",
       "      <td>-0.044922</td>\n",
       "      <td>-0.000793</td>\n",
       "      <td>0.000122</td>\n",
       "      <td>0.000061</td>\n",
       "      <td>3</td>\n",
       "    </tr>\n",
       "    <tr>\n",
       "      <th>1</th>\n",
       "      <td>1571545625905</td>\n",
       "      <td>0.010757</td>\n",
       "      <td>-0.228882</td>\n",
       "      <td>0.116486</td>\n",
       "      <td>-0.000793</td>\n",
       "      <td>0.000122</td>\n",
       "      <td>0.000061</td>\n",
       "      <td>3</td>\n",
       "    </tr>\n",
       "    <tr>\n",
       "      <th>2</th>\n",
       "      <td>1571545625925</td>\n",
       "      <td>0.090134</td>\n",
       "      <td>-0.240067</td>\n",
       "      <td>0.008347</td>\n",
       "      <td>-0.000793</td>\n",
       "      <td>0.000122</td>\n",
       "      <td>0.000061</td>\n",
       "      <td>3</td>\n",
       "    </tr>\n",
       "    <tr>\n",
       "      <th>3</th>\n",
       "      <td>1571545625945</td>\n",
       "      <td>0.270691</td>\n",
       "      <td>-0.309845</td>\n",
       "      <td>-0.417755</td>\n",
       "      <td>-0.000793</td>\n",
       "      <td>0.000122</td>\n",
       "      <td>0.000061</td>\n",
       "      <td>3</td>\n",
       "    </tr>\n",
       "    <tr>\n",
       "      <th>4</th>\n",
       "      <td>1571545625965</td>\n",
       "      <td>0.281876</td>\n",
       "      <td>-0.155914</td>\n",
       "      <td>-0.319763</td>\n",
       "      <td>-0.000793</td>\n",
       "      <td>0.000122</td>\n",
       "      <td>0.000061</td>\n",
       "      <td>3</td>\n",
       "    </tr>\n",
       "  </tbody>\n",
       "</table>\n",
       "</div>"
      ],
      "text/plain": [
       "       timestamp         x         y         z        x2        y2        z2  \\\n",
       "0  1571545625885 -0.047302 -0.112778 -0.044922 -0.000793  0.000122  0.000061   \n",
       "1  1571545625905  0.010757 -0.228882  0.116486 -0.000793  0.000122  0.000061   \n",
       "2  1571545625925  0.090134 -0.240067  0.008347 -0.000793  0.000122  0.000061   \n",
       "3  1571545625945  0.270691 -0.309845 -0.417755 -0.000793  0.000122  0.000061   \n",
       "4  1571545625965  0.281876 -0.155914 -0.319763 -0.000793  0.000122  0.000061   \n",
       "\n",
       "   accuracy  \n",
       "0         3  \n",
       "1         3  \n",
       "2         3  \n",
       "3         3  \n",
       "4         3  "
      ]
     },
     "metadata": {},
     "output_type": "display_data"
    },
    {
     "name": "stdout",
     "output_type": "stream",
     "text": [
      "magnetic_field\n"
     ]
    },
    {
     "data": {
      "text/html": [
       "<div>\n",
       "<style scoped>\n",
       "    .dataframe tbody tr th:only-of-type {\n",
       "        vertical-align: middle;\n",
       "    }\n",
       "\n",
       "    .dataframe tbody tr th {\n",
       "        vertical-align: top;\n",
       "    }\n",
       "\n",
       "    .dataframe thead th {\n",
       "        text-align: right;\n",
       "    }\n",
       "</style>\n",
       "<table border=\"1\" class=\"dataframe\">\n",
       "  <thead>\n",
       "    <tr style=\"text-align: right;\">\n",
       "      <th></th>\n",
       "      <th>timestamp</th>\n",
       "      <th>x</th>\n",
       "      <th>y</th>\n",
       "      <th>z</th>\n",
       "      <th>accuracy</th>\n",
       "    </tr>\n",
       "  </thead>\n",
       "  <tbody>\n",
       "    <tr>\n",
       "      <th>0</th>\n",
       "      <td>1571545625885</td>\n",
       "      <td>-34.222412</td>\n",
       "      <td>-0.723267</td>\n",
       "      <td>-26.528930</td>\n",
       "      <td>3</td>\n",
       "    </tr>\n",
       "    <tr>\n",
       "      <th>1</th>\n",
       "      <td>1571545625905</td>\n",
       "      <td>-34.222412</td>\n",
       "      <td>1.358032</td>\n",
       "      <td>-25.187683</td>\n",
       "      <td>3</td>\n",
       "    </tr>\n",
       "    <tr>\n",
       "      <th>2</th>\n",
       "      <td>1571545625925</td>\n",
       "      <td>-34.916687</td>\n",
       "      <td>-0.028992</td>\n",
       "      <td>-25.859070</td>\n",
       "      <td>3</td>\n",
       "    </tr>\n",
       "    <tr>\n",
       "      <th>3</th>\n",
       "      <td>1571545625945</td>\n",
       "      <td>-32.835390</td>\n",
       "      <td>-0.028992</td>\n",
       "      <td>-26.528930</td>\n",
       "      <td>3</td>\n",
       "    </tr>\n",
       "    <tr>\n",
       "      <th>4</th>\n",
       "      <td>1571545625965</td>\n",
       "      <td>-34.222412</td>\n",
       "      <td>0.665283</td>\n",
       "      <td>-27.198792</td>\n",
       "      <td>3</td>\n",
       "    </tr>\n",
       "  </tbody>\n",
       "</table>\n",
       "</div>"
      ],
      "text/plain": [
       "       timestamp          x         y          z  accuracy\n",
       "0  1571545625885 -34.222412 -0.723267 -26.528930         3\n",
       "1  1571545625905 -34.222412  1.358032 -25.187683         3\n",
       "2  1571545625925 -34.916687 -0.028992 -25.859070         3\n",
       "3  1571545625945 -32.835390 -0.028992 -26.528930         3\n",
       "4  1571545625965 -34.222412  0.665283 -27.198792         3"
      ]
     },
     "metadata": {},
     "output_type": "display_data"
    },
    {
     "name": "stdout",
     "output_type": "stream",
     "text": [
      "magnetic_field_uncalibrated\n"
     ]
    },
    {
     "data": {
      "text/html": [
       "<div>\n",
       "<style scoped>\n",
       "    .dataframe tbody tr th:only-of-type {\n",
       "        vertical-align: middle;\n",
       "    }\n",
       "\n",
       "    .dataframe tbody tr th {\n",
       "        vertical-align: top;\n",
       "    }\n",
       "\n",
       "    .dataframe thead th {\n",
       "        text-align: right;\n",
       "    }\n",
       "</style>\n",
       "<table border=\"1\" class=\"dataframe\">\n",
       "  <thead>\n",
       "    <tr style=\"text-align: right;\">\n",
       "      <th></th>\n",
       "      <th>timestamp</th>\n",
       "      <th>x</th>\n",
       "      <th>y</th>\n",
       "      <th>z</th>\n",
       "      <th>x2</th>\n",
       "      <th>y2</th>\n",
       "      <th>z2</th>\n",
       "      <th>accuracy</th>\n",
       "    </tr>\n",
       "  </thead>\n",
       "  <tbody>\n",
       "    <tr>\n",
       "      <th>0</th>\n",
       "      <td>1571545625885</td>\n",
       "      <td>-77.699280</td>\n",
       "      <td>-83.25043</td>\n",
       "      <td>-364.64996</td>\n",
       "      <td>-43.476868</td>\n",
       "      <td>-82.52716</td>\n",
       "      <td>-338.12103</td>\n",
       "      <td>3</td>\n",
       "    </tr>\n",
       "    <tr>\n",
       "      <th>1</th>\n",
       "      <td>1571545625905</td>\n",
       "      <td>-77.699280</td>\n",
       "      <td>-81.16913</td>\n",
       "      <td>-363.30872</td>\n",
       "      <td>-43.476868</td>\n",
       "      <td>-82.52716</td>\n",
       "      <td>-338.12103</td>\n",
       "      <td>3</td>\n",
       "    </tr>\n",
       "    <tr>\n",
       "      <th>2</th>\n",
       "      <td>1571545625925</td>\n",
       "      <td>-78.393555</td>\n",
       "      <td>-82.55615</td>\n",
       "      <td>-363.98010</td>\n",
       "      <td>-43.476868</td>\n",
       "      <td>-82.52716</td>\n",
       "      <td>-338.12103</td>\n",
       "      <td>3</td>\n",
       "    </tr>\n",
       "    <tr>\n",
       "      <th>3</th>\n",
       "      <td>1571545625945</td>\n",
       "      <td>-76.312256</td>\n",
       "      <td>-82.55615</td>\n",
       "      <td>-364.64996</td>\n",
       "      <td>-43.476868</td>\n",
       "      <td>-82.52716</td>\n",
       "      <td>-338.12103</td>\n",
       "      <td>3</td>\n",
       "    </tr>\n",
       "    <tr>\n",
       "      <th>4</th>\n",
       "      <td>1571545625965</td>\n",
       "      <td>-77.699280</td>\n",
       "      <td>-81.86188</td>\n",
       "      <td>-365.31982</td>\n",
       "      <td>-43.476868</td>\n",
       "      <td>-82.52716</td>\n",
       "      <td>-338.12103</td>\n",
       "      <td>3</td>\n",
       "    </tr>\n",
       "  </tbody>\n",
       "</table>\n",
       "</div>"
      ],
      "text/plain": [
       "       timestamp          x         y          z         x2        y2  \\\n",
       "0  1571545625885 -77.699280 -83.25043 -364.64996 -43.476868 -82.52716   \n",
       "1  1571545625905 -77.699280 -81.16913 -363.30872 -43.476868 -82.52716   \n",
       "2  1571545625925 -78.393555 -82.55615 -363.98010 -43.476868 -82.52716   \n",
       "3  1571545625945 -76.312256 -82.55615 -364.64996 -43.476868 -82.52716   \n",
       "4  1571545625965 -77.699280 -81.86188 -365.31982 -43.476868 -82.52716   \n",
       "\n",
       "          z2  accuracy  \n",
       "0 -338.12103         3  \n",
       "1 -338.12103         3  \n",
       "2 -338.12103         3  \n",
       "3 -338.12103         3  \n",
       "4 -338.12103         3  "
      ]
     },
     "metadata": {},
     "output_type": "display_data"
    },
    {
     "name": "stdout",
     "output_type": "stream",
     "text": [
      "rotation_vector\n"
     ]
    },
    {
     "data": {
      "text/html": [
       "<div>\n",
       "<style scoped>\n",
       "    .dataframe tbody tr th:only-of-type {\n",
       "        vertical-align: middle;\n",
       "    }\n",
       "\n",
       "    .dataframe tbody tr th {\n",
       "        vertical-align: top;\n",
       "    }\n",
       "\n",
       "    .dataframe thead th {\n",
       "        text-align: right;\n",
       "    }\n",
       "</style>\n",
       "<table border=\"1\" class=\"dataframe\">\n",
       "  <thead>\n",
       "    <tr style=\"text-align: right;\">\n",
       "      <th></th>\n",
       "      <th>timestamp</th>\n",
       "      <th>x</th>\n",
       "      <th>y</th>\n",
       "      <th>z</th>\n",
       "      <th>accuracy</th>\n",
       "    </tr>\n",
       "  </thead>\n",
       "  <tbody>\n",
       "    <tr>\n",
       "      <th>0</th>\n",
       "      <td>1571545625885</td>\n",
       "      <td>0.004937</td>\n",
       "      <td>0.035247</td>\n",
       "      <td>-0.714563</td>\n",
       "      <td>3</td>\n",
       "    </tr>\n",
       "    <tr>\n",
       "      <th>1</th>\n",
       "      <td>1571545625905</td>\n",
       "      <td>0.007161</td>\n",
       "      <td>0.037377</td>\n",
       "      <td>-0.713370</td>\n",
       "      <td>3</td>\n",
       "    </tr>\n",
       "    <tr>\n",
       "      <th>2</th>\n",
       "      <td>1571545625925</td>\n",
       "      <td>-0.003907</td>\n",
       "      <td>0.040647</td>\n",
       "      <td>-0.719029</td>\n",
       "      <td>3</td>\n",
       "    </tr>\n",
       "    <tr>\n",
       "      <th>3</th>\n",
       "      <td>1571545625945</td>\n",
       "      <td>-0.013164</td>\n",
       "      <td>0.039219</td>\n",
       "      <td>-0.726202</td>\n",
       "      <td>3</td>\n",
       "    </tr>\n",
       "    <tr>\n",
       "      <th>4</th>\n",
       "      <td>1571545625965</td>\n",
       "      <td>-0.010029</td>\n",
       "      <td>0.035698</td>\n",
       "      <td>-0.727309</td>\n",
       "      <td>3</td>\n",
       "    </tr>\n",
       "  </tbody>\n",
       "</table>\n",
       "</div>"
      ],
      "text/plain": [
       "       timestamp         x         y         z  accuracy\n",
       "0  1571545625885  0.004937  0.035247 -0.714563         3\n",
       "1  1571545625905  0.007161  0.037377 -0.713370         3\n",
       "2  1571545625925 -0.003907  0.040647 -0.719029         3\n",
       "3  1571545625945 -0.013164  0.039219 -0.726202         3\n",
       "4  1571545625965 -0.010029  0.035698 -0.727309         3"
      ]
     },
     "metadata": {},
     "output_type": "display_data"
    },
    {
     "name": "stdout",
     "output_type": "stream",
     "text": [
      "waypoint\n"
     ]
    },
    {
     "data": {
      "text/html": [
       "<div>\n",
       "<style scoped>\n",
       "    .dataframe tbody tr th:only-of-type {\n",
       "        vertical-align: middle;\n",
       "    }\n",
       "\n",
       "    .dataframe tbody tr th {\n",
       "        vertical-align: top;\n",
       "    }\n",
       "\n",
       "    .dataframe thead th {\n",
       "        text-align: right;\n",
       "    }\n",
       "</style>\n",
       "<table border=\"1\" class=\"dataframe\">\n",
       "  <thead>\n",
       "    <tr style=\"text-align: right;\">\n",
       "      <th></th>\n",
       "      <th>timestamp</th>\n",
       "      <th>x</th>\n",
       "      <th>y</th>\n",
       "    </tr>\n",
       "  </thead>\n",
       "  <tbody>\n",
       "    <tr>\n",
       "      <th>0</th>\n",
       "      <td>1571545625766</td>\n",
       "      <td>76.337490</td>\n",
       "      <td>94.725075</td>\n",
       "    </tr>\n",
       "    <tr>\n",
       "      <th>1</th>\n",
       "      <td>1571545630298</td>\n",
       "      <td>80.892600</td>\n",
       "      <td>94.235695</td>\n",
       "    </tr>\n",
       "    <tr>\n",
       "      <th>2</th>\n",
       "      <td>1571545639307</td>\n",
       "      <td>81.752380</td>\n",
       "      <td>86.743670</td>\n",
       "    </tr>\n",
       "    <tr>\n",
       "      <th>3</th>\n",
       "      <td>1571545651586</td>\n",
       "      <td>90.152565</td>\n",
       "      <td>86.986360</td>\n",
       "    </tr>\n",
       "    <tr>\n",
       "      <th>4</th>\n",
       "      <td>1571545660099</td>\n",
       "      <td>97.861170</td>\n",
       "      <td>87.440080</td>\n",
       "    </tr>\n",
       "  </tbody>\n",
       "</table>\n",
       "</div>"
      ],
      "text/plain": [
       "       timestamp          x          y\n",
       "0  1571545625766  76.337490  94.725075\n",
       "1  1571545630298  80.892600  94.235695\n",
       "2  1571545639307  81.752380  86.743670\n",
       "3  1571545651586  90.152565  86.986360\n",
       "4  1571545660099  97.861170  87.440080"
      ]
     },
     "metadata": {},
     "output_type": "display_data"
    },
    {
     "name": "stdout",
     "output_type": "stream",
     "text": [
      "wifi\n"
     ]
    },
    {
     "data": {
      "text/html": [
       "<div>\n",
       "<style scoped>\n",
       "    .dataframe tbody tr th:only-of-type {\n",
       "        vertical-align: middle;\n",
       "    }\n",
       "\n",
       "    .dataframe tbody tr th {\n",
       "        vertical-align: top;\n",
       "    }\n",
       "\n",
       "    .dataframe thead th {\n",
       "        text-align: right;\n",
       "    }\n",
       "</style>\n",
       "<table border=\"1\" class=\"dataframe\">\n",
       "  <thead>\n",
       "    <tr style=\"text-align: right;\">\n",
       "      <th></th>\n",
       "      <th>timestamp</th>\n",
       "      <th>ssid</th>\n",
       "      <th>bssid</th>\n",
       "      <th>rssi</th>\n",
       "      <th>frequency</th>\n",
       "      <th>last_seen_timestamp</th>\n",
       "    </tr>\n",
       "  </thead>\n",
       "  <tbody>\n",
       "    <tr>\n",
       "      <th>0</th>\n",
       "      <td>1571545627643</td>\n",
       "      <td>76f476c4a48560ff0ccd16e084028125183dd7d9</td>\n",
       "      <td>a1c69ca657ce727e64e782206b7b02a8b2d71dc8</td>\n",
       "      <td>-57</td>\n",
       "      <td>2412</td>\n",
       "      <td>1571545622849</td>\n",
       "    </tr>\n",
       "    <tr>\n",
       "      <th>1</th>\n",
       "      <td>1571545627643</td>\n",
       "      <td>21725587b1e7ba069dbe3ed05ffa2f3f2115b1e0</td>\n",
       "      <td>44e146eabacf580907da22dbf5ab239b5d65f057</td>\n",
       "      <td>-60</td>\n",
       "      <td>2437</td>\n",
       "      <td>1571545626146</td>\n",
       "    </tr>\n",
       "    <tr>\n",
       "      <th>2</th>\n",
       "      <td>1571545627643</td>\n",
       "      <td>06725136dd0bfa6439cda80db53eb483d9e3dda7</td>\n",
       "      <td>89dd2f80e478afc75ee414afd689f8b208a46206</td>\n",
       "      <td>-64</td>\n",
       "      <td>2437</td>\n",
       "      <td>1571545623130</td>\n",
       "    </tr>\n",
       "    <tr>\n",
       "      <th>3</th>\n",
       "      <td>1571545627643</td>\n",
       "      <td>7dc74a44a08ceffd931fcb77cd7e7e4c007d7072</td>\n",
       "      <td>899070d20cca7399c67bf9e45239a06899de9c17</td>\n",
       "      <td>-65</td>\n",
       "      <td>2437</td>\n",
       "      <td>1571545598998</td>\n",
       "    </tr>\n",
       "    <tr>\n",
       "      <th>4</th>\n",
       "      <td>1571545627643</td>\n",
       "      <td>06725136dd0bfa6439cda80db53eb483d9e3dda7</td>\n",
       "      <td>a9b8c0f03b34021867bd38bace4ada15e8002d14</td>\n",
       "      <td>-67</td>\n",
       "      <td>2462</td>\n",
       "      <td>1571545626460</td>\n",
       "    </tr>\n",
       "  </tbody>\n",
       "</table>\n",
       "</div>"
      ],
      "text/plain": [
       "       timestamp                                      ssid  \\\n",
       "0  1571545627643  76f476c4a48560ff0ccd16e084028125183dd7d9   \n",
       "1  1571545627643  21725587b1e7ba069dbe3ed05ffa2f3f2115b1e0   \n",
       "2  1571545627643  06725136dd0bfa6439cda80db53eb483d9e3dda7   \n",
       "3  1571545627643  7dc74a44a08ceffd931fcb77cd7e7e4c007d7072   \n",
       "4  1571545627643  06725136dd0bfa6439cda80db53eb483d9e3dda7   \n",
       "\n",
       "                                      bssid  rssi  frequency  \\\n",
       "0  a1c69ca657ce727e64e782206b7b02a8b2d71dc8   -57       2412   \n",
       "1  44e146eabacf580907da22dbf5ab239b5d65f057   -60       2437   \n",
       "2  89dd2f80e478afc75ee414afd689f8b208a46206   -64       2437   \n",
       "3  899070d20cca7399c67bf9e45239a06899de9c17   -65       2437   \n",
       "4  a9b8c0f03b34021867bd38bace4ada15e8002d14   -67       2462   \n",
       "\n",
       "   last_seen_timestamp  \n",
       "0        1571545622849  \n",
       "1        1571545626146  \n",
       "2        1571545623130  \n",
       "3        1571545598998  \n",
       "4        1571545626460  "
      ]
     },
     "metadata": {},
     "output_type": "display_data"
    }
   ],
   "source": [
    "# attributes of feature store\n",
    "for d_type in feature.df_types:\n",
    "    print(d_type)\n",
    "    display(feature[d_type].head())"
   ]
  },
  {
   "cell_type": "markdown",
   "id": "swiss-ministry",
   "metadata": {},
   "source": [
    "---"
   ]
  },
  {
   "cell_type": "markdown",
   "id": "structural-bermuda",
   "metadata": {},
   "source": [
    "## Create map for label encode"
   ]
  },
  {
   "cell_type": "code",
   "execution_count": 9,
   "id": "fourth-criminal",
   "metadata": {},
   "outputs": [],
   "source": [
    "src_dir = pathlib.Path(\"../data/raw/train/\")\n",
    "filepaths = [\n",
    "    path_filepath \n",
    "    for site_filepath in src_dir.glob(\"*\") \n",
    "    for floor_filepath in site_filepath.glob(\"*\") \n",
    "    for path_filepath in floor_filepath.glob(\"*\")\n",
    "]"
   ]
  },
  {
   "cell_type": "markdown",
   "id": "suspended-trust",
   "metadata": {},
   "source": [
    "### site for build"
   ]
  },
  {
   "cell_type": "code",
   "execution_count": 10,
   "id": "endless-pakistan",
   "metadata": {},
   "outputs": [],
   "source": [
    "def create_site_map():\n",
    "    def get_site_id_from_feature_store(filepath):\n",
    "        path_id = filepath.name.split(\".\")[0]\n",
    "\n",
    "        feature = load_pickle(f\"../data/working/{path_id}.pkl\", verbose=False)\n",
    "        return feature.site_id\n",
    "    \n",
    "    site_ids = Parallel(n_jobs=-1)(delayed(get_site_id_from_feature_store)(filepath) for filepath in track(filepaths))\n",
    "    unique_site_ids = np.unique(site_ids)\n",
    "    siteId_map = {site_id: i + 1 for i, site_id in enumerate(unique_site_ids)}\n",
    "    return siteId_map"
   ]
  },
  {
   "cell_type": "code",
   "execution_count": 11,
   "id": "complex-pricing",
   "metadata": {},
   "outputs": [
    {
     "data": {
      "application/vnd.jupyter.widget-view+json": {
       "model_id": "ebbeb52b84b547a2903d8c8c5da4e6e2",
       "version_major": 2,
       "version_minor": 0
      },
      "text/plain": [
       "Output()"
      ]
     },
     "metadata": {},
     "output_type": "display_data"
    },
    {
     "name": "stdout",
     "output_type": "stream",
     "text": [
      "CPU times: user 20.1 s, sys: 4.42 s, total: 24.6 s\n",
      "Wall time: 2min 20s\n"
     ]
    }
   ],
   "source": [
    "%%time\n",
    "siteId_map = create_site_map()"
   ]
  },
  {
   "cell_type": "code",
   "execution_count": 12,
   "id": "sticky-donor",
   "metadata": {},
   "outputs": [
    {
     "name": "stdout",
     "output_type": "stream",
     "text": [
      "Dump pickle to ./tmp/map_site_ids.pkl\n"
     ]
    }
   ],
   "source": [
    "dump_pickle(\"./tmp/map_site_ids.pkl\", siteId_map)"
   ]
  },
  {
   "cell_type": "markdown",
   "id": "transparent-missile",
   "metadata": {},
   "source": [
    "### bssid of wifi"
   ]
  },
  {
   "cell_type": "code",
   "execution_count": 13,
   "id": "tutorial-snowboard",
   "metadata": {},
   "outputs": [],
   "source": [
    "def get_bssid_from_feature_store(filepath):\n",
    "    path_id = filepath.name.split(\".\")[0]\n",
    "    \n",
    "    feature = load_pickle(f\"../data/working/{path_id}.pkl\", verbose=False)\n",
    "    uniques = feature.wifi.bssid.unique()\n",
    "    if len(uniques) > 0:\n",
    "        return uniques\n",
    "    else:\n",
    "        return np.array([])"
   ]
  },
  {
   "cell_type": "code",
   "execution_count": 14,
   "id": "surprising-identification",
   "metadata": {},
   "outputs": [
    {
     "data": {
      "application/vnd.jupyter.widget-view+json": {
       "model_id": "2698f3505017488295a8f60d0270eb57",
       "version_major": 2,
       "version_minor": 0
      },
      "text/plain": [
       "Output()"
      ]
     },
     "metadata": {},
     "output_type": "display_data"
    },
    {
     "name": "stdout",
     "output_type": "stream",
     "text": [
      "Dump pickle to ./tmp/map_bssid.pkl\n",
      "CPU times: user 29.3 s, sys: 3.21 s, total: 32.6 s\n",
      "Wall time: 1min 48s\n"
     ]
    }
   ],
   "source": [
    "%%time\n",
    "bssid = Parallel(n_jobs=-1)(delayed(get_bssid_from_feature_store)(filepath) for filepath in track(filepaths))\n",
    "\n",
    "bssid = np.concatenate(bssid, axis=0)\n",
    "unique_bsid = np.unique(bssid)\n",
    "\n",
    "bssid_map = {_bssid: i + 1 for i, _bssid in enumerate(bssid)}\n",
    "dump_pickle(\"./tmp/map_bssid.pkl\", bssid_map)"
   ]
  },
  {
   "cell_type": "markdown",
   "id": "democratic-masters",
   "metadata": {},
   "source": [
    "---"
   ]
  },
  {
   "cell_type": "markdown",
   "id": "forced-mountain",
   "metadata": {},
   "source": [
    "## Simple feature engineering"
   ]
  },
  {
   "cell_type": "code",
   "execution_count": 15,
   "id": "public-lease",
   "metadata": {},
   "outputs": [],
   "source": [
    "src_dir = pathlib.Path(\"../data/raw/train/\")\n",
    "filepaths = [\n",
    "    path_filepath \n",
    "    for site_filepath in src_dir.glob(\"*\") \n",
    "    for floor_filepath in site_filepath.glob(\"*\") \n",
    "    for path_filepath in floor_filepath.glob(\"*\")\n",
    "]"
   ]
  },
  {
   "cell_type": "markdown",
   "id": "deadly-impossible",
   "metadata": {},
   "source": [
    "### Create waypoint"
   ]
  },
  {
   "cell_type": "code",
   "execution_count": 16,
   "id": "occupational-finance",
   "metadata": {},
   "outputs": [
    {
     "data": {
      "application/vnd.jupyter.widget-view+json": {
       "model_id": "f5d48ce5649c4d04b8e6c8a90e6590da",
       "version_major": 2,
       "version_minor": 0
      },
      "text/plain": [
       "Output()"
      ]
     },
     "metadata": {},
     "output_type": "display_data"
    },
    {
     "name": "stdout",
     "output_type": "stream",
     "text": [
      "CPU times: user 1min 20s, sys: 4.01 s, total: 1min 24s\n",
      "Wall time: 2min 2s\n"
     ]
    }
   ],
   "source": [
    "%%time\n",
    "def create_waypoint(filepaths: List):\n",
    "    def get_waypoint_from_featureStore(filepath):\n",
    "        path_id = filepath.name.split(\".\")[0]\n",
    "\n",
    "        feature = load_pickle(f\"../data/working/{path_id}.pkl\", verbose=False)\n",
    "        wp = feature['waypoint']\n",
    "        wp['site'] = feature.site_id\n",
    "        wp['floor'] = feature.n_floor\n",
    "        wp['path'] = feature.path_id\n",
    "        if len(wp) > 0:\n",
    "            return wp\n",
    "        else:\n",
    "            return pd.DataFrame([])\n",
    "\n",
    "    waypoint = Parallel(n_jobs=-1)(delayed(get_waypoint_from_featureStore)(filepath) for filepath in track(filepaths))\n",
    "    waypoint = pd.concat(waypoint, axis=0).reset_index(drop=True)\n",
    "    waypoint = waypoint.sort_values(by=['path', 'timestamp']).reset_index(drop=True)\n",
    "    return waypoint\n",
    "\n",
    "waypoint = create_waypoint(filepaths)"
   ]
  },
  {
   "cell_type": "code",
   "execution_count": 17,
   "id": "suspected-freeze",
   "metadata": {},
   "outputs": [
    {
     "name": "stdout",
     "output_type": "stream",
     "text": [
      "Dump pickle to ./tmp/train_waypoint.pkl\n"
     ]
    }
   ],
   "source": [
    "dump_pickle('./tmp/train_waypoint.pkl', waypoint)"
   ]
  },
  {
   "cell_type": "code",
   "execution_count": 18,
   "id": "choice-gallery",
   "metadata": {},
   "outputs": [
    {
     "data": {
      "text/html": [
       "<div>\n",
       "<style scoped>\n",
       "    .dataframe tbody tr th:only-of-type {\n",
       "        vertical-align: middle;\n",
       "    }\n",
       "\n",
       "    .dataframe tbody tr th {\n",
       "        vertical-align: top;\n",
       "    }\n",
       "\n",
       "    .dataframe thead th {\n",
       "        text-align: right;\n",
       "    }\n",
       "</style>\n",
       "<table border=\"1\" class=\"dataframe\">\n",
       "  <thead>\n",
       "    <tr style=\"text-align: right;\">\n",
       "      <th></th>\n",
       "      <th>timestamp</th>\n",
       "      <th>x</th>\n",
       "      <th>y</th>\n",
       "      <th>site</th>\n",
       "      <th>floor</th>\n",
       "      <th>path</th>\n",
       "    </tr>\n",
       "  </thead>\n",
       "  <tbody>\n",
       "    <tr>\n",
       "      <th>0</th>\n",
       "      <td>1558318437984</td>\n",
       "      <td>59.747032</td>\n",
       "      <td>244.61037</td>\n",
       "      <td>5cd969ba39e2fc0b4afe6fae</td>\n",
       "      <td>0</td>\n",
       "      <td>5ce215bc2d50640008bf22e2</td>\n",
       "    </tr>\n",
       "    <tr>\n",
       "      <th>1</th>\n",
       "      <td>1558318450619</td>\n",
       "      <td>55.360070</td>\n",
       "      <td>256.03390</td>\n",
       "      <td>5cd969ba39e2fc0b4afe6fae</td>\n",
       "      <td>0</td>\n",
       "      <td>5ce215bc2d50640008bf22e2</td>\n",
       "    </tr>\n",
       "    <tr>\n",
       "      <th>2</th>\n",
       "      <td>1558318459913</td>\n",
       "      <td>49.936070</td>\n",
       "      <td>254.65387</td>\n",
       "      <td>5cd969ba39e2fc0b4afe6fae</td>\n",
       "      <td>0</td>\n",
       "      <td>5ce215bc2d50640008bf22e2</td>\n",
       "    </tr>\n",
       "    <tr>\n",
       "      <th>3</th>\n",
       "      <td>1558318468827</td>\n",
       "      <td>44.060840</td>\n",
       "      <td>252.69990</td>\n",
       "      <td>5cd969ba39e2fc0b4afe6fae</td>\n",
       "      <td>0</td>\n",
       "      <td>5ce215bc2d50640008bf22e2</td>\n",
       "    </tr>\n",
       "    <tr>\n",
       "      <th>4</th>\n",
       "      <td>1558318550185</td>\n",
       "      <td>47.224000</td>\n",
       "      <td>245.42503</td>\n",
       "      <td>5cd969ba39e2fc0b4afe6fae</td>\n",
       "      <td>0</td>\n",
       "      <td>5ce215be915519000851776a</td>\n",
       "    </tr>\n",
       "  </tbody>\n",
       "</table>\n",
       "</div>"
      ],
      "text/plain": [
       "       timestamp          x          y                      site  floor  \\\n",
       "0  1558318437984  59.747032  244.61037  5cd969ba39e2fc0b4afe6fae      0   \n",
       "1  1558318450619  55.360070  256.03390  5cd969ba39e2fc0b4afe6fae      0   \n",
       "2  1558318459913  49.936070  254.65387  5cd969ba39e2fc0b4afe6fae      0   \n",
       "3  1558318468827  44.060840  252.69990  5cd969ba39e2fc0b4afe6fae      0   \n",
       "4  1558318550185  47.224000  245.42503  5cd969ba39e2fc0b4afe6fae      0   \n",
       "\n",
       "                       path  \n",
       "0  5ce215bc2d50640008bf22e2  \n",
       "1  5ce215bc2d50640008bf22e2  \n",
       "2  5ce215bc2d50640008bf22e2  \n",
       "3  5ce215bc2d50640008bf22e2  \n",
       "4  5ce215be915519000851776a  "
      ]
     },
     "execution_count": 18,
     "metadata": {},
     "output_type": "execute_result"
    }
   ],
   "source": [
    "waypoint.head()"
   ]
  },
  {
   "cell_type": "markdown",
   "id": "informative-millennium",
   "metadata": {},
   "source": [
    "### Create build info"
   ]
  },
  {
   "cell_type": "code",
   "execution_count": 19,
   "id": "domestic-sweden",
   "metadata": {},
   "outputs": [
    {
     "data": {
      "application/vnd.jupyter.widget-view+json": {
       "model_id": "f54b8efdf0424c9cb7b280521792fd2c",
       "version_major": 2,
       "version_minor": 0
      },
      "text/plain": [
       "Output()"
      ]
     },
     "metadata": {},
     "output_type": "display_data"
    },
    {
     "name": "stdout",
     "output_type": "stream",
     "text": [
      "CPU times: user 26.1 s, sys: 3.31 s, total: 29.4 s\n",
      "Wall time: 1min 55s\n"
     ]
    }
   ],
   "source": [
    "%%time\n",
    "def create_build(filepaths: List):\n",
    "    def get_waypoint_from_featureStore(filepath):\n",
    "        path_id = filepath.name.split(\".\")[0]\n",
    "        feature = load_pickle(f\"../data/working/{path_id}.pkl\", verbose=False)\n",
    "        return site_map[feature.site_id], feature.site_info.site_height, feature.site_info.site_width\n",
    "    \n",
    "    site_map = load_pickle(\"./tmp/map_site_ids.pkl\", verbose=False)\n",
    "    resutls = Parallel(n_jobs=-1)(delayed(get_waypoint_from_featureStore)(filepath) for filepath in track(filepaths))\n",
    "    return resutls\n",
    "\n",
    "results = create_build(filepaths)\n",
    "\n",
    "site_id, site_height, site_width = zip(*results)"
   ]
  },
  {
   "cell_type": "code",
   "execution_count": 20,
   "id": "animated-neutral",
   "metadata": {},
   "outputs": [],
   "source": [
    "site_id = np.array(site_id, dtype='int32')\n",
    "site_height = np.array(site_height, dtype='float32')\n",
    "site_width = np.array(site_width, dtype='float32')"
   ]
  },
  {
   "cell_type": "code",
   "execution_count": 21,
   "id": "southwest-inquiry",
   "metadata": {},
   "outputs": [
    {
     "data": {
      "text/plain": [
       "array([199, 199, 199, ...,  96,  96,  96], dtype=int32)"
      ]
     },
     "execution_count": 21,
     "metadata": {},
     "output_type": "execute_result"
    }
   ],
   "source": [
    "site_id"
   ]
  },
  {
   "cell_type": "markdown",
   "id": "incomplete-moral",
   "metadata": {},
   "source": [
    "### Create wifi "
   ]
  },
  {
   "cell_type": "code",
   "execution_count": 22,
   "id": "approved-malaysia",
   "metadata": {},
   "outputs": [
    {
     "data": {
      "application/vnd.jupyter.widget-view+json": {
       "model_id": "b9ac18dccec24a88a1aa50439cc96dd6",
       "version_major": 2,
       "version_minor": 0
      },
      "text/plain": [
       "Output()"
      ]
     },
     "metadata": {},
     "output_type": "display_data"
    },
    {
     "name": "stdout",
     "output_type": "stream",
     "text": [
      "CPU times: user 1min 1s, sys: 17.5 s, total: 1min 19s\n",
      "Wall time: 2min 16s\n"
     ]
    }
   ],
   "source": [
    "%%time\n",
    "\n",
    "def create_wifi():\n",
    "    def get_wifi_feature(path_id, gdf):\n",
    "        seq_len = 100\n",
    "        bssid = []\n",
    "        rssi = []\n",
    "        freq = []\n",
    "\n",
    "        feature = load_pickle(f\"../data/working/{path_id}.pkl\", verbose=False)\n",
    "        wifi = feature.wifi.copy()\n",
    "        wifi[\"bssid\"] = wifi[\"bssid\"].map(bssid_map)\n",
    "\n",
    "        min_idx = gdf.index.min()\n",
    "        max_idx = gdf.index.max()\n",
    "\n",
    "        for i, row in gdf.iterrows():\n",
    "            ts_pre_wp = gdf.loc[i - 1, \"timestamp\"] if i > min_idx else None\n",
    "            ts_current_wp = gdf.loc[i, \"timestamp\"]\n",
    "            ts_post_wp = gdf.loc[i + 1, \"timestamp\"] if (i + 1) < max_idx else None\n",
    "\n",
    "            _wifi = wifi.copy()\n",
    "            # NOTE: ターゲットとなるwaypointとその前後のwaypointの間にあるデータを取得する。\n",
    "            ts_wifi = _wifi[\"timestamp\"].values\n",
    "            pre_flag = (\n",
    "                np.ones(len(ts_wifi)).astype(bool)\n",
    "                if ts_pre_wp == None\n",
    "                else (ts_pre_wp < ts_wifi)\n",
    "            )\n",
    "            psot_flag = (\n",
    "                np.ones(len(ts_wifi)).astype(bool)\n",
    "                if ts_post_wp == None\n",
    "                else (ts_wifi < ts_post_wp)\n",
    "            )\n",
    "            _wifi = _wifi[pre_flag & psot_flag]\n",
    "\n",
    "            _wifi = _wifi.sort_values(by=\"rssi\", ascending=False)\n",
    "            _wifi = _wifi.head(seq_len)\n",
    "            \n",
    "            _bssid = np.zeros(seq_len)\n",
    "            _rssi = np.tile(-999, seq_len)\n",
    "            _freq = np.tile(-999, seq_len)\n",
    "            \n",
    "            _bssid[:len(_wifi)] = _wifi[\"bssid\"].astype(\"int32\").to_numpy()\n",
    "            _rssi[:len(_wifi)] = _wifi[\"rssi\"].astype(\"float32\").to_numpy()\n",
    "            _freq[:len(_wifi)] = _wifi[\"frequency\"].astype(\"float32\").to_numpy()\n",
    "            \n",
    "            bssid.append(_bssid)\n",
    "            rssi.append(_rssi)\n",
    "            freq.append(_freq)\n",
    "\n",
    "        return bssid, rssi, freq\n",
    "\n",
    "    waypoint = load_pickle(\"./tmp/train_waypoint.pkl\", verbose=False)\n",
    "    bssid_map = load_pickle(\"./tmp/map_bssid.pkl\", verbose=False)\n",
    "    results = Parallel(n_jobs=-1)(\n",
    "        delayed(get_wifi_feature)(path_id, gdf)\n",
    "        for path_id, gdf in track(waypoint.head(5000).groupby(\"path\"))\n",
    "    )\n",
    "    return results\n",
    "\n",
    "waypoint = load_pickle(\"./tmp/train_waypoint.pkl\", verbose=False)\n",
    "bssid_map = load_pickle(\"./tmp/map_bssid.pkl\", verbose=False)\n",
    "\n",
    "results = create_wifi()"
   ]
  },
  {
   "cell_type": "code",
   "execution_count": 23,
   "id": "funny-roads",
   "metadata": {},
   "outputs": [],
   "source": [
    "bssid, rssi, freq = zip(*results)\n",
    "bssid = np.concatenate(bssid, axis=0)\n",
    "rssi = np.concatenate(rssi, axis=0)\n",
    "freq = np.concatenate(freq, axis=0)"
   ]
  },
  {
   "cell_type": "code",
   "execution_count": 24,
   "id": "legislative-asbestos",
   "metadata": {},
   "outputs": [],
   "source": [
    "waypoint = load_pickle(\"./tmp/train_waypoint.pkl\", verbose=False)"
   ]
  },
  {
   "cell_type": "code",
   "execution_count": 25,
   "id": "metallic-future",
   "metadata": {},
   "outputs": [
    {
     "ename": "KeyError",
     "evalue": "0",
     "output_type": "error",
     "traceback": [
      "\u001b[0;31m---------------------------------------------------------------------------\u001b[0m",
      "\u001b[0;31mKeyError\u001b[0m                                  Traceback (most recent call last)",
      "\u001b[0;32m~/Documents/repositories/indoor_location_and_Navigation/.venv/lib/python3.8/site-packages/pandas/core/indexes/base.py\u001b[0m in \u001b[0;36mget_loc\u001b[0;34m(self, key, method, tolerance)\u001b[0m\n\u001b[1;32m   3079\u001b[0m             \u001b[0;32mtry\u001b[0m\u001b[0;34m:\u001b[0m\u001b[0;34m\u001b[0m\u001b[0;34m\u001b[0m\u001b[0m\n\u001b[0;32m-> 3080\u001b[0;31m                 \u001b[0;32mreturn\u001b[0m \u001b[0mself\u001b[0m\u001b[0;34m.\u001b[0m\u001b[0m_engine\u001b[0m\u001b[0;34m.\u001b[0m\u001b[0mget_loc\u001b[0m\u001b[0;34m(\u001b[0m\u001b[0mcasted_key\u001b[0m\u001b[0;34m)\u001b[0m\u001b[0;34m\u001b[0m\u001b[0;34m\u001b[0m\u001b[0m\n\u001b[0m\u001b[1;32m   3081\u001b[0m             \u001b[0;32mexcept\u001b[0m \u001b[0mKeyError\u001b[0m \u001b[0;32mas\u001b[0m \u001b[0merr\u001b[0m\u001b[0;34m:\u001b[0m\u001b[0;34m\u001b[0m\u001b[0;34m\u001b[0m\u001b[0m\n",
      "\u001b[0;32mpandas/_libs/index.pyx\u001b[0m in \u001b[0;36mpandas._libs.index.IndexEngine.get_loc\u001b[0;34m()\u001b[0m\n",
      "\u001b[0;32mpandas/_libs/index.pyx\u001b[0m in \u001b[0;36mpandas._libs.index.IndexEngine.get_loc\u001b[0;34m()\u001b[0m\n",
      "\u001b[0;32mpandas/_libs/hashtable_class_helper.pxi\u001b[0m in \u001b[0;36mpandas._libs.hashtable.PyObjectHashTable.get_item\u001b[0;34m()\u001b[0m\n",
      "\u001b[0;32mpandas/_libs/hashtable_class_helper.pxi\u001b[0m in \u001b[0;36mpandas._libs.hashtable.PyObjectHashTable.get_item\u001b[0;34m()\u001b[0m\n",
      "\u001b[0;31mKeyError\u001b[0m: 0",
      "\nThe above exception was the direct cause of the following exception:\n",
      "\u001b[0;31mKeyError\u001b[0m                                  Traceback (most recent call last)",
      "\u001b[0;32m<ipython-input-25-35679c6e3f66>\u001b[0m in \u001b[0;36m<module>\u001b[0;34m\u001b[0m\n\u001b[0;32m----> 1\u001b[0;31m \u001b[0mwaypoint\u001b[0m\u001b[0;34m[\u001b[0m\u001b[0;36m0\u001b[0m\u001b[0;34m]\u001b[0m\u001b[0;34m\u001b[0m\u001b[0;34m\u001b[0m\u001b[0m\n\u001b[0m",
      "\u001b[0;32m~/Documents/repositories/indoor_location_and_Navigation/.venv/lib/python3.8/site-packages/pandas/core/frame.py\u001b[0m in \u001b[0;36m__getitem__\u001b[0;34m(self, key)\u001b[0m\n\u001b[1;32m   3022\u001b[0m             \u001b[0;32mif\u001b[0m \u001b[0mself\u001b[0m\u001b[0;34m.\u001b[0m\u001b[0mcolumns\u001b[0m\u001b[0;34m.\u001b[0m\u001b[0mnlevels\u001b[0m \u001b[0;34m>\u001b[0m \u001b[0;36m1\u001b[0m\u001b[0;34m:\u001b[0m\u001b[0;34m\u001b[0m\u001b[0;34m\u001b[0m\u001b[0m\n\u001b[1;32m   3023\u001b[0m                 \u001b[0;32mreturn\u001b[0m \u001b[0mself\u001b[0m\u001b[0;34m.\u001b[0m\u001b[0m_getitem_multilevel\u001b[0m\u001b[0;34m(\u001b[0m\u001b[0mkey\u001b[0m\u001b[0;34m)\u001b[0m\u001b[0;34m\u001b[0m\u001b[0;34m\u001b[0m\u001b[0m\n\u001b[0;32m-> 3024\u001b[0;31m             \u001b[0mindexer\u001b[0m \u001b[0;34m=\u001b[0m \u001b[0mself\u001b[0m\u001b[0;34m.\u001b[0m\u001b[0mcolumns\u001b[0m\u001b[0;34m.\u001b[0m\u001b[0mget_loc\u001b[0m\u001b[0;34m(\u001b[0m\u001b[0mkey\u001b[0m\u001b[0;34m)\u001b[0m\u001b[0;34m\u001b[0m\u001b[0;34m\u001b[0m\u001b[0m\n\u001b[0m\u001b[1;32m   3025\u001b[0m             \u001b[0;32mif\u001b[0m \u001b[0mis_integer\u001b[0m\u001b[0;34m(\u001b[0m\u001b[0mindexer\u001b[0m\u001b[0;34m)\u001b[0m\u001b[0;34m:\u001b[0m\u001b[0;34m\u001b[0m\u001b[0;34m\u001b[0m\u001b[0m\n\u001b[1;32m   3026\u001b[0m                 \u001b[0mindexer\u001b[0m \u001b[0;34m=\u001b[0m \u001b[0;34m[\u001b[0m\u001b[0mindexer\u001b[0m\u001b[0;34m]\u001b[0m\u001b[0;34m\u001b[0m\u001b[0;34m\u001b[0m\u001b[0m\n",
      "\u001b[0;32m~/Documents/repositories/indoor_location_and_Navigation/.venv/lib/python3.8/site-packages/pandas/core/indexes/base.py\u001b[0m in \u001b[0;36mget_loc\u001b[0;34m(self, key, method, tolerance)\u001b[0m\n\u001b[1;32m   3080\u001b[0m                 \u001b[0;32mreturn\u001b[0m \u001b[0mself\u001b[0m\u001b[0;34m.\u001b[0m\u001b[0m_engine\u001b[0m\u001b[0;34m.\u001b[0m\u001b[0mget_loc\u001b[0m\u001b[0;34m(\u001b[0m\u001b[0mcasted_key\u001b[0m\u001b[0;34m)\u001b[0m\u001b[0;34m\u001b[0m\u001b[0;34m\u001b[0m\u001b[0m\n\u001b[1;32m   3081\u001b[0m             \u001b[0;32mexcept\u001b[0m \u001b[0mKeyError\u001b[0m \u001b[0;32mas\u001b[0m \u001b[0merr\u001b[0m\u001b[0;34m:\u001b[0m\u001b[0;34m\u001b[0m\u001b[0;34m\u001b[0m\u001b[0m\n\u001b[0;32m-> 3082\u001b[0;31m                 \u001b[0;32mraise\u001b[0m \u001b[0mKeyError\u001b[0m\u001b[0;34m(\u001b[0m\u001b[0mkey\u001b[0m\u001b[0;34m)\u001b[0m \u001b[0;32mfrom\u001b[0m \u001b[0merr\u001b[0m\u001b[0;34m\u001b[0m\u001b[0;34m\u001b[0m\u001b[0m\n\u001b[0m\u001b[1;32m   3083\u001b[0m \u001b[0;34m\u001b[0m\u001b[0m\n\u001b[1;32m   3084\u001b[0m         \u001b[0;32mif\u001b[0m \u001b[0mtolerance\u001b[0m \u001b[0;32mis\u001b[0m \u001b[0;32mnot\u001b[0m \u001b[0;32mNone\u001b[0m\u001b[0;34m:\u001b[0m\u001b[0;34m\u001b[0m\u001b[0;34m\u001b[0m\u001b[0m\n",
      "\u001b[0;31mKeyError\u001b[0m: 0"
     ]
    }
   ],
   "source": [
    "waypoint[0]"
   ]
  },
  {
   "cell_type": "code",
   "execution_count": null,
   "id": "assigned-cookie",
   "metadata": {},
   "outputs": [],
   "source": [
    "feature = load_pickle(f\"../data/working/{path_id}.pkl\", verbose=False)"
   ]
  }
 ],
 "metadata": {
  "kernelspec": {
   "display_name": "Python 3",
   "language": "python",
   "name": "python3"
  },
  "language_info": {
   "codemirror_mode": {
    "name": "ipython",
    "version": 3
   },
   "file_extension": ".py",
   "mimetype": "text/x-python",
   "name": "python",
   "nbconvert_exporter": "python",
   "pygments_lexer": "ipython3",
   "version": "3.8.7"
  },
  "metadata": {
   "interpreter": {
    "hash": "f2ca7a9b7fa3bc968dd99347ec7273d657e1ea5c7f2ccb49296aa32a0fb6eef9"
   }
  }
 },
 "nbformat": 4,
 "nbformat_minor": 5
}
