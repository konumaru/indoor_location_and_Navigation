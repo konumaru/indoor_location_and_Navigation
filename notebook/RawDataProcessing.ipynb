{
 "cells": [
  {
   "cell_type": "markdown",
   "id": "experimental-rwanda",
   "metadata": {},
   "source": [
    "# Raw Data Processing"
   ]
  },
  {
   "cell_type": "code",
   "execution_count": 84,
   "id": "removed-format",
   "metadata": {},
   "outputs": [],
   "source": [
    "import os\n",
    "import glob\n",
    "import pathlib\n",
    "import numpy as np\n",
    "import pandas as pd\n",
    "from numba import jit\n",
    "import joblib\n",
    "from joblib import Parallel, delayed\n",
    "from rich.progress import track\n",
    "\n",
    "from typing import Dict, List\n",
    "\n",
    "import sys\n",
    "sys.path.append(\"../src\")\n",
    "\n",
    "import config\n",
    "\n",
    "from utils.common import timer\n",
    "from utils.common import load_pickle, dump_pickle, save_cache\n",
    "from utils.feature import FeatureStore\n",
    "\n",
    "\n",
    "import matplotlib.pyplot as plt\n",
    "%matplotlib inline"
   ]
  },
  {
   "cell_type": "markdown",
   "id": "opposed-house",
   "metadata": {},
   "source": [
    "## Extract data each data_type from txt file"
   ]
  },
  {
   "cell_type": "code",
   "execution_count": 37,
   "id": "stainless-representative",
   "metadata": {},
   "outputs": [],
   "source": [
    "src_dir = pathlib.Path(\"../data/raw/train/\")\n",
    "filepaths = [\n",
    "    path_filepath \n",
    "    for site_filepath in src_dir.glob(\"*\") \n",
    "    for floor_filepath in site_filepath.glob(\"*\") \n",
    "    for path_filepath in floor_filepath.glob(\"*\")\n",
    "]"
   ]
  },
  {
   "cell_type": "code",
   "execution_count": 38,
   "id": "sought-virginia",
   "metadata": {},
   "outputs": [],
   "source": [
    "filepath = filepaths[100]\n",
    "\n",
    "site_id = filepath.parent.parent.name\n",
    "floor = filepath.parent.name\n",
    "path_id = filepath.name.split(\".\")[0]\n",
    "\n",
    "feature = FeatureStore(\n",
    "    site_id=site_id, \n",
    "    floor=floor, \n",
    "    path_id=path_id, \n",
    "    input_path=\"../data/raw/\"\n",
    ")\n",
    "feature.load_all_data()"
   ]
  },
  {
   "cell_type": "code",
   "execution_count": 39,
   "id": "apparent-photograph",
   "metadata": {},
   "outputs": [],
   "source": [
    "feature.save()"
   ]
  },
  {
   "cell_type": "code",
   "execution_count": 40,
   "id": "laden-extra",
   "metadata": {},
   "outputs": [
    {
     "data": {
      "text/plain": [
       "['draw_polygon',\n",
       " 'features',\n",
       " 'floor',\n",
       " 'floor_coordinates',\n",
       " 'get_site_info',\n",
       " 'input_path',\n",
       " 'map_type',\n",
       " 'show_site_image',\n",
       " 'site_height',\n",
       " 'site_id',\n",
       " 'site_width',\n",
       " 'store_coordinates']"
      ]
     },
     "execution_count": 40,
     "metadata": {},
     "output_type": "execute_result"
    }
   ],
   "source": [
    "# attributes of site info\n",
    "[c for c in dir(feature.site_info) if c[0]!=\"_\"]"
   ]
  },
  {
   "cell_type": "code",
   "execution_count": 41,
   "id": "rubber-marshall",
   "metadata": {},
   "outputs": [
    {
     "data": {
      "text/plain": [
       "(212.0599746644009, 146.74902374734265)"
      ]
     },
     "execution_count": 41,
     "metadata": {},
     "output_type": "execute_result"
    }
   ],
   "source": [
    "feature.site_info.site_height, feature.site_info.site_width"
   ]
  },
  {
   "cell_type": "code",
   "execution_count": 42,
   "id": "distinguished-sitting",
   "metadata": {},
   "outputs": [
    {
     "data": {
      "text/plain": [
       "('5da138764db8ce0c98bcaa46', 'F3', '5dabeed618410e00067e7027')"
      ]
     },
     "execution_count": 42,
     "metadata": {},
     "output_type": "execute_result"
    }
   ],
   "source": [
    "feature.site_id, feature.floor, feature.path_id"
   ]
  },
  {
   "cell_type": "code",
   "execution_count": 43,
   "id": "seeing-reduction",
   "metadata": {},
   "outputs": [
    {
     "name": "stdout",
     "output_type": "stream",
     "text": [
      "accelerometer\n"
     ]
    },
    {
     "data": {
      "text/html": [
       "<div>\n",
       "<style scoped>\n",
       "    .dataframe tbody tr th:only-of-type {\n",
       "        vertical-align: middle;\n",
       "    }\n",
       "\n",
       "    .dataframe tbody tr th {\n",
       "        vertical-align: top;\n",
       "    }\n",
       "\n",
       "    .dataframe thead th {\n",
       "        text-align: right;\n",
       "    }\n",
       "</style>\n",
       "<table border=\"1\" class=\"dataframe\">\n",
       "  <thead>\n",
       "    <tr style=\"text-align: right;\">\n",
       "      <th></th>\n",
       "      <th>timestamp</th>\n",
       "      <th>x</th>\n",
       "      <th>y</th>\n",
       "      <th>z</th>\n",
       "      <th>accuracy</th>\n",
       "    </tr>\n",
       "  </thead>\n",
       "  <tbody>\n",
       "    <tr>\n",
       "      <th>0</th>\n",
       "      <td>1571545625885</td>\n",
       "      <td>-0.950211</td>\n",
       "      <td>-0.447144</td>\n",
       "      <td>10.151520</td>\n",
       "      <td>2</td>\n",
       "    </tr>\n",
       "    <tr>\n",
       "      <th>1</th>\n",
       "      <td>1571545625905</td>\n",
       "      <td>-0.237320</td>\n",
       "      <td>-1.530518</td>\n",
       "      <td>10.049774</td>\n",
       "      <td>2</td>\n",
       "    </tr>\n",
       "    <tr>\n",
       "      <th>2</th>\n",
       "      <td>1571545625925</td>\n",
       "      <td>0.108643</td>\n",
       "      <td>-1.577805</td>\n",
       "      <td>10.280212</td>\n",
       "      <td>2</td>\n",
       "    </tr>\n",
       "    <tr>\n",
       "      <th>3</th>\n",
       "      <td>1571545625945</td>\n",
       "      <td>-0.507858</td>\n",
       "      <td>-0.368134</td>\n",
       "      <td>9.212997</td>\n",
       "      <td>2</td>\n",
       "    </tr>\n",
       "    <tr>\n",
       "      <th>4</th>\n",
       "      <td>1571545625965</td>\n",
       "      <td>-1.267441</td>\n",
       "      <td>-0.116745</td>\n",
       "      <td>9.645752</td>\n",
       "      <td>2</td>\n",
       "    </tr>\n",
       "  </tbody>\n",
       "</table>\n",
       "</div>"
      ],
      "text/plain": [
       "       timestamp         x         y          z  accuracy\n",
       "0  1571545625885 -0.950211 -0.447144  10.151520         2\n",
       "1  1571545625905 -0.237320 -1.530518  10.049774         2\n",
       "2  1571545625925  0.108643 -1.577805  10.280212         2\n",
       "3  1571545625945 -0.507858 -0.368134   9.212997         2\n",
       "4  1571545625965 -1.267441 -0.116745   9.645752         2"
      ]
     },
     "metadata": {},
     "output_type": "display_data"
    },
    {
     "name": "stdout",
     "output_type": "stream",
     "text": [
      "accelerometer_uncalibrated\n"
     ]
    },
    {
     "data": {
      "text/html": [
       "<div>\n",
       "<style scoped>\n",
       "    .dataframe tbody tr th:only-of-type {\n",
       "        vertical-align: middle;\n",
       "    }\n",
       "\n",
       "    .dataframe tbody tr th {\n",
       "        vertical-align: top;\n",
       "    }\n",
       "\n",
       "    .dataframe thead th {\n",
       "        text-align: right;\n",
       "    }\n",
       "</style>\n",
       "<table border=\"1\" class=\"dataframe\">\n",
       "  <thead>\n",
       "    <tr style=\"text-align: right;\">\n",
       "      <th></th>\n",
       "      <th>timestamp</th>\n",
       "      <th>x</th>\n",
       "      <th>y</th>\n",
       "      <th>z</th>\n",
       "      <th>x2</th>\n",
       "      <th>y2</th>\n",
       "      <th>z2</th>\n",
       "      <th>accuracy</th>\n",
       "    </tr>\n",
       "  </thead>\n",
       "  <tbody>\n",
       "    <tr>\n",
       "      <th>0</th>\n",
       "      <td>1571545625885</td>\n",
       "      <td>-0.874176</td>\n",
       "      <td>-0.331619</td>\n",
       "      <td>10.253876</td>\n",
       "      <td>0.0</td>\n",
       "      <td>0.0</td>\n",
       "      <td>0.0</td>\n",
       "      <td>3</td>\n",
       "    </tr>\n",
       "    <tr>\n",
       "      <th>1</th>\n",
       "      <td>1571545625905</td>\n",
       "      <td>-0.803558</td>\n",
       "      <td>-0.672195</td>\n",
       "      <td>10.177856</td>\n",
       "      <td>0.0</td>\n",
       "      <td>0.0</td>\n",
       "      <td>0.0</td>\n",
       "      <td>3</td>\n",
       "    </tr>\n",
       "    <tr>\n",
       "      <th>2</th>\n",
       "      <td>1571545625925</td>\n",
       "      <td>0.302567</td>\n",
       "      <td>-2.148819</td>\n",
       "      <td>10.151520</td>\n",
       "      <td>0.0</td>\n",
       "      <td>0.0</td>\n",
       "      <td>0.0</td>\n",
       "      <td>3</td>\n",
       "    </tr>\n",
       "    <tr>\n",
       "      <th>3</th>\n",
       "      <td>1571545625945</td>\n",
       "      <td>-0.196625</td>\n",
       "      <td>-0.803879</td>\n",
       "      <td>9.709793</td>\n",
       "      <td>0.0</td>\n",
       "      <td>0.0</td>\n",
       "      <td>0.0</td>\n",
       "      <td>3</td>\n",
       "    </tr>\n",
       "    <tr>\n",
       "      <th>4</th>\n",
       "      <td>1571545625965</td>\n",
       "      <td>-1.028015</td>\n",
       "      <td>-0.207718</td>\n",
       "      <td>9.243530</td>\n",
       "      <td>0.0</td>\n",
       "      <td>0.0</td>\n",
       "      <td>0.0</td>\n",
       "      <td>3</td>\n",
       "    </tr>\n",
       "  </tbody>\n",
       "</table>\n",
       "</div>"
      ],
      "text/plain": [
       "       timestamp         x         y          z   x2   y2   z2  accuracy\n",
       "0  1571545625885 -0.874176 -0.331619  10.253876  0.0  0.0  0.0         3\n",
       "1  1571545625905 -0.803558 -0.672195  10.177856  0.0  0.0  0.0         3\n",
       "2  1571545625925  0.302567 -2.148819  10.151520  0.0  0.0  0.0         3\n",
       "3  1571545625945 -0.196625 -0.803879   9.709793  0.0  0.0  0.0         3\n",
       "4  1571545625965 -1.028015 -0.207718   9.243530  0.0  0.0  0.0         3"
      ]
     },
     "metadata": {},
     "output_type": "display_data"
    },
    {
     "name": "stdout",
     "output_type": "stream",
     "text": [
      "beacon\n"
     ]
    },
    {
     "data": {
      "text/html": [
       "<div>\n",
       "<style scoped>\n",
       "    .dataframe tbody tr th:only-of-type {\n",
       "        vertical-align: middle;\n",
       "    }\n",
       "\n",
       "    .dataframe tbody tr th {\n",
       "        vertical-align: top;\n",
       "    }\n",
       "\n",
       "    .dataframe thead th {\n",
       "        text-align: right;\n",
       "    }\n",
       "</style>\n",
       "<table border=\"1\" class=\"dataframe\">\n",
       "  <thead>\n",
       "    <tr style=\"text-align: right;\">\n",
       "      <th></th>\n",
       "      <th>timestamp</th>\n",
       "      <th>uuid</th>\n",
       "      <th>major_id</th>\n",
       "      <th>minor_id</th>\n",
       "      <th>tx_power</th>\n",
       "      <th>rssi</th>\n",
       "      <th>distance</th>\n",
       "      <th>mac_addr</th>\n",
       "      <th>timestamp2</th>\n",
       "    </tr>\n",
       "  </thead>\n",
       "  <tbody>\n",
       "    <tr>\n",
       "      <th>0</th>\n",
       "      <td>1571545626031</td>\n",
       "      <td>726388c292214e8a10ee4ae58707e9972ef10261</td>\n",
       "      <td>b6589fc6ab0dc82cf12099d1c2d40ab994e8410c</td>\n",
       "      <td>0f3e894dadc0e584feb3fede35662f24cc63247b</td>\n",
       "      <td>-59</td>\n",
       "      <td>-93</td>\n",
       "      <td>30.155321</td>\n",
       "      <td>2f2faae688af9c5f6fc22c0c1b699bf8b1570359</td>\n",
       "      <td>1571545626031</td>\n",
       "    </tr>\n",
       "    <tr>\n",
       "      <th>1</th>\n",
       "      <td>1571545626638</td>\n",
       "      <td>726388c292214e8a10ee4ae58707e9972ef10261</td>\n",
       "      <td>b6589fc6ab0dc82cf12099d1c2d40ab994e8410c</td>\n",
       "      <td>0f3e894dadc0e584feb3fede35662f24cc63247b</td>\n",
       "      <td>-59</td>\n",
       "      <td>-96</td>\n",
       "      <td>38.487306</td>\n",
       "      <td>2f2faae688af9c5f6fc22c0c1b699bf8b1570359</td>\n",
       "      <td>1571545626638</td>\n",
       "    </tr>\n",
       "    <tr>\n",
       "      <th>2</th>\n",
       "      <td>1571545626893</td>\n",
       "      <td>0e570c3406b79266b7ada12e3b9314e7bb9dde3e</td>\n",
       "      <td>1680a2be286cf3cc51659e320361cfa2366a3122</td>\n",
       "      <td>b29060b88734839ba76dbadcb1e52fc94cd3d33d</td>\n",
       "      <td>-75</td>\n",
       "      <td>-87</td>\n",
       "      <td>2.936306</td>\n",
       "      <td>f5b82d250cfac237b105a97745c0af7af0e3b642</td>\n",
       "      <td>1571545626893</td>\n",
       "    </tr>\n",
       "    <tr>\n",
       "      <th>3</th>\n",
       "      <td>1571545629917</td>\n",
       "      <td>0e570c3406b79266b7ada12e3b9314e7bb9dde3e</td>\n",
       "      <td>1680a2be286cf3cc51659e320361cfa2366a3122</td>\n",
       "      <td>b29060b88734839ba76dbadcb1e52fc94cd3d33d</td>\n",
       "      <td>-75</td>\n",
       "      <td>-85</td>\n",
       "      <td>2.472550</td>\n",
       "      <td>f5b82d250cfac237b105a97745c0af7af0e3b642</td>\n",
       "      <td>1571545629917</td>\n",
       "    </tr>\n",
       "    <tr>\n",
       "      <th>4</th>\n",
       "      <td>1571545630030</td>\n",
       "      <td>07efd69e3167537492f0ead89fb2779633b04949</td>\n",
       "      <td>b6589fc6ab0dc82cf12099d1c2d40ab994e8410c</td>\n",
       "      <td>4adb6ea83ff196924462448c6608080afc1e6b5a</td>\n",
       "      <td>-59</td>\n",
       "      <td>-95</td>\n",
       "      <td>35.510998</td>\n",
       "      <td>74c0c9461a955664660889f0f2b9f993f32818b2</td>\n",
       "      <td>1571545630030</td>\n",
       "    </tr>\n",
       "  </tbody>\n",
       "</table>\n",
       "</div>"
      ],
      "text/plain": [
       "       timestamp                                      uuid  \\\n",
       "0  1571545626031  726388c292214e8a10ee4ae58707e9972ef10261   \n",
       "1  1571545626638  726388c292214e8a10ee4ae58707e9972ef10261   \n",
       "2  1571545626893  0e570c3406b79266b7ada12e3b9314e7bb9dde3e   \n",
       "3  1571545629917  0e570c3406b79266b7ada12e3b9314e7bb9dde3e   \n",
       "4  1571545630030  07efd69e3167537492f0ead89fb2779633b04949   \n",
       "\n",
       "                                   major_id  \\\n",
       "0  b6589fc6ab0dc82cf12099d1c2d40ab994e8410c   \n",
       "1  b6589fc6ab0dc82cf12099d1c2d40ab994e8410c   \n",
       "2  1680a2be286cf3cc51659e320361cfa2366a3122   \n",
       "3  1680a2be286cf3cc51659e320361cfa2366a3122   \n",
       "4  b6589fc6ab0dc82cf12099d1c2d40ab994e8410c   \n",
       "\n",
       "                                   minor_id  tx_power  rssi   distance  \\\n",
       "0  0f3e894dadc0e584feb3fede35662f24cc63247b       -59   -93  30.155321   \n",
       "1  0f3e894dadc0e584feb3fede35662f24cc63247b       -59   -96  38.487306   \n",
       "2  b29060b88734839ba76dbadcb1e52fc94cd3d33d       -75   -87   2.936306   \n",
       "3  b29060b88734839ba76dbadcb1e52fc94cd3d33d       -75   -85   2.472550   \n",
       "4  4adb6ea83ff196924462448c6608080afc1e6b5a       -59   -95  35.510998   \n",
       "\n",
       "                                   mac_addr     timestamp2  \n",
       "0  2f2faae688af9c5f6fc22c0c1b699bf8b1570359  1571545626031  \n",
       "1  2f2faae688af9c5f6fc22c0c1b699bf8b1570359  1571545626638  \n",
       "2  f5b82d250cfac237b105a97745c0af7af0e3b642  1571545626893  \n",
       "3  f5b82d250cfac237b105a97745c0af7af0e3b642  1571545629917  \n",
       "4  74c0c9461a955664660889f0f2b9f993f32818b2  1571545630030  "
      ]
     },
     "metadata": {},
     "output_type": "display_data"
    },
    {
     "name": "stdout",
     "output_type": "stream",
     "text": [
      "gyroscope\n"
     ]
    },
    {
     "data": {
      "text/html": [
       "<div>\n",
       "<style scoped>\n",
       "    .dataframe tbody tr th:only-of-type {\n",
       "        vertical-align: middle;\n",
       "    }\n",
       "\n",
       "    .dataframe tbody tr th {\n",
       "        vertical-align: top;\n",
       "    }\n",
       "\n",
       "    .dataframe thead th {\n",
       "        text-align: right;\n",
       "    }\n",
       "</style>\n",
       "<table border=\"1\" class=\"dataframe\">\n",
       "  <thead>\n",
       "    <tr style=\"text-align: right;\">\n",
       "      <th></th>\n",
       "      <th>timestamp</th>\n",
       "      <th>x</th>\n",
       "      <th>y</th>\n",
       "      <th>z</th>\n",
       "      <th>accuracy</th>\n",
       "    </tr>\n",
       "  </thead>\n",
       "  <tbody>\n",
       "    <tr>\n",
       "      <th>0</th>\n",
       "      <td>1571545625885</td>\n",
       "      <td>-0.007080</td>\n",
       "      <td>-0.141129</td>\n",
       "      <td>0.024811</td>\n",
       "      <td>3</td>\n",
       "    </tr>\n",
       "    <tr>\n",
       "      <th>1</th>\n",
       "      <td>1571545625905</td>\n",
       "      <td>0.024338</td>\n",
       "      <td>-0.280670</td>\n",
       "      <td>0.156891</td>\n",
       "      <td>3</td>\n",
       "    </tr>\n",
       "    <tr>\n",
       "      <th>2</th>\n",
       "      <td>1571545625925</td>\n",
       "      <td>0.194778</td>\n",
       "      <td>-0.255112</td>\n",
       "      <td>-0.257492</td>\n",
       "      <td>3</td>\n",
       "    </tr>\n",
       "    <tr>\n",
       "      <th>3</th>\n",
       "      <td>1571545625945</td>\n",
       "      <td>0.297577</td>\n",
       "      <td>-0.276413</td>\n",
       "      <td>-0.425278</td>\n",
       "      <td>3</td>\n",
       "    </tr>\n",
       "    <tr>\n",
       "      <th>4</th>\n",
       "      <td>1571545625965</td>\n",
       "      <td>0.278946</td>\n",
       "      <td>0.034119</td>\n",
       "      <td>-0.165894</td>\n",
       "      <td>3</td>\n",
       "    </tr>\n",
       "  </tbody>\n",
       "</table>\n",
       "</div>"
      ],
      "text/plain": [
       "       timestamp         x         y         z  accuracy\n",
       "0  1571545625885 -0.007080 -0.141129  0.024811         3\n",
       "1  1571545625905  0.024338 -0.280670  0.156891         3\n",
       "2  1571545625925  0.194778 -0.255112 -0.257492         3\n",
       "3  1571545625945  0.297577 -0.276413 -0.425278         3\n",
       "4  1571545625965  0.278946  0.034119 -0.165894         3"
      ]
     },
     "metadata": {},
     "output_type": "display_data"
    },
    {
     "name": "stdout",
     "output_type": "stream",
     "text": [
      "gyroscope_uncalibrated\n"
     ]
    },
    {
     "data": {
      "text/html": [
       "<div>\n",
       "<style scoped>\n",
       "    .dataframe tbody tr th:only-of-type {\n",
       "        vertical-align: middle;\n",
       "    }\n",
       "\n",
       "    .dataframe tbody tr th {\n",
       "        vertical-align: top;\n",
       "    }\n",
       "\n",
       "    .dataframe thead th {\n",
       "        text-align: right;\n",
       "    }\n",
       "</style>\n",
       "<table border=\"1\" class=\"dataframe\">\n",
       "  <thead>\n",
       "    <tr style=\"text-align: right;\">\n",
       "      <th></th>\n",
       "      <th>timestamp</th>\n",
       "      <th>x</th>\n",
       "      <th>y</th>\n",
       "      <th>z</th>\n",
       "      <th>x2</th>\n",
       "      <th>y2</th>\n",
       "      <th>z2</th>\n",
       "      <th>accuracy</th>\n",
       "    </tr>\n",
       "  </thead>\n",
       "  <tbody>\n",
       "    <tr>\n",
       "      <th>0</th>\n",
       "      <td>1571545625885</td>\n",
       "      <td>-0.047302</td>\n",
       "      <td>-0.112778</td>\n",
       "      <td>-0.044922</td>\n",
       "      <td>-0.000793</td>\n",
       "      <td>0.000122</td>\n",
       "      <td>0.000061</td>\n",
       "      <td>3</td>\n",
       "    </tr>\n",
       "    <tr>\n",
       "      <th>1</th>\n",
       "      <td>1571545625905</td>\n",
       "      <td>0.010757</td>\n",
       "      <td>-0.228882</td>\n",
       "      <td>0.116486</td>\n",
       "      <td>-0.000793</td>\n",
       "      <td>0.000122</td>\n",
       "      <td>0.000061</td>\n",
       "      <td>3</td>\n",
       "    </tr>\n",
       "    <tr>\n",
       "      <th>2</th>\n",
       "      <td>1571545625925</td>\n",
       "      <td>0.090134</td>\n",
       "      <td>-0.240067</td>\n",
       "      <td>0.008347</td>\n",
       "      <td>-0.000793</td>\n",
       "      <td>0.000122</td>\n",
       "      <td>0.000061</td>\n",
       "      <td>3</td>\n",
       "    </tr>\n",
       "    <tr>\n",
       "      <th>3</th>\n",
       "      <td>1571545625945</td>\n",
       "      <td>0.270691</td>\n",
       "      <td>-0.309845</td>\n",
       "      <td>-0.417755</td>\n",
       "      <td>-0.000793</td>\n",
       "      <td>0.000122</td>\n",
       "      <td>0.000061</td>\n",
       "      <td>3</td>\n",
       "    </tr>\n",
       "    <tr>\n",
       "      <th>4</th>\n",
       "      <td>1571545625965</td>\n",
       "      <td>0.281876</td>\n",
       "      <td>-0.155914</td>\n",
       "      <td>-0.319763</td>\n",
       "      <td>-0.000793</td>\n",
       "      <td>0.000122</td>\n",
       "      <td>0.000061</td>\n",
       "      <td>3</td>\n",
       "    </tr>\n",
       "  </tbody>\n",
       "</table>\n",
       "</div>"
      ],
      "text/plain": [
       "       timestamp         x         y         z        x2        y2        z2  \\\n",
       "0  1571545625885 -0.047302 -0.112778 -0.044922 -0.000793  0.000122  0.000061   \n",
       "1  1571545625905  0.010757 -0.228882  0.116486 -0.000793  0.000122  0.000061   \n",
       "2  1571545625925  0.090134 -0.240067  0.008347 -0.000793  0.000122  0.000061   \n",
       "3  1571545625945  0.270691 -0.309845 -0.417755 -0.000793  0.000122  0.000061   \n",
       "4  1571545625965  0.281876 -0.155914 -0.319763 -0.000793  0.000122  0.000061   \n",
       "\n",
       "   accuracy  \n",
       "0         3  \n",
       "1         3  \n",
       "2         3  \n",
       "3         3  \n",
       "4         3  "
      ]
     },
     "metadata": {},
     "output_type": "display_data"
    },
    {
     "name": "stdout",
     "output_type": "stream",
     "text": [
      "magnetic_field\n"
     ]
    },
    {
     "data": {
      "text/html": [
       "<div>\n",
       "<style scoped>\n",
       "    .dataframe tbody tr th:only-of-type {\n",
       "        vertical-align: middle;\n",
       "    }\n",
       "\n",
       "    .dataframe tbody tr th {\n",
       "        vertical-align: top;\n",
       "    }\n",
       "\n",
       "    .dataframe thead th {\n",
       "        text-align: right;\n",
       "    }\n",
       "</style>\n",
       "<table border=\"1\" class=\"dataframe\">\n",
       "  <thead>\n",
       "    <tr style=\"text-align: right;\">\n",
       "      <th></th>\n",
       "      <th>timestamp</th>\n",
       "      <th>x</th>\n",
       "      <th>y</th>\n",
       "      <th>z</th>\n",
       "      <th>accuracy</th>\n",
       "    </tr>\n",
       "  </thead>\n",
       "  <tbody>\n",
       "    <tr>\n",
       "      <th>0</th>\n",
       "      <td>1571545625885</td>\n",
       "      <td>-34.222412</td>\n",
       "      <td>-0.723267</td>\n",
       "      <td>-26.528930</td>\n",
       "      <td>3</td>\n",
       "    </tr>\n",
       "    <tr>\n",
       "      <th>1</th>\n",
       "      <td>1571545625905</td>\n",
       "      <td>-34.222412</td>\n",
       "      <td>1.358032</td>\n",
       "      <td>-25.187683</td>\n",
       "      <td>3</td>\n",
       "    </tr>\n",
       "    <tr>\n",
       "      <th>2</th>\n",
       "      <td>1571545625925</td>\n",
       "      <td>-34.916687</td>\n",
       "      <td>-0.028992</td>\n",
       "      <td>-25.859070</td>\n",
       "      <td>3</td>\n",
       "    </tr>\n",
       "    <tr>\n",
       "      <th>3</th>\n",
       "      <td>1571545625945</td>\n",
       "      <td>-32.835390</td>\n",
       "      <td>-0.028992</td>\n",
       "      <td>-26.528930</td>\n",
       "      <td>3</td>\n",
       "    </tr>\n",
       "    <tr>\n",
       "      <th>4</th>\n",
       "      <td>1571545625965</td>\n",
       "      <td>-34.222412</td>\n",
       "      <td>0.665283</td>\n",
       "      <td>-27.198792</td>\n",
       "      <td>3</td>\n",
       "    </tr>\n",
       "  </tbody>\n",
       "</table>\n",
       "</div>"
      ],
      "text/plain": [
       "       timestamp          x         y          z  accuracy\n",
       "0  1571545625885 -34.222412 -0.723267 -26.528930         3\n",
       "1  1571545625905 -34.222412  1.358032 -25.187683         3\n",
       "2  1571545625925 -34.916687 -0.028992 -25.859070         3\n",
       "3  1571545625945 -32.835390 -0.028992 -26.528930         3\n",
       "4  1571545625965 -34.222412  0.665283 -27.198792         3"
      ]
     },
     "metadata": {},
     "output_type": "display_data"
    },
    {
     "name": "stdout",
     "output_type": "stream",
     "text": [
      "magnetic_field_uncalibrated\n"
     ]
    },
    {
     "data": {
      "text/html": [
       "<div>\n",
       "<style scoped>\n",
       "    .dataframe tbody tr th:only-of-type {\n",
       "        vertical-align: middle;\n",
       "    }\n",
       "\n",
       "    .dataframe tbody tr th {\n",
       "        vertical-align: top;\n",
       "    }\n",
       "\n",
       "    .dataframe thead th {\n",
       "        text-align: right;\n",
       "    }\n",
       "</style>\n",
       "<table border=\"1\" class=\"dataframe\">\n",
       "  <thead>\n",
       "    <tr style=\"text-align: right;\">\n",
       "      <th></th>\n",
       "      <th>timestamp</th>\n",
       "      <th>x</th>\n",
       "      <th>y</th>\n",
       "      <th>z</th>\n",
       "      <th>x2</th>\n",
       "      <th>y2</th>\n",
       "      <th>z2</th>\n",
       "      <th>accuracy</th>\n",
       "    </tr>\n",
       "  </thead>\n",
       "  <tbody>\n",
       "    <tr>\n",
       "      <th>0</th>\n",
       "      <td>1571545625885</td>\n",
       "      <td>-77.699280</td>\n",
       "      <td>-83.25043</td>\n",
       "      <td>-364.64996</td>\n",
       "      <td>-43.476868</td>\n",
       "      <td>-82.52716</td>\n",
       "      <td>-338.12103</td>\n",
       "      <td>3</td>\n",
       "    </tr>\n",
       "    <tr>\n",
       "      <th>1</th>\n",
       "      <td>1571545625905</td>\n",
       "      <td>-77.699280</td>\n",
       "      <td>-81.16913</td>\n",
       "      <td>-363.30872</td>\n",
       "      <td>-43.476868</td>\n",
       "      <td>-82.52716</td>\n",
       "      <td>-338.12103</td>\n",
       "      <td>3</td>\n",
       "    </tr>\n",
       "    <tr>\n",
       "      <th>2</th>\n",
       "      <td>1571545625925</td>\n",
       "      <td>-78.393555</td>\n",
       "      <td>-82.55615</td>\n",
       "      <td>-363.98010</td>\n",
       "      <td>-43.476868</td>\n",
       "      <td>-82.52716</td>\n",
       "      <td>-338.12103</td>\n",
       "      <td>3</td>\n",
       "    </tr>\n",
       "    <tr>\n",
       "      <th>3</th>\n",
       "      <td>1571545625945</td>\n",
       "      <td>-76.312256</td>\n",
       "      <td>-82.55615</td>\n",
       "      <td>-364.64996</td>\n",
       "      <td>-43.476868</td>\n",
       "      <td>-82.52716</td>\n",
       "      <td>-338.12103</td>\n",
       "      <td>3</td>\n",
       "    </tr>\n",
       "    <tr>\n",
       "      <th>4</th>\n",
       "      <td>1571545625965</td>\n",
       "      <td>-77.699280</td>\n",
       "      <td>-81.86188</td>\n",
       "      <td>-365.31982</td>\n",
       "      <td>-43.476868</td>\n",
       "      <td>-82.52716</td>\n",
       "      <td>-338.12103</td>\n",
       "      <td>3</td>\n",
       "    </tr>\n",
       "  </tbody>\n",
       "</table>\n",
       "</div>"
      ],
      "text/plain": [
       "       timestamp          x         y          z         x2        y2  \\\n",
       "0  1571545625885 -77.699280 -83.25043 -364.64996 -43.476868 -82.52716   \n",
       "1  1571545625905 -77.699280 -81.16913 -363.30872 -43.476868 -82.52716   \n",
       "2  1571545625925 -78.393555 -82.55615 -363.98010 -43.476868 -82.52716   \n",
       "3  1571545625945 -76.312256 -82.55615 -364.64996 -43.476868 -82.52716   \n",
       "4  1571545625965 -77.699280 -81.86188 -365.31982 -43.476868 -82.52716   \n",
       "\n",
       "          z2  accuracy  \n",
       "0 -338.12103         3  \n",
       "1 -338.12103         3  \n",
       "2 -338.12103         3  \n",
       "3 -338.12103         3  \n",
       "4 -338.12103         3  "
      ]
     },
     "metadata": {},
     "output_type": "display_data"
    },
    {
     "name": "stdout",
     "output_type": "stream",
     "text": [
      "rotation_vector\n"
     ]
    },
    {
     "data": {
      "text/html": [
       "<div>\n",
       "<style scoped>\n",
       "    .dataframe tbody tr th:only-of-type {\n",
       "        vertical-align: middle;\n",
       "    }\n",
       "\n",
       "    .dataframe tbody tr th {\n",
       "        vertical-align: top;\n",
       "    }\n",
       "\n",
       "    .dataframe thead th {\n",
       "        text-align: right;\n",
       "    }\n",
       "</style>\n",
       "<table border=\"1\" class=\"dataframe\">\n",
       "  <thead>\n",
       "    <tr style=\"text-align: right;\">\n",
       "      <th></th>\n",
       "      <th>timestamp</th>\n",
       "      <th>x</th>\n",
       "      <th>y</th>\n",
       "      <th>z</th>\n",
       "      <th>accuracy</th>\n",
       "    </tr>\n",
       "  </thead>\n",
       "  <tbody>\n",
       "    <tr>\n",
       "      <th>0</th>\n",
       "      <td>1571545625885</td>\n",
       "      <td>0.004937</td>\n",
       "      <td>0.035247</td>\n",
       "      <td>-0.714563</td>\n",
       "      <td>3</td>\n",
       "    </tr>\n",
       "    <tr>\n",
       "      <th>1</th>\n",
       "      <td>1571545625905</td>\n",
       "      <td>0.007161</td>\n",
       "      <td>0.037377</td>\n",
       "      <td>-0.713370</td>\n",
       "      <td>3</td>\n",
       "    </tr>\n",
       "    <tr>\n",
       "      <th>2</th>\n",
       "      <td>1571545625925</td>\n",
       "      <td>-0.003907</td>\n",
       "      <td>0.040647</td>\n",
       "      <td>-0.719029</td>\n",
       "      <td>3</td>\n",
       "    </tr>\n",
       "    <tr>\n",
       "      <th>3</th>\n",
       "      <td>1571545625945</td>\n",
       "      <td>-0.013164</td>\n",
       "      <td>0.039219</td>\n",
       "      <td>-0.726202</td>\n",
       "      <td>3</td>\n",
       "    </tr>\n",
       "    <tr>\n",
       "      <th>4</th>\n",
       "      <td>1571545625965</td>\n",
       "      <td>-0.010029</td>\n",
       "      <td>0.035698</td>\n",
       "      <td>-0.727309</td>\n",
       "      <td>3</td>\n",
       "    </tr>\n",
       "  </tbody>\n",
       "</table>\n",
       "</div>"
      ],
      "text/plain": [
       "       timestamp         x         y         z  accuracy\n",
       "0  1571545625885  0.004937  0.035247 -0.714563         3\n",
       "1  1571545625905  0.007161  0.037377 -0.713370         3\n",
       "2  1571545625925 -0.003907  0.040647 -0.719029         3\n",
       "3  1571545625945 -0.013164  0.039219 -0.726202         3\n",
       "4  1571545625965 -0.010029  0.035698 -0.727309         3"
      ]
     },
     "metadata": {},
     "output_type": "display_data"
    },
    {
     "name": "stdout",
     "output_type": "stream",
     "text": [
      "waypoint\n"
     ]
    },
    {
     "data": {
      "text/html": [
       "<div>\n",
       "<style scoped>\n",
       "    .dataframe tbody tr th:only-of-type {\n",
       "        vertical-align: middle;\n",
       "    }\n",
       "\n",
       "    .dataframe tbody tr th {\n",
       "        vertical-align: top;\n",
       "    }\n",
       "\n",
       "    .dataframe thead th {\n",
       "        text-align: right;\n",
       "    }\n",
       "</style>\n",
       "<table border=\"1\" class=\"dataframe\">\n",
       "  <thead>\n",
       "    <tr style=\"text-align: right;\">\n",
       "      <th></th>\n",
       "      <th>timestamp</th>\n",
       "      <th>x</th>\n",
       "      <th>y</th>\n",
       "    </tr>\n",
       "  </thead>\n",
       "  <tbody>\n",
       "    <tr>\n",
       "      <th>0</th>\n",
       "      <td>1571545625766</td>\n",
       "      <td>76.337490</td>\n",
       "      <td>94.725075</td>\n",
       "    </tr>\n",
       "    <tr>\n",
       "      <th>1</th>\n",
       "      <td>1571545630298</td>\n",
       "      <td>80.892600</td>\n",
       "      <td>94.235695</td>\n",
       "    </tr>\n",
       "    <tr>\n",
       "      <th>2</th>\n",
       "      <td>1571545639307</td>\n",
       "      <td>81.752380</td>\n",
       "      <td>86.743670</td>\n",
       "    </tr>\n",
       "    <tr>\n",
       "      <th>3</th>\n",
       "      <td>1571545651586</td>\n",
       "      <td>90.152565</td>\n",
       "      <td>86.986360</td>\n",
       "    </tr>\n",
       "    <tr>\n",
       "      <th>4</th>\n",
       "      <td>1571545660099</td>\n",
       "      <td>97.861170</td>\n",
       "      <td>87.440080</td>\n",
       "    </tr>\n",
       "  </tbody>\n",
       "</table>\n",
       "</div>"
      ],
      "text/plain": [
       "       timestamp          x          y\n",
       "0  1571545625766  76.337490  94.725075\n",
       "1  1571545630298  80.892600  94.235695\n",
       "2  1571545639307  81.752380  86.743670\n",
       "3  1571545651586  90.152565  86.986360\n",
       "4  1571545660099  97.861170  87.440080"
      ]
     },
     "metadata": {},
     "output_type": "display_data"
    },
    {
     "name": "stdout",
     "output_type": "stream",
     "text": [
      "wifi\n"
     ]
    },
    {
     "data": {
      "text/html": [
       "<div>\n",
       "<style scoped>\n",
       "    .dataframe tbody tr th:only-of-type {\n",
       "        vertical-align: middle;\n",
       "    }\n",
       "\n",
       "    .dataframe tbody tr th {\n",
       "        vertical-align: top;\n",
       "    }\n",
       "\n",
       "    .dataframe thead th {\n",
       "        text-align: right;\n",
       "    }\n",
       "</style>\n",
       "<table border=\"1\" class=\"dataframe\">\n",
       "  <thead>\n",
       "    <tr style=\"text-align: right;\">\n",
       "      <th></th>\n",
       "      <th>timestamp</th>\n",
       "      <th>ssid</th>\n",
       "      <th>bssid</th>\n",
       "      <th>rssi</th>\n",
       "      <th>frequency</th>\n",
       "      <th>last_seen_timestamp</th>\n",
       "    </tr>\n",
       "  </thead>\n",
       "  <tbody>\n",
       "    <tr>\n",
       "      <th>0</th>\n",
       "      <td>1571545627643</td>\n",
       "      <td>76f476c4a48560ff0ccd16e084028125183dd7d9</td>\n",
       "      <td>a1c69ca657ce727e64e782206b7b02a8b2d71dc8</td>\n",
       "      <td>-57</td>\n",
       "      <td>2412</td>\n",
       "      <td>1571545622849</td>\n",
       "    </tr>\n",
       "    <tr>\n",
       "      <th>1</th>\n",
       "      <td>1571545627643</td>\n",
       "      <td>21725587b1e7ba069dbe3ed05ffa2f3f2115b1e0</td>\n",
       "      <td>44e146eabacf580907da22dbf5ab239b5d65f057</td>\n",
       "      <td>-60</td>\n",
       "      <td>2437</td>\n",
       "      <td>1571545626146</td>\n",
       "    </tr>\n",
       "    <tr>\n",
       "      <th>2</th>\n",
       "      <td>1571545627643</td>\n",
       "      <td>06725136dd0bfa6439cda80db53eb483d9e3dda7</td>\n",
       "      <td>89dd2f80e478afc75ee414afd689f8b208a46206</td>\n",
       "      <td>-64</td>\n",
       "      <td>2437</td>\n",
       "      <td>1571545623130</td>\n",
       "    </tr>\n",
       "    <tr>\n",
       "      <th>3</th>\n",
       "      <td>1571545627643</td>\n",
       "      <td>7dc74a44a08ceffd931fcb77cd7e7e4c007d7072</td>\n",
       "      <td>899070d20cca7399c67bf9e45239a06899de9c17</td>\n",
       "      <td>-65</td>\n",
       "      <td>2437</td>\n",
       "      <td>1571545598998</td>\n",
       "    </tr>\n",
       "    <tr>\n",
       "      <th>4</th>\n",
       "      <td>1571545627643</td>\n",
       "      <td>06725136dd0bfa6439cda80db53eb483d9e3dda7</td>\n",
       "      <td>a9b8c0f03b34021867bd38bace4ada15e8002d14</td>\n",
       "      <td>-67</td>\n",
       "      <td>2462</td>\n",
       "      <td>1571545626460</td>\n",
       "    </tr>\n",
       "  </tbody>\n",
       "</table>\n",
       "</div>"
      ],
      "text/plain": [
       "       timestamp                                      ssid  \\\n",
       "0  1571545627643  76f476c4a48560ff0ccd16e084028125183dd7d9   \n",
       "1  1571545627643  21725587b1e7ba069dbe3ed05ffa2f3f2115b1e0   \n",
       "2  1571545627643  06725136dd0bfa6439cda80db53eb483d9e3dda7   \n",
       "3  1571545627643  7dc74a44a08ceffd931fcb77cd7e7e4c007d7072   \n",
       "4  1571545627643  06725136dd0bfa6439cda80db53eb483d9e3dda7   \n",
       "\n",
       "                                      bssid  rssi  frequency  \\\n",
       "0  a1c69ca657ce727e64e782206b7b02a8b2d71dc8   -57       2412   \n",
       "1  44e146eabacf580907da22dbf5ab239b5d65f057   -60       2437   \n",
       "2  89dd2f80e478afc75ee414afd689f8b208a46206   -64       2437   \n",
       "3  899070d20cca7399c67bf9e45239a06899de9c17   -65       2437   \n",
       "4  a9b8c0f03b34021867bd38bace4ada15e8002d14   -67       2462   \n",
       "\n",
       "   last_seen_timestamp  \n",
       "0        1571545622849  \n",
       "1        1571545626146  \n",
       "2        1571545623130  \n",
       "3        1571545598998  \n",
       "4        1571545626460  "
      ]
     },
     "metadata": {},
     "output_type": "display_data"
    }
   ],
   "source": [
    "# attributes of feature store\n",
    "for d_type in feature.df_types:\n",
    "    print(d_type)\n",
    "    display(feature[d_type].head())"
   ]
  },
  {
   "cell_type": "markdown",
   "id": "executed-seller",
   "metadata": {},
   "source": [
    "---"
   ]
  },
  {
   "cell_type": "markdown",
   "id": "intelligent-persian",
   "metadata": {},
   "source": [
    "## Create map for label encode"
   ]
  },
  {
   "cell_type": "code",
   "execution_count": 9,
   "id": "possible-massachusetts",
   "metadata": {},
   "outputs": [],
   "source": [
    "src_dir = pathlib.Path(\"../data/raw/train/\")\n",
    "filepaths = [\n",
    "    path_filepath \n",
    "    for site_filepath in src_dir.glob(\"*\") \n",
    "    for floor_filepath in site_filepath.glob(\"*\") \n",
    "    for path_filepath in floor_filepath.glob(\"*\")\n",
    "]"
   ]
  },
  {
   "cell_type": "markdown",
   "id": "drawn-government",
   "metadata": {},
   "source": [
    "### site for build"
   ]
  },
  {
   "cell_type": "code",
   "execution_count": 10,
   "id": "reliable-mainstream",
   "metadata": {},
   "outputs": [],
   "source": [
    "def create_site_map():\n",
    "    def get_site_id_from_feature_store(filepath):\n",
    "        path_id = filepath.name.split(\".\")[0]\n",
    "\n",
    "        feature = load_pickle(f\"../data/working/{path_id}.pkl\", verbose=False)\n",
    "        return feature.site_id\n",
    "    \n",
    "    site_ids = Parallel(n_jobs=-1)(delayed(get_site_id_from_feature_store)(filepath) for filepath in track(filepaths))\n",
    "    unique_site_ids = np.unique(site_ids)\n",
    "    siteId_map = {site_id: i + 1 for i, site_id in enumerate(unique_site_ids)}\n",
    "    return siteId_map"
   ]
  },
  {
   "cell_type": "code",
   "execution_count": 11,
   "id": "professional-cooler",
   "metadata": {},
   "outputs": [
    {
     "data": {
      "application/vnd.jupyter.widget-view+json": {
       "model_id": "01ec9662ba7e4a6791a95cb506471ad5",
       "version_major": 2,
       "version_minor": 0
      },
      "text/plain": [
       "Output()"
      ]
     },
     "metadata": {},
     "output_type": "display_data"
    },
    {
     "name": "stdout",
     "output_type": "stream",
     "text": [
      "CPU times: user 11.7 s, sys: 2.54 s, total: 14.2 s\n",
      "Wall time: 1min 31s\n"
     ]
    }
   ],
   "source": [
    "%%time\n",
    "siteId_map = create_site_map()"
   ]
  },
  {
   "cell_type": "code",
   "execution_count": 12,
   "id": "noticed-duncan",
   "metadata": {},
   "outputs": [
    {
     "name": "stdout",
     "output_type": "stream",
     "text": [
      "Dump pickle to ./tmp/map_site_ids.pkl\n"
     ]
    }
   ],
   "source": [
    "dump_pickle(\"./tmp/map_site_ids.pkl\", siteId_map)"
   ]
  },
  {
   "cell_type": "markdown",
   "id": "peripheral-stations",
   "metadata": {},
   "source": [
    "### bssid of wifi"
   ]
  },
  {
   "cell_type": "code",
   "execution_count": 13,
   "id": "angry-passenger",
   "metadata": {},
   "outputs": [],
   "source": [
    "def get_bssid_from_feature_store(filepath):\n",
    "    path_id = filepath.name.split(\".\")[0]\n",
    "    \n",
    "    feature = load_pickle(f\"../data/working/{path_id}.pkl\", verbose=False)\n",
    "    uniques = feature.wifi.bssid.unique()\n",
    "    if len(uniques) > 0:\n",
    "        return uniques\n",
    "    else:\n",
    "        return np.array([])"
   ]
  },
  {
   "cell_type": "code",
   "execution_count": 14,
   "id": "invalid-carpet",
   "metadata": {},
   "outputs": [
    {
     "data": {
      "application/vnd.jupyter.widget-view+json": {
       "model_id": "bd07561545454466a040d683f978b641",
       "version_major": 2,
       "version_minor": 0
      },
      "text/plain": [
       "Output()"
      ]
     },
     "metadata": {},
     "output_type": "display_data"
    },
    {
     "name": "stdout",
     "output_type": "stream",
     "text": [
      "Dump pickle to ./tmp/map_bssid.pkl\n",
      "CPU times: user 26.6 s, sys: 2.87 s, total: 29.5 s\n",
      "Wall time: 1min 36s\n"
     ]
    }
   ],
   "source": [
    "%%time\n",
    "bssid = Parallel(n_jobs=-1)(delayed(get_bssid_from_feature_store)(filepath) for filepath in track(filepaths))\n",
    "\n",
    "bssid = np.concatenate(bssid, axis=0)\n",
    "unique_bsid = np.unique(bssid)\n",
    "\n",
    "bssid_map = {_bssid: i + 1 for i, _bssid in enumerate(bssid)}\n",
    "dump_pickle(\"./tmp/map_bssid.pkl\", bssid_map)"
   ]
  },
  {
   "cell_type": "markdown",
   "id": "identified-perry",
   "metadata": {},
   "source": [
    "### uuid of beacon"
   ]
  },
  {
   "cell_type": "code",
   "execution_count": 53,
   "id": "addressed-characterization",
   "metadata": {},
   "outputs": [],
   "source": [
    "def get_uuid_from_feature_store(filepath):\n",
    "    path_id = filepath.name.split(\".\")[0]\n",
    "    \n",
    "    feature = load_pickle(f\"../data/working/{path_id}.pkl\", verbose=False)\n",
    "    uniques = feature.beacon.uuid.unique()\n",
    "    if len(uniques) > 0:\n",
    "        return uniques\n",
    "    else:\n",
    "        return np.array([])"
   ]
  },
  {
   "cell_type": "code",
   "execution_count": 59,
   "id": "suitable-buffalo",
   "metadata": {},
   "outputs": [
    {
     "data": {
      "application/vnd.jupyter.widget-view+json": {
       "model_id": "429ab4987d5948b2860bb3ce0c74ee34",
       "version_major": 2,
       "version_minor": 0
      },
      "text/plain": [
       "Output()"
      ]
     },
     "metadata": {},
     "output_type": "display_data"
    },
    {
     "name": "stdout",
     "output_type": "stream",
     "text": [
      "Dump pickle to ./tmp/uuid_map.pkl\n",
      "CPU times: user 16.3 s, sys: 2.74 s, total: 19 s\n",
      "Wall time: 1min 28s\n"
     ]
    }
   ],
   "source": [
    "%%time\n",
    "uuid = Parallel(n_jobs=-1)(delayed(get_uuid_from_feature_store)(filepath) for filepath in track(filepaths))\n",
    "\n",
    "uuid = np.concatenate(uuid, axis=0)\n",
    "unique_uuid = np.unique(uuid)\n",
    "\n",
    "uuid_map = {_uuid: i + 1 for i, _uuid in enumerate(unique_uuid)}\n",
    "dump_pickle(\"./tmp/uuid_map.pkl\", uuid_map)"
   ]
  },
  {
   "cell_type": "markdown",
   "id": "sensitive-training",
   "metadata": {},
   "source": [
    "---"
   ]
  },
  {
   "cell_type": "markdown",
   "id": "hairy-pointer",
   "metadata": {},
   "source": [
    "## Simple feature engineering"
   ]
  },
  {
   "cell_type": "code",
   "execution_count": 15,
   "id": "stainless-transsexual",
   "metadata": {},
   "outputs": [],
   "source": [
    "src_dir = pathlib.Path(\"../data/raw/train/\")\n",
    "filepaths = [\n",
    "    path_filepath \n",
    "    for site_filepath in src_dir.glob(\"*\") \n",
    "    for floor_filepath in site_filepath.glob(\"*\") \n",
    "    for path_filepath in floor_filepath.glob(\"*\")\n",
    "]"
   ]
  },
  {
   "cell_type": "markdown",
   "id": "ordinary-penalty",
   "metadata": {},
   "source": [
    "### Create waypoint"
   ]
  },
  {
   "cell_type": "code",
   "execution_count": 16,
   "id": "fitted-accessory",
   "metadata": {},
   "outputs": [
    {
     "data": {
      "application/vnd.jupyter.widget-view+json": {
       "model_id": "6e74bc3ddbaf4efeb67ea29e96304f7a",
       "version_major": 2,
       "version_minor": 0
      },
      "text/plain": [
       "Output()"
      ]
     },
     "metadata": {},
     "output_type": "display_data"
    },
    {
     "name": "stdout",
     "output_type": "stream",
     "text": [
      "CPU times: user 1min 10s, sys: 3.33 s, total: 1min 13s\n",
      "Wall time: 1min 44s\n"
     ]
    }
   ],
   "source": [
    "%%time\n",
    "def create_waypoint(filepaths: List):\n",
    "    def get_waypoint_from_featureStore(filepath):\n",
    "        path_id = filepath.name.split(\".\")[0]\n",
    "\n",
    "        feature = load_pickle(f\"../data/working/{path_id}.pkl\", verbose=False)\n",
    "        wp = feature['waypoint']\n",
    "        wp['site'] = feature.site_id\n",
    "        wp['floor'] = feature.n_floor\n",
    "        wp['path'] = feature.path_id\n",
    "        if len(wp) > 0:\n",
    "            return wp\n",
    "        else:\n",
    "            return pd.DataFrame([])\n",
    "\n",
    "    waypoint = Parallel(n_jobs=-1)(delayed(get_waypoint_from_featureStore)(filepath) for filepath in track(filepaths))\n",
    "    waypoint = pd.concat(waypoint, axis=0).reset_index(drop=True)\n",
    "    waypoint = waypoint.sort_values(by=['path', 'timestamp']).reset_index(drop=True)\n",
    "    return waypoint\n",
    "\n",
    "waypoint = create_waypoint(filepaths)"
   ]
  },
  {
   "cell_type": "code",
   "execution_count": 17,
   "id": "proof-setup",
   "metadata": {},
   "outputs": [
    {
     "name": "stdout",
     "output_type": "stream",
     "text": [
      "Dump pickle to ./tmp/train_waypoint.pkl\n"
     ]
    }
   ],
   "source": [
    "dump_pickle('./tmp/train_waypoint.pkl', waypoint)"
   ]
  },
  {
   "cell_type": "code",
   "execution_count": 18,
   "id": "attended-dynamics",
   "metadata": {},
   "outputs": [
    {
     "data": {
      "text/html": [
       "<div>\n",
       "<style scoped>\n",
       "    .dataframe tbody tr th:only-of-type {\n",
       "        vertical-align: middle;\n",
       "    }\n",
       "\n",
       "    .dataframe tbody tr th {\n",
       "        vertical-align: top;\n",
       "    }\n",
       "\n",
       "    .dataframe thead th {\n",
       "        text-align: right;\n",
       "    }\n",
       "</style>\n",
       "<table border=\"1\" class=\"dataframe\">\n",
       "  <thead>\n",
       "    <tr style=\"text-align: right;\">\n",
       "      <th></th>\n",
       "      <th>timestamp</th>\n",
       "      <th>x</th>\n",
       "      <th>y</th>\n",
       "      <th>site</th>\n",
       "      <th>floor</th>\n",
       "      <th>path</th>\n",
       "    </tr>\n",
       "  </thead>\n",
       "  <tbody>\n",
       "    <tr>\n",
       "      <th>0</th>\n",
       "      <td>1558318437984</td>\n",
       "      <td>59.747032</td>\n",
       "      <td>244.61037</td>\n",
       "      <td>5cd969ba39e2fc0b4afe6fae</td>\n",
       "      <td>0</td>\n",
       "      <td>5ce215bc2d50640008bf22e2</td>\n",
       "    </tr>\n",
       "    <tr>\n",
       "      <th>1</th>\n",
       "      <td>1558318450619</td>\n",
       "      <td>55.360070</td>\n",
       "      <td>256.03390</td>\n",
       "      <td>5cd969ba39e2fc0b4afe6fae</td>\n",
       "      <td>0</td>\n",
       "      <td>5ce215bc2d50640008bf22e2</td>\n",
       "    </tr>\n",
       "    <tr>\n",
       "      <th>2</th>\n",
       "      <td>1558318459913</td>\n",
       "      <td>49.936070</td>\n",
       "      <td>254.65387</td>\n",
       "      <td>5cd969ba39e2fc0b4afe6fae</td>\n",
       "      <td>0</td>\n",
       "      <td>5ce215bc2d50640008bf22e2</td>\n",
       "    </tr>\n",
       "    <tr>\n",
       "      <th>3</th>\n",
       "      <td>1558318468827</td>\n",
       "      <td>44.060840</td>\n",
       "      <td>252.69990</td>\n",
       "      <td>5cd969ba39e2fc0b4afe6fae</td>\n",
       "      <td>0</td>\n",
       "      <td>5ce215bc2d50640008bf22e2</td>\n",
       "    </tr>\n",
       "    <tr>\n",
       "      <th>4</th>\n",
       "      <td>1558318550185</td>\n",
       "      <td>47.224000</td>\n",
       "      <td>245.42503</td>\n",
       "      <td>5cd969ba39e2fc0b4afe6fae</td>\n",
       "      <td>0</td>\n",
       "      <td>5ce215be915519000851776a</td>\n",
       "    </tr>\n",
       "  </tbody>\n",
       "</table>\n",
       "</div>"
      ],
      "text/plain": [
       "       timestamp          x          y                      site  floor  \\\n",
       "0  1558318437984  59.747032  244.61037  5cd969ba39e2fc0b4afe6fae      0   \n",
       "1  1558318450619  55.360070  256.03390  5cd969ba39e2fc0b4afe6fae      0   \n",
       "2  1558318459913  49.936070  254.65387  5cd969ba39e2fc0b4afe6fae      0   \n",
       "3  1558318468827  44.060840  252.69990  5cd969ba39e2fc0b4afe6fae      0   \n",
       "4  1558318550185  47.224000  245.42503  5cd969ba39e2fc0b4afe6fae      0   \n",
       "\n",
       "                       path  \n",
       "0  5ce215bc2d50640008bf22e2  \n",
       "1  5ce215bc2d50640008bf22e2  \n",
       "2  5ce215bc2d50640008bf22e2  \n",
       "3  5ce215bc2d50640008bf22e2  \n",
       "4  5ce215be915519000851776a  "
      ]
     },
     "execution_count": 18,
     "metadata": {},
     "output_type": "execute_result"
    }
   ],
   "source": [
    "waypoint.head()"
   ]
  },
  {
   "cell_type": "markdown",
   "id": "acceptable-blackberry",
   "metadata": {},
   "source": [
    "### Build"
   ]
  },
  {
   "cell_type": "code",
   "execution_count": 19,
   "id": "tamil-montreal",
   "metadata": {},
   "outputs": [
    {
     "data": {
      "application/vnd.jupyter.widget-view+json": {
       "model_id": "d1718e7f14ee4ebd81e314d0a82c50e0",
       "version_major": 2,
       "version_minor": 0
      },
      "text/plain": [
       "Output()"
      ]
     },
     "metadata": {},
     "output_type": "display_data"
    },
    {
     "name": "stdout",
     "output_type": "stream",
     "text": [
      "CPU times: user 18.7 s, sys: 2.06 s, total: 20.7 s\n",
      "Wall time: 1min 17s\n"
     ]
    }
   ],
   "source": [
    "%%time\n",
    "def create_build(filepaths: List):\n",
    "    def get_waypoint_from_featureStore(filepath):\n",
    "        path_id = filepath.name.split(\".\")[0]\n",
    "        feature = load_pickle(f\"../data/working/{path_id}.pkl\", verbose=False)\n",
    "        return site_map[feature.site_id], feature.site_info.site_height, feature.site_info.site_width\n",
    "    \n",
    "    site_map = load_pickle(\"./tmp/map_site_ids.pkl\", verbose=False)\n",
    "    resutls = Parallel(n_jobs=-1)(delayed(get_waypoint_from_featureStore)(filepath) for filepath in track(filepaths))\n",
    "    return resutls\n",
    "\n",
    "results = create_build(filepaths)\n",
    "\n",
    "site_id, site_height, site_width = zip(*results)"
   ]
  },
  {
   "cell_type": "code",
   "execution_count": 20,
   "id": "anonymous-objective",
   "metadata": {},
   "outputs": [],
   "source": [
    "site_id = np.array(site_id, dtype='int32')\n",
    "site_height = np.array(site_height, dtype='float32')\n",
    "site_width = np.array(site_width, dtype='float32')"
   ]
  },
  {
   "cell_type": "code",
   "execution_count": 21,
   "id": "needed-religion",
   "metadata": {},
   "outputs": [
    {
     "data": {
      "text/plain": [
       "array([199, 199, 199, ...,  96,  96,  96], dtype=int32)"
      ]
     },
     "execution_count": 21,
     "metadata": {},
     "output_type": "execute_result"
    }
   ],
   "source": [
    "site_id"
   ]
  },
  {
   "cell_type": "markdown",
   "id": "weird-palmer",
   "metadata": {},
   "source": [
    "### Wifi "
   ]
  },
  {
   "cell_type": "code",
   "execution_count": 22,
   "id": "obvious-ability",
   "metadata": {},
   "outputs": [
    {
     "data": {
      "application/vnd.jupyter.widget-view+json": {
       "model_id": "3983e9ecfee24439aa8853061c970e50",
       "version_major": 2,
       "version_minor": 0
      },
      "text/plain": [
       "Output()"
      ]
     },
     "metadata": {},
     "output_type": "display_data"
    },
    {
     "name": "stdout",
     "output_type": "stream",
     "text": [
      "CPU times: user 48 s, sys: 15.2 s, total: 1min 3s\n",
      "Wall time: 1min 50s\n"
     ]
    }
   ],
   "source": [
    "%%time\n",
    "\n",
    "def create_wifi():\n",
    "    def get_wifi_feature(path_id, gdf):\n",
    "        seq_len = 100\n",
    "        bssid = []\n",
    "        rssi = []\n",
    "        freq = []\n",
    "\n",
    "        feature = load_pickle(f\"../data/working/{path_id}.pkl\", verbose=False)\n",
    "        wifi = feature.wifi.copy()\n",
    "        wifi[\"bssid\"] = wifi[\"bssid\"].map(bssid_map)\n",
    "\n",
    "        min_idx = gdf.index.min()\n",
    "        max_idx = gdf.index.max()\n",
    "\n",
    "        for i, row in gdf.iterrows():\n",
    "            ts_pre_wp = gdf.loc[i - 1, \"timestamp\"] if i > min_idx else None\n",
    "            ts_current_wp = gdf.loc[i, \"timestamp\"]\n",
    "            ts_post_wp = gdf.loc[i + 1, \"timestamp\"] if (i + 1) < max_idx else None\n",
    "\n",
    "            _wifi = wifi.copy()\n",
    "            # NOTE: ターゲットとなるwaypointとその前後のwaypointの間にあるデータを取得する。\n",
    "            ts_wifi = _wifi[\"timestamp\"].values\n",
    "            pre_flag = (\n",
    "                np.ones(len(ts_wifi)).astype(bool)\n",
    "                if ts_pre_wp == None\n",
    "                else (ts_pre_wp < ts_wifi)\n",
    "            )\n",
    "            psot_flag = (\n",
    "                np.ones(len(ts_wifi)).astype(bool)\n",
    "                if ts_post_wp == None\n",
    "                else (ts_wifi < ts_post_wp)\n",
    "            )\n",
    "            _wifi = _wifi[pre_flag & psot_flag]\n",
    "\n",
    "            _wifi = _wifi.sort_values(by=\"rssi\", ascending=False)\n",
    "            _wifi = _wifi.head(seq_len)\n",
    "            \n",
    "            _bssid = np.zeros(seq_len)\n",
    "            _rssi = np.tile(-999, seq_len)\n",
    "            _freq = np.tile(-999, seq_len)\n",
    "            \n",
    "            _bssid[:len(_wifi)] = _wifi[\"bssid\"].astype(\"int32\").to_numpy()\n",
    "            _rssi[:len(_wifi)] = _wifi[\"rssi\"].astype(\"float32\").to_numpy()\n",
    "            _freq[:len(_wifi)] = _wifi[\"frequency\"].astype(\"float32\").to_numpy()\n",
    "            \n",
    "            bssid.append(_bssid)\n",
    "            rssi.append(_rssi)\n",
    "            freq.append(_freq)\n",
    "\n",
    "        return bssid, rssi, freq\n",
    "\n",
    "    waypoint = load_pickle(\"./tmp/train_waypoint.pkl\", verbose=False)\n",
    "    bssid_map = load_pickle(\"./tmp/map_bssid.pkl\", verbose=False)\n",
    "    results = Parallel(n_jobs=-1)(\n",
    "        delayed(get_wifi_feature)(path_id, gdf)\n",
    "        for path_id, gdf in track(waypoint.head(5000).groupby(\"path\"))\n",
    "    )\n",
    "    return results\n",
    "\n",
    "waypoint = load_pickle(\"./tmp/train_waypoint.pkl\", verbose=False)\n",
    "bssid_map = load_pickle(\"./tmp/map_bssid.pkl\", verbose=False)\n",
    "\n",
    "results = create_wifi()"
   ]
  },
  {
   "cell_type": "code",
   "execution_count": 23,
   "id": "german-street",
   "metadata": {},
   "outputs": [],
   "source": [
    "bssid, rssi, freq = zip(*results)\n",
    "bssid = np.concatenate(bssid, axis=0)\n",
    "rssi = np.concatenate(rssi, axis=0)\n",
    "freq = np.concatenate(freq, axis=0)"
   ]
  },
  {
   "cell_type": "code",
   "execution_count": 24,
   "id": "ceramic-migration",
   "metadata": {},
   "outputs": [],
   "source": [
    "waypoint = load_pickle(\"./tmp/train_waypoint.pkl\", verbose=False)"
   ]
  },
  {
   "cell_type": "code",
   "execution_count": 26,
   "id": "weekly-improvement",
   "metadata": {},
   "outputs": [],
   "source": [
    "feature = load_pickle(f\"../data/working/{path_id}.pkl\", verbose=False)"
   ]
  },
  {
   "cell_type": "markdown",
   "id": "signal-bacon",
   "metadata": {},
   "source": [
    "### Beacon"
   ]
  },
  {
   "cell_type": "code",
   "execution_count": 46,
   "id": "secret-edwards",
   "metadata": {},
   "outputs": [],
   "source": [
    "waypoint = load_pickle(\"./tmp/train_waypoint.pkl\", verbose=False)"
   ]
  },
  {
   "cell_type": "code",
   "execution_count": 164,
   "id": "successful-portal",
   "metadata": {},
   "outputs": [
    {
     "data": {
      "application/vnd.jupyter.widget-view+json": {
       "model_id": "e19d9361a492476e9b22b8263d1f2a4c",
       "version_major": 2,
       "version_minor": 0
      },
      "text/plain": [
       "Output()"
      ]
     },
     "metadata": {},
     "output_type": "display_data"
    },
    {
     "name": "stdout",
     "output_type": "stream",
     "text": [
      "CPU times: user 19.5 s, sys: 1.35 s, total: 20.9 s\n",
      "Wall time: 21.1 s\n"
     ]
    }
   ],
   "source": [
    "%%time\n",
    "def create_beacon():\n",
    "    def get_beacon_feature(path_id, gdf):\n",
    "        seq_len = 20\n",
    "        uuid = []\n",
    "        tx_power = []\n",
    "        rssi = []\n",
    "\n",
    "        feature = load_pickle(f\"../data/working/{path_id}.pkl\", verbose=False)\n",
    "        data = feature.beacon.copy()\n",
    "        data[\"uuid\"] = data[\"uuid\"].map(uuid_map)\n",
    "\n",
    "        min_idx = gdf.index.min()\n",
    "        max_idx = gdf.index.max()\n",
    "\n",
    "        for i, row in gdf.iterrows():\n",
    "            ts_pre_wp = gdf.loc[i - 1, \"timestamp\"] if i > min_idx else None\n",
    "            ts_current_wp = gdf.loc[i, \"timestamp\"]\n",
    "            ts_post_wp = gdf.loc[i + 1, \"timestamp\"] if (i + 1) < max_idx else None\n",
    "            \n",
    "            _data = data.copy()\n",
    "            # NOTE: ターゲットとなるwaypointとその前後のwaypointの間にあるデータを取得する。\n",
    "            ts_data = _data[\"timestamp\"].values\n",
    "            pre_flag = (\n",
    "                np.ones(len(ts_data)).astype(bool)\n",
    "                if ts_pre_wp == None\n",
    "                else (ts_pre_wp < ts_data)\n",
    "            )\n",
    "            psot_flag = (\n",
    "                np.ones(len(ts_data)).astype(bool)\n",
    "                if ts_post_wp == None\n",
    "                else (ts_data < ts_post_wp)\n",
    "            )\n",
    "            \n",
    "            _data = _data[pre_flag & psot_flag]\n",
    "            _data = _data.sort_values(by=\"rssi\", ascending=False)\n",
    "            _data = _data.head(seq_len)\n",
    "            \n",
    "            _uuid = np.zeros(seq_len)\n",
    "            _tx_power = np.tile(-999, seq_len)\n",
    "            _rssi = np.tile(-999, seq_len)\n",
    "            \n",
    "            _uuid[:len(_data)] = _data[\"uuid\"].fillna(0).astype(\"int32\").to_numpy()\n",
    "            _tx_power[:len(_data)] = _data[\"tx_power\"].fillna(-999).astype(\"float32\").to_numpy()\n",
    "            _rssi[:len(_data)] = _data[\"rssi\"].fillna(-999).astype(\"float32\").to_numpy()\n",
    "            \n",
    "            uuid.append(_uuid)\n",
    "            tx_power.append(_tx_power)\n",
    "            rssi.append(_rssi)\n",
    "\n",
    "        return uuid, tx_power, rssi\n",
    "\n",
    "    waypoint = load_pickle(\"./tmp/train_waypoint.pkl\", verbose=False)\n",
    "    uuid_map = load_pickle(\"./tmp/uuid_map.pkl\", verbose=False)\n",
    "#     results = Parallel(n_jobs=-1)(\n",
    "#         delayed(get_beacon_feature)(path_id, gdf)\n",
    "#         for path_id, gdf in track(waypoint.head(5000).groupby(\"path\"))\n",
    "#     )\n",
    "\n",
    "    results = []\n",
    "    for path_id, gdf in track(waypoint.head(5000).groupby(\"path\")):\n",
    "        result = get_beacon_feature(path_id, gdf)\n",
    "        results.append(result)\n",
    "    return results\n",
    "\n",
    "waypoint = load_pickle(\"./tmp/train_waypoint.pkl\", verbose=False)\n",
    "bssid_map = load_pickle(\"./tmp/map_bssid.pkl\", verbose=False)\n",
    "\n",
    "results = create_beacon()"
   ]
  },
  {
   "cell_type": "code",
   "execution_count": 165,
   "id": "employed-speech",
   "metadata": {},
   "outputs": [],
   "source": [
    "uuid, tx_power, rssi = zip(*results)\n",
    "uuid = np.concatenate(uuid, axis=0)\n",
    "tx_power = np.concatenate(tx_power, axis=0)\n",
    "rssi = np.concatenate(rssi, axis=0)"
   ]
  },
  {
   "cell_type": "code",
   "execution_count": 168,
   "id": "reported-british",
   "metadata": {},
   "outputs": [
    {
     "data": {
      "image/png": "[encoded data removed]",
      "text/plain": [
       "<Figure size 432x288 with 1 Axes>"
      ]
     },
     "metadata": {
      "needs_background": "light"
     },
     "output_type": "display_data"
    }
   ],
   "source": [
    "plt.figure()\n",
    "plt.hist(uuid.ravel(), bins=100)\n",
    "plt.show()"
   ]
  },
  {
   "cell_type": "markdown",
   "id": "adopted-fancy",
   "metadata": {},
   "source": [
    "### Accelerometer"
   ]
  },
  {
   "cell_type": "code",
   "execution_count": 28,
   "id": "eastern-peoples",
   "metadata": {},
   "outputs": [],
   "source": [
    "waypoint = load_pickle(\"./tmp/train_waypoint.pkl\", verbose=False)"
   ]
  },
  {
   "cell_type": "code",
   "execution_count": 44,
   "id": "skilled-creek",
   "metadata": {},
   "outputs": [
    {
     "data": {
      "application/vnd.jupyter.widget-view+json": {
       "model_id": "0b57954f03894f35801c47d5a500ee9e",
       "version_major": 2,
       "version_minor": 0
      },
      "text/plain": [
       "Output()"
      ]
     },
     "metadata": {},
     "output_type": "display_data"
    },
    {
     "data": {
      "text/html": [
       "<div>\n",
       "<style scoped>\n",
       "    .dataframe tbody tr th:only-of-type {\n",
       "        vertical-align: middle;\n",
       "    }\n",
       "\n",
       "    .dataframe tbody tr th {\n",
       "        vertical-align: top;\n",
       "    }\n",
       "\n",
       "    .dataframe thead th {\n",
       "        text-align: right;\n",
       "    }\n",
       "</style>\n",
       "<table border=\"1\" class=\"dataframe\">\n",
       "  <thead>\n",
       "    <tr style=\"text-align: right;\">\n",
       "      <th></th>\n",
       "      <th>timestamp</th>\n",
       "      <th>x</th>\n",
       "      <th>y</th>\n",
       "      <th>z</th>\n",
       "    </tr>\n",
       "  </thead>\n",
       "  <tbody>\n",
       "    <tr>\n",
       "      <th>0</th>\n",
       "      <td>1558318438111</td>\n",
       "      <td>0.004593</td>\n",
       "      <td>-0.032867</td>\n",
       "      <td>0.022156</td>\n",
       "    </tr>\n",
       "    <tr>\n",
       "      <th>1</th>\n",
       "      <td>1558318438130</td>\n",
       "      <td>0.023514</td>\n",
       "      <td>-0.030273</td>\n",
       "      <td>-0.016800</td>\n",
       "    </tr>\n",
       "    <tr>\n",
       "      <th>2</th>\n",
       "      <td>1558318438149</td>\n",
       "      <td>-0.046127</td>\n",
       "      <td>-0.093491</td>\n",
       "      <td>-0.025955</td>\n",
       "    </tr>\n",
       "    <tr>\n",
       "      <th>3</th>\n",
       "      <td>1558318438168</td>\n",
       "      <td>-0.013153</td>\n",
       "      <td>-0.037903</td>\n",
       "      <td>-0.013733</td>\n",
       "    </tr>\n",
       "    <tr>\n",
       "      <th>4</th>\n",
       "      <td>1558318438188</td>\n",
       "      <td>0.030228</td>\n",
       "      <td>0.008820</td>\n",
       "      <td>-0.009766</td>\n",
       "    </tr>\n",
       "    <tr>\n",
       "      <th>...</th>\n",
       "      <td>...</td>\n",
       "      <td>...</td>\n",
       "      <td>...</td>\n",
       "      <td>...</td>\n",
       "    </tr>\n",
       "    <tr>\n",
       "      <th>1856</th>\n",
       "      <td>1558318473821</td>\n",
       "      <td>-0.149048</td>\n",
       "      <td>0.004242</td>\n",
       "      <td>0.335678</td>\n",
       "    </tr>\n",
       "    <tr>\n",
       "      <th>1857</th>\n",
       "      <td>1558318473840</td>\n",
       "      <td>-0.147827</td>\n",
       "      <td>0.049744</td>\n",
       "      <td>0.313385</td>\n",
       "    </tr>\n",
       "    <tr>\n",
       "      <th>1858</th>\n",
       "      <td>1558318473860</td>\n",
       "      <td>-0.109650</td>\n",
       "      <td>0.037842</td>\n",
       "      <td>0.278854</td>\n",
       "    </tr>\n",
       "    <tr>\n",
       "      <th>1859</th>\n",
       "      <td>1558318473879</td>\n",
       "      <td>-0.101105</td>\n",
       "      <td>-0.047073</td>\n",
       "      <td>0.215027</td>\n",
       "    </tr>\n",
       "    <tr>\n",
       "      <th>1860</th>\n",
       "      <td>1558318473898</td>\n",
       "      <td>-0.197922</td>\n",
       "      <td>-0.135651</td>\n",
       "      <td>0.167084</td>\n",
       "    </tr>\n",
       "  </tbody>\n",
       "</table>\n",
       "<p>1861 rows × 4 columns</p>\n",
       "</div>"
      ],
      "text/plain": [
       "          timestamp         x         y         z\n",
       "0     1558318438111  0.004593 -0.032867  0.022156\n",
       "1     1558318438130  0.023514 -0.030273 -0.016800\n",
       "2     1558318438149 -0.046127 -0.093491 -0.025955\n",
       "3     1558318438168 -0.013153 -0.037903 -0.013733\n",
       "4     1558318438188  0.030228  0.008820 -0.009766\n",
       "...             ...       ...       ...       ...\n",
       "1856  1558318473821 -0.149048  0.004242  0.335678\n",
       "1857  1558318473840 -0.147827  0.049744  0.313385\n",
       "1858  1558318473860 -0.109650  0.037842  0.278854\n",
       "1859  1558318473879 -0.101105 -0.047073  0.215027\n",
       "1860  1558318473898 -0.197922 -0.135651  0.167084\n",
       "\n",
       "[1861 rows x 4 columns]"
      ]
     },
     "metadata": {},
     "output_type": "display_data"
    }
   ],
   "source": [
    "for path_id, gdf in track(waypoint.head(5000).groupby(\"path\")):\n",
    "        \n",
    "    feature = load_pickle(f\"../data/working/{path_id}.pkl\", verbose=False)\n",
    "    \n",
    "    acce = feature.accelerometer\n",
    "    \n",
    "    display(acce)\n",
    "    \n",
    "    break"
   ]
  },
  {
   "cell_type": "code",
   "execution_count": null,
   "id": "romantic-routine",
   "metadata": {},
   "outputs": [],
   "source": []
  },
  {
   "cell_type": "code",
   "execution_count": null,
   "id": "indie-classic",
   "metadata": {},
   "outputs": [],
   "source": []
  },
  {
   "cell_type": "code",
   "execution_count": null,
   "id": "stone-stuff",
   "metadata": {},
   "outputs": [],
   "source": []
  },
  {
   "cell_type": "markdown",
   "id": "sought-jones",
   "metadata": {},
   "source": [
    "### Gyroscope"
   ]
  },
  {
   "cell_type": "code",
   "execution_count": null,
   "id": "exposed-screening",
   "metadata": {},
   "outputs": [],
   "source": []
  },
  {
   "cell_type": "code",
   "execution_count": null,
   "id": "therapeutic-church",
   "metadata": {},
   "outputs": [],
   "source": []
  },
  {
   "cell_type": "code",
   "execution_count": null,
   "id": "behavioral-shipping",
   "metadata": {},
   "outputs": [],
   "source": []
  },
  {
   "cell_type": "code",
   "execution_count": null,
   "id": "considerable-feeding",
   "metadata": {},
   "outputs": [],
   "source": []
  },
  {
   "cell_type": "markdown",
   "id": "operating-plenty",
   "metadata": {},
   "source": [
    "### Magnetic field"
   ]
  },
  {
   "cell_type": "code",
   "execution_count": null,
   "id": "original-lingerie",
   "metadata": {},
   "outputs": [],
   "source": []
  },
  {
   "cell_type": "code",
   "execution_count": null,
   "id": "reverse-submission",
   "metadata": {},
   "outputs": [],
   "source": []
  },
  {
   "cell_type": "markdown",
   "id": "precise-burden",
   "metadata": {},
   "source": [
    "### Rotation vector"
   ]
  },
  {
   "cell_type": "code",
   "execution_count": null,
   "id": "desirable-boards",
   "metadata": {},
   "outputs": [],
   "source": []
  }
 ],
 "metadata": {
  "kernelspec": {
   "display_name": "Python 3",
   "language": "python",
   "name": "python3"
  },
  "language_info": {
   "codemirror_mode": {
    "name": "ipython",
    "version": 3
   },
   "file_extension": ".py",
   "mimetype": "text/x-python",
   "name": "python",
   "nbconvert_exporter": "python",
   "pygments_lexer": "ipython3",
   "version": "3.8.7"
  },
  "metadata": {
   "interpreter": {
    "hash": "f2ca7a9b7fa3bc968dd99347ec7273d657e1ea5c7f2ccb49296aa32a0fb6eef9"
   }
  }
 },
 "nbformat": 4,
 "nbformat_minor": 5
}
