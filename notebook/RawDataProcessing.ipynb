{
 "cells": [
  {
   "cell_type": "markdown",
   "id": "tribal-hollywood",
   "metadata": {},
   "source": [
    "# Raw Data Processing"
   ]
  },
  {
   "cell_type": "code",
   "execution_count": 1,
   "id": "chicken-virgin",
   "metadata": {},
   "outputs": [],
   "source": [
    "import os\n",
    "import glob\n",
    "import pathlib\n",
    "import numpy as np\n",
    "import pandas as pd\n",
    "from numba import jit\n",
    "import joblib\n",
    "from joblib import Parallel, delayed\n",
    "from rich.progress import track\n",
    "\n",
    "from typing import Dict, List\n",
    "\n",
    "import sys\n",
    "sys.path.append(\"../src\")\n",
    "\n",
    "import config\n",
    "\n",
    "from utils.common import timer\n",
    "from utils.common import load_pickle, dump_pickle, save_cache\n",
    "from utils.feature import FeatureStore"
   ]
  },
  {
   "cell_type": "markdown",
   "id": "consistent-prospect",
   "metadata": {},
   "source": [
    "## Extract data each data_type from txt file"
   ]
  },
  {
   "cell_type": "code",
   "execution_count": 2,
   "id": "comparable-cream",
   "metadata": {},
   "outputs": [],
   "source": [
    "src_dir = pathlib.Path(\"../data/raw/train/\")\n",
    "filepaths = [\n",
    "    path_filepath \n",
    "    for site_filepath in src_dir.glob(\"*\") \n",
    "    for floor_filepath in site_filepath.glob(\"*\") \n",
    "    for path_filepath in floor_filepath.glob(\"*\")\n",
    "]"
   ]
  },
  {
   "cell_type": "code",
   "execution_count": 3,
   "id": "handled-stake",
   "metadata": {},
   "outputs": [],
   "source": [
    "filepath = filepaths[0]\n",
    "\n",
    "site_id = filepath.parent.parent.name\n",
    "floor = filepath.parent.name\n",
    "path_id = filepath.name.split(\".\")[0]\n",
    "\n",
    "feature = FeatureStore(\n",
    "    site_id=site_id, \n",
    "    floor=floor, \n",
    "    path_id=path_id, \n",
    "    input_path=\"../data/raw/\"\n",
    ")\n",
    "feature.load_all_data()"
   ]
  },
  {
   "cell_type": "code",
   "execution_count": 4,
   "id": "owned-columbus",
   "metadata": {},
   "outputs": [],
   "source": [
    "feature.save()"
   ]
  },
  {
   "cell_type": "code",
   "execution_count": 5,
   "id": "north-cutting",
   "metadata": {},
   "outputs": [
    {
     "output_type": "execute_result",
     "data": {
      "text/plain": [
       "['draw_polygon',\n",
       " 'features',\n",
       " 'floor',\n",
       " 'floor_coordinates',\n",
       " 'get_site_info',\n",
       " 'input_path',\n",
       " 'map_type',\n",
       " 'show_site_image',\n",
       " 'site_height',\n",
       " 'site_id',\n",
       " 'site_width',\n",
       " 'store_coordinates']"
      ]
     },
     "metadata": {},
     "execution_count": 5
    }
   ],
   "source": [
    "# attributes of site info\n",
    "[c for c in dir(feature.site_info) if c[0]!=\"_\"]"
   ]
  },
  {
   "cell_type": "code",
   "execution_count": 6,
   "id": "treated-brass",
   "metadata": {},
   "outputs": [
    {
     "output_type": "execute_result",
     "data": {
      "text/plain": [
       "(124.00990096148014, 195.53674591205103)"
      ]
     },
     "metadata": {},
     "execution_count": 6
    }
   ],
   "source": [
    "feature.site_info.site_height, feature.site_info.site_width"
   ]
  },
  {
   "cell_type": "code",
   "execution_count": 7,
   "id": "terminal-assets",
   "metadata": {},
   "outputs": [
    {
     "output_type": "execute_result",
     "data": {
      "text/plain": [
       "('5cdac61fe403deddaf467fb5', 'F2', '5d099fc50e0fc900086ea6ed')"
      ]
     },
     "metadata": {},
     "execution_count": 7
    }
   ],
   "source": [
    "feature.site_id, feature.floor, feature.path_id"
   ]
  },
  {
   "cell_type": "code",
   "execution_count": 8,
   "id": "rough-taxation",
   "metadata": {},
   "outputs": [
    {
     "output_type": "stream",
     "name": "stdout",
     "text": [
      "accelerometer\n"
     ]
    },
    {
     "output_type": "display_data",
     "data": {
      "text/plain": "       timestamp         x         y          z\n0  1560911459421 -0.783646  2.031509   9.347565\n1  1560911459440 -0.665207  1.890335  10.077377\n2  1560911459459 -0.679565  1.868805  10.302307\n3  1560911459478  0.196213  1.519455  10.004395\n4  1560911459497 -0.068207  1.537399  10.034302",
      "text/html": "<div>\n<style scoped>\n    .dataframe tbody tr th:only-of-type {\n        vertical-align: middle;\n    }\n\n    .dataframe tbody tr th {\n        vertical-align: top;\n    }\n\n    .dataframe thead th {\n        text-align: right;\n    }\n</style>\n<table border=\"1\" class=\"dataframe\">\n  <thead>\n    <tr style=\"text-align: right;\">\n      <th></th>\n      <th>timestamp</th>\n      <th>x</th>\n      <th>y</th>\n      <th>z</th>\n    </tr>\n  </thead>\n  <tbody>\n    <tr>\n      <th>0</th>\n      <td>1560911459421</td>\n      <td>-0.783646</td>\n      <td>2.031509</td>\n      <td>9.347565</td>\n    </tr>\n    <tr>\n      <th>1</th>\n      <td>1560911459440</td>\n      <td>-0.665207</td>\n      <td>1.890335</td>\n      <td>10.077377</td>\n    </tr>\n    <tr>\n      <th>2</th>\n      <td>1560911459459</td>\n      <td>-0.679565</td>\n      <td>1.868805</td>\n      <td>10.302307</td>\n    </tr>\n    <tr>\n      <th>3</th>\n      <td>1560911459478</td>\n      <td>0.196213</td>\n      <td>1.519455</td>\n      <td>10.004395</td>\n    </tr>\n    <tr>\n      <th>4</th>\n      <td>1560911459497</td>\n      <td>-0.068207</td>\n      <td>1.537399</td>\n      <td>10.034302</td>\n    </tr>\n  </tbody>\n</table>\n</div>"
     },
     "metadata": {}
    },
    {
     "output_type": "stream",
     "name": "stdout",
     "text": [
      "accelerometer_uncalibrated\n"
     ]
    },
    {
     "output_type": "display_data",
     "data": {
      "text/plain": "Empty DataFrame\nColumns: [timestamp, x, y, z, x2, y2, z2, accuracy]\nIndex: []",
      "text/html": "<div>\n<style scoped>\n    .dataframe tbody tr th:only-of-type {\n        vertical-align: middle;\n    }\n\n    .dataframe tbody tr th {\n        vertical-align: top;\n    }\n\n    .dataframe thead th {\n        text-align: right;\n    }\n</style>\n<table border=\"1\" class=\"dataframe\">\n  <thead>\n    <tr style=\"text-align: right;\">\n      <th></th>\n      <th>timestamp</th>\n      <th>x</th>\n      <th>y</th>\n      <th>z</th>\n      <th>x2</th>\n      <th>y2</th>\n      <th>z2</th>\n      <th>accuracy</th>\n    </tr>\n  </thead>\n  <tbody>\n  </tbody>\n</table>\n</div>"
     },
     "metadata": {}
    },
    {
     "output_type": "stream",
     "name": "stdout",
     "text": [
      "beacon\n"
     ]
    },
    {
     "output_type": "display_data",
     "data": {
      "text/plain": "       timestamp                                      uuid  \\\n0  1560911463065  4e9d3569a79dcbd102831d1bd587aa4e868ae797   \n1  1560911463320  4e9d3569a79dcbd102831d1bd587aa4e868ae797   \n2  1560911464830  4e9d3569a79dcbd102831d1bd587aa4e868ae797   \n3  1560911465406  4e9d3569a79dcbd102831d1bd587aa4e868ae797   \n4  1560911465604  4e9d3569a79dcbd102831d1bd587aa4e868ae797   \n\n                                   major_id  \\\n0  6c502d1af6f02df0a3cc79c238a470cc6aca3c91   \n1  6c502d1af6f02df0a3cc79c238a470cc6aca3c91   \n2  24a2b1456b2278c02306fbecd5c52e3b72b914f4   \n3  6c502d1af6f02df0a3cc79c238a470cc6aca3c91   \n4  24a2b1456b2278c02306fbecd5c52e3b72b914f4   \n\n                                   minor_id  tx_power  rssi   distance  \\\n0  3e65f84cccbd3f2d10608292edf324b7966126ba       -59   -89  21.518471   \n1  3e65f84cccbd3f2d10608292edf324b7966126ba       -59   -90  23.444276   \n2  44fda320f16c8b2ef198c0000449f9c3cca1d126       -59   -95  35.510998   \n3  3e65f84cccbd3f2d10608292edf324b7966126ba       -59   -97  41.679063   \n4  44fda320f16c8b2ef198c0000449f9c3cca1d126       -59   -96  38.487306   \n\n                                   mac_addr  \n0  253e8d541b276ad1490a7f0bc59df9e069b064b1  \n1  253e8d541b276ad1490a7f0bc59df9e069b064b1  \n2  5044892d3dcfc3f7569fd304b904c998cac1407d  \n3  253e8d541b276ad1490a7f0bc59df9e069b064b1  \n4  5044892d3dcfc3f7569fd304b904c998cac1407d  ",
      "text/html": "<div>\n<style scoped>\n    .dataframe tbody tr th:only-of-type {\n        vertical-align: middle;\n    }\n\n    .dataframe tbody tr th {\n        vertical-align: top;\n    }\n\n    .dataframe thead th {\n        text-align: right;\n    }\n</style>\n<table border=\"1\" class=\"dataframe\">\n  <thead>\n    <tr style=\"text-align: right;\">\n      <th></th>\n      <th>timestamp</th>\n      <th>uuid</th>\n      <th>major_id</th>\n      <th>minor_id</th>\n      <th>tx_power</th>\n      <th>rssi</th>\n      <th>distance</th>\n      <th>mac_addr</th>\n    </tr>\n  </thead>\n  <tbody>\n    <tr>\n      <th>0</th>\n      <td>1560911463065</td>\n      <td>4e9d3569a79dcbd102831d1bd587aa4e868ae797</td>\n      <td>6c502d1af6f02df0a3cc79c238a470cc6aca3c91</td>\n      <td>3e65f84cccbd3f2d10608292edf324b7966126ba</td>\n      <td>-59</td>\n      <td>-89</td>\n      <td>21.518471</td>\n      <td>253e8d541b276ad1490a7f0bc59df9e069b064b1</td>\n    </tr>\n    <tr>\n      <th>1</th>\n      <td>1560911463320</td>\n      <td>4e9d3569a79dcbd102831d1bd587aa4e868ae797</td>\n      <td>6c502d1af6f02df0a3cc79c238a470cc6aca3c91</td>\n      <td>3e65f84cccbd3f2d10608292edf324b7966126ba</td>\n      <td>-59</td>\n      <td>-90</td>\n      <td>23.444276</td>\n      <td>253e8d541b276ad1490a7f0bc59df9e069b064b1</td>\n    </tr>\n    <tr>\n      <th>2</th>\n      <td>1560911464830</td>\n      <td>4e9d3569a79dcbd102831d1bd587aa4e868ae797</td>\n      <td>24a2b1456b2278c02306fbecd5c52e3b72b914f4</td>\n      <td>44fda320f16c8b2ef198c0000449f9c3cca1d126</td>\n      <td>-59</td>\n      <td>-95</td>\n      <td>35.510998</td>\n      <td>5044892d3dcfc3f7569fd304b904c998cac1407d</td>\n    </tr>\n    <tr>\n      <th>3</th>\n      <td>1560911465406</td>\n      <td>4e9d3569a79dcbd102831d1bd587aa4e868ae797</td>\n      <td>6c502d1af6f02df0a3cc79c238a470cc6aca3c91</td>\n      <td>3e65f84cccbd3f2d10608292edf324b7966126ba</td>\n      <td>-59</td>\n      <td>-97</td>\n      <td>41.679063</td>\n      <td>253e8d541b276ad1490a7f0bc59df9e069b064b1</td>\n    </tr>\n    <tr>\n      <th>4</th>\n      <td>1560911465604</td>\n      <td>4e9d3569a79dcbd102831d1bd587aa4e868ae797</td>\n      <td>24a2b1456b2278c02306fbecd5c52e3b72b914f4</td>\n      <td>44fda320f16c8b2ef198c0000449f9c3cca1d126</td>\n      <td>-59</td>\n      <td>-96</td>\n      <td>38.487306</td>\n      <td>5044892d3dcfc3f7569fd304b904c998cac1407d</td>\n    </tr>\n  </tbody>\n</table>\n</div>"
     },
     "metadata": {}
    },
    {
     "output_type": "stream",
     "name": "stdout",
     "text": [
      "gyroscope\n"
     ]
    },
    {
     "output_type": "display_data",
     "data": {
      "text/plain": "       timestamp         x         y         z\n0  1560911459421 -0.269684  0.128006  0.199692\n1  1560911459440 -0.263580  0.217194  0.232681\n2  1560911459459 -0.115143  0.290497  0.267502\n3  1560911459478 -0.022888  0.145111  0.207031\n4  1560911459497 -0.016785 -0.063797 -0.027542",
      "text/html": "<div>\n<style scoped>\n    .dataframe tbody tr th:only-of-type {\n        vertical-align: middle;\n    }\n\n    .dataframe tbody tr th {\n        vertical-align: top;\n    }\n\n    .dataframe thead th {\n        text-align: right;\n    }\n</style>\n<table border=\"1\" class=\"dataframe\">\n  <thead>\n    <tr style=\"text-align: right;\">\n      <th></th>\n      <th>timestamp</th>\n      <th>x</th>\n      <th>y</th>\n      <th>z</th>\n    </tr>\n  </thead>\n  <tbody>\n    <tr>\n      <th>0</th>\n      <td>1560911459421</td>\n      <td>-0.269684</td>\n      <td>0.128006</td>\n      <td>0.199692</td>\n    </tr>\n    <tr>\n      <th>1</th>\n      <td>1560911459440</td>\n      <td>-0.263580</td>\n      <td>0.217194</td>\n      <td>0.232681</td>\n    </tr>\n    <tr>\n      <th>2</th>\n      <td>1560911459459</td>\n      <td>-0.115143</td>\n      <td>0.290497</td>\n      <td>0.267502</td>\n    </tr>\n    <tr>\n      <th>3</th>\n      <td>1560911459478</td>\n      <td>-0.022888</td>\n      <td>0.145111</td>\n      <td>0.207031</td>\n    </tr>\n    <tr>\n      <th>4</th>\n      <td>1560911459497</td>\n      <td>-0.016785</td>\n      <td>-0.063797</td>\n      <td>-0.027542</td>\n    </tr>\n  </tbody>\n</table>\n</div>"
     },
     "metadata": {}
    },
    {
     "output_type": "stream",
     "name": "stdout",
     "text": [
      "gyroscope_uncalibrated\n"
     ]
    },
    {
     "output_type": "display_data",
     "data": {
      "text/plain": "       timestamp         x         y         z\n0  1560911459421 -0.215027  0.189972  0.122772\n1  1560911459440 -0.356751  0.166153  0.184464\n2  1560911459459 -0.350647  0.255341  0.217453\n3  1560911459478 -0.202209  0.328644  0.252274\n4  1560911459497 -0.109955  0.183258  0.191803",
      "text/html": "<div>\n<style scoped>\n    .dataframe tbody tr th:only-of-type {\n        vertical-align: middle;\n    }\n\n    .dataframe tbody tr th {\n        vertical-align: top;\n    }\n\n    .dataframe thead th {\n        text-align: right;\n    }\n</style>\n<table border=\"1\" class=\"dataframe\">\n  <thead>\n    <tr style=\"text-align: right;\">\n      <th></th>\n      <th>timestamp</th>\n      <th>x</th>\n      <th>y</th>\n      <th>z</th>\n    </tr>\n  </thead>\n  <tbody>\n    <tr>\n      <th>0</th>\n      <td>1560911459421</td>\n      <td>-0.215027</td>\n      <td>0.189972</td>\n      <td>0.122772</td>\n    </tr>\n    <tr>\n      <th>1</th>\n      <td>1560911459440</td>\n      <td>-0.356751</td>\n      <td>0.166153</td>\n      <td>0.184464</td>\n    </tr>\n    <tr>\n      <th>2</th>\n      <td>1560911459459</td>\n      <td>-0.350647</td>\n      <td>0.255341</td>\n      <td>0.217453</td>\n    </tr>\n    <tr>\n      <th>3</th>\n      <td>1560911459478</td>\n      <td>-0.202209</td>\n      <td>0.328644</td>\n      <td>0.252274</td>\n    </tr>\n    <tr>\n      <th>4</th>\n      <td>1560911459497</td>\n      <td>-0.109955</td>\n      <td>0.183258</td>\n      <td>0.191803</td>\n    </tr>\n  </tbody>\n</table>\n</div>"
     },
     "metadata": {}
    },
    {
     "output_type": "stream",
     "name": "stdout",
     "text": [
      "magnetic_field\n"
     ]
    },
    {
     "output_type": "display_data",
     "data": {
      "text/plain": "       timestamp          x     y          z\n0  1560911459421 -24.420000  5.70 -37.860000\n1  1560911459440 -24.420000  5.70 -37.680000\n2  1560911459459 -24.240000  5.70 -37.620000\n3  1560911459478 -24.119999  5.76 -37.559998\n4  1560911459497 -24.119999  5.76 -37.559998",
      "text/html": "<div>\n<style scoped>\n    .dataframe tbody tr th:only-of-type {\n        vertical-align: middle;\n    }\n\n    .dataframe tbody tr th {\n        vertical-align: top;\n    }\n\n    .dataframe thead th {\n        text-align: right;\n    }\n</style>\n<table border=\"1\" class=\"dataframe\">\n  <thead>\n    <tr style=\"text-align: right;\">\n      <th></th>\n      <th>timestamp</th>\n      <th>x</th>\n      <th>y</th>\n      <th>z</th>\n    </tr>\n  </thead>\n  <tbody>\n    <tr>\n      <th>0</th>\n      <td>1560911459421</td>\n      <td>-24.420000</td>\n      <td>5.70</td>\n      <td>-37.860000</td>\n    </tr>\n    <tr>\n      <th>1</th>\n      <td>1560911459440</td>\n      <td>-24.420000</td>\n      <td>5.70</td>\n      <td>-37.680000</td>\n    </tr>\n    <tr>\n      <th>2</th>\n      <td>1560911459459</td>\n      <td>-24.240000</td>\n      <td>5.70</td>\n      <td>-37.620000</td>\n    </tr>\n    <tr>\n      <th>3</th>\n      <td>1560911459478</td>\n      <td>-24.119999</td>\n      <td>5.76</td>\n      <td>-37.559998</td>\n    </tr>\n    <tr>\n      <th>4</th>\n      <td>1560911459497</td>\n      <td>-24.119999</td>\n      <td>5.76</td>\n      <td>-37.559998</td>\n    </tr>\n  </tbody>\n</table>\n</div>"
     },
     "metadata": {}
    },
    {
     "output_type": "stream",
     "name": "stdout",
     "text": [
      "magnetic_field_uncalibrated\n"
     ]
    },
    {
     "output_type": "display_data",
     "data": {
      "text/plain": "       timestamp          x          y          z\n0  1560911459421 -34.912110 -33.486940 -108.91876\n1  1560911459440 -34.199524 -33.486940 -109.61304\n2  1560911459459 -34.199524 -32.774353 -109.61304\n3  1560911459478 -33.486940 -32.774353 -109.61304\n4  1560911459497 -33.486940 -32.774353 -109.61304",
      "text/html": "<div>\n<style scoped>\n    .dataframe tbody tr th:only-of-type {\n        vertical-align: middle;\n    }\n\n    .dataframe tbody tr th {\n        vertical-align: top;\n    }\n\n    .dataframe thead th {\n        text-align: right;\n    }\n</style>\n<table border=\"1\" class=\"dataframe\">\n  <thead>\n    <tr style=\"text-align: right;\">\n      <th></th>\n      <th>timestamp</th>\n      <th>x</th>\n      <th>y</th>\n      <th>z</th>\n    </tr>\n  </thead>\n  <tbody>\n    <tr>\n      <th>0</th>\n      <td>1560911459421</td>\n      <td>-34.912110</td>\n      <td>-33.486940</td>\n      <td>-108.91876</td>\n    </tr>\n    <tr>\n      <th>1</th>\n      <td>1560911459440</td>\n      <td>-34.199524</td>\n      <td>-33.486940</td>\n      <td>-109.61304</td>\n    </tr>\n    <tr>\n      <th>2</th>\n      <td>1560911459459</td>\n      <td>-34.199524</td>\n      <td>-32.774353</td>\n      <td>-109.61304</td>\n    </tr>\n    <tr>\n      <th>3</th>\n      <td>1560911459478</td>\n      <td>-33.486940</td>\n      <td>-32.774353</td>\n      <td>-109.61304</td>\n    </tr>\n    <tr>\n      <th>4</th>\n      <td>1560911459497</td>\n      <td>-33.486940</td>\n      <td>-32.774353</td>\n      <td>-109.61304</td>\n    </tr>\n  </tbody>\n</table>\n</div>"
     },
     "metadata": {}
    },
    {
     "output_type": "stream",
     "name": "stdout",
     "text": [
      "rotation_vector\n"
     ]
    },
    {
     "output_type": "display_data",
     "data": {
      "text/plain": "       timestamp         x         y         z\n0  1560911459421  0.106812 -0.028381 -0.513611\n1  1560911459440  0.105286 -0.026245 -0.511902\n2  1560911459459  0.104004 -0.023315 -0.509766\n3  1560911459478  0.104370 -0.020508 -0.507202\n4  1560911459497  0.104370 -0.020508 -0.507202",
      "text/html": "<div>\n<style scoped>\n    .dataframe tbody tr th:only-of-type {\n        vertical-align: middle;\n    }\n\n    .dataframe tbody tr th {\n        vertical-align: top;\n    }\n\n    .dataframe thead th {\n        text-align: right;\n    }\n</style>\n<table border=\"1\" class=\"dataframe\">\n  <thead>\n    <tr style=\"text-align: right;\">\n      <th></th>\n      <th>timestamp</th>\n      <th>x</th>\n      <th>y</th>\n      <th>z</th>\n    </tr>\n  </thead>\n  <tbody>\n    <tr>\n      <th>0</th>\n      <td>1560911459421</td>\n      <td>0.106812</td>\n      <td>-0.028381</td>\n      <td>-0.513611</td>\n    </tr>\n    <tr>\n      <th>1</th>\n      <td>1560911459440</td>\n      <td>0.105286</td>\n      <td>-0.026245</td>\n      <td>-0.511902</td>\n    </tr>\n    <tr>\n      <th>2</th>\n      <td>1560911459459</td>\n      <td>0.104004</td>\n      <td>-0.023315</td>\n      <td>-0.509766</td>\n    </tr>\n    <tr>\n      <th>3</th>\n      <td>1560911459478</td>\n      <td>0.104370</td>\n      <td>-0.020508</td>\n      <td>-0.507202</td>\n    </tr>\n    <tr>\n      <th>4</th>\n      <td>1560911459497</td>\n      <td>0.104370</td>\n      <td>-0.020508</td>\n      <td>-0.507202</td>\n    </tr>\n  </tbody>\n</table>\n</div>"
     },
     "metadata": {}
    },
    {
     "output_type": "stream",
     "name": "stdout",
     "text": [
      "waypoint\n"
     ]
    },
    {
     "output_type": "display_data",
     "data": {
      "text/plain": "       timestamp           x          y\n0  1560911459159  116.559800  50.628760\n1  1560911468774  121.304470  52.322544\n2  1560911474666  126.846664  55.822445\n3  1560911488707  140.465620  61.165134\n4  1560911503516  137.961500  68.227190",
      "text/html": "<div>\n<style scoped>\n    .dataframe tbody tr th:only-of-type {\n        vertical-align: middle;\n    }\n\n    .dataframe tbody tr th {\n        vertical-align: top;\n    }\n\n    .dataframe thead th {\n        text-align: right;\n    }\n</style>\n<table border=\"1\" class=\"dataframe\">\n  <thead>\n    <tr style=\"text-align: right;\">\n      <th></th>\n      <th>timestamp</th>\n      <th>x</th>\n      <th>y</th>\n    </tr>\n  </thead>\n  <tbody>\n    <tr>\n      <th>0</th>\n      <td>1560911459159</td>\n      <td>116.559800</td>\n      <td>50.628760</td>\n    </tr>\n    <tr>\n      <th>1</th>\n      <td>1560911468774</td>\n      <td>121.304470</td>\n      <td>52.322544</td>\n    </tr>\n    <tr>\n      <th>2</th>\n      <td>1560911474666</td>\n      <td>126.846664</td>\n      <td>55.822445</td>\n    </tr>\n    <tr>\n      <th>3</th>\n      <td>1560911488707</td>\n      <td>140.465620</td>\n      <td>61.165134</td>\n    </tr>\n    <tr>\n      <th>4</th>\n      <td>1560911503516</td>\n      <td>137.961500</td>\n      <td>68.227190</td>\n    </tr>\n  </tbody>\n</table>\n</div>"
     },
     "metadata": {}
    },
    {
     "output_type": "stream",
     "name": "stdout",
     "text": [
      "wifi\n"
     ]
    },
    {
     "output_type": "display_data",
     "data": {
      "text/plain": "       timestamp                                      ssid  \\\n0  1560911461428  00b0b27c281d03e6c6875a76f31c7f4a2b9a2e75   \n1  1560911461428  d563f3a08713c2142086c20a15526e8a390e853e   \n2  1560911461428  d563f3a08713c2142086c20a15526e8a390e853e   \n3  1560911461428  00b0b27c281d03e6c6875a76f31c7f4a2b9a2e75   \n4  1560911461428  d563f3a08713c2142086c20a15526e8a390e853e   \n\n                                      bssid  rssi  frequency  \\\n0  22e9a086504ca6eed024d80304b4bb6849d9a24b   -44       5745   \n1  8fd9e9b86c3f89296fecf99802aa952e79fb3dfe   -43       5745   \n2  08613abec4fbc20f9bcd6253cf324ef403aa57b6   -59       2437   \n3  db6f9a27675f7a08eebd8f416e0b67369fdabe83   -44       2462   \n4  925dda07a73c868e62a71c23bb5ad6453cdba587   -44       2462   \n\n   last_seen_timestamp  \n0        1560911461356  \n1        1560911461356  \n2        1560911461356  \n3        1560911461356  \n4        1560911461356  ",
      "text/html": "<div>\n<style scoped>\n    .dataframe tbody tr th:only-of-type {\n        vertical-align: middle;\n    }\n\n    .dataframe tbody tr th {\n        vertical-align: top;\n    }\n\n    .dataframe thead th {\n        text-align: right;\n    }\n</style>\n<table border=\"1\" class=\"dataframe\">\n  <thead>\n    <tr style=\"text-align: right;\">\n      <th></th>\n      <th>timestamp</th>\n      <th>ssid</th>\n      <th>bssid</th>\n      <th>rssi</th>\n      <th>frequency</th>\n      <th>last_seen_timestamp</th>\n    </tr>\n  </thead>\n  <tbody>\n    <tr>\n      <th>0</th>\n      <td>1560911461428</td>\n      <td>00b0b27c281d03e6c6875a76f31c7f4a2b9a2e75</td>\n      <td>22e9a086504ca6eed024d80304b4bb6849d9a24b</td>\n      <td>-44</td>\n      <td>5745</td>\n      <td>1560911461356</td>\n    </tr>\n    <tr>\n      <th>1</th>\n      <td>1560911461428</td>\n      <td>d563f3a08713c2142086c20a15526e8a390e853e</td>\n      <td>8fd9e9b86c3f89296fecf99802aa952e79fb3dfe</td>\n      <td>-43</td>\n      <td>5745</td>\n      <td>1560911461356</td>\n    </tr>\n    <tr>\n      <th>2</th>\n      <td>1560911461428</td>\n      <td>d563f3a08713c2142086c20a15526e8a390e853e</td>\n      <td>08613abec4fbc20f9bcd6253cf324ef403aa57b6</td>\n      <td>-59</td>\n      <td>2437</td>\n      <td>1560911461356</td>\n    </tr>\n    <tr>\n      <th>3</th>\n      <td>1560911461428</td>\n      <td>00b0b27c281d03e6c6875a76f31c7f4a2b9a2e75</td>\n      <td>db6f9a27675f7a08eebd8f416e0b67369fdabe83</td>\n      <td>-44</td>\n      <td>2462</td>\n      <td>1560911461356</td>\n    </tr>\n    <tr>\n      <th>4</th>\n      <td>1560911461428</td>\n      <td>d563f3a08713c2142086c20a15526e8a390e853e</td>\n      <td>925dda07a73c868e62a71c23bb5ad6453cdba587</td>\n      <td>-44</td>\n      <td>2462</td>\n      <td>1560911461356</td>\n    </tr>\n  </tbody>\n</table>\n</div>"
     },
     "metadata": {}
    }
   ],
   "source": [
    "# attributes of feature store\n",
    "for d_type in feature.df_types:\n",
    "    print(d_type)\n",
    "    display(feature[d_type].head())"
   ]
  },
  {
   "cell_type": "markdown",
   "id": "pediatric-photographer",
   "metadata": {},
   "source": [
    "---"
   ]
  },
  {
   "cell_type": "markdown",
   "id": "chicken-extra",
   "metadata": {},
   "source": [
    "## Create map for label encode"
   ]
  },
  {
   "cell_type": "code",
   "execution_count": 9,
   "id": "disabled-stranger",
   "metadata": {},
   "outputs": [],
   "source": [
    "src_dir = pathlib.Path(\"../data/raw/train/\")\n",
    "filepaths = [\n",
    "    path_filepath \n",
    "    for site_filepath in src_dir.glob(\"*\") \n",
    "    for floor_filepath in site_filepath.glob(\"*\") \n",
    "    for path_filepath in floor_filepath.glob(\"*\")\n",
    "]"
   ]
  },
  {
   "cell_type": "markdown",
   "id": "changing-aging",
   "metadata": {},
   "source": [
    "### site for build"
   ]
  },
  {
   "cell_type": "code",
   "execution_count": 10,
   "id": "liquid-institute",
   "metadata": {},
   "outputs": [],
   "source": [
    "def create_site_map():\n",
    "    def get_site_id_from_feature_store(filepath):\n",
    "        path_id = filepath.name.split(\".\")[0]\n",
    "\n",
    "        feature = load_pickle(f\"../data/working/{path_id}.pkl\", verbose=False)\n",
    "        return feature.site_id\n",
    "    \n",
    "    site_ids = Parallel(n_jobs=-1)(delayed(get_site_id_from_feature_store)(filepath) for filepath in track(filepaths))\n",
    "    unique_site_ids = np.unique(site_ids)\n",
    "    siteId_map = {site_id: i + 1 for i, site_id in enumerate(unique_site_ids)}\n",
    "    return siteId_map"
   ]
  },
  {
   "cell_type": "code",
   "execution_count": 11,
   "id": "logical-stockholm",
   "metadata": {},
   "outputs": [
    {
     "output_type": "display_data",
     "data": {
      "text/plain": "Output()",
      "application/vnd.jupyter.widget-view+json": {
       "version_major": 2,
       "version_minor": 0,
       "model_id": "1250f3c110024ae6b5e9f7e0082a9989"
      }
     },
     "metadata": {}
    }
   ],
   "source": [
    "%%time\n",
    "siteId_map = create_site_map()"
   ]
  },
  {
   "cell_type": "code",
   "execution_count": null,
   "id": "million-control",
   "metadata": {},
   "outputs": [],
   "source": [
    "dump_pickle(\"./tmp/map_site_ids.pkl\", siteId_map)"
   ]
  },
  {
   "cell_type": "markdown",
   "id": "wound-compound",
   "metadata": {},
   "source": [
    "### bssid of wifi"
   ]
  },
  {
   "cell_type": "code",
   "execution_count": 109,
   "id": "knowing-novel",
   "metadata": {},
   "outputs": [],
   "source": [
    "def get_bssid_from_feature_store(filepath):\n",
    "    path_id = filepath.name.split(\".\")[0]\n",
    "    \n",
    "    feature = load_pickle(f\"../data/working/{path_id}.pkl\", verbose=False)\n",
    "    uniques = feature.wifi.bssid.unique()\n",
    "    if len(uniques) > 0:\n",
    "        return uniques\n",
    "    else:\n",
    "        return np.array([])"
   ]
  },
  {
   "cell_type": "code",
   "execution_count": 110,
   "id": "industrial-purple",
   "metadata": {},
   "outputs": [
    {
     "data": {
      "application/vnd.jupyter.widget-view+json": {
       "model_id": "9466243429df45d2b00b8637924a388d",
       "version_major": 2,
       "version_minor": 0
      },
      "text/plain": [
       "Output()"
      ]
     },
     "metadata": {},
     "output_type": "display_data"
    },
    {
     "name": "stdout",
     "output_type": "stream",
     "text": [
      "CPU times: user 16.4 s, sys: 3.01 s, total: 19.4 s\n",
      "Wall time: 1min 33s\n"
     ]
    }
   ],
   "source": [
    "%%time\n",
    "bssid = Parallel(n_jobs=-1)(delayed(get_bssid_from_feature_store)(filepath) for filepath in track(filepaths))\n",
    "\n",
    "bssid = np.concatenate(bssid, axis=0)\n",
    "unique_bsid = np.unique(bssid)\n",
    "\n",
    "bssid_map = {_bssid: i + 1 for i, _bssid in enumerate(bssid)}\n",
    "dump_pickle(\"./tmp/map_bssid.pkl\", bssid_map)"
   ]
  },
  {
   "cell_type": "markdown",
   "id": "adverse-medicare",
   "metadata": {},
   "source": [
    "---"
   ]
  },
  {
   "cell_type": "markdown",
   "id": "afraid-librarian",
   "metadata": {},
   "source": [
    "## Simple feature engineering"
   ]
  },
  {
   "cell_type": "code",
   "execution_count": 147,
   "id": "chubby-static",
   "metadata": {},
   "outputs": [],
   "source": [
    "src_dir = pathlib.Path(\"../data/raw/train/\")\n",
    "filepaths = [\n",
    "    path_filepath \n",
    "    for site_filepath in src_dir.glob(\"*\") \n",
    "    for floor_filepath in site_filepath.glob(\"*\") \n",
    "    for path_filepath in floor_filepath.glob(\"*\")\n",
    "]"
   ]
  },
  {
   "cell_type": "markdown",
   "id": "operating-event",
   "metadata": {},
   "source": [
    "### Create waypoint"
   ]
  },
  {
   "cell_type": "code",
   "execution_count": 164,
   "id": "spread-liberty",
   "metadata": {},
   "outputs": [
    {
     "data": {
      "application/vnd.jupyter.widget-view+json": {
       "model_id": "5bdd7cbd3974435b91968d1220fdce80",
       "version_major": 2,
       "version_minor": 0
      },
      "text/plain": [
       "Output()"
      ]
     },
     "metadata": {},
     "output_type": "display_data"
    },
    {
     "name": "stdout",
     "output_type": "stream",
     "text": [
      "CPU times: user 1min 11s, sys: 3.12 s, total: 1min 14s\n",
      "Wall time: 1min 47s\n"
     ]
    }
   ],
   "source": [
    "%%time\n",
    "def create_waypoint(filepaths: List):\n",
    "    def get_waypoint_from_featureStore(filepath):\n",
    "        path_id = filepath.name.split(\".\")[0]\n",
    "\n",
    "        feature = load_pickle(f\"../data/working/{path_id}.pkl\", verbose=False)\n",
    "        wp = feature['waypoint']\n",
    "        wp['site'] = feature.site_id\n",
    "        wp['floor'] = feature.n_floor\n",
    "        wp['path'] = feature.path_id\n",
    "        if len(wp) > 0:\n",
    "            return wp\n",
    "        else:\n",
    "            return pd.DataFrame([])\n",
    "\n",
    "    waypoint = Parallel(n_jobs=-1)(delayed(get_waypoint_from_featureStore)(filepath) for filepath in track(filepaths))\n",
    "    waypoint = pd.concat(waypoint, axis=0).reset_index(drop=True)\n",
    "    waypoint = waypoint.sort_values(by=['path', 'timestamp']).reset_index(drop=True)\n",
    "    return waypoint\n",
    "\n",
    "waypoint = create_waypoint(filepaths)"
   ]
  },
  {
   "cell_type": "code",
   "execution_count": 190,
   "id": "sustained-twist",
   "metadata": {},
   "outputs": [
    {
     "name": "stdout",
     "output_type": "stream",
     "text": [
      "Dump pickle to ./tmp/train_waypoint.pkl\n"
     ]
    }
   ],
   "source": [
    "dump_pickle('./tmp/train_waypoint.pkl', waypoint)"
   ]
  },
  {
   "cell_type": "code",
   "execution_count": 191,
   "id": "changed-andrews",
   "metadata": {},
   "outputs": [
    {
     "data": {
      "text/html": [
       "<div>\n",
       "<style scoped>\n",
       "    .dataframe tbody tr th:only-of-type {\n",
       "        vertical-align: middle;\n",
       "    }\n",
       "\n",
       "    .dataframe tbody tr th {\n",
       "        vertical-align: top;\n",
       "    }\n",
       "\n",
       "    .dataframe thead th {\n",
       "        text-align: right;\n",
       "    }\n",
       "</style>\n",
       "<table border=\"1\" class=\"dataframe\">\n",
       "  <thead>\n",
       "    <tr style=\"text-align: right;\">\n",
       "      <th></th>\n",
       "      <th>timestamp</th>\n",
       "      <th>x</th>\n",
       "      <th>y</th>\n",
       "      <th>site</th>\n",
       "      <th>floor</th>\n",
       "      <th>path</th>\n",
       "    </tr>\n",
       "  </thead>\n",
       "  <tbody>\n",
       "    <tr>\n",
       "      <th>0</th>\n",
       "      <td>1558318437984</td>\n",
       "      <td>59.747032</td>\n",
       "      <td>244.61037</td>\n",
       "      <td>5cd969ba39e2fc0b4afe6fae</td>\n",
       "      <td>0</td>\n",
       "      <td>5ce215bc2d50640008bf22e2</td>\n",
       "    </tr>\n",
       "    <tr>\n",
       "      <th>1</th>\n",
       "      <td>1558318450619</td>\n",
       "      <td>55.360070</td>\n",
       "      <td>256.03390</td>\n",
       "      <td>5cd969ba39e2fc0b4afe6fae</td>\n",
       "      <td>0</td>\n",
       "      <td>5ce215bc2d50640008bf22e2</td>\n",
       "    </tr>\n",
       "    <tr>\n",
       "      <th>2</th>\n",
       "      <td>1558318459913</td>\n",
       "      <td>49.936070</td>\n",
       "      <td>254.65387</td>\n",
       "      <td>5cd969ba39e2fc0b4afe6fae</td>\n",
       "      <td>0</td>\n",
       "      <td>5ce215bc2d50640008bf22e2</td>\n",
       "    </tr>\n",
       "    <tr>\n",
       "      <th>3</th>\n",
       "      <td>1558318468827</td>\n",
       "      <td>44.060840</td>\n",
       "      <td>252.69990</td>\n",
       "      <td>5cd969ba39e2fc0b4afe6fae</td>\n",
       "      <td>0</td>\n",
       "      <td>5ce215bc2d50640008bf22e2</td>\n",
       "    </tr>\n",
       "    <tr>\n",
       "      <th>4</th>\n",
       "      <td>1558318550185</td>\n",
       "      <td>47.224000</td>\n",
       "      <td>245.42503</td>\n",
       "      <td>5cd969ba39e2fc0b4afe6fae</td>\n",
       "      <td>0</td>\n",
       "      <td>5ce215be915519000851776a</td>\n",
       "    </tr>\n",
       "  </tbody>\n",
       "</table>\n",
       "</div>"
      ],
      "text/plain": [
       "       timestamp          x          y                      site  floor  \\\n",
       "0  1558318437984  59.747032  244.61037  5cd969ba39e2fc0b4afe6fae      0   \n",
       "1  1558318450619  55.360070  256.03390  5cd969ba39e2fc0b4afe6fae      0   \n",
       "2  1558318459913  49.936070  254.65387  5cd969ba39e2fc0b4afe6fae      0   \n",
       "3  1558318468827  44.060840  252.69990  5cd969ba39e2fc0b4afe6fae      0   \n",
       "4  1558318550185  47.224000  245.42503  5cd969ba39e2fc0b4afe6fae      0   \n",
       "\n",
       "                       path  \n",
       "0  5ce215bc2d50640008bf22e2  \n",
       "1  5ce215bc2d50640008bf22e2  \n",
       "2  5ce215bc2d50640008bf22e2  \n",
       "3  5ce215bc2d50640008bf22e2  \n",
       "4  5ce215be915519000851776a  "
      ]
     },
     "execution_count": 191,
     "metadata": {},
     "output_type": "execute_result"
    }
   ],
   "source": [
    "waypoint.head()"
   ]
  },
  {
   "cell_type": "markdown",
   "id": "overhead-practitioner",
   "metadata": {},
   "source": [
    "### Create build info"
   ]
  },
  {
   "cell_type": "code",
   "execution_count": 50,
   "id": "portuguese-denial",
   "metadata": {},
   "outputs": [
    {
     "data": {
      "application/vnd.jupyter.widget-view+json": {
       "model_id": "94b4bf97ff0d4c928bf3258ca2b5a382",
       "version_major": 2,
       "version_minor": 0
      },
      "text/plain": [
       "Output()"
      ]
     },
     "metadata": {},
     "output_type": "display_data"
    },
    {
     "name": "stdout",
     "output_type": "stream",
     "text": [
      "CPU times: user 19.1 s, sys: 2.27 s, total: 21.4 s\n",
      "Wall time: 1min 28s\n"
     ]
    }
   ],
   "source": [
    "%%time\n",
    "def create_build(filepaths: List):\n",
    "    def get_waypoint_from_featureStore(filepath):\n",
    "        path_id = filepath.name.split(\".\")[0]\n",
    "        feature = load_pickle(f\"../data/working/{path_id}.pkl\", verbose=False)\n",
    "        return site_map[feature.site_id], feature.site_info.site_height, feature.site_info.site_width\n",
    "    \n",
    "    site_map = load_pickle(\"./tmp/map_site_ids.pkl\", verbose=False)\n",
    "    resutls = Parallel(n_jobs=-1)(delayed(get_waypoint_from_featureStore)(filepath) for filepath in track(filepaths))\n",
    "    return resutls\n",
    "\n",
    "results = create_build(filepaths)\n",
    "\n",
    "site_id, site_height, site_width = zip(*results)"
   ]
  },
  {
   "cell_type": "code",
   "execution_count": 56,
   "id": "heard-estimate",
   "metadata": {},
   "outputs": [],
   "source": [
    "site_id = np.array(site_id, dtype='int32')\n",
    "site_height = np.array(site_height, dtype='float32')\n",
    "site_width = np.array(site_width, dtype='float32')"
   ]
  },
  {
   "cell_type": "code",
   "execution_count": 58,
   "id": "alternate-tuner",
   "metadata": {},
   "outputs": [
    {
     "data": {
      "text/plain": [
       "array([199, 199, 199, ...,  96,  96,  96], dtype=int32)"
      ]
     },
     "execution_count": 58,
     "metadata": {},
     "output_type": "execute_result"
    }
   ],
   "source": [
    "site_id"
   ]
  },
  {
   "cell_type": "markdown",
   "id": "collaborative-vocabulary",
   "metadata": {},
   "source": [
    "### Create wifi "
   ]
  },
  {
   "cell_type": "code",
   "execution_count": 16,
   "id": "measured-zoning",
   "metadata": {},
   "outputs": [
    {
     "data": {
      "application/vnd.jupyter.widget-view+json": {
       "model_id": "38857f2705ef478ab46cc719ab9749cb",
       "version_major": 2,
       "version_minor": 0
      },
      "text/plain": [
       "Output()"
      ]
     },
     "metadata": {},
     "output_type": "display_data"
    }
   ],
   "source": [
    "%%time\n",
    "\n",
    "def create_wifi():\n",
    "    def get_wifi_feature(path_id, gdf):\n",
    "        seq_len = 100\n",
    "        bssid = []\n",
    "        rssi = []\n",
    "        freq = []\n",
    "\n",
    "        feature = load_pickle(f\"../data/working/{path_id}.pkl\", verbose=False)\n",
    "        wifi = feature.wifi.copy()\n",
    "        wifi[\"bssid\"] = wifi[\"bssid\"].map(bssid_map)\n",
    "\n",
    "        min_idx = gdf.index.min()\n",
    "        max_idx = gdf.index.max()\n",
    "\n",
    "        for i, row in gdf.iterrows():\n",
    "            ts_pre_wp = gdf.loc[i - 1, \"timestamp\"] if i > min_idx else None\n",
    "            ts_current_wp = gdf.loc[i, \"timestamp\"]\n",
    "            ts_post_wp = gdf.loc[i + 1, \"timestamp\"] if (i + 1) < max_idx else None\n",
    "\n",
    "            _wifi = wifi.copy()\n",
    "            # NOTE: ターゲットとなるwaypointとその前後のwaypointの間にあるデータを取得する。\n",
    "            ts_wifi = _wifi[\"timestamp\"].values\n",
    "            pre_flag = (\n",
    "                np.ones(len(ts_wifi)).astype(bool)\n",
    "                if ts_pre_wp == None\n",
    "                else (ts_pre_wp < ts_wifi)\n",
    "            )\n",
    "            psot_flag = (\n",
    "                np.ones(len(ts_wifi)).astype(bool)\n",
    "                if ts_post_wp == None\n",
    "                else (ts_wifi < ts_post_wp)\n",
    "            )\n",
    "            _wifi = _wifi[pre_flag & psot_flag]\n",
    "\n",
    "            _wifi = _wifi.sort_values(by=\"rssi\", ascending=False)\n",
    "            _wifi = _wifi.head(seq_len)\n",
    "            \n",
    "            _bssid = np.zeros(seq_len)\n",
    "            _rssi = np.tile(-999, seq_len)\n",
    "            _freq = np.tile(-999, seq_len)\n",
    "            \n",
    "            _bssid[:len(_wifi)] = _wifi[\"bssid\"].astype(\"int32\").to_numpy()\n",
    "            _rssi[:len(_wifi)] = _wifi[\"rssi\"].astype(\"float32\").to_numpy()\n",
    "            _freq[:len(_wifi)] = _wifi[\"frequency\"].astype(\"float32\").to_numpy()\n",
    "            \n",
    "            bssid.append(_bssid)\n",
    "            rssi.append(_rssi)\n",
    "            freq.append(_freq)\n",
    "\n",
    "        return bssid, rssi, freq\n",
    "\n",
    "    waypoint = load_pickle(\"./tmp/train_waypoint.pkl\", verbose=False)\n",
    "    bssid_map = load_pickle(\"./tmp/map_bssid.pkl\", verbose=False)\n",
    "    results = Parallel(n_jobs=-1)(\n",
    "        delayed(get_wifi_feature)(path_id, gdf)\n",
    "        for path_id, gdf in track(waypoint.head(5000).groupby(\"path\"))\n",
    "    )\n",
    "    return results\n",
    "\n",
    "waypoint = load_pickle(\"./tmp/train_waypoint.pkl\", verbose=False)\n",
    "bssid_map = load_pickle(\"./tmp/map_bssid.pkl\", verbose=False)\n",
    "\n",
    "results = create_wifi()"
   ]
  },
  {
   "cell_type": "code",
   "execution_count": 19,
   "id": "guilty-eleven",
   "metadata": {},
   "outputs": [],
   "source": [
    "bssid, rssi, freq = zip(*results)\n",
    "bssid = np.concatenate(bssid, axis=0)\n",
    "rssi = np.concatenate(rssi, axis=0)\n",
    "freq = np.concatenate(freq, axis=0)"
   ]
  },
  {
   "cell_type": "code",
   "execution_count": 6,
   "metadata": {},
   "outputs": [
    {
     "output_type": "error",
     "ename": "FileNotFoundError",
     "evalue": "[Errno 2] No such file or directory: './tmp/train_waypoint.pkl'",
     "traceback": [
      "\u001b[0;31m---------------------------------------------------------------------------\u001b[0m",
      "\u001b[0;31mFileNotFoundError\u001b[0m                         Traceback (most recent call last)",
      "\u001b[0;32m<ipython-input-6-ef6879f800e1>\u001b[0m in \u001b[0;36m<module>\u001b[0;34m\u001b[0m\n\u001b[0;32m----> 1\u001b[0;31m \u001b[0mwaypoint\u001b[0m \u001b[0;34m=\u001b[0m \u001b[0mload_pickle\u001b[0m\u001b[0;34m(\u001b[0m\u001b[0;34m\"./tmp/train_waypoint.pkl\"\u001b[0m\u001b[0;34m,\u001b[0m \u001b[0mverbose\u001b[0m\u001b[0;34m=\u001b[0m\u001b[0;32mFalse\u001b[0m\u001b[0;34m)\u001b[0m\u001b[0;34m\u001b[0m\u001b[0;34m\u001b[0m\u001b[0m\n\u001b[0m",
      "\u001b[0;32m~/indoor_location_and_Navigation/src/utils/common.py\u001b[0m in \u001b[0;36mload_pickle\u001b[0;34m(filepath, verbose)\u001b[0m\n\u001b[1;32m     18\u001b[0m     \u001b[0;32mif\u001b[0m \u001b[0mverbose\u001b[0m\u001b[0;34m:\u001b[0m\u001b[0;34m\u001b[0m\u001b[0;34m\u001b[0m\u001b[0m\n\u001b[1;32m     19\u001b[0m         \u001b[0mprint\u001b[0m\u001b[0;34m(\u001b[0m\u001b[0;34mf\"Load pickle from {filepath}\"\u001b[0m\u001b[0;34m)\u001b[0m\u001b[0;34m\u001b[0m\u001b[0;34m\u001b[0m\u001b[0m\n\u001b[0;32m---> 20\u001b[0;31m     \u001b[0;32mwith\u001b[0m \u001b[0mopen\u001b[0m\u001b[0;34m(\u001b[0m\u001b[0mfilepath\u001b[0m\u001b[0;34m,\u001b[0m \u001b[0;34m\"rb\"\u001b[0m\u001b[0;34m)\u001b[0m \u001b[0;32mas\u001b[0m \u001b[0mfile\u001b[0m\u001b[0;34m:\u001b[0m\u001b[0;34m\u001b[0m\u001b[0;34m\u001b[0m\u001b[0m\n\u001b[0m\u001b[1;32m     21\u001b[0m         \u001b[0;32mreturn\u001b[0m \u001b[0mpickle\u001b[0m\u001b[0;34m.\u001b[0m\u001b[0mload\u001b[0m\u001b[0;34m(\u001b[0m\u001b[0mfile\u001b[0m\u001b[0;34m)\u001b[0m\u001b[0;34m\u001b[0m\u001b[0;34m\u001b[0m\u001b[0m\n\u001b[1;32m     22\u001b[0m \u001b[0;34m\u001b[0m\u001b[0m\n",
      "\u001b[0;31mFileNotFoundError\u001b[0m: [Errno 2] No such file or directory: './tmp/train_waypoint.pkl'"
     ]
    }
   ],
   "source": [
    "waypoint = load_pickle(\"./tmp/train_waypoint.pkl\", verbose=False)"
   ]
  },
  {
   "cell_type": "code",
   "execution_count": null,
   "metadata": {},
   "outputs": [],
   "source": [
    "waypoint[0]"
   ]
  },
  {
   "cell_type": "code",
   "execution_count": null,
   "metadata": {},
   "outputs": [],
   "source": [
    "feature = load_pickle(f\"../data/working/{path_id}.pkl\", verbose=False)"
   ]
  }
 ],
 "metadata": {
  "kernelspec": {
   "name": "pythonjvsc74a57bd0167cad4144d70340325d221b52718775d7d96f3361bf0df64e0910740bdaf636",
   "display_name": "Python 3.8.7  ('.venv': venv)"
  },
  "language_info": {
   "codemirror_mode": {
    "name": "ipython",
    "version": 3
   },
   "file_extension": ".py",
   "mimetype": "text/x-python",
   "name": "python",
   "nbconvert_exporter": "python",
   "pygments_lexer": "ipython3",
   "version": "3.8.7"
  },
  "metadata": {
   "interpreter": {
    "hash": "167cad4144d70340325d221b52718775d7d96f3361bf0df64e0910740bdaf636"
   }
  }
 },
 "nbformat": 4,
 "nbformat_minor": 5
}