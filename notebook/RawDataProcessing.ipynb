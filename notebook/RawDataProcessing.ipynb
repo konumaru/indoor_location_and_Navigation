{
 "cells": [
  {
   "cell_type": "markdown",
   "id": "relevant-fundamental",
   "metadata": {},
   "source": [
    "# Raw Data Processing"
   ]
  },
  {
   "cell_type": "code",
   "execution_count": 1,
   "id": "sacred-headset",
   "metadata": {},
   "outputs": [],
   "source": [
    "import os\n",
    "import glob\n",
    "import joblib\n",
    "import random\n",
    "import pathlib\n",
    "from pathlib import Path\n",
    "from rich.progress import track\n",
    "\n",
    "from typing import List, Dict\n",
    "\n",
    "import numpy as np\n",
    "import pandas as pd"
   ]
  },
  {
   "cell_type": "markdown",
   "id": "encouraging-chrome",
   "metadata": {},
   "source": [
    "## すべてのwaypointデータを１つのdataframeにまとめる"
   ]
  },
  {
   "cell_type": "code",
   "execution_count": 2,
   "id": "recreational-sarah",
   "metadata": {},
   "outputs": [],
   "source": [
    "def get_data_from_pathtxt(filepath: pathlib.PosixPath, data_type: str, is_join_ids: bool = False) -> np.ndarray:\n",
    "    with open(filepath) as f:\n",
    "        lines = f.readlines()\n",
    "    \n",
    "    data = []\n",
    "    for line in lines:\n",
    "        tmp = line.strip().split('\\t')\n",
    "        if tmp[1] == data_type:\n",
    "            data.append(tmp)\n",
    "\n",
    "    data = np.array(data)\n",
    "    # Drop data_type column.\n",
    "    if data.shape[0] > 0:\n",
    "        data = np.delete(data, 1, axis=1)\n",
    "    # Concatenate site, floor and path.\n",
    "    if is_join_ids:\n",
    "        site_id = filepath.parent.parent.name\n",
    "        floor_id = filepath.parent.name\n",
    "        path_id = filepath.name.split(\".\")[0]\n",
    "        site_floor_path = np.tile([site_id, floor_id, path_id], (data.shape[0], 1))\n",
    "        data = np.concatenate([site_floor_path, data], axis=1)\n",
    "    return data\n",
    "\n",
    "\n",
    "def get_data_from_type_in_parallel(src_dir: str, data_type: str, is_join_ids: bool = False):\n",
    "    data = joblib.Parallel(n_jobs=-1)(\n",
    "        joblib.delayed(get_data_from_pathtxt)(path_filepath, data_type, is_join_ids)\n",
    "        for site_filepath in src_dir.glob(\"*\")   \n",
    "        for floor_filepath in site_filepath.glob(\"*\")\n",
    "        for path_filepath in floor_filepath.glob(\"*\")\n",
    "    )\n",
    "    data = np.concatenate(data, axis=0)\n",
    "    return data"
   ]
  },
  {
   "cell_type": "code",
   "execution_count": 3,
   "id": "illegal-translator",
   "metadata": {},
   "outputs": [],
   "source": [
    "# %%time\n",
    "\n",
    "# src_dir = Pathth(\"../data/raw/train/\")\n",
    "\n",
    "# waypoints = []\n",
    "# for site_filepath in src_dir.glob(\"*\"):\n",
    "#     for floor_filepath in site_filepath.glob(\"*\"):\n",
    "#         for path_filepath in floor_filepath.glob(\"*\"):\n",
    "#             waypoint = get_data_from_pathtxt(path_filepath, \"TYPE_WAYPOINT\")\n",
    "#             waypoints.append(waypoint)\n",
    "        \n",
    "# np.concatenate(waypoints, axis=0)\n",
    "\n",
    "# # CPU times: user 5min 57s, sys: 37.3 s, total: 6min 35s\n",
    "# # Wall time: 8min 23s"
   ]
  },
  {
   "cell_type": "code",
   "execution_count": 4,
   "id": "turkish-citizen",
   "metadata": {},
   "outputs": [
    {
     "name": "stdout",
     "output_type": "stream",
     "text": [
      "CPU times: user 6.73 s, sys: 1.07 s, total: 7.8 s\n",
      "Wall time: 2min 8s\n"
     ]
    }
   ],
   "source": [
    "%%time\n",
    "\n",
    "src_dir = Path(\"../data/raw/train/\")\n",
    "\n",
    "# Data columns is (site, floor, path. timestamp, x, y).\n",
    "waypoints = get_data_from_type_in_parallel(src_dir, \"TYPE_WAYPOINT\", is_join_ids=True)\n",
    "np.save(\"tmp/train_waypoint.npy\", waypoints)\n",
    "\n",
    "# CPU times: user 2.47 s, sys: 352 ms, total: 2.82 s\n",
    "# Wall time: 30.1 s"
   ]
  },
  {
   "cell_type": "code",
   "execution_count": 5,
   "id": "fifth-sodium",
   "metadata": {},
   "outputs": [
    {
     "data": {
      "text/plain": [
       "array([['5da138764db8ce0c98bcaa46', 'F4', '5dabfad918410e00067e70ba',\n",
       "        '1571551566576', '37.889812', '154.43535'],\n",
       "       ['5da138764db8ce0c98bcaa46', 'F4', '5dabfad918410e00067e70ba',\n",
       "        '1571551573569', '27.694906', '153.9801'],\n",
       "       ['5da138764db8ce0c98bcaa46', 'F4', '5dabfad918410e00067e70ba',\n",
       "        '1571551581118', '16.998966', '153.33621'],\n",
       "       ['5da138764db8ce0c98bcaa46', 'F4', '5dac3de918410e00067e7244',\n",
       "        '1571568619480', '36.867283', '179.88359'],\n",
       "       ['5da138764db8ce0c98bcaa46', 'F4', '5dac3de918410e00067e7244',\n",
       "        '1571568624436', '37.37246', '185.84445']], dtype='<U24')"
      ]
     },
     "execution_count": 5,
     "metadata": {},
     "output_type": "execute_result"
    }
   ],
   "source": [
    "waypoints = np.load(\"tmp/train_waypoint.npy\")\n",
    "waypoints[:5]"
   ]
  },
  {
   "cell_type": "markdown",
   "id": "australian-stone",
   "metadata": {},
   "source": [
    "## １レコードのwaypointごとにwifiデータの特徴量を生成する"
   ]
  },
  {
   "cell_type": "code",
   "execution_count": 6,
   "id": "declared-diameter",
   "metadata": {},
   "outputs": [],
   "source": [
    "waypoints = np.load(\"tmp/train_waypoint.npy\")"
   ]
  },
  {
   "cell_type": "code",
   "execution_count": 21,
   "id": "biblical-arlington",
   "metadata": {},
   "outputs": [
    {
     "data": {
      "application/vnd.jupyter.widget-view+json": {
       "model_id": "7a96b536b0dc4bc7aebab291d6af68d7",
       "version_major": 2,
       "version_minor": 0
      },
      "text/plain": [
       "  0%|          | 0/300 [00:00<?, ?it/s]"
      ]
     },
     "metadata": {},
     "output_type": "display_data"
    },
    {
     "name": "stdout",
     "output_type": "stream",
     "text": [
      "CPU times: user 5.5 s, sys: 353 ms, total: 5.85 s\n",
      "Wall time: 5.88 s\n"
     ]
    }
   ],
   "source": [
    "%%time\n",
    "\n",
    "from tqdm.notebook import tqdm\n",
    "\n",
    "max_len = 100\n",
    "wifi_features = []\n",
    "\n",
    "for waypoint in tqdm(waypoints[:300]):\n",
    "    (site, floor, path, timestamp, x, y) = waypoint\n",
    "    path_filepath = Path(f\"../data/raw/train/{site}/{floor}/{path}.txt\")\n",
    "    wifi = get_data_from_pathtxt(path_filepath, \"TYPE_WIFI\")\n",
    "    \n",
    "    extract_idx = [2, 3, 4]\n",
    "    data = np.full((len(extract_idx), max_len), np.nan, dtype='<U40')\n",
    "    \n",
    "    if len(wifi) > 0:\n",
    "        ts_diff = wifi[:, 0].astype('int64') - timestamp.astype('int64')\n",
    "        ts_diff_min =  np.abs(np.min(ts_diff))\n",
    "        # Extract latest values, except feature information.\n",
    "        wifi = wifi[(ts_diff <= ts_diff_min)]\n",
    "        # Extract columns of (bssid, rssi, frequency).\n",
    "        wifi = wifi[:, extract_idx]\n",
    "        # Sort values by rssi.\n",
    "        sort_idx = np.argsort(wifi[:, 1])\n",
    "        wifi = wifi[sort_idx]\n",
    "        \n",
    "        data = np.full((len(extract_idx), max_len), np.nan, dtype='<U40')\n",
    "        data[:, :wifi.T.shape[1]] = wifi.T[:, :max_len]\n",
    "    \n",
    "    wifi_features.append(data)"
   ]
  },
  {
   "cell_type": "code",
   "execution_count": 39,
   "id": "disabled-conviction",
   "metadata": {},
   "outputs": [
    {
     "data": {
      "application/vnd.jupyter.widget-view+json": {
       "model_id": "d0933cfaeeb94c648a7c315e9fbec6f3",
       "version_major": 2,
       "version_minor": 0
      },
      "text/plain": [
       "  0%|          | 0/166683 [00:00<?, ?it/s]"
      ]
     },
     "metadata": {},
     "output_type": "display_data"
    },
    {
     "name": "stdout",
     "output_type": "stream",
     "text": [
      "CPU times: user 3min 14s, sys: 34 s, total: 3min 48s\n",
      "Wall time: 50min 39s\n"
     ]
    }
   ],
   "source": [
    "%%time\n",
    "\n",
    "max_len = 100\n",
    "\n",
    "\n",
    "def get_wifi_from_waypoints(waypoint):\n",
    "    (site, floor, path, timestamp, x, y) = waypoint\n",
    "    path_filepath = Path(f\"../data/raw/train/{site}/{floor}/{path}.txt\")\n",
    "    wifi = get_data_from_pathtxt(path_filepath, \"TYPE_WIFI\")\n",
    "    \n",
    "    extract_idx = [2, 3, 4]\n",
    "    data = np.full((len(extract_idx), max_len), np.nan, dtype='<U40')\n",
    "    \n",
    "    if len(wifi) > 0:\n",
    "        ts_diff = wifi[:, 0].astype('int64') - timestamp.astype('int64')\n",
    "        ts_diff_min =  np.abs(np.min(ts_diff))\n",
    "        # Extract latest values, except feature information.\n",
    "        wifi = wifi[(ts_diff <= ts_diff_min)]\n",
    "        # Extract columns of (bssid, rssi, frequency).\n",
    "        wifi = wifi[:, extract_idx]\n",
    "        # Sort values by rssi.\n",
    "        sort_idx = np.argsort(wifi[:, 1])\n",
    "        wifi = wifi[sort_idx]\n",
    "        \n",
    "        data = np.full((len(extract_idx), max_len), np.nan, dtype='<U40')\n",
    "        data[:, :wifi.T.shape[1]] = wifi.T[:, :max_len]\n",
    "    return data\n",
    "\n",
    "def get_wifi_from_waypoints_in_parallel(waypoints: np.ndarray) -> np.ndarray:\n",
    "    data = joblib.Parallel(n_jobs=-1)(\n",
    "        joblib.delayed(get_wifi_from_waypoints)(waypoint) for waypoint in tqdm(waypoints)\n",
    "    )\n",
    "    data = np.array(data)\n",
    "    return data\n",
    "\n",
    "\n",
    "wifi_features = get_wifi_from_waypoints_in_parallel(waypoints)"
   ]
  },
  {
   "cell_type": "code",
   "execution_count": 92,
   "id": "liberal-pierre",
   "metadata": {},
   "outputs": [],
   "source": [
    "np.save(\"tmp/train_wifi_features.npy\", wifi_features)"
   ]
  },
  {
   "cell_type": "markdown",
   "id": "polish-narrative",
   "metadata": {},
   "source": [
    "### todo\n",
    "\n",
    "- test data でも同様の処理を行う\n",
    "- wifiデータにおける全bssidを取得して、label_encode用のマップを用意する\n",
    "- bssid map を使ってwifiデータのlabel_encodeを行う"
   ]
  },
  {
   "cell_type": "code",
   "execution_count": 73,
   "id": "binding-sponsorship",
   "metadata": {},
   "outputs": [],
   "source": [
    "test_waypoint = pd.read_csv(\"../data/raw/sample_submission.csv\")\n",
    "test_waypoint[['site', 'path', 'timestamp']] = test_waypoint['site_path_timestamp'].str.split('_', expand=True)\n",
    "\n",
    "test_waypoint.drop(['site_path_timestamp'], axis=1, inplace=True)\n",
    "\n",
    "test_waypoint = test_waypoint[['site', 'floor', 'path', 'timestamp', 'x', 'y']]\n",
    "test_waypoint = test_waypoint.astype(str)"
   ]
  },
  {
   "cell_type": "code",
   "execution_count": 102,
   "id": "buried-boating",
   "metadata": {},
   "outputs": [
    {
     "data": {
      "application/vnd.jupyter.widget-view+json": {
       "model_id": "d4cc6f3b2ccf4366b7d652c1ee4368f5",
       "version_major": 2,
       "version_minor": 0
      },
      "text/plain": [
       "Output()"
      ]
     },
     "metadata": {},
     "output_type": "display_data"
    },
    {
     "name": "stdout",
     "output_type": "stream",
     "text": [
      "CPU times: user 47.1 s, sys: 7.54 s, total: 54.7 s\n",
      "Wall time: 5min 31s\n"
     ]
    }
   ],
   "source": [
    "%%time\n",
    "\n",
    "max_len = 100\n",
    "\n",
    "def get_test_wifi_from_waypoints(waypoint):\n",
    "    (site, floor, path, timestamp, x, y) = waypoint\n",
    "    path_filepath = Path(f\"../data/raw/test/{path}.txt\")\n",
    "    wifi = get_data_from_pathtxt(path_filepath, \"TYPE_WIFI\")\n",
    "    \n",
    "    extract_idx = [2, 3, 4]\n",
    "    data = np.full((len(extract_idx), max_len), np.nan, dtype='<U40')\n",
    "    \n",
    "    if len(wifi) > 0:\n",
    "        ts_diff = wifi[:, 0].astype('int64') - int(timestamp)\n",
    "        ts_diff_min =  np.abs(np.min(ts_diff))\n",
    "        # Extract latest values, except feature information.\n",
    "        wifi = wifi[(ts_diff <= ts_diff_min)]\n",
    "        # Extract columns of (bssid, rssi, frequency).\n",
    "        wifi = wifi[:, extract_idx]\n",
    "        # Sort values by rssi.\n",
    "        sort_idx = np.argsort(wifi[:, 1])\n",
    "        wifi = wifi[sort_idx]\n",
    "        \n",
    "        data = np.full((len(extract_idx), max_len), np.nan, dtype='<U40')\n",
    "        data[:, :wifi.T.shape[1]] = wifi.T[:, :max_len]\n",
    "    return data\n",
    "\n",
    "def get_test_wifi_from_waypoints_in_parallel(waypoints: np.ndarray) -> np.ndarray:\n",
    "    data = joblib.Parallel(n_jobs=-1)(\n",
    "        joblib.delayed(get_test_wifi_from_waypoints)(waypoint) for waypoint in track(test_waypoint.to_numpy())\n",
    "    )\n",
    "    data = np.array(data)\n",
    "    return data\n",
    "\n",
    "\n",
    "temp = test_waypoint.to_numpy()\n",
    "test_wifi_features = get_test_wifi_from_waypoints_in_parallel(temp)"
   ]
  },
  {
   "cell_type": "code",
   "execution_count": 103,
   "id": "temporal-trout",
   "metadata": {},
   "outputs": [
    {
     "data": {
      "text/plain": [
       "array([[['eebf5db207eec2f3e041f92153d789270f346821',\n",
       "         '7805f319f3f591986effe78c5b41143180278f2d',\n",
       "         '323607d8444900d64151ee06d164738ac727bbce', ...,\n",
       "         '7ce07b16d0e006d8959ea36e0415168fac0009f8',\n",
       "         'a3f167647e4406d59ebf92e99172ae25d3a27240',\n",
       "         'fe3461438b7a21c85a42ffd76030ece52e11dd7d'],\n",
       "        ['-45', '-46', '-46', ..., '-61', '-61', '-61'],\n",
       "        ['2432', '5280', '2417', ..., '2462', '5745', '2437']],\n",
       "\n",
       "       [['13b7aeaf441f2161481481fe67eace721cff07ab',\n",
       "         'b4dbb0b30caa1d0f21b7b4185ba061556cada67a',\n",
       "         'c48db7f3ed1858bb4fc191230e3d79d5eb178604', ...,\n",
       "         '9f6570acae53f6cdb4e7713fb24e3085c228dffa',\n",
       "         '8eb7c9848aa1e78b0da3b6f9f4f730885b0cd4f0',\n",
       "         'c55c9a0ed49b5fd4be47a865f70945690139cd8e'],\n",
       "        ['-41', '-41', '-41', ..., '-49', '-49', '-49'],\n",
       "        ['5745', '5745', '5745', ..., '2432', '5785', '5785']],\n",
       "\n",
       "       [['6bc91b3951089c3a225396608b138ca178479924',\n",
       "         'b26914599f6d9ba16b43975394e1eeb9d82f4bab',\n",
       "         'b4dbb0b30caa1d0f21b7b4185ba061556cada67a', ...,\n",
       "         '3cb3287fb23c5c169edda5ec41a67ce2cdb61129',\n",
       "         'b2546cae6e588d38618eacc557dd0385812197cf',\n",
       "         '68127b819a86c95b0847a170ce53a91702f67969'],\n",
       "        ['-41', '-41', '-41', ..., '-46', '-46', '-46'],\n",
       "        ['5280', '5280', '5745', ..., '2432', '5280', '2432']],\n",
       "\n",
       "       ...,\n",
       "\n",
       "       [['3df5a390b1357c32f1c24fdef1c00848ecfdb966',\n",
       "         '3df5a390b1357c32f1c24fdef1c00848ecfdb966',\n",
       "         '6e1befd47ba1b28b0e80d52fd926bcc56910116e', ...,\n",
       "         '5776267481344c788cda369eeccee0672bf55930',\n",
       "         '6c63e704ac41957efd2b0216959ad5f61604433a',\n",
       "         'a3a775d6fac3ee115b82a5e7bd443676e1270a4b'],\n",
       "        ['-38', '-41', '-41', ..., '-51', '-51', '-51'],\n",
       "        ['2447', '2447', '5260', ..., '5320', '2437', '2437']],\n",
       "\n",
       "       [['3df5a390b1357c32f1c24fdef1c00848ecfdb966',\n",
       "         '3df5a390b1357c32f1c24fdef1c00848ecfdb966',\n",
       "         '6e1befd47ba1b28b0e80d52fd926bcc56910116e', ...,\n",
       "         '5776267481344c788cda369eeccee0672bf55930',\n",
       "         '6c63e704ac41957efd2b0216959ad5f61604433a',\n",
       "         'a3a775d6fac3ee115b82a5e7bd443676e1270a4b'],\n",
       "        ['-38', '-41', '-41', ..., '-51', '-51', '-51'],\n",
       "        ['2447', '2447', '5260', ..., '5320', '2437', '2437']],\n",
       "\n",
       "       [['3df5a390b1357c32f1c24fdef1c00848ecfdb966',\n",
       "         '3df5a390b1357c32f1c24fdef1c00848ecfdb966',\n",
       "         '6e1befd47ba1b28b0e80d52fd926bcc56910116e', ...,\n",
       "         '5776267481344c788cda369eeccee0672bf55930',\n",
       "         '6c63e704ac41957efd2b0216959ad5f61604433a',\n",
       "         'a3a775d6fac3ee115b82a5e7bd443676e1270a4b'],\n",
       "        ['-38', '-41', '-41', ..., '-51', '-51', '-51'],\n",
       "        ['2447', '2447', '5260', ..., '5320', '2437', '2437']]],\n",
       "      dtype='<U40')"
      ]
     },
     "execution_count": 103,
     "metadata": {},
     "output_type": "execute_result"
    }
   ],
   "source": [
    "test_wifi_features"
   ]
  }
 ],
 "metadata": {
  "kernelspec": {
   "display_name": "Python 3",
   "language": "python",
   "name": "python3"
  },
  "language_info": {
   "codemirror_mode": {
    "name": "ipython",
    "version": 3
   },
   "file_extension": ".py",
   "mimetype": "text/x-python",
   "name": "python",
   "nbconvert_exporter": "python",
   "pygments_lexer": "ipython3",
   "version": "3.9.0"
  }
 },
 "nbformat": 4,
 "nbformat_minor": 5
}
